{
  "cells": [
    {
      "cell_type": "markdown",
      "metadata": {
        "id": "dMOQ5LlUoi6J"
      },
      "source": [
        "# Catboost Modelling\n",
        "\n",
        "In this notebook, a final sales forecasting model based on the CatBoost algorithm is created. More information can be found here: https://catboost.ai/\n",
        "\n",
        "Just as the Random Forest model, the final model is also a tree-based model. These types of algorithms lend themselves well to predicting target features that are not normally distributed, as is the case with sales here. Moreover, CatBoost is specifically tailored to datasets with many categorical variables. With the expception of weather and lag variables, this dataset mainly contains categorical features, including dummy variables.\n",
        "\n",
        "Given the flexibility of CatBoost, no additional preprocessing is necessary. It can handle object (categorical) variables, missing values and responds well to non-normally distributed target variables."
      ]
    },
    {
      "cell_type": "code",
      "execution_count": 1,
      "metadata": {
        "colab": {
          "base_uri": "https://localhost:8080/"
        },
        "collapsed": true,
        "id": "NpIqYpvCouyT",
        "outputId": "c36acd81-9d83-436c-f666-d81c19ca1cab"
      },
      "outputs": [
        {
          "name": "stdout",
          "output_type": "stream",
          "text": [
            "Collecting catboost\n",
            "  Downloading catboost-1.2.5-cp310-cp310-manylinux2014_x86_64.whl.metadata (1.2 kB)\n",
            "Collecting sktime\n",
            "  Downloading sktime-0.31.0-py3-none-any.whl.metadata (31 kB)\n",
            "Requirement already satisfied: graphviz in /usr/local/lib/python3.10/dist-packages (from catboost) (0.20.3)\n",
            "Requirement already satisfied: matplotlib in /usr/local/lib/python3.10/dist-packages (from catboost) (3.7.1)\n",
            "Requirement already satisfied: numpy>=1.16.0 in /usr/local/lib/python3.10/dist-packages (from catboost) (1.26.4)\n",
            "Requirement already satisfied: pandas>=0.24 in /usr/local/lib/python3.10/dist-packages (from catboost) (2.1.4)\n",
            "Requirement already satisfied: scipy in /usr/local/lib/python3.10/dist-packages (from catboost) (1.13.1)\n",
            "Requirement already satisfied: plotly in /usr/local/lib/python3.10/dist-packages (from catboost) (5.15.0)\n",
            "Requirement already satisfied: six in /usr/local/lib/python3.10/dist-packages (from catboost) (1.16.0)\n",
            "Requirement already satisfied: joblib<1.5,>=1.2.0 in /usr/local/lib/python3.10/dist-packages (from sktime) (1.4.2)\n",
            "Requirement already satisfied: packaging in /usr/local/lib/python3.10/dist-packages (from sktime) (24.1)\n",
            "Collecting scikit-base<0.9.0,>=0.6.1 (from sktime)\n",
            "  Downloading scikit_base-0.8.2-py3-none-any.whl.metadata (8.5 kB)\n",
            "Requirement already satisfied: scikit-learn<1.6.0,>=0.24 in /usr/local/lib/python3.10/dist-packages (from sktime) (1.3.2)\n",
            "Requirement already satisfied: python-dateutil>=2.8.2 in /usr/local/lib/python3.10/dist-packages (from pandas>=0.24->catboost) (2.8.2)\n",
            "Requirement already satisfied: pytz>=2020.1 in /usr/local/lib/python3.10/dist-packages (from pandas>=0.24->catboost) (2024.1)\n",
            "Requirement already satisfied: tzdata>=2022.1 in /usr/local/lib/python3.10/dist-packages (from pandas>=0.24->catboost) (2024.1)\n",
            "Requirement already satisfied: threadpoolctl>=2.0.0 in /usr/local/lib/python3.10/dist-packages (from scikit-learn<1.6.0,>=0.24->sktime) (3.5.0)\n",
            "Requirement already satisfied: contourpy>=1.0.1 in /usr/local/lib/python3.10/dist-packages (from matplotlib->catboost) (1.2.1)\n",
            "Requirement already satisfied: cycler>=0.10 in /usr/local/lib/python3.10/dist-packages (from matplotlib->catboost) (0.12.1)\n",
            "Requirement already satisfied: fonttools>=4.22.0 in /usr/local/lib/python3.10/dist-packages (from matplotlib->catboost) (4.53.1)\n",
            "Requirement already satisfied: kiwisolver>=1.0.1 in /usr/local/lib/python3.10/dist-packages (from matplotlib->catboost) (1.4.5)\n",
            "Requirement already satisfied: pillow>=6.2.0 in /usr/local/lib/python3.10/dist-packages (from matplotlib->catboost) (9.4.0)\n",
            "Requirement already satisfied: pyparsing>=2.3.1 in /usr/local/lib/python3.10/dist-packages (from matplotlib->catboost) (3.1.2)\n",
            "Requirement already satisfied: tenacity>=6.2.0 in /usr/local/lib/python3.10/dist-packages (from plotly->catboost) (9.0.0)\n",
            "Downloading catboost-1.2.5-cp310-cp310-manylinux2014_x86_64.whl (98.2 MB)\n",
            "\u001b[2K   \u001b[90m━━━━━━━━━━━━━━━━━━━━━━━━━━━━━━━━━━━━━━━━\u001b[0m \u001b[32m98.2/98.2 MB\u001b[0m \u001b[31m14.0 MB/s\u001b[0m eta \u001b[36m0:00:00\u001b[0m\n",
            "\u001b[?25hDownloading sktime-0.31.0-py3-none-any.whl (24.0 MB)\n",
            "\u001b[2K   \u001b[90m━━━━━━━━━━━━━━━━━━━━━━━━━━━━━━━━━━━━━━━━\u001b[0m \u001b[32m24.0/24.0 MB\u001b[0m \u001b[31m26.1 MB/s\u001b[0m eta \u001b[36m0:00:00\u001b[0m\n",
            "\u001b[?25hDownloading scikit_base-0.8.2-py3-none-any.whl (134 kB)\n",
            "\u001b[2K   \u001b[90m━━━━━━━━━━━━━━━━━━━━━━━━━━━━━━━━━━━━━━━━\u001b[0m \u001b[32m134.1/134.1 kB\u001b[0m \u001b[31m9.2 MB/s\u001b[0m eta \u001b[36m0:00:00\u001b[0m\n",
            "\u001b[?25hInstalling collected packages: scikit-base, sktime, catboost\n",
            "Successfully installed catboost-1.2.5 scikit-base-0.8.2 sktime-0.31.0\n"
          ]
        }
      ],
      "source": [
        "pip install catboost sktime"
      ]
    },
    {
      "cell_type": "code",
      "execution_count": 1,
      "metadata": {
        "id": "jWL5gZXnoi6N"
      },
      "outputs": [],
      "source": [
        "import pandas as pd\n",
        "import numpy as np\n",
        "import matplotlib.pyplot as plt\n",
        "import matplotlib.dates as md\n",
        "from matplotlib.patches import Patch\n",
        "import seaborn as sns\n",
        "import datetime as dt\n",
        "\n",
        "from sklearn.impute import SimpleImputer, KNNImputer\n",
        "from sklearn.preprocessing import OneHotEncoder, RobustScaler, FunctionTransformer, PolynomialFeatures, StandardScaler\n",
        "from sklearn.compose import ColumnTransformer\n",
        "from sklearn.pipeline import Pipeline\n",
        "from sklearn.model_selection import cross_validate, RandomizedSearchCV\n",
        "from sklearn.linear_model import LinearRegression, Ridge, Lasso, ElasticNet\n",
        "from sklearn.metrics import mean_absolute_percentage_error, r2_score, mean_squared_error\n",
        "\n",
        "from sklearn.model_selection import TimeSeriesSplit, StratifiedKFold\n",
        "from statsmodels.tsa.stattools import adfuller\n",
        "\n",
        "from catboost import CatBoostRegressor\n",
        "import catboost as cb\n",
        "#import optuna"
      ]
    },
    {
      "cell_type": "code",
      "execution_count": 4,
      "metadata": {
        "colab": {
          "base_uri": "https://localhost:8080/"
        },
        "collapsed": true,
        "id": "LeoCBXAusCl5",
        "outputId": "753bb5a2-e21e-4f7c-e290-6b558648945d"
      },
      "outputs": [
        {
          "name": "stdout",
          "output_type": "stream",
          "text": [
            "\n",
            "UNRAR 6.11 beta 1 freeware      Copyright (c) 1993-2022 Alexander Roshal\n",
            "\n",
            "\n",
            "Extracting from drive/MyDrive/sweet-spot-donut-sales-forecasting.rar\n",
            "\n",
            "Extracting  functions_model.py                                           \b\b\b\b  0%\b\b\b\b\b  OK \n",
            "Extracting  functions_vis.py                                             \b\b\b\b  0%\b\b\b\b\b  OK \n",
            "Extracting  train_df.csv                                                 \b\b\b\b 99%\b\b\b\b\b  OK \n",
            "Extracting  test_df.csv                                                  \b\b\b\b100%\b\b\b\b\b  OK \n",
            "All OK\n"
          ]
        }
      ],
      "source": [
        "# for google colab\n",
        "#!unrar x drive/MyDrive/sweet-spot-donut-sales-forecasting.rar"
      ]
    },
    {
      "cell_type": "code",
      "execution_count": 2,
      "metadata": {
        "id": "NJh4XCwgoi6Q"
      },
      "outputs": [],
      "source": [
        "%run functions_model.py\n",
        "%run functions_vis.py"
      ]
    },
    {
      "cell_type": "code",
      "execution_count": 3,
      "metadata": {
        "id": "K5Th4bCJoi6S"
      },
      "outputs": [],
      "source": [
        "pd.set_option(\"display.max_columns\", None)"
      ]
    },
    {
      "cell_type": "markdown",
      "metadata": {
        "id": "ZdAhO38aoi6V"
      },
      "source": [
        "### Loading the dataset"
      ]
    },
    {
      "cell_type": "code",
      "execution_count": 5,
      "metadata": {
        "id": "Goy3_YPzoi6X"
      },
      "outputs": [],
      "source": [
        "d = pd.read_csv(\"data/train_df.csv\")\n",
        "d_test = pd.read_csv(\"data/test_df.csv\")"
      ]
    },
    {
      "cell_type": "code",
      "execution_count": 6,
      "metadata": {
        "id": "HbaM85-yoi6a"
      },
      "outputs": [],
      "source": [
        "d['date'] = pd.to_datetime(d['date'])\n",
        "d_test['date'] = pd.to_datetime(d_test['date'])"
      ]
    },
    {
      "cell_type": "markdown",
      "metadata": {
        "id": "3KveDoDuoi6c"
      },
      "source": [
        "### Creating validation dataset"
      ]
    },
    {
      "cell_type": "markdown",
      "metadata": {
        "id": "Cl_fowyDoi6c"
      },
      "source": [
        "A validation set, containing the last 7 days of the entire training dataset, is created. The validation set is used for evaluation purposes and early stopping in the CatBoost model."
      ]
    },
    {
      "cell_type": "code",
      "execution_count": 7,
      "metadata": {
        "id": "h5k_v0wZoi6e"
      },
      "outputs": [],
      "source": [
        "train, val = create_val_set(d)"
      ]
    },
    {
      "cell_type": "code",
      "execution_count": null,
      "metadata": {
        "id": "Sx3k4q66oi6g"
      },
      "outputs": [],
      "source": []
    },
    {
      "cell_type": "markdown",
      "metadata": {
        "id": "9mpKeEweoi6g"
      },
      "source": [
        "## Modelling\n",
        "\n",
        "#### Selecting features"
      ]
    },
    {
      "cell_type": "markdown",
      "metadata": {
        "id": "j1ZJnbG2oi6g"
      },
      "source": [
        "In order for the CatBoost algorithm to recognize categorical features, all variables are saved either as categorical or numerical. The date variable will serve as the index, while the lag features will only be used in the training and validation, but not the test dataset."
      ]
    },
    {
      "cell_type": "code",
      "execution_count": 109,
      "metadata": {
        "id": "fbnDqc_8oi6h"
      },
      "outputs": [],
      "source": [
        "date = [\"date\"]\n",
        "\n",
        "catfeat = [\"store_name\",\"item_category\",\"hol_pub\",\"hol_school\",\"weekday\",\"day\",\"month\",\"year\",\"week_year\",\"nye\",\"valentines_day\",\"halloween\", \"street_market\",\"public_space\",\"box_deal\"]\n",
        "\n",
        "numfeat = [\"days_back\",\"temperature_2m_mean\",\"sunshine_duration\",\"precipitation_hours\"]\n",
        "\n",
        "lag = [\"lag1\",\"lag2\", \"lag7\"]"
      ]
    },
    {
      "cell_type": "code",
      "execution_count": null,
      "metadata": {
        "id": "8qYhUpRooi6i"
      },
      "outputs": [],
      "source": []
    },
    {
      "cell_type": "markdown",
      "metadata": {
        "id": "zbPrK3t5oi6i"
      },
      "source": [
        "Two types of sets were created:\n",
        "\n",
        "1. The first type of train, validation and test datasets contains all features at the day, store and product level.\n",
        "2. The second type contains all features only at the day and store level. The different product categories were removed and **only total daily sales** per store are kept."
      ]
    },
    {
      "cell_type": "code",
      "execution_count": 12,
      "metadata": {
        "id": "3uckxYISoi6i"
      },
      "outputs": [],
      "source": [
        "x_train = train[date + catfeat + numfeat + lag]\n",
        "x_train = x_train.set_index(\"date\")\n",
        "x_train_daily = x_train[(x_train[\"item_category\"] == \"daily total\")].drop(\"item_category\", axis = 1)\n",
        "y_train = train['total_amount']\n",
        "y_train_daily = train[(train[\"item_category\"] == \"daily total\")]['total_amount']\n",
        "\n",
        "x_val = val[date + catfeat + numfeat + lag]\n",
        "x_val = x_val.set_index(\"date\")\n",
        "x_val_daily = x_val[(x_val[\"item_category\"] == \"daily total\")].drop(\"item_category\", axis = 1)\n",
        "y_val = val['total_amount']\n",
        "y_val_daily = val[(val[\"item_category\"] == \"daily total\") ]['total_amount']\n",
        "\n",
        "x_test = d_test[date + catfeat + numfeat]\n",
        "x_test = x_test.set_index(\"date\")\n",
        "x_test_daily = x_test[(x_test[\"item_category\"] == \"daily total\")].drop(\"item_category\", axis = 1)\n",
        "y_test = d_test['total_amount']\n",
        "y_test_daily = d_test[(d_test[\"item_category\"] == \"daily total\")]['total_amount']"
      ]
    },
    {
      "cell_type": "code",
      "execution_count": null,
      "metadata": {
        "id": "7g1ngKHCoi6k"
      },
      "outputs": [],
      "source": [
        "#catfeat.remove(\"item_category\")"
      ]
    },
    {
      "cell_type": "markdown",
      "metadata": {
        "id": "uhi1ERA9oi6l"
      },
      "source": [
        "#### Converting holiday features to integer"
      ]
    },
    {
      "cell_type": "code",
      "execution_count": 13,
      "metadata": {
        "id": "3yIzzsZFoi6l"
      },
      "outputs": [],
      "source": [
        "x_train[\"hol_pub\"] = x_train[\"hol_pub\"].apply(np.int64)\n",
        "x_train[\"hol_school\"] = x_train[\"hol_school\"].apply(np.int64)\n",
        "x_train_daily[\"hol_pub\"] = x_train_daily[\"hol_pub\"].apply(np.int64)\n",
        "x_train_daily[\"hol_school\"] = x_train_daily[\"hol_school\"].apply(np.int64)\n",
        "\n",
        "x_val[\"hol_pub\"] = x_val[\"hol_pub\"].apply(np.int64)\n",
        "x_val[\"hol_school\"] = x_val[\"hol_school\"].apply(np.int64)\n",
        "x_val_daily[\"hol_pub\"] = x_val_daily[\"hol_pub\"].apply(np.int64)\n",
        "x_val_daily[\"hol_school\"] = x_val_daily[\"hol_school\"].apply(np.int64)\n",
        "\n",
        "x_test[\"hol_pub\"] = x_test[\"hol_pub\"].apply(np.int64)\n",
        "x_test[\"hol_school\"] = x_test[\"hol_school\"].apply(np.int64)\n",
        "x_test_daily[\"hol_pub\"] = x_test_daily[\"hol_pub\"].apply(np.int64)\n",
        "x_test_daily[\"hol_school\"] = x_test_daily[\"hol_school\"].apply(np.int64)"
      ]
    },
    {
      "cell_type": "markdown",
      "metadata": {
        "id": "-b8ak7JYoi6m"
      },
      "source": [
        "The train and target variables are concatenated to obtain a train and test set at the daily sales level, without the individual product categories."
      ]
    },
    {
      "cell_type": "code",
      "execution_count": 14,
      "metadata": {
        "id": "IF2h8-6zoi6m"
      },
      "outputs": [],
      "source": [
        "train_daily = pd.concat([x_train_daily.reset_index(), y_train_daily.reset_index(drop= True)], axis = 1)\n",
        "\n",
        "test_daily = pd.concat([x_test_daily.reset_index(), y_test_daily.reset_index(drop= True)], axis = 1)"
      ]
    },
    {
      "cell_type": "code",
      "execution_count": null,
      "metadata": {
        "id": "hFYa-1u0oi6m"
      },
      "outputs": [],
      "source": []
    },
    {
      "cell_type": "markdown",
      "metadata": {
        "id": "Q0f1X2-Uoi6p"
      },
      "source": [
        "### Hyperparameter Tuning with Cross-validation\n"
      ]
    },
    {
      "cell_type": "markdown",
      "metadata": {
        "id": "YlMaMNKDoi6q"
      },
      "source": [
        "Training tree-based algorithm often leads to overfitting. In order to create a generalizable model, it is necessary to \"prune\" the trees by putting constraints on how well they can learn from the data. The following hyperparameters are tuned in the step below:\n",
        "\n",
        "* Number of trees\n",
        "* Learning rate\n",
        "* L2 leaf regularization\n",
        "* Tree depth (number of levels)\n",
        "* Proportion of the sample used for each tree\n",
        "* Proportion of the features used for each tree\n",
        "* A minimum amount of datapoints in a leaf before a split can occur\n",
        "* Minimum child weight\n"
      ]
    },
    {
      "cell_type": "code",
      "execution_count": 10,
      "metadata": {
        "colab": {
          "base_uri": "https://localhost:8080/"
        },
        "id": "0lqBiEJeoi6q",
        "outputId": "0e6348e6-01a2-44f1-bdc7-aa7f7fbf3106"
      },
      "outputs": [],
      "source": [
        "from sktime.forecasting.base import ForecastingHorizon\n",
        "from sktime.forecasting.compose import make_reduction\n",
        "from sktime.forecasting.model_evaluation import evaluate\n",
        "from sktime.forecasting.model_selection import ForecastingRandomizedSearchCV\n",
        "from sktime.split import ExpandingWindowSplitter\n",
        "from sktime.utils import plot_windows\n",
        "from sktime.utils._testing.hierarchical import _make_hierarchical\n",
        "from sktime.transformations.series.summarize import WindowSummarizer"
      ]
    },
    {
      "cell_type": "code",
      "execution_count": 12,
      "metadata": {
        "id": "nnfCo15Aoi6s"
      },
      "outputs": [],
      "source": [
        "train_2 = train[date + catfeat + numfeat]\n",
        "train_2 = train_2[train_2[\"item_category\"] != \"daily total\"]\n",
        "train_2 = pd.concat([train_2, train[train[\"item_category\"] != \"daily total\"][\"total_amount\"]], axis = 1)\n",
        "\n"
      ]
    },
    {
      "cell_type": "code",
      "execution_count": null,
      "metadata": {},
      "outputs": [],
      "source": []
    },
    {
      "cell_type": "code",
      "execution_count": 13,
      "metadata": {
        "id": "29aQRGg_oi6t"
      },
      "outputs": [],
      "source": [
        "agg_columns = train_2.columns.difference(['date', 'store_name', 'item_category'] + [\"total_amount\"])\n",
        "agg_dict = {col: \"first\" for col in agg_columns}\n",
        "agg_dict[\"total_amount\"] = \"sum\"\n",
        "\n",
        "train_2 = train_2.groupby(['date', 'store_name', 'item_category']).agg(agg_dict).reset_index().sort_values(by = \"date\", ascending = False).reset_index(drop = True)\n",
        "train_2 = train_2.set_index([\"store_name\",\"item_category\",\"date\"]).sort_index()\n"
      ]
    },
    {
      "cell_type": "code",
      "execution_count": null,
      "metadata": {},
      "outputs": [],
      "source": []
    },
    {
      "cell_type": "markdown",
      "metadata": {
        "id": "oHGwJUtFoi6u"
      },
      "source": [
        "**Cross-validation**"
      ]
    },
    {
      "cell_type": "code",
      "execution_count": 138,
      "metadata": {
        "id": "pbNCfgGCjHcu"
      },
      "outputs": [],
      "source": [
        "def prepro_data (train):\n",
        "\n",
        "  groups = []\n",
        "  train_2_upd = []\n",
        "  train_2_wind_upd = []\n",
        "  all_dates_list = []\n",
        "\n",
        "  for (store, item_category), group in train.groupby(level=['store_name', 'item_category']):\n",
        "    groups.append(((store, item_category),group))\n",
        "\n",
        "  for i in range(len(groups)):\n",
        "    train_2_upd.append(groups[i][1].reset_index().set_index(\"date\"))\n",
        "\n",
        "  #for i in range(len(train_2_upd)):\n",
        "  #  all_dates = pd.date_range(start=train_2_upd[i].index.min(),\n",
        "  #                          end=train_2_upd[i].index.max(), freq='D')\n",
        "  #  all_dates_list.append(all_dates)\n",
        "\n",
        "  #for i in range(len(train_2_upd)):\n",
        "  #  train_2_upd.append(train_2_upd[i].reindex(all_dates_list[i]))\n",
        "\n",
        "  #for i in range(len(train_2_upd)):\n",
        "  #  train_2_upd[i].index.name = \"date\"\n",
        "\n",
        "  #train_2_upd = train_2_upd[37:]\n",
        "\n",
        "  #for i in range(len(train_2_upd)):\n",
        "  #  train_2_upd[i][\"store_name\"] = train_2_upd[i][\"store_name\"].ffill()\n",
        "  #  train_2_upd[i][\"item_category\"] = train_2_upd[i][\"item_category\"].ffill()\n",
        "  #  train_2_upd[i] = train_2_upd[i].ffill()\n",
        "\n",
        "  for i in range(len(train_2_upd)):\n",
        "    train_2_upd.append(train_2_upd[i].reset_index().set_index([\"store_name\",\"item_category\",\"date\"]))\n",
        "\n",
        "  train_2_upd = train_2_upd[37:]\n",
        "\n",
        "\n",
        "  train_2_wind_upd = train_2_upd.copy()\n",
        "\n",
        "  kwargs = {\"lag_feature\": {\n",
        "      \"lag\":[1,2,3],\n",
        "      \"mean\": [[1,7], [1, 15], [1,30]],\n",
        "      \"std\": [[1,4]]\n",
        "      },\n",
        "      \"target_cols\":[\"total_amount\"]}\n",
        "\n",
        "  transformer = WindowSummarizer(**kwargs)\n",
        "\n",
        "  for i in range(len(train_2_wind_upd)):\n",
        "    train_2_wind_upd[i] = transformer.fit_transform(train_2_wind_upd[i])\n",
        "    train_2_wind_upd[i] = pd.concat([train_2_upd[i][\"total_amount\"], train_2_wind_upd[i]], axis = 1)\n",
        "    train_2_wind_upd[i] = train_2_wind_upd[i].dropna()\n",
        "\n",
        "  catfeat_new = [\"hol_pub\",\"hol_school\",\"weekday\",\"day\",\"month\",\"year\",\"week_year\",\n",
        "                 \"nye\",\"valentines_day\",\"halloween\", \"street_market\",\"public_space\",\"box_deal\"]\n",
        "  \n",
        "  for i in range(len(train_2_wind_upd)):\n",
        "    train_2_wind_upd[i][catfeat_new] = train_2_wind_upd[i][catfeat_new].astype(int)\n",
        "    train_2_wind_upd[i][catfeat_new] = train_2_wind_upd[i][catfeat_new].astype(\"category\")\n",
        "\n",
        "  return train_2_wind_upd\n",
        "\n"
      ]
    },
    {
      "cell_type": "code",
      "execution_count": 139,
      "metadata": {
        "colab": {
          "base_uri": "https://localhost:8080/"
        },
        "collapsed": true,
        "id": "hWBeaOKoLfYi",
        "outputId": "b440f7de-18a1-42b8-cd76-2951ec86068d"
      },
      "outputs": [],
      "source": [
        "train_2_wind_upd = prepro_data(train_2)"
      ]
    },
    {
      "cell_type": "code",
      "execution_count": 120,
      "metadata": {},
      "outputs": [
        {
          "data": {
            "text/html": [
              "<div>\n",
              "<style scoped>\n",
              "    .dataframe tbody tr th:only-of-type {\n",
              "        vertical-align: middle;\n",
              "    }\n",
              "\n",
              "    .dataframe tbody tr th {\n",
              "        vertical-align: top;\n",
              "    }\n",
              "\n",
              "    .dataframe thead th {\n",
              "        text-align: right;\n",
              "    }\n",
              "</style>\n",
              "<table border=\"1\" class=\"dataframe\">\n",
              "  <thead>\n",
              "    <tr style=\"text-align: right;\">\n",
              "      <th></th>\n",
              "      <th></th>\n",
              "      <th></th>\n",
              "      <th>total_amount</th>\n",
              "      <th>total_amount_lag_1</th>\n",
              "      <th>total_amount_lag_2</th>\n",
              "      <th>total_amount_lag_3</th>\n",
              "      <th>total_amount_mean_1_7</th>\n",
              "      <th>total_amount_mean_1_15</th>\n",
              "      <th>total_amount_mean_1_30</th>\n",
              "      <th>total_amount_std_1_4</th>\n",
              "      <th>box_deal</th>\n",
              "      <th>day</th>\n",
              "      <th>days_back</th>\n",
              "      <th>halloween</th>\n",
              "      <th>hol_pub</th>\n",
              "      <th>hol_school</th>\n",
              "      <th>month</th>\n",
              "      <th>nye</th>\n",
              "      <th>precipitation_hours</th>\n",
              "      <th>public_space</th>\n",
              "      <th>street_market</th>\n",
              "      <th>sunshine_duration</th>\n",
              "      <th>temperature_2m_mean</th>\n",
              "      <th>valentines_day</th>\n",
              "      <th>week_year</th>\n",
              "      <th>weekday</th>\n",
              "      <th>year</th>\n",
              "    </tr>\n",
              "    <tr>\n",
              "      <th>store_name</th>\n",
              "      <th>item_category</th>\n",
              "      <th>date</th>\n",
              "      <th></th>\n",
              "      <th></th>\n",
              "      <th></th>\n",
              "      <th></th>\n",
              "      <th></th>\n",
              "      <th></th>\n",
              "      <th></th>\n",
              "      <th></th>\n",
              "      <th></th>\n",
              "      <th></th>\n",
              "      <th></th>\n",
              "      <th></th>\n",
              "      <th></th>\n",
              "      <th></th>\n",
              "      <th></th>\n",
              "      <th></th>\n",
              "      <th></th>\n",
              "      <th></th>\n",
              "      <th></th>\n",
              "      <th></th>\n",
              "      <th></th>\n",
              "      <th></th>\n",
              "      <th></th>\n",
              "      <th></th>\n",
              "      <th></th>\n",
              "    </tr>\n",
              "  </thead>\n",
              "  <tbody>\n",
              "    <tr>\n",
              "      <th rowspan=\"3\" valign=\"top\">Altona</th>\n",
              "      <th rowspan=\"3\" valign=\"top\">mixed</th>\n",
              "      <th>2022-11-05</th>\n",
              "      <td>550</td>\n",
              "      <td>296.0</td>\n",
              "      <td>216.0</td>\n",
              "      <td>212.0</td>\n",
              "      <td>403.714286</td>\n",
              "      <td>378.933333</td>\n",
              "      <td>391.333333</td>\n",
              "      <td>39.799497</td>\n",
              "      <td>1</td>\n",
              "      <td>5</td>\n",
              "      <td>566</td>\n",
              "      <td>0</td>\n",
              "      <td>0</td>\n",
              "      <td>0</td>\n",
              "      <td>11</td>\n",
              "      <td>0</td>\n",
              "      <td>1.0</td>\n",
              "      <td>1</td>\n",
              "      <td>0</td>\n",
              "      <td>7.907053</td>\n",
              "      <td>8.0</td>\n",
              "      <td>0</td>\n",
              "      <td>44</td>\n",
              "      <td>5</td>\n",
              "      <td>2022</td>\n",
              "    </tr>\n",
              "    <tr>\n",
              "      <th>2022-11-07</th>\n",
              "      <td>208</td>\n",
              "      <td>550.0</td>\n",
              "      <td>296.0</td>\n",
              "      <td>216.0</td>\n",
              "      <td>383.428571</td>\n",
              "      <td>385.600000</td>\n",
              "      <td>394.866667</td>\n",
              "      <td>159.108977</td>\n",
              "      <td>1</td>\n",
              "      <td>7</td>\n",
              "      <td>564</td>\n",
              "      <td>0</td>\n",
              "      <td>0</td>\n",
              "      <td>0</td>\n",
              "      <td>11</td>\n",
              "      <td>0</td>\n",
              "      <td>4.0</td>\n",
              "      <td>1</td>\n",
              "      <td>0</td>\n",
              "      <td>1.042258</td>\n",
              "      <td>11.1</td>\n",
              "      <td>0</td>\n",
              "      <td>45</td>\n",
              "      <td>0</td>\n",
              "      <td>2022</td>\n",
              "    </tr>\n",
              "    <tr>\n",
              "      <th>2022-11-08</th>\n",
              "      <td>146</td>\n",
              "      <td>208.0</td>\n",
              "      <td>550.0</td>\n",
              "      <td>296.0</td>\n",
              "      <td>342.857143</td>\n",
              "      <td>351.066667</td>\n",
              "      <td>391.733333</td>\n",
              "      <td>160.011458</td>\n",
              "      <td>1</td>\n",
              "      <td>8</td>\n",
              "      <td>563</td>\n",
              "      <td>0</td>\n",
              "      <td>0</td>\n",
              "      <td>0</td>\n",
              "      <td>11</td>\n",
              "      <td>0</td>\n",
              "      <td>1.0</td>\n",
              "      <td>1</td>\n",
              "      <td>0</td>\n",
              "      <td>6.053736</td>\n",
              "      <td>13.0</td>\n",
              "      <td>0</td>\n",
              "      <td>45</td>\n",
              "      <td>1</td>\n",
              "      <td>2022</td>\n",
              "    </tr>\n",
              "  </tbody>\n",
              "</table>\n",
              "</div>"
            ],
            "text/plain": [
              "                                     total_amount  total_amount_lag_1  \\\n",
              "store_name item_category date                                           \n",
              "Altona     mixed         2022-11-05           550               296.0   \n",
              "                         2022-11-07           208               550.0   \n",
              "                         2022-11-08           146               208.0   \n",
              "\n",
              "                                     total_amount_lag_2  total_amount_lag_3  \\\n",
              "store_name item_category date                                                 \n",
              "Altona     mixed         2022-11-05               216.0               212.0   \n",
              "                         2022-11-07               296.0               216.0   \n",
              "                         2022-11-08               550.0               296.0   \n",
              "\n",
              "                                     total_amount_mean_1_7  \\\n",
              "store_name item_category date                                \n",
              "Altona     mixed         2022-11-05             403.714286   \n",
              "                         2022-11-07             383.428571   \n",
              "                         2022-11-08             342.857143   \n",
              "\n",
              "                                     total_amount_mean_1_15  \\\n",
              "store_name item_category date                                 \n",
              "Altona     mixed         2022-11-05              378.933333   \n",
              "                         2022-11-07              385.600000   \n",
              "                         2022-11-08              351.066667   \n",
              "\n",
              "                                     total_amount_mean_1_30  \\\n",
              "store_name item_category date                                 \n",
              "Altona     mixed         2022-11-05              391.333333   \n",
              "                         2022-11-07              394.866667   \n",
              "                         2022-11-08              391.733333   \n",
              "\n",
              "                                     total_amount_std_1_4 box_deal day  \\\n",
              "store_name item_category date                                            \n",
              "Altona     mixed         2022-11-05             39.799497        1   5   \n",
              "                         2022-11-07            159.108977        1   7   \n",
              "                         2022-11-08            160.011458        1   8   \n",
              "\n",
              "                                     days_back halloween hol_pub hol_school  \\\n",
              "store_name item_category date                                                 \n",
              "Altona     mixed         2022-11-05        566         0       0          0   \n",
              "                         2022-11-07        564         0       0          0   \n",
              "                         2022-11-08        563         0       0          0   \n",
              "\n",
              "                                    month nye  precipitation_hours  \\\n",
              "store_name item_category date                                        \n",
              "Altona     mixed         2022-11-05    11   0                  1.0   \n",
              "                         2022-11-07    11   0                  4.0   \n",
              "                         2022-11-08    11   0                  1.0   \n",
              "\n",
              "                                    public_space street_market  \\\n",
              "store_name item_category date                                    \n",
              "Altona     mixed         2022-11-05            1             0   \n",
              "                         2022-11-07            1             0   \n",
              "                         2022-11-08            1             0   \n",
              "\n",
              "                                     sunshine_duration  temperature_2m_mean  \\\n",
              "store_name item_category date                                                 \n",
              "Altona     mixed         2022-11-05           7.907053                  8.0   \n",
              "                         2022-11-07           1.042258                 11.1   \n",
              "                         2022-11-08           6.053736                 13.0   \n",
              "\n",
              "                                    valentines_day week_year weekday  year  \n",
              "store_name item_category date                                               \n",
              "Altona     mixed         2022-11-05              0        44       5  2022  \n",
              "                         2022-11-07              0        45       0  2022  \n",
              "                         2022-11-08              0        45       1  2022  "
            ]
          },
          "execution_count": 120,
          "metadata": {},
          "output_type": "execute_result"
        }
      ],
      "source": [
        "train_2_wind_upd[1].iloc[(train_2_wind_upd[1].index.get_level_values(\"date\") == \"2022-11-05\") |\n",
        "                          (train_2_wind_upd[1].index.get_level_values(\"date\") == \"2022-11-06\") |\n",
        "                         (train_2_wind_upd[1].index.get_level_values(\"date\") == \"2022-11-07\") |\n",
        "                         (train_2_wind_upd[1].index.get_level_values(\"date\") == \"2022-11-08\") ]"
      ]
    },
    {
      "cell_type": "code",
      "execution_count": 21,
      "metadata": {
        "colab": {
          "base_uri": "https://localhost:8080/",
          "height": 226
        },
        "id": "DNCgZ-73zk9R",
        "outputId": "39ff8c2d-99d5-41fb-983e-ef1b6b5782e5"
      },
      "outputs": [
        {
          "data": {
            "text/html": [
              "<div>\n",
              "<style scoped>\n",
              "    .dataframe tbody tr th:only-of-type {\n",
              "        vertical-align: middle;\n",
              "    }\n",
              "\n",
              "    .dataframe tbody tr th {\n",
              "        vertical-align: top;\n",
              "    }\n",
              "\n",
              "    .dataframe thead th {\n",
              "        text-align: right;\n",
              "    }\n",
              "</style>\n",
              "<table border=\"1\" class=\"dataframe\">\n",
              "  <thead>\n",
              "    <tr style=\"text-align: right;\">\n",
              "      <th></th>\n",
              "      <th></th>\n",
              "      <th></th>\n",
              "      <th>total_amount</th>\n",
              "      <th>total_amount_lag_1</th>\n",
              "      <th>total_amount_lag_2</th>\n",
              "      <th>total_amount_lag_3</th>\n",
              "      <th>total_amount_mean_1_7</th>\n",
              "      <th>total_amount_mean_1_15</th>\n",
              "      <th>total_amount_mean_1_30</th>\n",
              "      <th>total_amount_std_1_4</th>\n",
              "      <th>box_deal</th>\n",
              "      <th>day</th>\n",
              "      <th>days_back</th>\n",
              "      <th>halloween</th>\n",
              "      <th>hol_pub</th>\n",
              "      <th>hol_school</th>\n",
              "      <th>month</th>\n",
              "      <th>nye</th>\n",
              "      <th>precipitation_hours</th>\n",
              "      <th>public_space</th>\n",
              "      <th>street_market</th>\n",
              "      <th>sunshine_duration</th>\n",
              "      <th>temperature_2m_mean</th>\n",
              "      <th>valentines_day</th>\n",
              "      <th>week_year</th>\n",
              "      <th>weekday</th>\n",
              "      <th>year</th>\n",
              "    </tr>\n",
              "    <tr>\n",
              "      <th>store_name</th>\n",
              "      <th>item_category</th>\n",
              "      <th>date</th>\n",
              "      <th></th>\n",
              "      <th></th>\n",
              "      <th></th>\n",
              "      <th></th>\n",
              "      <th></th>\n",
              "      <th></th>\n",
              "      <th></th>\n",
              "      <th></th>\n",
              "      <th></th>\n",
              "      <th></th>\n",
              "      <th></th>\n",
              "      <th></th>\n",
              "      <th></th>\n",
              "      <th></th>\n",
              "      <th></th>\n",
              "      <th></th>\n",
              "      <th></th>\n",
              "      <th></th>\n",
              "      <th></th>\n",
              "      <th></th>\n",
              "      <th></th>\n",
              "      <th></th>\n",
              "      <th></th>\n",
              "      <th></th>\n",
              "      <th></th>\n",
              "    </tr>\n",
              "  </thead>\n",
              "  <tbody>\n",
              "    <tr>\n",
              "      <th rowspan=\"4\" valign=\"top\">Altona</th>\n",
              "      <th rowspan=\"4\" valign=\"top\">mixed</th>\n",
              "      <th>2022-11-05</th>\n",
              "      <td>550.0</td>\n",
              "      <td>296.0</td>\n",
              "      <td>216.0</td>\n",
              "      <td>212.0</td>\n",
              "      <td>403.714286</td>\n",
              "      <td>378.933333</td>\n",
              "      <td>391.333333</td>\n",
              "      <td>39.799497</td>\n",
              "      <td>1</td>\n",
              "      <td>5</td>\n",
              "      <td>566.0</td>\n",
              "      <td>0</td>\n",
              "      <td>0</td>\n",
              "      <td>0</td>\n",
              "      <td>11</td>\n",
              "      <td>0</td>\n",
              "      <td>1.0</td>\n",
              "      <td>1</td>\n",
              "      <td>0</td>\n",
              "      <td>7.907053</td>\n",
              "      <td>8.0</td>\n",
              "      <td>0</td>\n",
              "      <td>44</td>\n",
              "      <td>5</td>\n",
              "      <td>2022</td>\n",
              "    </tr>\n",
              "    <tr>\n",
              "      <th>2022-11-06</th>\n",
              "      <td>550.0</td>\n",
              "      <td>550.0</td>\n",
              "      <td>296.0</td>\n",
              "      <td>216.0</td>\n",
              "      <td>383.428571</td>\n",
              "      <td>385.600000</td>\n",
              "      <td>394.866667</td>\n",
              "      <td>159.108977</td>\n",
              "      <td>1</td>\n",
              "      <td>5</td>\n",
              "      <td>566.0</td>\n",
              "      <td>0</td>\n",
              "      <td>0</td>\n",
              "      <td>0</td>\n",
              "      <td>11</td>\n",
              "      <td>0</td>\n",
              "      <td>1.0</td>\n",
              "      <td>1</td>\n",
              "      <td>0</td>\n",
              "      <td>7.907053</td>\n",
              "      <td>8.0</td>\n",
              "      <td>0</td>\n",
              "      <td>44</td>\n",
              "      <td>5</td>\n",
              "      <td>2022</td>\n",
              "    </tr>\n",
              "    <tr>\n",
              "      <th>2022-11-07</th>\n",
              "      <td>208.0</td>\n",
              "      <td>550.0</td>\n",
              "      <td>550.0</td>\n",
              "      <td>296.0</td>\n",
              "      <td>391.714286</td>\n",
              "      <td>373.866667</td>\n",
              "      <td>403.133333</td>\n",
              "      <td>172.854467</td>\n",
              "      <td>1</td>\n",
              "      <td>7</td>\n",
              "      <td>564.0</td>\n",
              "      <td>0</td>\n",
              "      <td>0</td>\n",
              "      <td>0</td>\n",
              "      <td>11</td>\n",
              "      <td>0</td>\n",
              "      <td>4.0</td>\n",
              "      <td>1</td>\n",
              "      <td>0</td>\n",
              "      <td>1.042258</td>\n",
              "      <td>11.1</td>\n",
              "      <td>0</td>\n",
              "      <td>45</td>\n",
              "      <td>0</td>\n",
              "      <td>2022</td>\n",
              "    </tr>\n",
              "    <tr>\n",
              "      <th>2022-11-08</th>\n",
              "      <td>146.0</td>\n",
              "      <td>208.0</td>\n",
              "      <td>550.0</td>\n",
              "      <td>550.0</td>\n",
              "      <td>327.428571</td>\n",
              "      <td>353.200000</td>\n",
              "      <td>387.000000</td>\n",
              "      <td>175.761202</td>\n",
              "      <td>1</td>\n",
              "      <td>8</td>\n",
              "      <td>563.0</td>\n",
              "      <td>0</td>\n",
              "      <td>0</td>\n",
              "      <td>0</td>\n",
              "      <td>11</td>\n",
              "      <td>0</td>\n",
              "      <td>1.0</td>\n",
              "      <td>1</td>\n",
              "      <td>0</td>\n",
              "      <td>6.053736</td>\n",
              "      <td>13.0</td>\n",
              "      <td>0</td>\n",
              "      <td>45</td>\n",
              "      <td>1</td>\n",
              "      <td>2022</td>\n",
              "    </tr>\n",
              "  </tbody>\n",
              "</table>\n",
              "</div>"
            ],
            "text/plain": [
              "                                     total_amount  total_amount_lag_1  \\\n",
              "store_name item_category date                                           \n",
              "Altona     mixed         2022-11-05         550.0               296.0   \n",
              "                         2022-11-06         550.0               550.0   \n",
              "                         2022-11-07         208.0               550.0   \n",
              "                         2022-11-08         146.0               208.0   \n",
              "\n",
              "                                     total_amount_lag_2  total_amount_lag_3  \\\n",
              "store_name item_category date                                                 \n",
              "Altona     mixed         2022-11-05               216.0               212.0   \n",
              "                         2022-11-06               296.0               216.0   \n",
              "                         2022-11-07               550.0               296.0   \n",
              "                         2022-11-08               550.0               550.0   \n",
              "\n",
              "                                     total_amount_mean_1_7  \\\n",
              "store_name item_category date                                \n",
              "Altona     mixed         2022-11-05             403.714286   \n",
              "                         2022-11-06             383.428571   \n",
              "                         2022-11-07             391.714286   \n",
              "                         2022-11-08             327.428571   \n",
              "\n",
              "                                     total_amount_mean_1_15  \\\n",
              "store_name item_category date                                 \n",
              "Altona     mixed         2022-11-05              378.933333   \n",
              "                         2022-11-06              385.600000   \n",
              "                         2022-11-07              373.866667   \n",
              "                         2022-11-08              353.200000   \n",
              "\n",
              "                                     total_amount_mean_1_30  \\\n",
              "store_name item_category date                                 \n",
              "Altona     mixed         2022-11-05              391.333333   \n",
              "                         2022-11-06              394.866667   \n",
              "                         2022-11-07              403.133333   \n",
              "                         2022-11-08              387.000000   \n",
              "\n",
              "                                     total_amount_std_1_4 box_deal day  \\\n",
              "store_name item_category date                                            \n",
              "Altona     mixed         2022-11-05             39.799497        1   5   \n",
              "                         2022-11-06            159.108977        1   5   \n",
              "                         2022-11-07            172.854467        1   7   \n",
              "                         2022-11-08            175.761202        1   8   \n",
              "\n",
              "                                     days_back halloween hol_pub hol_school  \\\n",
              "store_name item_category date                                                 \n",
              "Altona     mixed         2022-11-05      566.0         0       0          0   \n",
              "                         2022-11-06      566.0         0       0          0   \n",
              "                         2022-11-07      564.0         0       0          0   \n",
              "                         2022-11-08      563.0         0       0          0   \n",
              "\n",
              "                                    month nye  precipitation_hours  \\\n",
              "store_name item_category date                                        \n",
              "Altona     mixed         2022-11-05    11   0                  1.0   \n",
              "                         2022-11-06    11   0                  1.0   \n",
              "                         2022-11-07    11   0                  4.0   \n",
              "                         2022-11-08    11   0                  1.0   \n",
              "\n",
              "                                    public_space street_market  \\\n",
              "store_name item_category date                                    \n",
              "Altona     mixed         2022-11-05            1             0   \n",
              "                         2022-11-06            1             0   \n",
              "                         2022-11-07            1             0   \n",
              "                         2022-11-08            1             0   \n",
              "\n",
              "                                     sunshine_duration  temperature_2m_mean  \\\n",
              "store_name item_category date                                                 \n",
              "Altona     mixed         2022-11-05           7.907053                  8.0   \n",
              "                         2022-11-06           7.907053                  8.0   \n",
              "                         2022-11-07           1.042258                 11.1   \n",
              "                         2022-11-08           6.053736                 13.0   \n",
              "\n",
              "                                    valentines_day week_year weekday  year  \n",
              "store_name item_category date                                               \n",
              "Altona     mixed         2022-11-05              0        44       5  2022  \n",
              "                         2022-11-06              0        44       5  2022  \n",
              "                         2022-11-07              0        45       0  2022  \n",
              "                         2022-11-08              0        45       1  2022  "
            ]
          },
          "execution_count": 21,
          "metadata": {},
          "output_type": "execute_result"
        }
      ],
      "source": [
        "train_2_wind_upd[1][1].iloc[(train_2_wind_upd[1][1].index.get_level_values(\"date\") == \"2022-11-05\") |\n",
        "                          (train_2_wind_upd[1][1].index.get_level_values(\"date\") == \"2022-11-06\") |\n",
        "                         (train_2_wind_upd[1][1].index.get_level_values(\"date\") == \"2022-11-07\") |\n",
        "                         (train_2_wind_upd[1][1].index.get_level_values(\"date\") == \"2022-11-08\") ]"
      ]
    },
    {
      "cell_type": "code",
      "execution_count": 121,
      "metadata": {},
      "outputs": [],
      "source": [
        "train_2_final = pd.concat(train_2_wind_upd).reset_index().sort_values(\"date\").set_index(\"date\")"
      ]
    },
    {
      "cell_type": "code",
      "execution_count": null,
      "metadata": {},
      "outputs": [],
      "source": []
    },
    {
      "cell_type": "markdown",
      "metadata": {},
      "source": [
        "**Time-series cross-validation split**"
      ]
    },
    {
      "cell_type": "markdown",
      "metadata": {},
      "source": [
        "When performing k-fold cross-validation in a time-series context, the data musn't be shuffled as in a regular cross-validation scenario. Instead, a forecasting horizon has to be defined for each fold, which serves as the validation set. It always comes after the training set chronologically. Because predicting donut sales for more than one week in advance is a difficult endeavor and will most likely lead to imprecise results, the forecasting horizon for this problem was set to 7 days."
      ]
    },
    {
      "cell_type": "code",
      "execution_count": 73,
      "metadata": {},
      "outputs": [],
      "source": [
        "def create_train_validation_folds(df):\n",
        "    last_val_date = df.date.max()\n",
        "    cv = []\n",
        "    for n in range(5):\n",
        "        first_val_date = last_val_date - dt.timedelta(days=6)\n",
        "        train_index = df[df.date<first_val_date].index\n",
        "        val_index = df[(df.date>=first_val_date) & (df.date<=last_val_date)].index\n",
        "        cv.append((train_index,val_index))\n",
        "        last_val_date = first_val_date - dt.timedelta(days=1)\n",
        "    cv = cv[::-1]\n",
        "    return cv"
      ]
    },
    {
      "cell_type": "code",
      "execution_count": 122,
      "metadata": {},
      "outputs": [
        {
          "data": {
            "text/plain": [
              "[(Index([    0,     1,     2,     3,     4,     5,     6,     7,     8,     9,\n",
              "         ...\n",
              "         28899, 28900, 28901, 28902, 28903, 28904, 28905, 28906, 28907, 28908],\n",
              "        dtype='int64', length=28909),\n",
              "  Index([28909, 28910, 28911, 28912, 28913, 28914, 28915, 28916, 28917, 28918,\n",
              "         ...\n",
              "         29123, 29124, 29125, 29126, 29127, 29128, 29129, 29130, 29131, 29132],\n",
              "        dtype='int64', length=224)),\n",
              " (Index([    0,     1,     2,     3,     4,     5,     6,     7,     8,     9,\n",
              "         ...\n",
              "         29123, 29124, 29125, 29126, 29127, 29128, 29129, 29130, 29131, 29132],\n",
              "        dtype='int64', length=29133),\n",
              "  Index([29133, 29134, 29135, 29136, 29137, 29138, 29139, 29140, 29141, 29142,\n",
              "         ...\n",
              "         29347, 29348, 29349, 29350, 29351, 29352, 29353, 29354, 29355, 29356],\n",
              "        dtype='int64', length=224)),\n",
              " (Index([    0,     1,     2,     3,     4,     5,     6,     7,     8,     9,\n",
              "         ...\n",
              "         29347, 29348, 29349, 29350, 29351, 29352, 29353, 29354, 29355, 29356],\n",
              "        dtype='int64', length=29357),\n",
              "  Index([29357, 29358, 29359, 29360, 29361, 29362, 29363, 29364, 29365, 29366,\n",
              "         ...\n",
              "         29571, 29572, 29573, 29574, 29575, 29576, 29577, 29578, 29579, 29580],\n",
              "        dtype='int64', length=224)),\n",
              " (Index([    0,     1,     2,     3,     4,     5,     6,     7,     8,     9,\n",
              "         ...\n",
              "         29571, 29572, 29573, 29574, 29575, 29576, 29577, 29578, 29579, 29580],\n",
              "        dtype='int64', length=29581),\n",
              "  Index([29581, 29582, 29583, 29584, 29585, 29586, 29587, 29588, 29589, 29590,\n",
              "         ...\n",
              "         29795, 29796, 29797, 29798, 29799, 29800, 29801, 29802, 29803, 29804],\n",
              "        dtype='int64', length=224)),\n",
              " (Index([    0,     1,     2,     3,     4,     5,     6,     7,     8,     9,\n",
              "         ...\n",
              "         29795, 29796, 29797, 29798, 29799, 29800, 29801, 29802, 29803, 29804],\n",
              "        dtype='int64', length=29805),\n",
              "  Index([29805, 29806, 29807, 29808, 29809, 29810, 29811, 29812, 29813, 29814,\n",
              "         ...\n",
              "         30019, 30020, 30021, 30022, 30023, 30024, 30025, 30026, 30027, 30028],\n",
              "        dtype='int64', length=224))]"
            ]
          },
          "execution_count": 122,
          "metadata": {},
          "output_type": "execute_result"
        }
      ],
      "source": [
        "create_train_validation_folds(train_2_final.reset_index())"
      ]
    },
    {
      "cell_type": "code",
      "execution_count": null,
      "metadata": {},
      "outputs": [],
      "source": []
    },
    {
      "cell_type": "code",
      "execution_count": null,
      "metadata": {},
      "outputs": [],
      "source": []
    },
    {
      "cell_type": "code",
      "execution_count": 76,
      "metadata": {},
      "outputs": [],
      "source": [
        "def create_train_validation_dataset(df):\n",
        "    last_val_date = df.date.max()\n",
        "    cv = []\n",
        "    for n in range(5):\n",
        "        first_val_date = last_val_date - dt.timedelta(days=6)\n",
        "        train_fold = df[df.date<first_val_date]\n",
        "        val_fold = df[(df.date>=first_val_date) & (df.date<=last_val_date)]\n",
        "        cv.append((train_fold,val_fold))\n",
        "        last_val_date = first_val_date - dt.timedelta(days=1)\n",
        "    cv = cv[::-1]\n",
        "    return cv"
      ]
    },
    {
      "cell_type": "code",
      "execution_count": null,
      "metadata": {},
      "outputs": [],
      "source": [
        "for i in range(5):\n",
        "  globals()[f\"train_{i}\"], globals()[f\"val_{i}\"] = create_train_validation_dataset(train_daily)[i]"
      ]
    },
    {
      "cell_type": "code",
      "execution_count": null,
      "metadata": {},
      "outputs": [],
      "source": []
    },
    {
      "cell_type": "code",
      "execution_count": 161,
      "metadata": {},
      "outputs": [
        {
          "data": {
            "text/plain": [
              "<pandas.core.groupby.generic.DataFrameGroupBy object at 0x0000021431362FD0>"
            ]
          },
          "execution_count": 161,
          "metadata": {},
          "output_type": "execute_result"
        }
      ],
      "source": [
        "train_2_final.groupby([\"store_name\",\"item_category\"])"
      ]
    },
    {
      "cell_type": "code",
      "execution_count": 162,
      "metadata": {
        "id": "pfNYh71Coi6u"
      },
      "outputs": [],
      "source": [
        "\n",
        "\n",
        "#for i in range(len(train_2_wind_upd)):\n",
        "#    train_2_wind_upd[i] = (list(train_2.groupby([\"store_name\",\"item_category\"]))[i][0], train_2_wind_upd[i])\n",
        "\n",
        "def window_splitter_prep(train, validation_length, num_folds):\n",
        "    \n",
        "    def get_initial_window_size(store_group, validation_length, num_folds):\n",
        "        total_periods = len(store_group.index.get_level_values('date').unique())\n",
        "        initial_window = total_periods - validation_length * num_folds\n",
        "        return initial_window\n",
        "\n",
        "    cv_list = []\n",
        "    \n",
        "    for (store,item), group in train.groupby([\"store_name\",\"item_category\"]):\n",
        "\n",
        "        # Calculate the initial window size for the current store\n",
        "        initial_window = get_initial_window_size(group, validation_length, num_folds)\n",
        "\n",
        "        # Initialize the ExpandingWindowSplitter for the current group\n",
        "        splitter = ExpandingWindowSplitter(\n",
        "            initial_window=initial_window,\n",
        "            step_length=7,\n",
        "            fh=list(range(1, 7 + 1))\n",
        "        )\n",
        "\n",
        "        cv_list.append(({f\"{store}\"+\"_\"+f\"{item}\":splitter},\n",
        "                            {f\"{store}\"+\"_\"+f\"{item}\":group}))\n",
        "    \n",
        "    return cv_list\n"
      ]
    },
    {
      "cell_type": "code",
      "execution_count": 164,
      "metadata": {},
      "outputs": [],
      "source": [
        "cv_list = window_splitter_prep(train_2_final, validation_length = 7, num_folds = 5)"
      ]
    },
    {
      "cell_type": "code",
      "execution_count": null,
      "metadata": {},
      "outputs": [],
      "source": []
    },
    {
      "cell_type": "markdown",
      "metadata": {},
      "source": [
        "The graph below depicts the time-series cross-validation process visually. The forecsasting horizon of 7 days from the first fold becomes part of the training set in the second cross-validation fold, while the next 7 days serve as the second validation set. Five folds were chosen in total, meaning there are 35 validation days on which the training data is evaluated. \n",
        "\n",
        "</br>\n",
        "\n",
        "**Note:** \n",
        "\n",
        "---\n",
        "\n",
        "When making time-series forecasting on a test dataset, predictions are often done recursively. This means that the model does not make predictions for all points in a forecasting horizon at once (7 days in this case), but does so day by day. The reason for that is that when window variables - such as lagged features or rolling averages of the target variable (donut sales) - are considered as explanatory variables, they won't actually exist in the test dataset. They are, in that case, calculated based on future target variable values which are yet to be predicted. \n",
        "\n",
        "This type of assessment will be performed on the testing dataset at the end of the notebook . However, the cross-validation process in this case would not only involve recursive predictions, but would also have to accommodate hierarchical data structures (i.e. one store per one product per one day). \n",
        "\n",
        "In order to simplify this task, no recursive predictions will be carried out on either of the five validation folds at this point. While this won't yield the most optimal predictions, performing time-series cross-validation can still produce good evaluation results.\n",
        "\n",
        "To make the resulst more rigorous, recursive forecasting in the cross-validation scenario should be executed in the future. "
      ]
    },
    {
      "cell_type": "code",
      "execution_count": 171,
      "metadata": {},
      "outputs": [
        {
          "data": {
            "image/png": "[encoded data removed]",
            "text/plain": [
              "<Figure size 1600x480 with 1 Axes>"
            ]
          },
          "metadata": {},
          "output_type": "display_data"
        }
      ],
      "source": [
        "for i in range(32,33):\n",
        "    plot_windows(list(cv_list[i][0].values())[0], list(cv_list[i][1].values())[0][\"total_amount\"])"
      ]
    },
    {
      "cell_type": "code",
      "execution_count": null,
      "metadata": {},
      "outputs": [],
      "source": []
    },
    {
      "cell_type": "markdown",
      "metadata": {},
      "source": [
        "**Hyperparameter tuning**"
      ]
    },
    {
      "cell_type": "markdown",
      "metadata": {},
      "source": [
        "Given that CatBoost is a tree-based model, there is a large number of hyperparameters that can be tuned. For this task, the following hyperparameters were chosen:\n",
        "\n",
        "* Number of trees (estimators)\n",
        "* Learning rate\n",
        "* L2 leaf regularization\n",
        "* Tree depth\n",
        "* Percentage of datapoint to be used in each tree (bootstrapping)\n",
        "* Percentage of features to be used in each tree\n",
        "* Smallest number of data to be used in a leaf before a split is made"
      ]
    },
    {
      "cell_type": "code",
      "execution_count": 149,
      "metadata": {
        "id": "juTPR2WPoi6y"
      },
      "outputs": [],
      "source": [
        "params = {\n",
        "    'estimator__n_estimators': np.arange(250,1000,1),\n",
        "    \"estimator__learning_rate\": np.logspace(-4, -1),\n",
        "    \"estimator__l2_leaf_reg\": np.linspace(2, 30),\n",
        "    \"estimator__depth\":np.arange(3,17,1),\n",
        "    \"estimator__subsample\": np.linspace(0.05, 1.0),\n",
        "    \"estimator__colsample_bylevel\": np.linspace(0.05, 1.0),\n",
        "    \"estimator__min_data_in_leaf\": np.arange(10, 51, 1)}"
      ]
    },
    {
      "cell_type": "code",
      "execution_count": null,
      "metadata": {
        "id": "irpL3NvVoi62"
      },
      "outputs": [],
      "source": []
    },
    {
      "cell_type": "code",
      "execution_count": null,
      "metadata": {
        "id": "ZFtg8JlDoi63"
      },
      "outputs": [],
      "source": [
        "model = cb.CatBoostRegressor(cat_features=catfeat)"
      ]
    },
    {
      "cell_type": "code",
      "execution_count": null,
      "metadata": {
        "id": "sKOLDiNCoi64"
      },
      "outputs": [],
      "source": [
        "randomized_search_result = model.randomized_search(params,\n",
        "                                                  # n_iter=30,\n",
        "                                                   X= x_train_daily,\n",
        "                                                   y= y_train_daily,\n",
        "                                                   cv = create_train_validation_folds(train_daily),\n",
        "                                                   plot=True,\n",
        "                                                   verbose = 500,\n",
        "                                                   calc_cv_statistics=True)"
      ]
    },
    {
      "cell_type": "code",
      "execution_count": null,
      "metadata": {
        "id": "BCYnbcIaoi64"
      },
      "outputs": [],
      "source": [
        "pd.DataFrame(randomized_search_result.get(\"cv_results\"))"
      ]
    },
    {
      "cell_type": "code",
      "execution_count": null,
      "metadata": {
        "id": "wX1euomYoi65"
      },
      "outputs": [],
      "source": [
        "randomized_search_result.get(\"params\")"
      ]
    },
    {
      "cell_type": "code",
      "execution_count": null,
      "metadata": {
        "id": "aLuupIDyoi66"
      },
      "outputs": [],
      "source": [
        "#def objective(trial):\n",
        "    params = {\n",
        "        'n_estimators': trial.suggest_int('n_estimators', 50, 3000),\n",
        "        \"learning_rate\": trial.suggest_float(\"learning_rate\", 1e-4, 0.1, log=True),\n",
        "        \"l2_leaf_reg\": trial.suggest_float(\"l2_leaf_reg\", 2, 30),\n",
        "        \"depth\": trial.suggest_int(\"depth\", 1, 20),\n",
        "        \"subsample\": trial.suggest_float(\"subsample\", 0.05, 1.0),\n",
        "        \"colsample_bylevel\": trial.suggest_float(\"colsample_bylevel\", 0.05, 1.0),\n",
        "        \"min_data_in_leaf\": trial.suggest_int(\"min_data_in_leaf\", 1, 100),\n",
        "        \"min_child_weight\": trial.suggest_int(1, 300)\n",
        "    }\n",
        "\n",
        "    model = CatBoostRegressor(**params, silent=True, allow_writing_files = False, cat_features = catfeat)\n",
        "\n",
        "    model_cv = optuna.integration.OptunaSearchCV(estimator = model, param_distributions = params, cv = create_train_validation_folds(train_daily), n_jobs = -1, n_trials = 30)\n",
        "\n",
        "    #model.fit(x_train_daily, y_train_daily, eval_set = (create_train_validation_folds_cat(x_train_daily_totalamount)), cat_features = catfeat, verbose = 1000, plot = False)\n",
        "\n",
        "    # y_val_pred_daily = model_cv.predict(x_val_daily)\n",
        "\n",
        "    #rmse = mean_squared_error(y_val_daily, y_val_pred_daily, squared=False)\n",
        "\n",
        "    #return rmse\n",
        "\n",
        "#study = optuna.create_study(direction='minimize')\n",
        "#study.optimize(objective, n_trials=30)"
      ]
    },
    {
      "cell_type": "code",
      "execution_count": null,
      "metadata": {
        "id": "vIE8SOQKoi66"
      },
      "outputs": [],
      "source": [
        "print('Best hyperparameters:', study.best_params)\n",
        "print('Best RMSE:', study.best_value)"
      ]
    },
    {
      "cell_type": "code",
      "execution_count": 153,
      "metadata": {
        "id": "Esq24ZC-oi68"
      },
      "outputs": [],
      "source": [
        "y_train_2_final = train_2_final[\"total_amount\"]\n",
        "X_train_2_final = train_2_final.drop(\"total_amount\", axis = 1)"
      ]
    },
    {
      "cell_type": "code",
      "execution_count": null,
      "metadata": {
        "id": "36c_rmMAoi68"
      },
      "outputs": [],
      "source": [
        "# Best model\n",
        "\n",
        "model = CatBoostRegressor(n_estimators = 2620, learning_rate = 0.0487,\n",
        " depth = 5, subsample = 0.21, colsample_bylevel = 0.2, min_data_in_leaf = 21, early_stopping_rounds = 69, cat_features = catfeat, random_state = 123, allow_writing_files = True)\n",
        "\n",
        "model.fit(x_train_daily, y_train_daily, eval_set=(x_val_daily, y_val_daily), verbose = 500, plot = True)"
      ]
    },
    {
      "cell_type": "markdown",
      "metadata": {
        "id": "8LoTtLlOoi69"
      },
      "source": [
        "### Feature importances"
      ]
    },
    {
      "cell_type": "code",
      "execution_count": null,
      "metadata": {
        "id": "dOIGICEyoi69"
      },
      "outputs": [],
      "source": [
        "model.get_feature_importance(prettified=True).plot(x = \"Feature Id\", y = \"Importances\", kind = \"bar\")"
      ]
    },
    {
      "cell_type": "markdown",
      "metadata": {
        "id": "GgJmAhqKoi69"
      },
      "source": [
        "### Evaluation metrics train and validation set"
      ]
    },
    {
      "cell_type": "code",
      "execution_count": null,
      "metadata": {
        "id": "geVnLFssoi6-"
      },
      "outputs": [],
      "source": [
        "y_train_pred = model.predict(x_train_daily)\n",
        "print(f\"R-squared train: {round(r2_score(y_train_daily, y_train_pred),6)}\")\n",
        "print(f\"MAPE train: {round(100*mean_absolute_percentage_error(y_train_daily, y_train_pred),2)}\\n\")\n",
        "\n",
        "y_val_pred = model.predict(x_val_daily)\n",
        "print(f\"R-squared validation: {round(r2_score(y_val_daily, y_val_pred),6)}\")\n",
        "print(f\"MAPE validation: {round(100*mean_absolute_percentage_error(y_val_daily, y_val_pred),2)}\")"
      ]
    },
    {
      "cell_type": "markdown",
      "metadata": {
        "id": "WZTlpJtAoi6-"
      },
      "source": [
        "# Test dataset"
      ]
    },
    {
      "cell_type": "code",
      "execution_count": null,
      "metadata": {
        "id": "PPZ_KJhloi7A"
      },
      "outputs": [],
      "source": [
        "x_test_daily_totalamount, y_test_pred =  pred_test(train = x_train_daily_totalamount, test = x_test_daily_totalamount, model = model, numfeat = numfeat, catfeat = catfeat)"
      ]
    },
    {
      "cell_type": "markdown",
      "metadata": {
        "id": "Q8k7U11Poi7A"
      },
      "source": [
        "### Residuals by store"
      ]
    },
    {
      "cell_type": "code",
      "execution_count": null,
      "metadata": {
        "id": "JERZYZkxoi7A"
      },
      "outputs": [],
      "source": [
        "difference_df = diff_overview(data = x_test_daily_totalamount, pred = y_test_pred, stores = all)"
      ]
    },
    {
      "cell_type": "markdown",
      "metadata": {
        "id": "WQe_0aPnoi7B"
      },
      "source": [
        "### Residual Plot Analysis"
      ]
    },
    {
      "cell_type": "code",
      "execution_count": null,
      "metadata": {
        "id": "qddwngE_oi7B"
      },
      "outputs": [],
      "source": [
        "sns.scatterplot(data = difference_df, x = \"Predicted\", y = \"Stand_resid\")\n",
        "\n",
        "plt.axhline(y=0, color='r', linestyle='--')\n",
        "plt.xlabel(\"Predicted Sales (Daily total)\")\n",
        "plt.ylabel(\"Standardized Residuals\")\n",
        "\n",
        "plt.show()"
      ]
    },
    {
      "cell_type": "markdown",
      "metadata": {
        "id": "B6kBZhTgoi7B"
      },
      "source": [
        "### Evaluation metrics train and test set"
      ]
    },
    {
      "cell_type": "code",
      "execution_count": null,
      "metadata": {
        "id": "1bb4e769oi7C"
      },
      "outputs": [],
      "source": [
        "fit_overview(ytrain = y_train_daily, ytrainpred = y_train_pred, ytest = y_test_daily, ytestpred = y_test_pred)"
      ]
    },
    {
      "cell_type": "code",
      "execution_count": null,
      "metadata": {
        "id": "-yhkYtTloi7C"
      },
      "outputs": [],
      "source": [
        "mape_stores(x_test_daily_totalamount, y_test_pred)"
      ]
    },
    {
      "cell_type": "markdown",
      "metadata": {
        "id": "_VgXSXAUoi7C"
      },
      "source": [
        "### Visualisation of predictions"
      ]
    },
    {
      "cell_type": "code",
      "execution_count": null,
      "metadata": {
        "id": "cntd3c1Zoi7D"
      },
      "outputs": [],
      "source": [
        "df_predicted = pd.concat(\n",
        "    [\n",
        "    difference_df[[\"Date\",\"Store name\",\"Observed\",\"Predicted\"]].rename(columns = {\"Date\":\"date\",\"Store name\":\"store_name\",\"Observed\":\"total_amount\"}),\n",
        "    d[(d[\"date\"] >= pd.to_datetime(\"2024-05-01\")) & (d[\"item_category\"] == \"daily total\")][[\"date\",\"store_name\",\"total_amount\"]]\n",
        "    ]\n",
        "    )"
      ]
    },
    {
      "cell_type": "code",
      "execution_count": null,
      "metadata": {
        "id": "7q68bfB-oi7D"
      },
      "outputs": [],
      "source": [
        "ts_predicted(df_predicted)"
      ]
    }
  ],
  "metadata": {
    "colab": {
      "machine_shape": "hm",
      "provenance": []
    },
    "kernelspec": {
      "display_name": "Python 3",
      "name": "python3"
    },
    "language_info": {
      "codemirror_mode": {
        "name": "ipython",
        "version": 3
      },
      "file_extension": ".py",
      "mimetype": "text/x-python",
      "name": "python",
      "nbconvert_exporter": "python",
      "pygments_lexer": "ipython3",
      "version": "3.11.3"
    }
  },
  "nbformat": 4,
  "nbformat_minor": 0
}
