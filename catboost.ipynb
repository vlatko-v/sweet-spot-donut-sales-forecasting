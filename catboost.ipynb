{
  "cells": [
    {
      "cell_type": "markdown",
      "metadata": {},
      "source": [
        "# Catboost Modelling\n",
        "\n",
        "In this notebook, a final sales forecasting model based on the CatBoost algorithm is created. More information can be found here: https://catboost.ai/\n",
        "\n",
        "Just as the Random Forest model, the final model is also a tree-based model. These types of algorithms lend themselves well to predicting target features that are not normally distributed, as is the case with sales here. Moreover, CatBoost is specifically tailored to datasets with many categorical variables. With the expception of weather and lag variables, this dataset mainly contains categorical features, including dummy variables.\n",
        "\n",
        "Given the flexibility of CatBoost, no additional preprocessing is necessary. It can handle object (categorical) variables, missing values and responds well to non-normally distributed target variables."
      ]
    },
    {
      "cell_type": "code",
      "execution_count": 1,
      "metadata": {},
      "outputs": [
        {
          "name": "stderr",
          "output_type": "stream",
          "text": [
            "s:\\Repos\\sweet-spot-donut-sales-forecasting\\.venv\\Lib\\site-packages\\tqdm\\auto.py:21: TqdmWarning: IProgress not found. Please update jupyter and ipywidgets. See https://ipywidgets.readthedocs.io/en/stable/user_install.html\n",
            "  from .autonotebook import tqdm as notebook_tqdm\n"
          ]
        }
      ],
      "source": [
        "import pandas as pd\n",
        "import numpy as np\n",
        "import matplotlib.pyplot as plt\n",
        "import matplotlib.dates as md\n",
        "from matplotlib.patches import Patch\n",
        "import seaborn as sns\n",
        "import datetime as dt\n",
        "\n",
        "from sklearn.impute import SimpleImputer, KNNImputer \n",
        "from sklearn.preprocessing import OneHotEncoder, RobustScaler, FunctionTransformer, PolynomialFeatures, StandardScaler\n",
        "from sklearn.compose import ColumnTransformer\n",
        "from sklearn.pipeline import Pipeline\n",
        "from sklearn.model_selection import cross_validate, RandomizedSearchCV\n",
        "from sklearn.linear_model import LinearRegression, Ridge, Lasso, ElasticNet\n",
        "from sklearn.metrics import mean_absolute_percentage_error, r2_score, mean_squared_error\n",
        "\n",
        "from sklearn.model_selection import TimeSeriesSplit, StratifiedKFold\n",
        "from statsmodels.tsa.stattools import adfuller\n",
        "\n",
        "from catboost import CatBoostRegressor\n",
        "import catboost as cb\n",
        "import optuna "
      ]
    },
    {
      "cell_type": "code",
      "execution_count": 2,
      "metadata": {},
      "outputs": [],
      "source": [
        "%run functions_model.py\n",
        "%run functions_vis.py"
      ]
    },
    {
      "cell_type": "code",
      "execution_count": 3,
      "metadata": {},
      "outputs": [],
      "source": [
        "pd.set_option(\"display.max_columns\", None)"
      ]
    },
    {
      "cell_type": "markdown",
      "metadata": {},
      "source": [
        "### Loading the dataset"
      ]
    },
    {
      "cell_type": "code",
      "execution_count": 4,
      "metadata": {},
      "outputs": [],
      "source": [
        "d = pd.read_csv(\"data/train_df.csv\")\n",
        "d_test = pd.read_csv(\"data/test_df.csv\")"
      ]
    },
    {
      "cell_type": "code",
      "execution_count": 5,
      "metadata": {},
      "outputs": [],
      "source": [
        "d['date'] = pd.to_datetime(d['date'])\n",
        "d_test['date'] = pd.to_datetime(d_test['date'])"
      ]
    },
    {
      "cell_type": "markdown",
      "metadata": {},
      "source": [
        "### Creating validation dataset"
      ]
    },
    {
      "cell_type": "markdown",
      "metadata": {},
      "source": [
        "A validation set, containing the last 7 days of the entire training dataset, is created. The validation set is used for evaluation purposes and early stopping in the CatBoost model."
      ]
    },
    {
      "cell_type": "code",
      "execution_count": 6,
      "metadata": {},
      "outputs": [],
      "source": [
        "train, val = create_val_set(d)"
      ]
    },
    {
      "cell_type": "code",
      "execution_count": null,
      "metadata": {},
      "outputs": [],
      "source": []
    },
    {
      "cell_type": "markdown",
      "metadata": {},
      "source": [
        "## Modelling\n",
        "\n",
        "#### Selecting features"
      ]
    },
    {
      "cell_type": "markdown",
      "metadata": {},
      "source": [
        "In order for the CatBoost algorithm to recognize categorical features, all variables are saved either as categorical or numerical. The date variable will serve as the index, while the lag features will only be used in the training and validation, but not the test dataset."
      ]
    },
    {
      "cell_type": "code",
      "execution_count": 7,
      "metadata": {},
      "outputs": [],
      "source": [
        "date = [\"date\"]\n",
        "\n",
        "catfeat = [\"store_name\",\"item_category\",\"hol_pub\",\"hol_school\",\"weekday\",\"day\",\"month\",\"year\",\"week_year\",\"nye\",\"valentines_day\",\"halloween\", \"street_market\",\"public_space\",\"box_deal\"]\n",
        "\n",
        "numfeat = [\"days_back\",\"temperature_2m_mean\",\"sunshine_duration\",\"precipitation_hours\"]\n",
        "\n",
        "lag = [\"lag1\",\"lag2\", \"lag7\"]"
      ]
    },
    {
      "cell_type": "code",
      "execution_count": null,
      "metadata": {},
      "outputs": [],
      "source": []
    },
    {
      "cell_type": "markdown",
      "metadata": {},
      "source": [
        "Two types of sets were created:\n",
        "\n",
        "1. The first type of train, validation and test datasets contains all features at the day, store and product level. \n",
        "2. The second type contains all features only at the day and store level. The different product categories were removed and **only total daily sales** per store are kept."
      ]
    },
    {
      "cell_type": "code",
      "execution_count": 8,
      "metadata": {},
      "outputs": [],
      "source": [
        "x_train = train[date + catfeat + numfeat + lag]\n",
        "x_train = x_train.set_index(\"date\")\n",
        "x_train_daily = x_train[(x_train[\"item_category\"] == \"daily total\")].drop(\"item_category\", axis = 1)\n",
        "y_train = train['total_amount']\n",
        "y_train_daily = train[(train[\"item_category\"] == \"daily total\")]['total_amount']\n",
        "\n",
        "x_val = val[date + catfeat + numfeat + lag]\n",
        "x_val = x_val.set_index(\"date\")\n",
        "x_val_daily = x_val[(x_val[\"item_category\"] == \"daily total\")].drop(\"item_category\", axis = 1)\n",
        "y_val = val['total_amount']\n",
        "y_val_daily = val[(val[\"item_category\"] == \"daily total\") ]['total_amount']\n",
        "\n",
        "x_test = d_test[date + catfeat + numfeat]\n",
        "x_test = x_test.set_index(\"date\")\n",
        "x_test_daily = x_test[(x_test[\"item_category\"] == \"daily total\")].drop(\"item_category\", axis = 1)\n",
        "y_test = d_test['total_amount']\n",
        "y_test_daily = d_test[(d_test[\"item_category\"] == \"daily total\")]['total_amount']"
      ]
    },
    {
      "cell_type": "code",
      "execution_count": 25,
      "metadata": {},
      "outputs": [],
      "source": [
        "#catfeat.remove(\"item_category\")"
      ]
    },
    {
      "cell_type": "markdown",
      "metadata": {},
      "source": [
        "#### Converting holiday features to integer"
      ]
    },
    {
      "cell_type": "code",
      "execution_count": 9,
      "metadata": {},
      "outputs": [],
      "source": [
        "x_train[\"hol_pub\"] = x_train[\"hol_pub\"].apply(np.int64)\n",
        "x_train[\"hol_school\"] = x_train[\"hol_school\"].apply(np.int64)\n",
        "x_train_daily[\"hol_pub\"] = x_train_daily[\"hol_pub\"].apply(np.int64)\n",
        "x_train_daily[\"hol_school\"] = x_train_daily[\"hol_school\"].apply(np.int64)\n",
        "\n",
        "x_val[\"hol_pub\"] = x_val[\"hol_pub\"].apply(np.int64)\n",
        "x_val[\"hol_school\"] = x_val[\"hol_school\"].apply(np.int64)\n",
        "x_val_daily[\"hol_pub\"] = x_val_daily[\"hol_pub\"].apply(np.int64)\n",
        "x_val_daily[\"hol_school\"] = x_val_daily[\"hol_school\"].apply(np.int64)\n",
        "\n",
        "x_test[\"hol_pub\"] = x_test[\"hol_pub\"].apply(np.int64)\n",
        "x_test[\"hol_school\"] = x_test[\"hol_school\"].apply(np.int64)\n",
        "x_test_daily[\"hol_pub\"] = x_test_daily[\"hol_pub\"].apply(np.int64)\n",
        "x_test_daily[\"hol_school\"] = x_test_daily[\"hol_school\"].apply(np.int64)"
      ]
    },
    {
      "cell_type": "markdown",
      "metadata": {},
      "source": [
        "The train and target variables are concatenated to obtain a train and test set at the daily sales level, without the individual product categories."
      ]
    },
    {
      "cell_type": "code",
      "execution_count": 10,
      "metadata": {},
      "outputs": [],
      "source": [
        "train_daily = pd.concat([x_train_daily.reset_index(), y_train_daily.reset_index(drop= True)], axis = 1)\n",
        "\n",
        "test_daily = pd.concat([x_test_daily.reset_index(), y_test_daily.reset_index(drop= True)], axis = 1)"
      ]
    },
    {
      "cell_type": "code",
      "execution_count": null,
      "metadata": {},
      "outputs": [],
      "source": []
    },
    {
      "cell_type": "markdown",
      "metadata": {},
      "source": [
        "### Custom CV split"
      ]
    },
    {
      "cell_type": "code",
      "execution_count": null,
      "metadata": {},
      "outputs": [],
      "source": [
        "def create_train_validation_folds(df):\n",
        "    last_val_date = df.date.max()\n",
        "    cv = []\n",
        "    for n in range(5):\n",
        "        first_val_date = last_val_date - dt.timedelta(days=6)\n",
        "        train_index = df[df.date<first_val_date].index\n",
        "        val_index = df[(df.date>=first_val_date) & (df.date<=last_val_date)].index\n",
        "        cv.append((train_index,val_index))\n",
        "        last_val_date = first_val_date - dt.timedelta(days=1)\n",
        "    cv = cv[::-1]\n",
        "    return cv"
      ]
    },
    {
      "cell_type": "code",
      "execution_count": null,
      "metadata": {},
      "outputs": [],
      "source": [
        "create_train_validation_folds(train_daily)"
      ]
    },
    {
      "cell_type": "code",
      "execution_count": null,
      "metadata": {},
      "outputs": [],
      "source": [
        "def create_train_validation_dataset(df):\n",
        "    last_val_date = df.date.max()\n",
        "    cv = []\n",
        "    for n in range(5):\n",
        "        first_val_date = last_val_date - dt.timedelta(days=6)\n",
        "        train_fold = df[df.date<first_val_date]\n",
        "        val_fold = df[(df.date>=first_val_date) & (df.date<=last_val_date)]\n",
        "        cv.append((train_fold,val_fold))\n",
        "        last_val_date = first_val_date - dt.timedelta(days=1)\n",
        "    cv = cv[::-1]\n",
        "    return cv"
      ]
    },
    {
      "cell_type": "code",
      "execution_count": null,
      "metadata": {},
      "outputs": [],
      "source": [
        "for i in range(5):\n",
        "  globals()[f\"train_{i}\"], globals()[f\"val_{i}\"] = create_train_validation_dataset(train_daily)[i]"
      ]
    },
    {
      "cell_type": "code",
      "execution_count": null,
      "metadata": {},
      "outputs": [],
      "source": [
        "val_4.head()"
      ]
    },
    {
      "cell_type": "code",
      "execution_count": null,
      "metadata": {},
      "outputs": [],
      "source": [
        "train_val_datasets = [\n",
        "    (\"0\", train_0, val_0),\n",
        "    (\"1\", train_1, val_1),\n",
        "    (\"2\", train_2, val_2),\n",
        "    (\"3\", train_3, val_3),\n",
        "    (\"4\", train_4, val_4)\n",
        "]"
      ]
    },
    {
      "cell_type": "code",
      "execution_count": null,
      "metadata": {},
      "outputs": [],
      "source": [
        "for set, train, val:"
      ]
    },
    {
      "cell_type": "code",
      "execution_count": null,
      "metadata": {},
      "outputs": [],
      "source": []
    },
    {
      "cell_type": "markdown",
      "metadata": {},
      "source": [
        "### Hyperparameter Tuning\n"
      ]
    },
    {
      "cell_type": "markdown",
      "metadata": {},
      "source": [
        "Training tree-based algorithm often leads to overfitting. In order to create a generalizable model, it is necessary to \"prune\" the trees by putting constraints on how well they can learn from the data. The following hyperparameters are tuned in the step below:\n",
        "\n",
        "* Number of trees\n",
        "* Learning rate\n",
        "* L2 leaf regularization\n",
        "* Tree depth (number of levels)\n",
        "* Proportion of the sample used for each tree\n",
        "* Proportion of the features used for each tree\n",
        "* A minimum amount of datapoints in a leaf before a split can occur\n",
        "* Minimum child weight\n"
      ]
    },
    {
      "cell_type": "code",
      "execution_count": 11,
      "metadata": {},
      "outputs": [],
      "source": [
        "from sktime.forecasting.base import ForecastingHorizon\n",
        "from sktime.forecasting.compose import make_reduction\n",
        "from sktime.forecasting.model_evaluation import evaluate\n",
        "from sktime.forecasting.model_selection import ForecastingRandomizedSearchCV\n",
        "from sktime.split import ExpandingWindowSplitter\n",
        "from sktime.utils import plot_windows\n",
        "from sktime.utils._testing.hierarchical import _make_hierarchical\n",
        "from sktime.transformations.series.summarize import WindowSummarizer"
      ]
    },
    {
      "cell_type": "code",
      "execution_count": null,
      "metadata": {},
      "outputs": [],
      "source": []
    },
    {
      "cell_type": "code",
      "execution_count": 12,
      "metadata": {},
      "outputs": [
        {
          "data": {
            "text/plain": [
              "array([1, 2, 3, 4, 5, 6, 7])"
            ]
          },
          "execution_count": 12,
          "metadata": {},
          "output_type": "execute_result"
        }
      ],
      "source": [
        "#fh = ForecastingHorizon(pd.period_range(start = '2024-05-11 00:00:00', periods = 7), is_relative=False)\n",
        "fh = np.arange(7) + 1\n",
        "fh"
      ]
    },
    {
      "cell_type": "code",
      "execution_count": 13,
      "metadata": {},
      "outputs": [],
      "source": [
        "train_2 = train[date + catfeat + numfeat]\n",
        "train_2 = train_2[train_2[\"item_category\"] != \"daily total\"]\n",
        "train_2 = pd.concat([train_2, train[train[\"item_category\"] != \"daily total\"][\"total_amount\"]], axis = 1)"
      ]
    },
    {
      "cell_type": "code",
      "execution_count": 14,
      "metadata": {},
      "outputs": [],
      "source": [
        "agg_columns = train_2.columns.difference(['date', 'store_name', 'item_category'] + [\"total_amount\"])\n",
        "agg_dict = {col: \"first\" for col in agg_columns}\n",
        "agg_dict[\"total_amount\"] = \"sum\"\n",
        "\n",
        "train_2 = train_2.groupby(['date', 'store_name', 'item_category']).agg(agg_dict).reset_index().sort_values(by = \"date\", ascending = False).reset_index(drop = True)\n",
        "train_2 = train_2.set_index([\"store_name\",\"item_category\",\"date\"]).sort_index()\n",
        "\n",
        "\n",
        "kwargs = {\"lag_feature\": {\n",
        "    \"lag\":[1,2,3],\n",
        "    \"mean\": [[1,7], [1, 15], [1,30]],\n",
        "    \"std\": [[1,4]]\n",
        "    }, \n",
        "    \"target_cols\":[\"total_amount\"]}\n",
        "transformer = WindowSummarizer(**kwargs)\n",
        "train_2_wind = transformer.fit_transform(train_2)\n",
        "train_2_wind = pd.concat([train_2[\"total_amount\"], train_2_wind], axis = 1)\n",
        "train_2_wind = train_2_wind.dropna()\n",
        "\n",
        "x_train_2_wind = train_2_wind.iloc[:,8:]\n",
        "y_train_2_wind = train_2_wind.iloc[:,:8]"
      ]
    },
    {
      "cell_type": "code",
      "execution_count": null,
      "metadata": {},
      "outputs": [],
      "source": []
    },
    {
      "cell_type": "markdown",
      "metadata": {},
      "source": [
        "**Cross-validation**"
      ]
    },
    {
      "cell_type": "code",
      "execution_count": 154,
      "metadata": {},
      "outputs": [],
      "source": [
        "\n",
        "def get_initial_window_size(store_group, validation_length, num_folds):\n",
        "    total_periods = len(store_group.index.get_level_values('date').unique())\n",
        "    initial_window = total_periods - validation_length * num_folds\n",
        "    return initial_window\n",
        "\n",
        "cv_list = []\n",
        "\n",
        "for (store, item_category), group in train_2_wind.groupby(level=['store_name', 'item_category']):\n",
        "    \n",
        "    # Calculate the initial window size for the current store\n",
        "    initial_window = get_initial_window_size(group, validation_length = 7, num_folds = 5)\n",
        "    \n",
        "    # Initialize the ExpandingWindowSplitter for the current group\n",
        "    splitter = ExpandingWindowSplitter(\n",
        "        initial_window=initial_window,\n",
        "        step_length=7,\n",
        "        fh=list(range(1, 7 + 1))\n",
        "    )\n",
        "\n",
        "    cv_list.append(({f\"{store}\"+\"_\"+f\"{item_category}\":splitter},\n",
        "                        {f\"{store}\"+\"_\"+f\"{item_category}\":group}))\n"
      ]
    },
    {
      "cell_type": "code",
      "execution_count": 30,
      "metadata": {},
      "outputs": [],
      "source": [
        "def plot_wind(y, train_windows, test_windows, title=\"\"):\n",
        "    \"\"\"Visualize training and test windows\"\"\"\n",
        "\n",
        "    def get_y(length, split):\n",
        "        # Create a constant vector based on the split for y-axis.\"\"\"\n",
        "        return np.ones(length) * split\n",
        "\n",
        "    n_splits = len(train_windows)\n",
        "    n_timepoints = len(y)\n",
        "    len_test = len(test_windows[0])\n",
        "\n",
        "    train_color, test_color = sns.color_palette(\"colorblind\")[:2]\n",
        "\n",
        "    fig, ax = plt.subplots(figsize=plt.figaspect(0.3))\n",
        "\n",
        "    for i in range(n_splits):\n",
        "        train = train_windows[i]\n",
        "        test = test_windows[i]\n",
        "\n",
        "        ax.plot(\n",
        "            np.arange(n_timepoints), get_y(n_timepoints, i), marker=\"o\", c=\"lightgray\"\n",
        "        )\n",
        "        ax.plot(\n",
        "            train,\n",
        "            get_y(len(train), i),\n",
        "            marker=\"o\",\n",
        "            c=train_color,\n",
        "            label=\"Window\",\n",
        "        )\n",
        "        ax.plot(\n",
        "            test,\n",
        "            get_y(len_test, i),\n",
        "            marker=\"o\",\n",
        "            c=test_color,\n",
        "            label=\"Forecasting horizon\",\n",
        "        )\n",
        "    ax.invert_yaxis()\n",
        "    ax.yaxis.set_major_locator(MaxNLocator(integer=True))\n",
        "    ax.set(\n",
        "        title=title,\n",
        "        ylabel=\"Window number\",\n",
        "        xlabel=\"Time\",\n",
        "        #xticks = y.index.get_level_values(\"date\")\n",
        "        xticklabels=y.index.get_level_values(\"date\")\n",
        "    )\n",
        "    # remove duplicate labels/handles\n",
        "    handles, labels = [(leg[:2]) for leg in ax.get_legend_handles_labels()]\n",
        "    ax.legend(handles, labels, bbox_to_anchor = (1, 0.25))"
      ]
    },
    {
      "cell_type": "code",
      "execution_count": 429,
      "metadata": {},
      "outputs": [],
      "source": [
        "from matplotlib.ticker import MaxNLocator"
      ]
    },
    {
      "cell_type": "code",
      "execution_count": null,
      "metadata": {},
      "outputs": [],
      "source": []
    },
    {
      "cell_type": "code",
      "execution_count": 155,
      "metadata": {},
      "outputs": [
        {
          "data": {
            "image/png": "[encoded data removed]",
            "text/plain": [
              "<Figure size 1600x480 with 1 Axes>"
            ]
          },
          "metadata": {},
          "output_type": "display_data"
        },
        {
          "data": {
            "image/png": "[encoded data removed]",
            "text/plain": [
              "<Figure size 1600x480 with 1 Axes>"
            ]
          },
          "metadata": {},
          "output_type": "display_data"
        },
        {
          "data": {
            "image/png": "[encoded data removed]",
            "text/plain": [
              "<Figure size 1600x480 with 1 Axes>"
            ]
          },
          "metadata": {},
          "output_type": "display_data"
        }
      ],
      "source": [
        "for i in range(3):\n",
        "    plot_windows(list(cv_list[i][0].values())[0], list(cv_list[0][1].values())[0], \n",
        "                 title = list(cv_list[i][0].keys())[0])"
      ]
    },
    {
      "cell_type": "code",
      "execution_count": 156,
      "metadata": {},
      "outputs": [],
      "source": [
        "model = cb.CatBoostRegressor(cat_features=catfeat)\n",
        "forecaster = make_reduction(estimator = model, strategy=\"recursive\", window_length = 7)"
      ]
    },
    {
      "cell_type": "code",
      "execution_count": 193,
      "metadata": {},
      "outputs": [],
      "source": [
        "params = {\n",
        "    'n_estimators': np.arange(500,5001,1, dtype=\"int32\"),\n",
        "    \"learning_rate\": np.logspace(-4, -1, dtype=\"float16\"),\n",
        "    \"l2_leaf_reg\": np.linspace(2, 30, dtype=\"float16\"),\n",
        "    \"depth\":np.arange(3,32,1, dtype=\"int32\"),\n",
        "    \"subsample\": np.linspace(0.05, 1.0, dtype=\"float16\"),\n",
        "    \"colsample_bylevel\": np.linspace(0.05, 1.0, dtype=\"float16\"),\n",
        "    \"min_data_in_leaf\": np.arange(10, 101, 1, dtype=\"int32\"),\n",
        "    \"max_leaves\": np.arange(10,41,1, dtype=\"int32\")}"
      ]
    },
    {
      "cell_type": "code",
      "execution_count": 194,
      "metadata": {},
      "outputs": [],
      "source": [
        "rscv_list = []\n",
        "\n",
        "for i in range(len(cv_list)):\n",
        "    rscv = ForecastingRandomizedSearchCV(forecaster = forecaster, \n",
        "                                         cv = list(cv_list[i][0].values())[0], \n",
        "                                         param_distributions=params, strategy=\"refit\", n_iter=10)\n",
        "    \n",
        "\n",
        "    rscv_list.append({f\"rscv_{list(cv_list[i][1].keys())[0]}\":rscv})"
      ]
    },
    {
      "cell_type": "code",
      "execution_count": 196,
      "metadata": {},
      "outputs": [
        {
          "ename": "OverflowError",
          "evalue": "Python int too large to convert to C long",
          "output_type": "error",
          "traceback": [
            "\u001b[1;31m---------------------------------------------------------------------------\u001b[0m",
            "\u001b[1;31mOverflowError\u001b[0m                             Traceback (most recent call last)",
            "Cell \u001b[1;32mIn[196], line 4\u001b[0m\n\u001b[0;32m      1\u001b[0m fit_cv_list \u001b[38;5;241m=\u001b[39m []\n\u001b[0;32m      3\u001b[0m \u001b[38;5;28;01mfor\u001b[39;00m i \u001b[38;5;129;01min\u001b[39;00m \u001b[38;5;28mrange\u001b[39m(\u001b[38;5;28mlen\u001b[39m(rscv_list)\u001b[38;5;241m-\u001b[39m\u001b[38;5;241m35\u001b[39m):\n\u001b[1;32m----> 4\u001b[0m     fitted_cv \u001b[38;5;241m=\u001b[39m \u001b[38;5;28;43mlist\u001b[39;49m\u001b[43m(\u001b[49m\u001b[43mrscv_list\u001b[49m\u001b[43m[\u001b[49m\u001b[43mi\u001b[49m\u001b[43m]\u001b[49m\u001b[38;5;241;43m.\u001b[39;49m\u001b[43mvalues\u001b[49m\u001b[43m(\u001b[49m\u001b[43m)\u001b[49m\u001b[43m)\u001b[49m\u001b[43m[\u001b[49m\u001b[38;5;241;43m0\u001b[39;49m\u001b[43m]\u001b[49m\u001b[38;5;241;43m.\u001b[39;49m\u001b[43mfit\u001b[49m\u001b[43m(\u001b[49m\u001b[43my\u001b[49m\u001b[43m \u001b[49m\u001b[38;5;241;43m=\u001b[39;49m\u001b[43m \u001b[49m\u001b[43my_train_2_wind\u001b[49m\u001b[43m,\u001b[49m\u001b[43m \u001b[49m\u001b[43mX\u001b[49m\u001b[43m \u001b[49m\u001b[38;5;241;43m=\u001b[39;49m\u001b[43m \u001b[49m\u001b[43mx_train_2_wind\u001b[49m\u001b[43m)\u001b[49m\n\u001b[0;32m      6\u001b[0m     fit_cv_list\u001b[38;5;241m.\u001b[39mappend({\u001b[38;5;124mf\u001b[39m\u001b[38;5;124m\"\u001b[39m\u001b[38;5;124mrscv_\u001b[39m\u001b[38;5;132;01m{\u001b[39;00m\u001b[38;5;28mlist\u001b[39m(rscv_list[i]\u001b[38;5;241m.\u001b[39mkeys())[\u001b[38;5;241m0\u001b[39m]\u001b[38;5;132;01m}\u001b[39;00m\u001b[38;5;124m\"\u001b[39m:fitted_cv})\n",
            "File \u001b[1;32ms:\\Repos\\sweet-spot-donut-sales-forecasting\\.venv\\Lib\\site-packages\\sktime\\forecasting\\base\\_base.py:391\u001b[0m, in \u001b[0;36mBaseForecaster.fit\u001b[1;34m(self, y, X, fh)\u001b[0m\n\u001b[0;32m    389\u001b[0m \u001b[38;5;66;03m# we call the ordinary _fit if no looping/vectorization needed\u001b[39;00m\n\u001b[0;32m    390\u001b[0m \u001b[38;5;28;01mif\u001b[39;00m \u001b[38;5;129;01mnot\u001b[39;00m vectorization_needed:\n\u001b[1;32m--> 391\u001b[0m     \u001b[38;5;28;43mself\u001b[39;49m\u001b[38;5;241;43m.\u001b[39;49m\u001b[43m_fit\u001b[49m\u001b[43m(\u001b[49m\u001b[43my\u001b[49m\u001b[38;5;241;43m=\u001b[39;49m\u001b[43my_inner\u001b[49m\u001b[43m,\u001b[49m\u001b[43m \u001b[49m\u001b[43mX\u001b[49m\u001b[38;5;241;43m=\u001b[39;49m\u001b[43mX_inner\u001b[49m\u001b[43m,\u001b[49m\u001b[43m \u001b[49m\u001b[43mfh\u001b[49m\u001b[38;5;241;43m=\u001b[39;49m\u001b[43mfh\u001b[49m\u001b[43m)\u001b[49m\n\u001b[0;32m    392\u001b[0m \u001b[38;5;28;01melse\u001b[39;00m:\n\u001b[0;32m    393\u001b[0m     \u001b[38;5;66;03m# otherwise we call the vectorized version of fit\u001b[39;00m\n\u001b[0;32m    394\u001b[0m     \u001b[38;5;28mself\u001b[39m\u001b[38;5;241m.\u001b[39m_vectorize(\u001b[38;5;124m\"\u001b[39m\u001b[38;5;124mfit\u001b[39m\u001b[38;5;124m\"\u001b[39m, y\u001b[38;5;241m=\u001b[39my_inner, X\u001b[38;5;241m=\u001b[39mX_inner, fh\u001b[38;5;241m=\u001b[39mfh)\n",
            "File \u001b[1;32ms:\\Repos\\sweet-spot-donut-sales-forecasting\\.venv\\Lib\\site-packages\\sktime\\forecasting\\model_selection\\_tune.py:233\u001b[0m, in \u001b[0;36mBaseGridSearch._fit\u001b[1;34m(self, y, X, fh)\u001b[0m\n\u001b[0;32m    230\u001b[0m     \u001b[38;5;28;01mreturn\u001b[39;00m out\n\u001b[0;32m    232\u001b[0m \u001b[38;5;66;03m# Run grid-search cross-validation.\u001b[39;00m\n\u001b[1;32m--> 233\u001b[0m results \u001b[38;5;241m=\u001b[39m \u001b[38;5;28;43mself\u001b[39;49m\u001b[38;5;241;43m.\u001b[39;49m\u001b[43m_run_search\u001b[49m\u001b[43m(\u001b[49m\u001b[43mevaluate_candidates\u001b[49m\u001b[43m)\u001b[49m\n\u001b[0;32m    235\u001b[0m results \u001b[38;5;241m=\u001b[39m pd\u001b[38;5;241m.\u001b[39mDataFrame(results)\n\u001b[0;32m    237\u001b[0m \u001b[38;5;66;03m# Rank results, according to whether greater is better for the given scoring.\u001b[39;00m\n",
            "File \u001b[1;32ms:\\Repos\\sweet-spot-donut-sales-forecasting\\.venv\\Lib\\site-packages\\sktime\\forecasting\\model_selection\\_tune.py:907\u001b[0m, in \u001b[0;36mForecastingRandomizedSearchCV._run_search\u001b[1;34m(self, evaluate_candidates)\u001b[0m\n\u001b[0;32m    905\u001b[0m \u001b[38;5;28;01mdef\u001b[39;00m \u001b[38;5;21m_run_search\u001b[39m(\u001b[38;5;28mself\u001b[39m, evaluate_candidates):\n\u001b[0;32m    906\u001b[0m \u001b[38;5;250m    \u001b[39m\u001b[38;5;124;03m\"\"\"Search n_iter candidates from param_distributions.\"\"\"\u001b[39;00m\n\u001b[1;32m--> 907\u001b[0m     \u001b[38;5;28;01mreturn\u001b[39;00m \u001b[43mevaluate_candidates\u001b[49m\u001b[43m(\u001b[49m\n\u001b[0;32m    908\u001b[0m \u001b[43m        \u001b[49m\u001b[43mParameterSampler\u001b[49m\u001b[43m(\u001b[49m\n\u001b[0;32m    909\u001b[0m \u001b[43m            \u001b[49m\u001b[38;5;28;43mself\u001b[39;49m\u001b[38;5;241;43m.\u001b[39;49m\u001b[43mparam_distributions\u001b[49m\u001b[43m,\u001b[49m\u001b[43m \u001b[49m\u001b[38;5;28;43mself\u001b[39;49m\u001b[38;5;241;43m.\u001b[39;49m\u001b[43mn_iter\u001b[49m\u001b[43m,\u001b[49m\u001b[43m \u001b[49m\u001b[43mrandom_state\u001b[49m\u001b[38;5;241;43m=\u001b[39;49m\u001b[38;5;28;43mself\u001b[39;49m\u001b[38;5;241;43m.\u001b[39;49m\u001b[43mrandom_state\u001b[49m\n\u001b[0;32m    910\u001b[0m \u001b[43m        \u001b[49m\u001b[43m)\u001b[49m\n\u001b[0;32m    911\u001b[0m \u001b[43m    \u001b[49m\u001b[43m)\u001b[49m\n",
            "File \u001b[1;32ms:\\Repos\\sweet-spot-donut-sales-forecasting\\.venv\\Lib\\site-packages\\sktime\\forecasting\\model_selection\\_tune.py:194\u001b[0m, in \u001b[0;36mBaseGridSearch._fit.<locals>.evaluate_candidates\u001b[1;34m(candidate_params)\u001b[0m\n\u001b[0;32m    193\u001b[0m \u001b[38;5;28;01mdef\u001b[39;00m \u001b[38;5;21mevaluate_candidates\u001b[39m(candidate_params):\n\u001b[1;32m--> 194\u001b[0m     candidate_params \u001b[38;5;241m=\u001b[39m \u001b[38;5;28mlist\u001b[39m(candidate_params)\n\u001b[0;32m    196\u001b[0m     \u001b[38;5;28;01mif\u001b[39;00m \u001b[38;5;28mself\u001b[39m\u001b[38;5;241m.\u001b[39mverbose \u001b[38;5;241m>\u001b[39m \u001b[38;5;241m0\u001b[39m:\n\u001b[0;32m    197\u001b[0m         n_candidates \u001b[38;5;241m=\u001b[39m \u001b[38;5;28mlen\u001b[39m(candidate_params)\n",
            "File \u001b[1;32ms:\\Repos\\sweet-spot-donut-sales-forecasting\\.venv\\Lib\\site-packages\\sklearn\\model_selection\\_search.py:312\u001b[0m, in \u001b[0;36mParameterSampler.__iter__\u001b[1;34m(self)\u001b[0m\n\u001b[0;32m    305\u001b[0m         warnings\u001b[38;5;241m.\u001b[39mwarn(\n\u001b[0;32m    306\u001b[0m             \u001b[38;5;124m\"\u001b[39m\u001b[38;5;124mThe total space of parameters \u001b[39m\u001b[38;5;132;01m%d\u001b[39;00m\u001b[38;5;124m is smaller \u001b[39m\u001b[38;5;124m\"\u001b[39m\n\u001b[0;32m    307\u001b[0m             \u001b[38;5;124m\"\u001b[39m\u001b[38;5;124mthan n_iter=\u001b[39m\u001b[38;5;132;01m%d\u001b[39;00m\u001b[38;5;124m. Running \u001b[39m\u001b[38;5;132;01m%d\u001b[39;00m\u001b[38;5;124m iterations. For exhaustive \u001b[39m\u001b[38;5;124m\"\u001b[39m\n\u001b[0;32m    308\u001b[0m             \u001b[38;5;124m\"\u001b[39m\u001b[38;5;124msearches, use GridSearchCV.\u001b[39m\u001b[38;5;124m\"\u001b[39m \u001b[38;5;241m%\u001b[39m (grid_size, \u001b[38;5;28mself\u001b[39m\u001b[38;5;241m.\u001b[39mn_iter, grid_size),\n\u001b[0;32m    309\u001b[0m             \u001b[38;5;167;01mUserWarning\u001b[39;00m,\n\u001b[0;32m    310\u001b[0m         )\n\u001b[0;32m    311\u001b[0m         n_iter \u001b[38;5;241m=\u001b[39m grid_size\n\u001b[1;32m--> 312\u001b[0m     \u001b[38;5;28;01mfor\u001b[39;00m i \u001b[38;5;129;01min\u001b[39;00m \u001b[43msample_without_replacement\u001b[49m\u001b[43m(\u001b[49m\u001b[43mgrid_size\u001b[49m\u001b[43m,\u001b[49m\u001b[43m \u001b[49m\u001b[43mn_iter\u001b[49m\u001b[43m,\u001b[49m\u001b[43m \u001b[49m\u001b[43mrandom_state\u001b[49m\u001b[38;5;241;43m=\u001b[39;49m\u001b[43mrng\u001b[49m\u001b[43m)\u001b[49m:\n\u001b[0;32m    313\u001b[0m         \u001b[38;5;28;01myield\u001b[39;00m param_grid[i]\n\u001b[0;32m    315\u001b[0m \u001b[38;5;28;01melse\u001b[39;00m:\n",
            "File \u001b[1;32msklearn\\utils\\_random.pyx:218\u001b[0m, in \u001b[0;36msklearn.utils._random.sample_without_replacement\u001b[1;34m()\u001b[0m\n",
            "\u001b[1;31mOverflowError\u001b[0m: Python int too large to convert to C long"
          ]
        }
      ],
      "source": [
        "fit_cv_list = []\n",
        "\n",
        "for i in range(len(rscv_list)-35):\n",
        "    fitted_cv = list(rscv_list[i].values())[0].fit(y = y_train_2_wind, X = x_train_2_wind)\n",
        "\n",
        "    fit_cv_list.append({f\"rscv_{list(rscv_list[i].keys())[0]}\":fitted_cv})"
      ]
    },
    {
      "cell_type": "code",
      "execution_count": null,
      "metadata": {},
      "outputs": [],
      "source": []
    },
    {
      "cell_type": "code",
      "execution_count": null,
      "metadata": {},
      "outputs": [],
      "source": []
    },
    {
      "cell_type": "code",
      "execution_count": null,
      "metadata": {},
      "outputs": [],
      "source": [
        "model = cb.CatBoostRegressor(cat_features=catfeat)"
      ]
    },
    {
      "cell_type": "code",
      "execution_count": null,
      "metadata": {},
      "outputs": [],
      "source": [
        "randomized_search_result = model.randomized_search(params,\n",
        "                                                  # n_iter=30,\n",
        "                                                   X= x_train_daily,\n",
        "                                                   y= y_train_daily,\n",
        "                                                   cv = create_train_validation_folds(train_daily),\n",
        "                                                   plot=True,\n",
        "                                                   verbose = 500,\n",
        "                                                   calc_cv_statistics=True)"
      ]
    },
    {
      "cell_type": "code",
      "execution_count": null,
      "metadata": {},
      "outputs": [],
      "source": [
        "pd.DataFrame(randomized_search_result.get(\"cv_results\"))"
      ]
    },
    {
      "cell_type": "code",
      "execution_count": null,
      "metadata": {},
      "outputs": [],
      "source": [
        "randomized_search_result.get(\"params\")"
      ]
    },
    {
      "cell_type": "code",
      "execution_count": null,
      "metadata": {},
      "outputs": [],
      "source": [
        "#def objective(trial):\n",
        "    params = {\n",
        "        'n_estimators': trial.suggest_int('n_estimators', 50, 3000),\n",
        "        \"learning_rate\": trial.suggest_float(\"learning_rate\", 1e-4, 0.1, log=True),\n",
        "        \"l2_leaf_reg\": trial.suggest_float(\"l2_leaf_reg\", 2, 30),\n",
        "        \"depth\": trial.suggest_int(\"depth\", 1, 20),\n",
        "        \"subsample\": trial.suggest_float(\"subsample\", 0.05, 1.0),\n",
        "        \"colsample_bylevel\": trial.suggest_float(\"colsample_bylevel\", 0.05, 1.0),\n",
        "        \"min_data_in_leaf\": trial.suggest_int(\"min_data_in_leaf\", 1, 100),\n",
        "        \"min_child_weight\": trial.suggest_int(1, 300)\n",
        "    }\n",
        "\n",
        "    model = CatBoostRegressor(**params, silent=True, allow_writing_files = False, cat_features = catfeat)\n",
        "\n",
        "    model_cv = optuna.integration.OptunaSearchCV(estimator = model, param_distributions = params, cv = create_train_validation_folds(train_daily), n_jobs = -1, n_trials = 30)\n",
        "    \n",
        "    #model.fit(x_train_daily, y_train_daily, eval_set = (create_train_validation_folds_cat(x_train_daily_totalamount)), cat_features = catfeat, verbose = 1000, plot = False)\n",
        "\n",
        "    # y_val_pred_daily = model_cv.predict(x_val_daily)\n",
        "    \n",
        "    #rmse = mean_squared_error(y_val_daily, y_val_pred_daily, squared=False)\n",
        "\n",
        "    #return rmse\n",
        "\n",
        "#study = optuna.create_study(direction='minimize')\n",
        "#study.optimize(objective, n_trials=30)"
      ]
    },
    {
      "cell_type": "code",
      "execution_count": null,
      "metadata": {},
      "outputs": [],
      "source": [
        "print('Best hyperparameters:', study.best_params)\n",
        "print('Best RMSE:', study.best_value)"
      ]
    },
    {
      "cell_type": "code",
      "execution_count": null,
      "metadata": {},
      "outputs": [],
      "source": []
    },
    {
      "cell_type": "code",
      "execution_count": null,
      "metadata": {},
      "outputs": [],
      "source": [
        "# Best model\n",
        "\n",
        "model = CatBoostRegressor(n_estimators = 2620, learning_rate = 0.0487,\n",
        " depth = 5, subsample = 0.21, colsample_bylevel = 0.2, min_data_in_leaf = 21, early_stopping_rounds = 69, cat_features = catfeat, random_state = 123, allow_writing_files = True)\n",
        "\n",
        "model.fit(x_train_daily, y_train_daily, eval_set=(x_val_daily, y_val_daily), verbose = 500, plot = True)"
      ]
    },
    {
      "cell_type": "markdown",
      "metadata": {},
      "source": [
        "### Feature importances"
      ]
    },
    {
      "cell_type": "code",
      "execution_count": null,
      "metadata": {},
      "outputs": [],
      "source": [
        "model.get_feature_importance(prettified=True).plot(x = \"Feature Id\", y = \"Importances\", kind = \"bar\")"
      ]
    },
    {
      "cell_type": "markdown",
      "metadata": {},
      "source": [
        "### Evaluation metrics train and validation set"
      ]
    },
    {
      "cell_type": "code",
      "execution_count": null,
      "metadata": {},
      "outputs": [],
      "source": [
        "y_train_pred = model.predict(x_train_daily)\n",
        "print(f\"R-squared train: {round(r2_score(y_train_daily, y_train_pred),6)}\")\n",
        "print(f\"MAPE train: {round(100*mean_absolute_percentage_error(y_train_daily, y_train_pred),2)}\\n\")\n",
        "\n",
        "y_val_pred = model.predict(x_val_daily)\n",
        "print(f\"R-squared validation: {round(r2_score(y_val_daily, y_val_pred),6)}\")\n",
        "print(f\"MAPE validation: {round(100*mean_absolute_percentage_error(y_val_daily, y_val_pred),2)}\")"
      ]
    },
    {
      "cell_type": "markdown",
      "metadata": {},
      "source": [
        "# Test dataset"
      ]
    },
    {
      "cell_type": "code",
      "execution_count": null,
      "metadata": {},
      "outputs": [],
      "source": [
        "x_test_daily_totalamount, y_test_pred =  pred_test(train = x_train_daily_totalamount, test = x_test_daily_totalamount, model = model, numfeat = numfeat, catfeat = catfeat)"
      ]
    },
    {
      "cell_type": "markdown",
      "metadata": {},
      "source": [
        "### Residuals by store"
      ]
    },
    {
      "cell_type": "code",
      "execution_count": null,
      "metadata": {},
      "outputs": [],
      "source": [
        "difference_df = diff_overview(data = x_test_daily_totalamount, pred = y_test_pred, stores = all)"
      ]
    },
    {
      "cell_type": "markdown",
      "metadata": {},
      "source": [
        "### Residual Plot Analysis "
      ]
    },
    {
      "cell_type": "code",
      "execution_count": null,
      "metadata": {},
      "outputs": [],
      "source": [
        "sns.scatterplot(data = difference_df, x = \"Predicted\", y = \"Stand_resid\")\n",
        "\n",
        "plt.axhline(y=0, color='r', linestyle='--')\n",
        "plt.xlabel(\"Predicted Sales (Daily total)\")\n",
        "plt.ylabel(\"Standardized Residuals\")\n",
        "\n",
        "plt.show()"
      ]
    },
    {
      "cell_type": "markdown",
      "metadata": {},
      "source": [
        "### Evaluation metrics train and test set"
      ]
    },
    {
      "cell_type": "code",
      "execution_count": null,
      "metadata": {},
      "outputs": [],
      "source": [
        "fit_overview(ytrain = y_train_daily, ytrainpred = y_train_pred, ytest = y_test_daily, ytestpred = y_test_pred)"
      ]
    },
    {
      "cell_type": "code",
      "execution_count": null,
      "metadata": {},
      "outputs": [],
      "source": [
        "mape_stores(x_test_daily_totalamount, y_test_pred)"
      ]
    },
    {
      "cell_type": "markdown",
      "metadata": {},
      "source": [
        "### Visualisation of predictions"
      ]
    },
    {
      "cell_type": "code",
      "execution_count": null,
      "metadata": {},
      "outputs": [],
      "source": [
        "df_predicted = pd.concat(\n",
        "    [\n",
        "    difference_df[[\"Date\",\"Store name\",\"Observed\",\"Predicted\"]].rename(columns = {\"Date\":\"date\",\"Store name\":\"store_name\",\"Observed\":\"total_amount\"}),\n",
        "    d[(d[\"date\"] >= pd.to_datetime(\"2024-05-01\")) & (d[\"item_category\"] == \"daily total\")][[\"date\",\"store_name\",\"total_amount\"]]\n",
        "    ]\n",
        "    )"
      ]
    },
    {
      "cell_type": "code",
      "execution_count": null,
      "metadata": {},
      "outputs": [],
      "source": [
        "ts_predicted(df_predicted)"
      ]
    }
  ],
  "metadata": {
    "kernelspec": {
      "display_name": "Python 3 (ipykernel)",
      "language": "python",
      "name": "python3",
      "path": "S:\\Repos\\sweet-spot-donut-sales-forecasting\\.venv\\share\\jupyter\\kernels\\python3"
    },
    "language_info": {
      "codemirror_mode": {
        "name": "ipython",
        "version": 3
      },
      "file_extension": ".py",
      "mimetype": "text/x-python",
      "name": "python",
      "nbconvert_exporter": "python",
      "pygments_lexer": "ipython3",
      "version": "3.11.3"
    }
  },
  "nbformat": 4,
  "nbformat_minor": 4
}
