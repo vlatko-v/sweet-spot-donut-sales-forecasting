{
  "cells": [
    {
      "cell_type": "markdown",
      "metadata": {
        "id": "dMOQ5LlUoi6J"
      },
      "source": [
        "# Catboost Modelling\n",
        "\n",
        "In this notebook, a final sales forecasting model based on the CatBoost algorithm is created. More information can be found here: https://catboost.ai/\n",
        "\n",
        "Just as the Random Forest model, the final model is also a tree-based model. These types of algorithms lend themselves well to predicting target features that are not normally distributed, as is the case with sales here. Moreover, CatBoost is specifically tailored to datasets with many categorical variables. With the expception of weather and lag variables, this dataset mainly contains categorical features, including dummy variables.\n",
        "\n",
        "Given the flexibility of CatBoost, no additional preprocessing is necessary. It can handle object (categorical) variables, missing values and responds well to non-normally distributed target variables."
      ]
    },
    {
      "cell_type": "code",
      "source": [
        "pip install catboost"
      ],
      "metadata": {
        "collapsed": true,
        "colab": {
          "base_uri": "https://localhost:8080/"
        },
        "id": "NpIqYpvCouyT",
        "outputId": "7ee52df8-9e31-4572-e239-a7593be96592"
      },
      "execution_count": 2,
      "outputs": [
        {
          "output_type": "stream",
          "name": "stdout",
          "text": [
            "Collecting catboost\n",
            "  Downloading catboost-1.2.5-cp310-cp310-manylinux2014_x86_64.whl.metadata (1.2 kB)\n",
            "Requirement already satisfied: graphviz in /usr/local/lib/python3.10/dist-packages (from catboost) (0.20.3)\n",
            "Requirement already satisfied: matplotlib in /usr/local/lib/python3.10/dist-packages (from catboost) (3.7.1)\n",
            "Requirement already satisfied: numpy>=1.16.0 in /usr/local/lib/python3.10/dist-packages (from catboost) (1.26.4)\n",
            "Requirement already satisfied: pandas>=0.24 in /usr/local/lib/python3.10/dist-packages (from catboost) (2.1.4)\n",
            "Requirement already satisfied: scipy in /usr/local/lib/python3.10/dist-packages (from catboost) (1.13.1)\n",
            "Requirement already satisfied: plotly in /usr/local/lib/python3.10/dist-packages (from catboost) (5.15.0)\n",
            "Requirement already satisfied: six in /usr/local/lib/python3.10/dist-packages (from catboost) (1.16.0)\n",
            "Requirement already satisfied: python-dateutil>=2.8.2 in /usr/local/lib/python3.10/dist-packages (from pandas>=0.24->catboost) (2.8.2)\n",
            "Requirement already satisfied: pytz>=2020.1 in /usr/local/lib/python3.10/dist-packages (from pandas>=0.24->catboost) (2024.1)\n",
            "Requirement already satisfied: tzdata>=2022.1 in /usr/local/lib/python3.10/dist-packages (from pandas>=0.24->catboost) (2024.1)\n",
            "Requirement already satisfied: contourpy>=1.0.1 in /usr/local/lib/python3.10/dist-packages (from matplotlib->catboost) (1.2.1)\n",
            "Requirement already satisfied: cycler>=0.10 in /usr/local/lib/python3.10/dist-packages (from matplotlib->catboost) (0.12.1)\n",
            "Requirement already satisfied: fonttools>=4.22.0 in /usr/local/lib/python3.10/dist-packages (from matplotlib->catboost) (4.53.1)\n",
            "Requirement already satisfied: kiwisolver>=1.0.1 in /usr/local/lib/python3.10/dist-packages (from matplotlib->catboost) (1.4.5)\n",
            "Requirement already satisfied: packaging>=20.0 in /usr/local/lib/python3.10/dist-packages (from matplotlib->catboost) (24.1)\n",
            "Requirement already satisfied: pillow>=6.2.0 in /usr/local/lib/python3.10/dist-packages (from matplotlib->catboost) (9.4.0)\n",
            "Requirement already satisfied: pyparsing>=2.3.1 in /usr/local/lib/python3.10/dist-packages (from matplotlib->catboost) (3.1.2)\n",
            "Requirement already satisfied: tenacity>=6.2.0 in /usr/local/lib/python3.10/dist-packages (from plotly->catboost) (9.0.0)\n",
            "Downloading catboost-1.2.5-cp310-cp310-manylinux2014_x86_64.whl (98.2 MB)\n",
            "\u001b[2K   \u001b[90m━━━━━━━━━━━━━━━━━━━━━━━━━━━━━━━━━━━━━━━━\u001b[0m \u001b[32m98.2/98.2 MB\u001b[0m \u001b[31m25.5 MB/s\u001b[0m eta \u001b[36m0:00:00\u001b[0m\n",
            "\u001b[?25hInstalling collected packages: catboost\n",
            "Successfully installed catboost-1.2.5\n"
          ]
        }
      ]
    },
    {
      "cell_type": "code",
      "source": [
        "pip install sktime"
      ],
      "metadata": {
        "collapsed": true,
        "colab": {
          "base_uri": "https://localhost:8080/"
        },
        "id": "oNRJ4qqDo-vA",
        "outputId": "aa4267f8-1ab6-4585-993a-5c533884150b"
      },
      "execution_count": 15,
      "outputs": [
        {
          "output_type": "stream",
          "name": "stdout",
          "text": [
            "Collecting sktime\n",
            "  Downloading sktime-0.31.0-py3-none-any.whl.metadata (31 kB)\n",
            "Requirement already satisfied: joblib<1.5,>=1.2.0 in /usr/local/lib/python3.10/dist-packages (from sktime) (1.4.2)\n",
            "Requirement already satisfied: numpy<2.1,>=1.21 in /usr/local/lib/python3.10/dist-packages (from sktime) (1.26.4)\n",
            "Requirement already satisfied: packaging in /usr/local/lib/python3.10/dist-packages (from sktime) (24.1)\n",
            "Requirement already satisfied: pandas<2.3.0,>=1.1 in /usr/local/lib/python3.10/dist-packages (from sktime) (2.1.4)\n",
            "Collecting scikit-base<0.9.0,>=0.6.1 (from sktime)\n",
            "  Downloading scikit_base-0.8.2-py3-none-any.whl.metadata (8.5 kB)\n",
            "Requirement already satisfied: scikit-learn<1.6.0,>=0.24 in /usr/local/lib/python3.10/dist-packages (from sktime) (1.3.2)\n",
            "Requirement already satisfied: scipy<2.0.0,>=1.2 in /usr/local/lib/python3.10/dist-packages (from sktime) (1.13.1)\n",
            "Requirement already satisfied: python-dateutil>=2.8.2 in /usr/local/lib/python3.10/dist-packages (from pandas<2.3.0,>=1.1->sktime) (2.8.2)\n",
            "Requirement already satisfied: pytz>=2020.1 in /usr/local/lib/python3.10/dist-packages (from pandas<2.3.0,>=1.1->sktime) (2024.1)\n",
            "Requirement already satisfied: tzdata>=2022.1 in /usr/local/lib/python3.10/dist-packages (from pandas<2.3.0,>=1.1->sktime) (2024.1)\n",
            "Requirement already satisfied: threadpoolctl>=2.0.0 in /usr/local/lib/python3.10/dist-packages (from scikit-learn<1.6.0,>=0.24->sktime) (3.5.0)\n",
            "Requirement already satisfied: six>=1.5 in /usr/local/lib/python3.10/dist-packages (from python-dateutil>=2.8.2->pandas<2.3.0,>=1.1->sktime) (1.16.0)\n",
            "Downloading sktime-0.31.0-py3-none-any.whl (24.0 MB)\n",
            "\u001b[2K   \u001b[90m━━━━━━━━━━━━━━━━━━━━━━━━━━━━━━━━━━━━━━━━\u001b[0m \u001b[32m24.0/24.0 MB\u001b[0m \u001b[31m86.3 MB/s\u001b[0m eta \u001b[36m0:00:00\u001b[0m\n",
            "\u001b[?25hDownloading scikit_base-0.8.2-py3-none-any.whl (134 kB)\n",
            "\u001b[2K   \u001b[90m━━━━━━━━━━━━━━━━━━━━━━━━━━━━━━━━━━━━━━━━\u001b[0m \u001b[32m134.1/134.1 kB\u001b[0m \u001b[31m9.8 MB/s\u001b[0m eta \u001b[36m0:00:00\u001b[0m\n",
            "\u001b[?25hInstalling collected packages: scikit-base, sktime\n",
            "Successfully installed scikit-base-0.8.2 sktime-0.31.0\n"
          ]
        }
      ]
    },
    {
      "cell_type": "code",
      "execution_count": 3,
      "metadata": {
        "id": "jWL5gZXnoi6N"
      },
      "outputs": [],
      "source": [
        "import pandas as pd\n",
        "import numpy as np\n",
        "import matplotlib.pyplot as plt\n",
        "import matplotlib.dates as md\n",
        "from matplotlib.patches import Patch\n",
        "import seaborn as sns\n",
        "import datetime as dt\n",
        "\n",
        "from sklearn.impute import SimpleImputer, KNNImputer\n",
        "from sklearn.preprocessing import OneHotEncoder, RobustScaler, FunctionTransformer, PolynomialFeatures, StandardScaler\n",
        "from sklearn.compose import ColumnTransformer\n",
        "from sklearn.pipeline import Pipeline\n",
        "from sklearn.model_selection import cross_validate, RandomizedSearchCV\n",
        "from sklearn.linear_model import LinearRegression, Ridge, Lasso, ElasticNet\n",
        "from sklearn.metrics import mean_absolute_percentage_error, r2_score, mean_squared_error\n",
        "\n",
        "from sklearn.model_selection import TimeSeriesSplit, StratifiedKFold\n",
        "from statsmodels.tsa.stattools import adfuller\n",
        "\n",
        "from catboost import CatBoostRegressor\n",
        "import catboost as cb\n",
        "#import optuna"
      ]
    },
    {
      "cell_type": "code",
      "source": [
        "# for google colab\n",
        "# !unrar x drive/MyDrive/sweet-spot-donut-sales-forecasting.rar"
      ],
      "metadata": {
        "id": "LeoCBXAusCl5"
      },
      "execution_count": null,
      "outputs": []
    },
    {
      "cell_type": "code",
      "execution_count": 5,
      "metadata": {
        "id": "NJh4XCwgoi6Q"
      },
      "outputs": [],
      "source": [
        "%run functions_model.py\n",
        "%run functions_vis.py"
      ]
    },
    {
      "cell_type": "code",
      "execution_count": 6,
      "metadata": {
        "id": "K5Th4bCJoi6S"
      },
      "outputs": [],
      "source": [
        "pd.set_option(\"display.max_columns\", None)"
      ]
    },
    {
      "cell_type": "markdown",
      "metadata": {
        "id": "ZdAhO38aoi6V"
      },
      "source": [
        "### Loading the dataset"
      ]
    },
    {
      "cell_type": "code",
      "execution_count": 7,
      "metadata": {
        "id": "Goy3_YPzoi6X"
      },
      "outputs": [],
      "source": [
        "d = pd.read_csv(\"train_df.csv\")\n",
        "d_test = pd.read_csv(\"test_df.csv\")"
      ]
    },
    {
      "cell_type": "code",
      "execution_count": 8,
      "metadata": {
        "id": "HbaM85-yoi6a"
      },
      "outputs": [],
      "source": [
        "d['date'] = pd.to_datetime(d['date'])\n",
        "d_test['date'] = pd.to_datetime(d_test['date'])"
      ]
    },
    {
      "cell_type": "markdown",
      "metadata": {
        "id": "3KveDoDuoi6c"
      },
      "source": [
        "### Creating validation dataset"
      ]
    },
    {
      "cell_type": "markdown",
      "metadata": {
        "id": "Cl_fowyDoi6c"
      },
      "source": [
        "A validation set, containing the last 7 days of the entire training dataset, is created. The validation set is used for evaluation purposes and early stopping in the CatBoost model."
      ]
    },
    {
      "cell_type": "code",
      "execution_count": 9,
      "metadata": {
        "id": "h5k_v0wZoi6e"
      },
      "outputs": [],
      "source": [
        "train, val = create_val_set(d)"
      ]
    },
    {
      "cell_type": "code",
      "execution_count": null,
      "metadata": {
        "id": "Sx3k4q66oi6g"
      },
      "outputs": [],
      "source": []
    },
    {
      "cell_type": "markdown",
      "metadata": {
        "id": "9mpKeEweoi6g"
      },
      "source": [
        "## Modelling\n",
        "\n",
        "#### Selecting features"
      ]
    },
    {
      "cell_type": "markdown",
      "metadata": {
        "id": "j1ZJnbG2oi6g"
      },
      "source": [
        "In order for the CatBoost algorithm to recognize categorical features, all variables are saved either as categorical or numerical. The date variable will serve as the index, while the lag features will only be used in the training and validation, but not the test dataset."
      ]
    },
    {
      "cell_type": "code",
      "execution_count": 10,
      "metadata": {
        "id": "fbnDqc_8oi6h"
      },
      "outputs": [],
      "source": [
        "date = [\"date\"]\n",
        "\n",
        "catfeat = [\"store_name\",\"item_category\",\"hol_pub\",\"hol_school\",\"weekday\",\"day\",\"month\",\"year\",\"week_year\",\"nye\",\"valentines_day\",\"halloween\", \"street_market\",\"public_space\",\"box_deal\"]\n",
        "\n",
        "numfeat = [\"days_back\",\"temperature_2m_mean\",\"sunshine_duration\",\"precipitation_hours\"]\n",
        "\n",
        "lag = [\"lag1\",\"lag2\", \"lag7\"]"
      ]
    },
    {
      "cell_type": "code",
      "execution_count": null,
      "metadata": {
        "id": "8qYhUpRooi6i"
      },
      "outputs": [],
      "source": []
    },
    {
      "cell_type": "markdown",
      "metadata": {
        "id": "zbPrK3t5oi6i"
      },
      "source": [
        "Two types of sets were created:\n",
        "\n",
        "1. The first type of train, validation and test datasets contains all features at the day, store and product level.\n",
        "2. The second type contains all features only at the day and store level. The different product categories were removed and **only total daily sales** per store are kept."
      ]
    },
    {
      "cell_type": "code",
      "execution_count": 11,
      "metadata": {
        "id": "3uckxYISoi6i"
      },
      "outputs": [],
      "source": [
        "x_train = train[date + catfeat + numfeat + lag]\n",
        "x_train = x_train.set_index(\"date\")\n",
        "x_train_daily = x_train[(x_train[\"item_category\"] == \"daily total\")].drop(\"item_category\", axis = 1)\n",
        "y_train = train['total_amount']\n",
        "y_train_daily = train[(train[\"item_category\"] == \"daily total\")]['total_amount']\n",
        "\n",
        "x_val = val[date + catfeat + numfeat + lag]\n",
        "x_val = x_val.set_index(\"date\")\n",
        "x_val_daily = x_val[(x_val[\"item_category\"] == \"daily total\")].drop(\"item_category\", axis = 1)\n",
        "y_val = val['total_amount']\n",
        "y_val_daily = val[(val[\"item_category\"] == \"daily total\") ]['total_amount']\n",
        "\n",
        "x_test = d_test[date + catfeat + numfeat]\n",
        "x_test = x_test.set_index(\"date\")\n",
        "x_test_daily = x_test[(x_test[\"item_category\"] == \"daily total\")].drop(\"item_category\", axis = 1)\n",
        "y_test = d_test['total_amount']\n",
        "y_test_daily = d_test[(d_test[\"item_category\"] == \"daily total\")]['total_amount']"
      ]
    },
    {
      "cell_type": "code",
      "execution_count": null,
      "metadata": {
        "id": "7g1ngKHCoi6k"
      },
      "outputs": [],
      "source": [
        "#catfeat.remove(\"item_category\")"
      ]
    },
    {
      "cell_type": "markdown",
      "metadata": {
        "id": "uhi1ERA9oi6l"
      },
      "source": [
        "#### Converting holiday features to integer"
      ]
    },
    {
      "cell_type": "code",
      "execution_count": 12,
      "metadata": {
        "id": "3yIzzsZFoi6l"
      },
      "outputs": [],
      "source": [
        "x_train[\"hol_pub\"] = x_train[\"hol_pub\"].apply(np.int64)\n",
        "x_train[\"hol_school\"] = x_train[\"hol_school\"].apply(np.int64)\n",
        "x_train_daily[\"hol_pub\"] = x_train_daily[\"hol_pub\"].apply(np.int64)\n",
        "x_train_daily[\"hol_school\"] = x_train_daily[\"hol_school\"].apply(np.int64)\n",
        "\n",
        "x_val[\"hol_pub\"] = x_val[\"hol_pub\"].apply(np.int64)\n",
        "x_val[\"hol_school\"] = x_val[\"hol_school\"].apply(np.int64)\n",
        "x_val_daily[\"hol_pub\"] = x_val_daily[\"hol_pub\"].apply(np.int64)\n",
        "x_val_daily[\"hol_school\"] = x_val_daily[\"hol_school\"].apply(np.int64)\n",
        "\n",
        "x_test[\"hol_pub\"] = x_test[\"hol_pub\"].apply(np.int64)\n",
        "x_test[\"hol_school\"] = x_test[\"hol_school\"].apply(np.int64)\n",
        "x_test_daily[\"hol_pub\"] = x_test_daily[\"hol_pub\"].apply(np.int64)\n",
        "x_test_daily[\"hol_school\"] = x_test_daily[\"hol_school\"].apply(np.int64)"
      ]
    },
    {
      "cell_type": "markdown",
      "metadata": {
        "id": "-b8ak7JYoi6m"
      },
      "source": [
        "The train and target variables are concatenated to obtain a train and test set at the daily sales level, without the individual product categories."
      ]
    },
    {
      "cell_type": "code",
      "execution_count": 13,
      "metadata": {
        "id": "IF2h8-6zoi6m"
      },
      "outputs": [],
      "source": [
        "train_daily = pd.concat([x_train_daily.reset_index(), y_train_daily.reset_index(drop= True)], axis = 1)\n",
        "\n",
        "test_daily = pd.concat([x_test_daily.reset_index(), y_test_daily.reset_index(drop= True)], axis = 1)"
      ]
    },
    {
      "cell_type": "code",
      "execution_count": null,
      "metadata": {
        "id": "hFYa-1u0oi6m"
      },
      "outputs": [],
      "source": []
    },
    {
      "cell_type": "markdown",
      "metadata": {
        "id": "b0lPv3OXoi6m"
      },
      "source": [
        "### Custom CV split"
      ]
    },
    {
      "cell_type": "code",
      "execution_count": null,
      "metadata": {
        "id": "2wsl7Q_8oi6n"
      },
      "outputs": [],
      "source": [
        "def create_train_validation_folds(df):\n",
        "    last_val_date = df.date.max()\n",
        "    cv = []\n",
        "    for n in range(5):\n",
        "        first_val_date = last_val_date - dt.timedelta(days=6)\n",
        "        train_index = df[df.date<first_val_date].index\n",
        "        val_index = df[(df.date>=first_val_date) & (df.date<=last_val_date)].index\n",
        "        cv.append((train_index,val_index))\n",
        "        last_val_date = first_val_date - dt.timedelta(days=1)\n",
        "    cv = cv[::-1]\n",
        "    return cv"
      ]
    },
    {
      "cell_type": "code",
      "execution_count": null,
      "metadata": {
        "id": "zTwsoKuToi6n"
      },
      "outputs": [],
      "source": [
        "create_train_validation_folds(train_daily)"
      ]
    },
    {
      "cell_type": "code",
      "execution_count": null,
      "metadata": {
        "id": "rCL7-w_1oi6n"
      },
      "outputs": [],
      "source": [
        "def create_train_validation_dataset(df):\n",
        "    last_val_date = df.date.max()\n",
        "    cv = []\n",
        "    for n in range(5):\n",
        "        first_val_date = last_val_date - dt.timedelta(days=6)\n",
        "        train_fold = df[df.date<first_val_date]\n",
        "        val_fold = df[(df.date>=first_val_date) & (df.date<=last_val_date)]\n",
        "        cv.append((train_fold,val_fold))\n",
        "        last_val_date = first_val_date - dt.timedelta(days=1)\n",
        "    cv = cv[::-1]\n",
        "    return cv"
      ]
    },
    {
      "cell_type": "code",
      "execution_count": null,
      "metadata": {
        "id": "A3wFSsMQoi6o"
      },
      "outputs": [],
      "source": [
        "for i in range(5):\n",
        "  globals()[f\"train_{i}\"], globals()[f\"val_{i}\"] = create_train_validation_dataset(train_daily)[i]"
      ]
    },
    {
      "cell_type": "code",
      "execution_count": null,
      "metadata": {
        "id": "s1jdx8qsoi6o"
      },
      "outputs": [],
      "source": [
        "val_4.head()"
      ]
    },
    {
      "cell_type": "code",
      "execution_count": null,
      "metadata": {
        "id": "9UtxZ7vSoi6o"
      },
      "outputs": [],
      "source": [
        "train_val_datasets = [\n",
        "    (\"0\", train_0, val_0),\n",
        "    (\"1\", train_1, val_1),\n",
        "    (\"2\", train_2, val_2),\n",
        "    (\"3\", train_3, val_3),\n",
        "    (\"4\", train_4, val_4)\n",
        "]"
      ]
    },
    {
      "cell_type": "code",
      "execution_count": null,
      "metadata": {
        "id": "itSsZOXjoi6p"
      },
      "outputs": [],
      "source": [
        "for set, train, val:"
      ]
    },
    {
      "cell_type": "code",
      "execution_count": null,
      "metadata": {
        "id": "Jn3_l-0Soi6p"
      },
      "outputs": [],
      "source": []
    },
    {
      "cell_type": "markdown",
      "metadata": {
        "id": "Q0f1X2-Uoi6p"
      },
      "source": [
        "### Hyperparameter Tuning\n"
      ]
    },
    {
      "cell_type": "markdown",
      "metadata": {
        "id": "YlMaMNKDoi6q"
      },
      "source": [
        "Training tree-based algorithm often leads to overfitting. In order to create a generalizable model, it is necessary to \"prune\" the trees by putting constraints on how well they can learn from the data. The following hyperparameters are tuned in the step below:\n",
        "\n",
        "* Number of trees\n",
        "* Learning rate\n",
        "* L2 leaf regularization\n",
        "* Tree depth (number of levels)\n",
        "* Proportion of the sample used for each tree\n",
        "* Proportion of the features used for each tree\n",
        "* A minimum amount of datapoints in a leaf before a split can occur\n",
        "* Minimum child weight\n"
      ]
    },
    {
      "cell_type": "code",
      "execution_count": 16,
      "metadata": {
        "colab": {
          "base_uri": "https://localhost:8080/"
        },
        "id": "0lqBiEJeoi6q",
        "outputId": "6973bb02-b287-4430-b0c7-7a1d63598272"
      },
      "outputs": [
        {
          "output_type": "stream",
          "name": "stderr",
          "text": [
            "/usr/local/lib/python3.10/dist-packages/dask/dataframe/__init__.py:42: FutureWarning: \n",
            "Dask dataframe query planning is disabled because dask-expr is not installed.\n",
            "\n",
            "You can install it with `pip install dask[dataframe]` or `conda install dask`.\n",
            "This will raise in a future version.\n",
            "\n",
            "  warnings.warn(msg, FutureWarning)\n"
          ]
        }
      ],
      "source": [
        "from sktime.forecasting.base import ForecastingHorizon\n",
        "from sktime.forecasting.compose import make_reduction\n",
        "from sktime.forecasting.model_evaluation import evaluate\n",
        "from sktime.forecasting.model_selection import ForecastingRandomizedSearchCV\n",
        "from sktime.split import ExpandingWindowSplitter\n",
        "from sktime.utils import plot_windows\n",
        "from sktime.utils._testing.hierarchical import _make_hierarchical\n",
        "from sktime.transformations.series.summarize import WindowSummarizer"
      ]
    },
    {
      "cell_type": "code",
      "execution_count": null,
      "metadata": {
        "id": "iimNl8AAoi6q"
      },
      "outputs": [],
      "source": []
    },
    {
      "cell_type": "code",
      "execution_count": 17,
      "metadata": {
        "colab": {
          "base_uri": "https://localhost:8080/"
        },
        "id": "k8Wj-buOoi6r",
        "outputId": "b3084e23-5b7b-49d8-9b5e-c9690c9b6369"
      },
      "outputs": [
        {
          "output_type": "execute_result",
          "data": {
            "text/plain": [
              "array([1, 2, 3, 4, 5, 6, 7])"
            ]
          },
          "metadata": {},
          "execution_count": 17
        }
      ],
      "source": [
        "#fh = ForecastingHorizon(pd.period_range(start = '2024-05-11 00:00:00', periods = 7), is_relative=False)\n",
        "fh = np.arange(7) + 1\n",
        "fh"
      ]
    },
    {
      "cell_type": "code",
      "execution_count": 195,
      "metadata": {
        "id": "nnfCo15Aoi6s"
      },
      "outputs": [],
      "source": [
        "train_2 = train[date + catfeat + numfeat]\n",
        "train_2 = train_2[train_2[\"item_category\"] != \"daily total\"]\n",
        "train_2 = pd.concat([train_2, train[train[\"item_category\"] != \"daily total\"][\"total_amount\"]], axis = 1)"
      ]
    },
    {
      "cell_type": "code",
      "execution_count": 535,
      "metadata": {
        "id": "29aQRGg_oi6t"
      },
      "outputs": [],
      "source": [
        "agg_columns = train_2.columns.difference(['date', 'store_name', 'item_category'] + [\"total_amount\"])\n",
        "agg_dict = {col: \"first\" for col in agg_columns}\n",
        "agg_dict[\"total_amount\"] = \"sum\"\n",
        "\n",
        "train_2 = train_2.groupby(['date', 'store_name', 'item_category']).agg(agg_dict).reset_index().sort_values(by = \"date\", ascending = False).reset_index(drop = True)\n",
        "train_2 = train_2.set_index([\"store_name\",\"item_category\",\"date\"]).sort_index()\n",
        "\n",
        "#train_2_wind = transformer.fit_transform(train_2)\n",
        "#train_2_wind = pd.concat([train_2[\"total_amount\"], train_2], axis = 1)\n",
        "#train_2_wind = train_2_wind.dropna()\n",
        "\n",
        "#x_train_2_wind = train_2_wind.iloc[:,8:]\n",
        "#y_train_2_wind = train_2_wind.iloc[:,:8]"
      ]
    },
    {
      "cell_type": "markdown",
      "metadata": {
        "id": "oHGwJUtFoi6u"
      },
      "source": [
        "**Cross-validation**"
      ]
    },
    {
      "cell_type": "code",
      "source": [],
      "metadata": {
        "id": "UYw9rySLk8gK"
      },
      "execution_count": null,
      "outputs": []
    },
    {
      "cell_type": "code",
      "source": [
        "groups = []\n",
        "train_2_upd = []\n",
        "train_2_wind_upd = []\n",
        "all_dates_list = []\n",
        "\n",
        "for (store, item_category), group in train_2.groupby(level=['store_name', 'item_category']):\n",
        "  groups.append(((store, item_category),group))\n",
        "\n",
        "for i in range(len(groups)):\n",
        "  train_2_upd.append(groups[i][1].reset_index().set_index(\"date\"))\n",
        "\n",
        "for i in range(len(train_2_upd)):\n",
        "  all_dates = pd.date_range(start=train_2_upd[i].index.min(),\n",
        "                          end=train_2_upd[i].index.max(), freq='D')\n",
        "  all_dates_list.append(all_dates)\n",
        "\n",
        "for i in range(len(train_2_upd)):\n",
        "  train_2_upd.append(train_2_upd[i].reindex(all_dates_list[i]))\n",
        "\n",
        "\n",
        "for i in range(len(train_2_upd)):\n",
        "  train_2_upd[i].index.name = \"date\"\n",
        "\n",
        "train_2_upd = train_2_upd[37:]\n",
        "\n",
        "for i in range(len(train_2_upd)):\n",
        "  train_2_upd[i][\"store_name\"] = train_2_upd[i][\"store_name\"].ffill()\n",
        "  train_2_upd[i][\"item_category\"] = train_2_upd[i][\"item_category\"].ffill()\n",
        "  train_2_upd[i] = train_2_upd[i].interpolate()\n",
        "\n",
        "for i in range(len(train_2_upd)):\n",
        "  train_2_upd.append(train_2_upd[i].reset_index().set_index([\"store_name\",\"item_category\",\"date\"]))\n",
        "\n",
        "train_2_upd = train_2_upd[37:]\n",
        "\n",
        "\n",
        "train_2_wind_upd = train_2_upd.copy()\n",
        "\n",
        "kwargs = {\"lag_feature\": {\n",
        "    \"lag\":[1,2,3],\n",
        "    \"mean\": [[1,7], [1, 15], [1,30]],\n",
        "    \"std\": [[1,4]]\n",
        "    },\n",
        "    \"target_cols\":[\"total_amount\"]}\n",
        "\n",
        "transformer = WindowSummarizer(**kwargs)\n",
        "\n",
        "for i in range(len(train_2_wind_upd)):\n",
        "  train_2_wind_upd[i] = transformer.fit_transform(train_2_wind_upd[i])\n",
        "  train_2_wind_upd[i] = pd.concat([train_2_upd[i][\"total_amount\"], train_2_wind_upd[i]], axis = 1)\n",
        "  train_2_wind_upd[i] = train_2_wind_upd[i].dropna()\n",
        "\n",
        "\n",
        "\n",
        "for i in range(len(train_2_wind_upd)):\n",
        "  train_2_wind_upd[i] = (groups[i][0], train_2_wind_upd[i])\n",
        "\n"
      ],
      "metadata": {
        "colab": {
          "base_uri": "https://localhost:8080/"
        },
        "id": "pbNCfgGCjHcu",
        "outputId": "fe841f24-bf28-479e-a9ec-4e4c2211579b"
      },
      "execution_count": 587,
      "outputs": [
        {
          "output_type": "stream",
          "name": "stderr",
          "text": [
            "<ipython-input-587-1f2c534b6427>:29: FutureWarning: DataFrame.interpolate with object dtype is deprecated and will raise in a future version. Call obj.infer_objects(copy=False) before interpolating instead.\n",
            "  train_2_upd[i] = train_2_upd[i].interpolate()\n",
            "<ipython-input-587-1f2c534b6427>:29: FutureWarning: DataFrame.interpolate with object dtype is deprecated and will raise in a future version. Call obj.infer_objects(copy=False) before interpolating instead.\n",
            "  train_2_upd[i] = train_2_upd[i].interpolate()\n",
            "<ipython-input-587-1f2c534b6427>:29: FutureWarning: DataFrame.interpolate with object dtype is deprecated and will raise in a future version. Call obj.infer_objects(copy=False) before interpolating instead.\n",
            "  train_2_upd[i] = train_2_upd[i].interpolate()\n",
            "<ipython-input-587-1f2c534b6427>:29: FutureWarning: DataFrame.interpolate with object dtype is deprecated and will raise in a future version. Call obj.infer_objects(copy=False) before interpolating instead.\n",
            "  train_2_upd[i] = train_2_upd[i].interpolate()\n",
            "<ipython-input-587-1f2c534b6427>:29: FutureWarning: DataFrame.interpolate with object dtype is deprecated and will raise in a future version. Call obj.infer_objects(copy=False) before interpolating instead.\n",
            "  train_2_upd[i] = train_2_upd[i].interpolate()\n",
            "<ipython-input-587-1f2c534b6427>:29: FutureWarning: DataFrame.interpolate with object dtype is deprecated and will raise in a future version. Call obj.infer_objects(copy=False) before interpolating instead.\n",
            "  train_2_upd[i] = train_2_upd[i].interpolate()\n",
            "<ipython-input-587-1f2c534b6427>:29: FutureWarning: DataFrame.interpolate with object dtype is deprecated and will raise in a future version. Call obj.infer_objects(copy=False) before interpolating instead.\n",
            "  train_2_upd[i] = train_2_upd[i].interpolate()\n",
            "<ipython-input-587-1f2c534b6427>:29: FutureWarning: DataFrame.interpolate with object dtype is deprecated and will raise in a future version. Call obj.infer_objects(copy=False) before interpolating instead.\n",
            "  train_2_upd[i] = train_2_upd[i].interpolate()\n",
            "<ipython-input-587-1f2c534b6427>:29: FutureWarning: DataFrame.interpolate with object dtype is deprecated and will raise in a future version. Call obj.infer_objects(copy=False) before interpolating instead.\n",
            "  train_2_upd[i] = train_2_upd[i].interpolate()\n",
            "<ipython-input-587-1f2c534b6427>:29: FutureWarning: DataFrame.interpolate with object dtype is deprecated and will raise in a future version. Call obj.infer_objects(copy=False) before interpolating instead.\n",
            "  train_2_upd[i] = train_2_upd[i].interpolate()\n",
            "<ipython-input-587-1f2c534b6427>:29: FutureWarning: DataFrame.interpolate with object dtype is deprecated and will raise in a future version. Call obj.infer_objects(copy=False) before interpolating instead.\n",
            "  train_2_upd[i] = train_2_upd[i].interpolate()\n",
            "<ipython-input-587-1f2c534b6427>:29: FutureWarning: DataFrame.interpolate with object dtype is deprecated and will raise in a future version. Call obj.infer_objects(copy=False) before interpolating instead.\n",
            "  train_2_upd[i] = train_2_upd[i].interpolate()\n",
            "<ipython-input-587-1f2c534b6427>:29: FutureWarning: DataFrame.interpolate with object dtype is deprecated and will raise in a future version. Call obj.infer_objects(copy=False) before interpolating instead.\n",
            "  train_2_upd[i] = train_2_upd[i].interpolate()\n",
            "<ipython-input-587-1f2c534b6427>:29: FutureWarning: DataFrame.interpolate with object dtype is deprecated and will raise in a future version. Call obj.infer_objects(copy=False) before interpolating instead.\n",
            "  train_2_upd[i] = train_2_upd[i].interpolate()\n",
            "<ipython-input-587-1f2c534b6427>:29: FutureWarning: DataFrame.interpolate with object dtype is deprecated and will raise in a future version. Call obj.infer_objects(copy=False) before interpolating instead.\n",
            "  train_2_upd[i] = train_2_upd[i].interpolate()\n",
            "<ipython-input-587-1f2c534b6427>:29: FutureWarning: DataFrame.interpolate with object dtype is deprecated and will raise in a future version. Call obj.infer_objects(copy=False) before interpolating instead.\n",
            "  train_2_upd[i] = train_2_upd[i].interpolate()\n",
            "<ipython-input-587-1f2c534b6427>:29: FutureWarning: DataFrame.interpolate with object dtype is deprecated and will raise in a future version. Call obj.infer_objects(copy=False) before interpolating instead.\n",
            "  train_2_upd[i] = train_2_upd[i].interpolate()\n",
            "<ipython-input-587-1f2c534b6427>:29: FutureWarning: DataFrame.interpolate with object dtype is deprecated and will raise in a future version. Call obj.infer_objects(copy=False) before interpolating instead.\n",
            "  train_2_upd[i] = train_2_upd[i].interpolate()\n",
            "<ipython-input-587-1f2c534b6427>:29: FutureWarning: DataFrame.interpolate with object dtype is deprecated and will raise in a future version. Call obj.infer_objects(copy=False) before interpolating instead.\n",
            "  train_2_upd[i] = train_2_upd[i].interpolate()\n",
            "<ipython-input-587-1f2c534b6427>:29: FutureWarning: DataFrame.interpolate with object dtype is deprecated and will raise in a future version. Call obj.infer_objects(copy=False) before interpolating instead.\n",
            "  train_2_upd[i] = train_2_upd[i].interpolate()\n",
            "<ipython-input-587-1f2c534b6427>:29: FutureWarning: DataFrame.interpolate with object dtype is deprecated and will raise in a future version. Call obj.infer_objects(copy=False) before interpolating instead.\n",
            "  train_2_upd[i] = train_2_upd[i].interpolate()\n",
            "<ipython-input-587-1f2c534b6427>:29: FutureWarning: DataFrame.interpolate with object dtype is deprecated and will raise in a future version. Call obj.infer_objects(copy=False) before interpolating instead.\n",
            "  train_2_upd[i] = train_2_upd[i].interpolate()\n",
            "<ipython-input-587-1f2c534b6427>:29: FutureWarning: DataFrame.interpolate with object dtype is deprecated and will raise in a future version. Call obj.infer_objects(copy=False) before interpolating instead.\n",
            "  train_2_upd[i] = train_2_upd[i].interpolate()\n",
            "<ipython-input-587-1f2c534b6427>:29: FutureWarning: DataFrame.interpolate with object dtype is deprecated and will raise in a future version. Call obj.infer_objects(copy=False) before interpolating instead.\n",
            "  train_2_upd[i] = train_2_upd[i].interpolate()\n",
            "<ipython-input-587-1f2c534b6427>:29: FutureWarning: DataFrame.interpolate with object dtype is deprecated and will raise in a future version. Call obj.infer_objects(copy=False) before interpolating instead.\n",
            "  train_2_upd[i] = train_2_upd[i].interpolate()\n",
            "<ipython-input-587-1f2c534b6427>:29: FutureWarning: DataFrame.interpolate with object dtype is deprecated and will raise in a future version. Call obj.infer_objects(copy=False) before interpolating instead.\n",
            "  train_2_upd[i] = train_2_upd[i].interpolate()\n",
            "<ipython-input-587-1f2c534b6427>:29: FutureWarning: DataFrame.interpolate with object dtype is deprecated and will raise in a future version. Call obj.infer_objects(copy=False) before interpolating instead.\n",
            "  train_2_upd[i] = train_2_upd[i].interpolate()\n",
            "<ipython-input-587-1f2c534b6427>:29: FutureWarning: DataFrame.interpolate with object dtype is deprecated and will raise in a future version. Call obj.infer_objects(copy=False) before interpolating instead.\n",
            "  train_2_upd[i] = train_2_upd[i].interpolate()\n",
            "<ipython-input-587-1f2c534b6427>:29: FutureWarning: DataFrame.interpolate with object dtype is deprecated and will raise in a future version. Call obj.infer_objects(copy=False) before interpolating instead.\n",
            "  train_2_upd[i] = train_2_upd[i].interpolate()\n",
            "<ipython-input-587-1f2c534b6427>:29: FutureWarning: DataFrame.interpolate with object dtype is deprecated and will raise in a future version. Call obj.infer_objects(copy=False) before interpolating instead.\n",
            "  train_2_upd[i] = train_2_upd[i].interpolate()\n",
            "<ipython-input-587-1f2c534b6427>:29: FutureWarning: DataFrame.interpolate with object dtype is deprecated and will raise in a future version. Call obj.infer_objects(copy=False) before interpolating instead.\n",
            "  train_2_upd[i] = train_2_upd[i].interpolate()\n",
            "<ipython-input-587-1f2c534b6427>:29: FutureWarning: DataFrame.interpolate with object dtype is deprecated and will raise in a future version. Call obj.infer_objects(copy=False) before interpolating instead.\n",
            "  train_2_upd[i] = train_2_upd[i].interpolate()\n",
            "<ipython-input-587-1f2c534b6427>:29: FutureWarning: DataFrame.interpolate with object dtype is deprecated and will raise in a future version. Call obj.infer_objects(copy=False) before interpolating instead.\n",
            "  train_2_upd[i] = train_2_upd[i].interpolate()\n",
            "<ipython-input-587-1f2c534b6427>:29: FutureWarning: DataFrame.interpolate with object dtype is deprecated and will raise in a future version. Call obj.infer_objects(copy=False) before interpolating instead.\n",
            "  train_2_upd[i] = train_2_upd[i].interpolate()\n",
            "<ipython-input-587-1f2c534b6427>:29: FutureWarning: DataFrame.interpolate with object dtype is deprecated and will raise in a future version. Call obj.infer_objects(copy=False) before interpolating instead.\n",
            "  train_2_upd[i] = train_2_upd[i].interpolate()\n",
            "<ipython-input-587-1f2c534b6427>:29: FutureWarning: DataFrame.interpolate with object dtype is deprecated and will raise in a future version. Call obj.infer_objects(copy=False) before interpolating instead.\n",
            "  train_2_upd[i] = train_2_upd[i].interpolate()\n",
            "<ipython-input-587-1f2c534b6427>:29: FutureWarning: DataFrame.interpolate with object dtype is deprecated and will raise in a future version. Call obj.infer_objects(copy=False) before interpolating instead.\n",
            "  train_2_upd[i] = train_2_upd[i].interpolate()\n"
          ]
        }
      ]
    },
    {
      "cell_type": "code",
      "source": [
        "train_2_wind_upd[1].iloc[(train_2_wind_upd[1].index.get_level_values(\"date\") == \"2022-11-05\") |\n",
        "                          (train_2_wind_upd[1].index.get_level_values(\"date\") == \"2022-11-06\") |\n",
        "                         (train_2_wind_upd[1].index.get_level_values(\"date\") == \"2022-11-07\") |\n",
        "                         (train_2_wind_upd[1].index.get_level_values(\"date\") == \"2022-11-08\") ]"
      ],
      "metadata": {
        "colab": {
          "base_uri": "https://localhost:8080/",
          "height": 226
        },
        "id": "DNCgZ-73zk9R",
        "outputId": "28c23cf0-51eb-4195-fb27-fedd87d72815"
      },
      "execution_count": 588,
      "outputs": [
        {
          "output_type": "execute_result",
          "data": {
            "text/plain": [
              "                                     total_amount  total_amount_lag_1  \\\n",
              "store_name item_category date                                           \n",
              "Altona     mixed         2022-11-05         550.0               296.0   \n",
              "                         2022-11-06         379.0               550.0   \n",
              "                         2022-11-07         208.0               379.0   \n",
              "                         2022-11-08         146.0               208.0   \n",
              "\n",
              "                                     total_amount_lag_2  total_amount_lag_3  \\\n",
              "store_name item_category date                                                 \n",
              "Altona     mixed         2022-11-05               216.0               212.0   \n",
              "                         2022-11-06               296.0               216.0   \n",
              "                         2022-11-07               550.0               296.0   \n",
              "                         2022-11-08               379.0               550.0   \n",
              "\n",
              "                                     total_amount_mean_1_7  \\\n",
              "store_name item_category date                                \n",
              "Altona     mixed         2022-11-05             403.714286   \n",
              "                         2022-11-06             383.428571   \n",
              "                         2022-11-07             367.285714   \n",
              "                         2022-11-08             303.000000   \n",
              "\n",
              "                                     total_amount_mean_1_15  \\\n",
              "store_name item_category date                                 \n",
              "Altona     mixed         2022-11-05              378.933333   \n",
              "                         2022-11-06              385.600000   \n",
              "                         2022-11-07              362.466667   \n",
              "                         2022-11-08              341.800000   \n",
              "\n",
              "                                     total_amount_mean_1_30  \\\n",
              "store_name item_category date                                 \n",
              "Altona     mixed         2022-11-05              391.333333   \n",
              "                         2022-11-06              394.866667   \n",
              "                         2022-11-07              397.433333   \n",
              "                         2022-11-08              381.300000   \n",
              "\n",
              "                                     total_amount_std_1_4  box_deal  day  \\\n",
              "store_name item_category date                                              \n",
              "Altona     mixed         2022-11-05             39.799497       1.0  5.0   \n",
              "                         2022-11-06            159.108977       1.0  6.0   \n",
              "                         2022-11-07            142.936758       1.0  7.0   \n",
              "                         2022-11-08            145.657990       1.0  8.0   \n",
              "\n",
              "                                     days_back  halloween  hol_pub  \\\n",
              "store_name item_category date                                        \n",
              "Altona     mixed         2022-11-05      566.0        0.0      0.0   \n",
              "                         2022-11-06      565.0        0.0      0.0   \n",
              "                         2022-11-07      564.0        0.0      0.0   \n",
              "                         2022-11-08      563.0        0.0      0.0   \n",
              "\n",
              "                                     hol_school  month  nye  \\\n",
              "store_name item_category date                                 \n",
              "Altona     mixed         2022-11-05         0.0   11.0  0.0   \n",
              "                         2022-11-06         0.0   11.0  0.0   \n",
              "                         2022-11-07         0.0   11.0  0.0   \n",
              "                         2022-11-08         0.0   11.0  0.0   \n",
              "\n",
              "                                     precipitation_hours  public_space  \\\n",
              "store_name item_category date                                            \n",
              "Altona     mixed         2022-11-05                  1.0           1.0   \n",
              "                         2022-11-06                  2.5           1.0   \n",
              "                         2022-11-07                  4.0           1.0   \n",
              "                         2022-11-08                  1.0           1.0   \n",
              "\n",
              "                                     street_market  sunshine_duration  \\\n",
              "store_name item_category date                                           \n",
              "Altona     mixed         2022-11-05            0.0           7.907053   \n",
              "                         2022-11-06            0.0           4.474656   \n",
              "                         2022-11-07            0.0           1.042258   \n",
              "                         2022-11-08            0.0           6.053736   \n",
              "\n",
              "                                     temperature_2m_mean  valentines_day  \\\n",
              "store_name item_category date                                              \n",
              "Altona     mixed         2022-11-05                 8.00             0.0   \n",
              "                         2022-11-06                 9.55             0.0   \n",
              "                         2022-11-07                11.10             0.0   \n",
              "                         2022-11-08                13.00             0.0   \n",
              "\n",
              "                                     week_year  weekday    year  \n",
              "store_name item_category date                                    \n",
              "Altona     mixed         2022-11-05       44.0      5.0  2022.0  \n",
              "                         2022-11-06       44.5      2.5  2022.0  \n",
              "                         2022-11-07       45.0      0.0  2022.0  \n",
              "                         2022-11-08       45.0      1.0  2022.0  "
            ],
            "text/html": [
              "\n",
              "  <div id=\"df-753fb586-fcf0-4650-9cc8-9f94457755e3\" class=\"colab-df-container\">\n",
              "    <div>\n",
              "<style scoped>\n",
              "    .dataframe tbody tr th:only-of-type {\n",
              "        vertical-align: middle;\n",
              "    }\n",
              "\n",
              "    .dataframe tbody tr th {\n",
              "        vertical-align: top;\n",
              "    }\n",
              "\n",
              "    .dataframe thead th {\n",
              "        text-align: right;\n",
              "    }\n",
              "</style>\n",
              "<table border=\"1\" class=\"dataframe\">\n",
              "  <thead>\n",
              "    <tr style=\"text-align: right;\">\n",
              "      <th></th>\n",
              "      <th></th>\n",
              "      <th></th>\n",
              "      <th>total_amount</th>\n",
              "      <th>total_amount_lag_1</th>\n",
              "      <th>total_amount_lag_2</th>\n",
              "      <th>total_amount_lag_3</th>\n",
              "      <th>total_amount_mean_1_7</th>\n",
              "      <th>total_amount_mean_1_15</th>\n",
              "      <th>total_amount_mean_1_30</th>\n",
              "      <th>total_amount_std_1_4</th>\n",
              "      <th>box_deal</th>\n",
              "      <th>day</th>\n",
              "      <th>days_back</th>\n",
              "      <th>halloween</th>\n",
              "      <th>hol_pub</th>\n",
              "      <th>hol_school</th>\n",
              "      <th>month</th>\n",
              "      <th>nye</th>\n",
              "      <th>precipitation_hours</th>\n",
              "      <th>public_space</th>\n",
              "      <th>street_market</th>\n",
              "      <th>sunshine_duration</th>\n",
              "      <th>temperature_2m_mean</th>\n",
              "      <th>valentines_day</th>\n",
              "      <th>week_year</th>\n",
              "      <th>weekday</th>\n",
              "      <th>year</th>\n",
              "    </tr>\n",
              "    <tr>\n",
              "      <th>store_name</th>\n",
              "      <th>item_category</th>\n",
              "      <th>date</th>\n",
              "      <th></th>\n",
              "      <th></th>\n",
              "      <th></th>\n",
              "      <th></th>\n",
              "      <th></th>\n",
              "      <th></th>\n",
              "      <th></th>\n",
              "      <th></th>\n",
              "      <th></th>\n",
              "      <th></th>\n",
              "      <th></th>\n",
              "      <th></th>\n",
              "      <th></th>\n",
              "      <th></th>\n",
              "      <th></th>\n",
              "      <th></th>\n",
              "      <th></th>\n",
              "      <th></th>\n",
              "      <th></th>\n",
              "      <th></th>\n",
              "      <th></th>\n",
              "      <th></th>\n",
              "      <th></th>\n",
              "      <th></th>\n",
              "      <th></th>\n",
              "    </tr>\n",
              "  </thead>\n",
              "  <tbody>\n",
              "    <tr>\n",
              "      <th rowspan=\"4\" valign=\"top\">Altona</th>\n",
              "      <th rowspan=\"4\" valign=\"top\">mixed</th>\n",
              "      <th>2022-11-05</th>\n",
              "      <td>550.0</td>\n",
              "      <td>296.0</td>\n",
              "      <td>216.0</td>\n",
              "      <td>212.0</td>\n",
              "      <td>403.714286</td>\n",
              "      <td>378.933333</td>\n",
              "      <td>391.333333</td>\n",
              "      <td>39.799497</td>\n",
              "      <td>1.0</td>\n",
              "      <td>5.0</td>\n",
              "      <td>566.0</td>\n",
              "      <td>0.0</td>\n",
              "      <td>0.0</td>\n",
              "      <td>0.0</td>\n",
              "      <td>11.0</td>\n",
              "      <td>0.0</td>\n",
              "      <td>1.0</td>\n",
              "      <td>1.0</td>\n",
              "      <td>0.0</td>\n",
              "      <td>7.907053</td>\n",
              "      <td>8.00</td>\n",
              "      <td>0.0</td>\n",
              "      <td>44.0</td>\n",
              "      <td>5.0</td>\n",
              "      <td>2022.0</td>\n",
              "    </tr>\n",
              "    <tr>\n",
              "      <th>2022-11-06</th>\n",
              "      <td>379.0</td>\n",
              "      <td>550.0</td>\n",
              "      <td>296.0</td>\n",
              "      <td>216.0</td>\n",
              "      <td>383.428571</td>\n",
              "      <td>385.600000</td>\n",
              "      <td>394.866667</td>\n",
              "      <td>159.108977</td>\n",
              "      <td>1.0</td>\n",
              "      <td>6.0</td>\n",
              "      <td>565.0</td>\n",
              "      <td>0.0</td>\n",
              "      <td>0.0</td>\n",
              "      <td>0.0</td>\n",
              "      <td>11.0</td>\n",
              "      <td>0.0</td>\n",
              "      <td>2.5</td>\n",
              "      <td>1.0</td>\n",
              "      <td>0.0</td>\n",
              "      <td>4.474656</td>\n",
              "      <td>9.55</td>\n",
              "      <td>0.0</td>\n",
              "      <td>44.5</td>\n",
              "      <td>2.5</td>\n",
              "      <td>2022.0</td>\n",
              "    </tr>\n",
              "    <tr>\n",
              "      <th>2022-11-07</th>\n",
              "      <td>208.0</td>\n",
              "      <td>379.0</td>\n",
              "      <td>550.0</td>\n",
              "      <td>296.0</td>\n",
              "      <td>367.285714</td>\n",
              "      <td>362.466667</td>\n",
              "      <td>397.433333</td>\n",
              "      <td>142.936758</td>\n",
              "      <td>1.0</td>\n",
              "      <td>7.0</td>\n",
              "      <td>564.0</td>\n",
              "      <td>0.0</td>\n",
              "      <td>0.0</td>\n",
              "      <td>0.0</td>\n",
              "      <td>11.0</td>\n",
              "      <td>0.0</td>\n",
              "      <td>4.0</td>\n",
              "      <td>1.0</td>\n",
              "      <td>0.0</td>\n",
              "      <td>1.042258</td>\n",
              "      <td>11.10</td>\n",
              "      <td>0.0</td>\n",
              "      <td>45.0</td>\n",
              "      <td>0.0</td>\n",
              "      <td>2022.0</td>\n",
              "    </tr>\n",
              "    <tr>\n",
              "      <th>2022-11-08</th>\n",
              "      <td>146.0</td>\n",
              "      <td>208.0</td>\n",
              "      <td>379.0</td>\n",
              "      <td>550.0</td>\n",
              "      <td>303.000000</td>\n",
              "      <td>341.800000</td>\n",
              "      <td>381.300000</td>\n",
              "      <td>145.657990</td>\n",
              "      <td>1.0</td>\n",
              "      <td>8.0</td>\n",
              "      <td>563.0</td>\n",
              "      <td>0.0</td>\n",
              "      <td>0.0</td>\n",
              "      <td>0.0</td>\n",
              "      <td>11.0</td>\n",
              "      <td>0.0</td>\n",
              "      <td>1.0</td>\n",
              "      <td>1.0</td>\n",
              "      <td>0.0</td>\n",
              "      <td>6.053736</td>\n",
              "      <td>13.00</td>\n",
              "      <td>0.0</td>\n",
              "      <td>45.0</td>\n",
              "      <td>1.0</td>\n",
              "      <td>2022.0</td>\n",
              "    </tr>\n",
              "  </tbody>\n",
              "</table>\n",
              "</div>\n",
              "    <div class=\"colab-df-buttons\">\n",
              "\n",
              "  <div class=\"colab-df-container\">\n",
              "    <button class=\"colab-df-convert\" onclick=\"convertToInteractive('df-753fb586-fcf0-4650-9cc8-9f94457755e3')\"\n",
              "            title=\"Convert this dataframe to an interactive table.\"\n",
              "            style=\"display:none;\">\n",
              "\n",
              "  <svg xmlns=\"http://www.w3.org/2000/svg\" height=\"24px\" viewBox=\"0 -960 960 960\">\n",
              "    <path d=\"M120-120v-720h720v720H120Zm60-500h600v-160H180v160Zm220 220h160v-160H400v160Zm0 220h160v-160H400v160ZM180-400h160v-160H180v160Zm440 0h160v-160H620v160ZM180-180h160v-160H180v160Zm440 0h160v-160H620v160Z\"/>\n",
              "  </svg>\n",
              "    </button>\n",
              "\n",
              "  <style>\n",
              "    .colab-df-container {\n",
              "      display:flex;\n",
              "      gap: 12px;\n",
              "    }\n",
              "\n",
              "    .colab-df-convert {\n",
              "      background-color: #E8F0FE;\n",
              "      border: none;\n",
              "      border-radius: 50%;\n",
              "      cursor: pointer;\n",
              "      display: none;\n",
              "      fill: #1967D2;\n",
              "      height: 32px;\n",
              "      padding: 0 0 0 0;\n",
              "      width: 32px;\n",
              "    }\n",
              "\n",
              "    .colab-df-convert:hover {\n",
              "      background-color: #E2EBFA;\n",
              "      box-shadow: 0px 1px 2px rgba(60, 64, 67, 0.3), 0px 1px 3px 1px rgba(60, 64, 67, 0.15);\n",
              "      fill: #174EA6;\n",
              "    }\n",
              "\n",
              "    .colab-df-buttons div {\n",
              "      margin-bottom: 4px;\n",
              "    }\n",
              "\n",
              "    [theme=dark] .colab-df-convert {\n",
              "      background-color: #3B4455;\n",
              "      fill: #D2E3FC;\n",
              "    }\n",
              "\n",
              "    [theme=dark] .colab-df-convert:hover {\n",
              "      background-color: #434B5C;\n",
              "      box-shadow: 0px 1px 3px 1px rgba(0, 0, 0, 0.15);\n",
              "      filter: drop-shadow(0px 1px 2px rgba(0, 0, 0, 0.3));\n",
              "      fill: #FFFFFF;\n",
              "    }\n",
              "  </style>\n",
              "\n",
              "    <script>\n",
              "      const buttonEl =\n",
              "        document.querySelector('#df-753fb586-fcf0-4650-9cc8-9f94457755e3 button.colab-df-convert');\n",
              "      buttonEl.style.display =\n",
              "        google.colab.kernel.accessAllowed ? 'block' : 'none';\n",
              "\n",
              "      async function convertToInteractive(key) {\n",
              "        const element = document.querySelector('#df-753fb586-fcf0-4650-9cc8-9f94457755e3');\n",
              "        const dataTable =\n",
              "          await google.colab.kernel.invokeFunction('convertToInteractive',\n",
              "                                                    [key], {});\n",
              "        if (!dataTable) return;\n",
              "\n",
              "        const docLinkHtml = 'Like what you see? Visit the ' +\n",
              "          '<a target=\"_blank\" href=https://colab.research.google.com/notebooks/data_table.ipynb>data table notebook</a>'\n",
              "          + ' to learn more about interactive tables.';\n",
              "        element.innerHTML = '';\n",
              "        dataTable['output_type'] = 'display_data';\n",
              "        await google.colab.output.renderOutput(dataTable, element);\n",
              "        const docLink = document.createElement('div');\n",
              "        docLink.innerHTML = docLinkHtml;\n",
              "        element.appendChild(docLink);\n",
              "      }\n",
              "    </script>\n",
              "  </div>\n",
              "\n",
              "\n",
              "<div id=\"df-11fc9715-fbf6-49fb-9463-962bdce7a396\">\n",
              "  <button class=\"colab-df-quickchart\" onclick=\"quickchart('df-11fc9715-fbf6-49fb-9463-962bdce7a396')\"\n",
              "            title=\"Suggest charts\"\n",
              "            style=\"display:none;\">\n",
              "\n",
              "<svg xmlns=\"http://www.w3.org/2000/svg\" height=\"24px\"viewBox=\"0 0 24 24\"\n",
              "     width=\"24px\">\n",
              "    <g>\n",
              "        <path d=\"M19 3H5c-1.1 0-2 .9-2 2v14c0 1.1.9 2 2 2h14c1.1 0 2-.9 2-2V5c0-1.1-.9-2-2-2zM9 17H7v-7h2v7zm4 0h-2V7h2v10zm4 0h-2v-4h2v4z\"/>\n",
              "    </g>\n",
              "</svg>\n",
              "  </button>\n",
              "\n",
              "<style>\n",
              "  .colab-df-quickchart {\n",
              "      --bg-color: #E8F0FE;\n",
              "      --fill-color: #1967D2;\n",
              "      --hover-bg-color: #E2EBFA;\n",
              "      --hover-fill-color: #174EA6;\n",
              "      --disabled-fill-color: #AAA;\n",
              "      --disabled-bg-color: #DDD;\n",
              "  }\n",
              "\n",
              "  [theme=dark] .colab-df-quickchart {\n",
              "      --bg-color: #3B4455;\n",
              "      --fill-color: #D2E3FC;\n",
              "      --hover-bg-color: #434B5C;\n",
              "      --hover-fill-color: #FFFFFF;\n",
              "      --disabled-bg-color: #3B4455;\n",
              "      --disabled-fill-color: #666;\n",
              "  }\n",
              "\n",
              "  .colab-df-quickchart {\n",
              "    background-color: var(--bg-color);\n",
              "    border: none;\n",
              "    border-radius: 50%;\n",
              "    cursor: pointer;\n",
              "    display: none;\n",
              "    fill: var(--fill-color);\n",
              "    height: 32px;\n",
              "    padding: 0;\n",
              "    width: 32px;\n",
              "  }\n",
              "\n",
              "  .colab-df-quickchart:hover {\n",
              "    background-color: var(--hover-bg-color);\n",
              "    box-shadow: 0 1px 2px rgba(60, 64, 67, 0.3), 0 1px 3px 1px rgba(60, 64, 67, 0.15);\n",
              "    fill: var(--button-hover-fill-color);\n",
              "  }\n",
              "\n",
              "  .colab-df-quickchart-complete:disabled,\n",
              "  .colab-df-quickchart-complete:disabled:hover {\n",
              "    background-color: var(--disabled-bg-color);\n",
              "    fill: var(--disabled-fill-color);\n",
              "    box-shadow: none;\n",
              "  }\n",
              "\n",
              "  .colab-df-spinner {\n",
              "    border: 2px solid var(--fill-color);\n",
              "    border-color: transparent;\n",
              "    border-bottom-color: var(--fill-color);\n",
              "    animation:\n",
              "      spin 1s steps(1) infinite;\n",
              "  }\n",
              "\n",
              "  @keyframes spin {\n",
              "    0% {\n",
              "      border-color: transparent;\n",
              "      border-bottom-color: var(--fill-color);\n",
              "      border-left-color: var(--fill-color);\n",
              "    }\n",
              "    20% {\n",
              "      border-color: transparent;\n",
              "      border-left-color: var(--fill-color);\n",
              "      border-top-color: var(--fill-color);\n",
              "    }\n",
              "    30% {\n",
              "      border-color: transparent;\n",
              "      border-left-color: var(--fill-color);\n",
              "      border-top-color: var(--fill-color);\n",
              "      border-right-color: var(--fill-color);\n",
              "    }\n",
              "    40% {\n",
              "      border-color: transparent;\n",
              "      border-right-color: var(--fill-color);\n",
              "      border-top-color: var(--fill-color);\n",
              "    }\n",
              "    60% {\n",
              "      border-color: transparent;\n",
              "      border-right-color: var(--fill-color);\n",
              "    }\n",
              "    80% {\n",
              "      border-color: transparent;\n",
              "      border-right-color: var(--fill-color);\n",
              "      border-bottom-color: var(--fill-color);\n",
              "    }\n",
              "    90% {\n",
              "      border-color: transparent;\n",
              "      border-bottom-color: var(--fill-color);\n",
              "    }\n",
              "  }\n",
              "</style>\n",
              "\n",
              "  <script>\n",
              "    async function quickchart(key) {\n",
              "      const quickchartButtonEl =\n",
              "        document.querySelector('#' + key + ' button');\n",
              "      quickchartButtonEl.disabled = true;  // To prevent multiple clicks.\n",
              "      quickchartButtonEl.classList.add('colab-df-spinner');\n",
              "      try {\n",
              "        const charts = await google.colab.kernel.invokeFunction(\n",
              "            'suggestCharts', [key], {});\n",
              "      } catch (error) {\n",
              "        console.error('Error during call to suggestCharts:', error);\n",
              "      }\n",
              "      quickchartButtonEl.classList.remove('colab-df-spinner');\n",
              "      quickchartButtonEl.classList.add('colab-df-quickchart-complete');\n",
              "    }\n",
              "    (() => {\n",
              "      let quickchartButtonEl =\n",
              "        document.querySelector('#df-11fc9715-fbf6-49fb-9463-962bdce7a396 button');\n",
              "      quickchartButtonEl.style.display =\n",
              "        google.colab.kernel.accessAllowed ? 'block' : 'none';\n",
              "    })();\n",
              "  </script>\n",
              "</div>\n",
              "\n",
              "    </div>\n",
              "  </div>\n"
            ],
            "application/vnd.google.colaboratory.intrinsic+json": {
              "type": "dataframe"
            }
          },
          "metadata": {},
          "execution_count": 588
        }
      ]
    },
    {
      "cell_type": "code",
      "source": [],
      "metadata": {
        "id": "LdxH0Ai_y1bV"
      },
      "execution_count": null,
      "outputs": []
    },
    {
      "cell_type": "code",
      "execution_count": 457,
      "metadata": {
        "id": "pfNYh71Coi6u"
      },
      "outputs": [],
      "source": [
        "def get_initial_window_size(store_group, validation_length, num_folds):\n",
        "    total_periods = len(store_group.index.get_level_values('date').unique())\n",
        "    initial_window = total_periods - validation_length * num_folds\n",
        "    return initial_window\n",
        "\n",
        "cv_list = []\n",
        "\n",
        "for (store,item), group in train_2_wind_upd:\n",
        "\n",
        "    # Calculate the initial window size for the current store\n",
        "    initial_window = get_initial_window_size(group, validation_length = 7, num_folds = 5)\n",
        "\n",
        "    # Initialize the ExpandingWindowSplitter for the current group\n",
        "    splitter = ExpandingWindowSplitter(\n",
        "        initial_window=initial_window,\n",
        "        step_length=7,\n",
        "        fh=list(range(1, 7 + 1))\n",
        "    )\n",
        "\n",
        "    cv_list.append(({f\"{store}\"+\"_\"+f\"{item}\":splitter},\n",
        "                        {f\"{store}\"+\"_\"+f\"{item}\":group}))\n"
      ]
    },
    {
      "cell_type": "code",
      "source": [
        "plot_windows(cv = list(cv_list[1][0].values())[0], y = list(cv_list[1][1].values())[0])"
      ],
      "metadata": {
        "colab": {
          "base_uri": "https://localhost:8080/",
          "height": 742
        },
        "id": "RF6xNcAJv5Xo",
        "outputId": "dc65a455-8e6d-4c37-c1d1-d14f95f40509"
      },
      "execution_count": 500,
      "outputs": [
        {
          "output_type": "error",
          "ename": "ValueError",
          "evalue": "The `window_length` and the forecasting horizon are incompatible with the length of `y`. Found `window_length`=531, `max(fh)`=7, but len(y)=5. It is required that the window length plus maximum forecast horizon is smaller than the length of the time series `y` itself.",
          "traceback": [
            "\u001b[0;31m---------------------------------------------------------------------------\u001b[0m",
            "\u001b[0;31mValueError\u001b[0m                                Traceback (most recent call last)",
            "\u001b[0;32m<ipython-input-500-f80f43f3dec3>\u001b[0m in \u001b[0;36m<cell line: 1>\u001b[0;34m()\u001b[0m\n\u001b[0;32m----> 1\u001b[0;31m \u001b[0mplot_windows\u001b[0m\u001b[0;34m(\u001b[0m\u001b[0mcv\u001b[0m \u001b[0;34m=\u001b[0m \u001b[0mlist\u001b[0m\u001b[0;34m(\u001b[0m\u001b[0mcv_list\u001b[0m\u001b[0;34m[\u001b[0m\u001b[0;36m1\u001b[0m\u001b[0;34m]\u001b[0m\u001b[0;34m[\u001b[0m\u001b[0;36m0\u001b[0m\u001b[0;34m]\u001b[0m\u001b[0;34m.\u001b[0m\u001b[0mvalues\u001b[0m\u001b[0;34m(\u001b[0m\u001b[0;34m)\u001b[0m\u001b[0;34m)\u001b[0m\u001b[0;34m[\u001b[0m\u001b[0;36m0\u001b[0m\u001b[0;34m]\u001b[0m\u001b[0;34m,\u001b[0m \u001b[0my\u001b[0m \u001b[0;34m=\u001b[0m \u001b[0mlist\u001b[0m\u001b[0;34m(\u001b[0m\u001b[0mcv_list\u001b[0m\u001b[0;34m[\u001b[0m\u001b[0;36m1\u001b[0m\u001b[0;34m]\u001b[0m\u001b[0;34m[\u001b[0m\u001b[0;36m1\u001b[0m\u001b[0;34m]\u001b[0m\u001b[0;34m.\u001b[0m\u001b[0mvalues\u001b[0m\u001b[0;34m(\u001b[0m\u001b[0;34m)\u001b[0m\u001b[0;34m)\u001b[0m\u001b[0;34m[\u001b[0m\u001b[0;36m0\u001b[0m\u001b[0;34m]\u001b[0m\u001b[0;34m)\u001b[0m\u001b[0;34m\u001b[0m\u001b[0;34m\u001b[0m\u001b[0m\n\u001b[0m",
            "\u001b[0;32m/usr/local/lib/python3.10/dist-packages/sktime/utils/plotting.py\u001b[0m in \u001b[0;36mplot_windows\u001b[0;34m(cv, y, title, ax)\u001b[0m\n\u001b[1;32m    468\u001b[0m         \u001b[0mfig\u001b[0m\u001b[0;34m,\u001b[0m \u001b[0max\u001b[0m \u001b[0;34m=\u001b[0m \u001b[0mplt\u001b[0m\u001b[0;34m.\u001b[0m\u001b[0msubplots\u001b[0m\u001b[0;34m(\u001b[0m\u001b[0mfigsize\u001b[0m\u001b[0;34m=\u001b[0m\u001b[0mplt\u001b[0m\u001b[0;34m.\u001b[0m\u001b[0mfigaspect\u001b[0m\u001b[0;34m(\u001b[0m\u001b[0;36m0.3\u001b[0m\u001b[0;34m)\u001b[0m\u001b[0;34m)\u001b[0m\u001b[0;34m\u001b[0m\u001b[0;34m\u001b[0m\u001b[0m\n\u001b[1;32m    469\u001b[0m \u001b[0;34m\u001b[0m\u001b[0m\n\u001b[0;32m--> 470\u001b[0;31m     \u001b[0mtrain_windows\u001b[0m\u001b[0;34m,\u001b[0m \u001b[0mtest_windows\u001b[0m \u001b[0;34m=\u001b[0m \u001b[0m_get_windows\u001b[0m\u001b[0;34m(\u001b[0m\u001b[0mcv\u001b[0m\u001b[0;34m,\u001b[0m \u001b[0my\u001b[0m\u001b[0;34m)\u001b[0m\u001b[0;34m\u001b[0m\u001b[0;34m\u001b[0m\u001b[0m\n\u001b[0m\u001b[1;32m    471\u001b[0m \u001b[0;34m\u001b[0m\u001b[0m\n\u001b[1;32m    472\u001b[0m     \u001b[0;32mdef\u001b[0m \u001b[0mget_y\u001b[0m\u001b[0;34m(\u001b[0m\u001b[0mlength\u001b[0m\u001b[0;34m,\u001b[0m \u001b[0msplit\u001b[0m\u001b[0;34m)\u001b[0m\u001b[0;34m:\u001b[0m\u001b[0;34m\u001b[0m\u001b[0;34m\u001b[0m\u001b[0m\n",
            "\u001b[0;32m/usr/local/lib/python3.10/dist-packages/sktime/utils/plotting.py\u001b[0m in \u001b[0;36m_get_windows\u001b[0;34m(cv, y)\u001b[0m\n\u001b[1;32m    416\u001b[0m     \u001b[0mtrain_windows\u001b[0m \u001b[0;34m=\u001b[0m \u001b[0;34m[\u001b[0m\u001b[0;34m]\u001b[0m\u001b[0;34m\u001b[0m\u001b[0;34m\u001b[0m\u001b[0m\n\u001b[1;32m    417\u001b[0m     \u001b[0mtest_windows\u001b[0m \u001b[0;34m=\u001b[0m \u001b[0;34m[\u001b[0m\u001b[0;34m]\u001b[0m\u001b[0;34m\u001b[0m\u001b[0;34m\u001b[0m\u001b[0m\n\u001b[0;32m--> 418\u001b[0;31m     \u001b[0;32mfor\u001b[0m \u001b[0mtrain\u001b[0m\u001b[0;34m,\u001b[0m \u001b[0mtest\u001b[0m \u001b[0;32min\u001b[0m \u001b[0mcv\u001b[0m\u001b[0;34m.\u001b[0m\u001b[0msplit\u001b[0m\u001b[0;34m(\u001b[0m\u001b[0my\u001b[0m\u001b[0;34m)\u001b[0m\u001b[0;34m:\u001b[0m\u001b[0;34m\u001b[0m\u001b[0;34m\u001b[0m\u001b[0m\n\u001b[0m\u001b[1;32m    419\u001b[0m         \u001b[0mtrain_windows\u001b[0m\u001b[0;34m.\u001b[0m\u001b[0mappend\u001b[0m\u001b[0;34m(\u001b[0m\u001b[0mtrain\u001b[0m\u001b[0;34m)\u001b[0m\u001b[0;34m\u001b[0m\u001b[0;34m\u001b[0m\u001b[0m\n\u001b[1;32m    420\u001b[0m         \u001b[0mtest_windows\u001b[0m\u001b[0;34m.\u001b[0m\u001b[0mappend\u001b[0m\u001b[0;34m(\u001b[0m\u001b[0mtest\u001b[0m\u001b[0;34m)\u001b[0m\u001b[0;34m\u001b[0m\u001b[0;34m\u001b[0m\u001b[0m\n",
            "\u001b[0;32m/usr/local/lib/python3.10/dist-packages/sktime/split/base/_base_splitter.py\u001b[0m in \u001b[0;36msplit\u001b[0;34m(self, y)\u001b[0m\n\u001b[1;32m    140\u001b[0m             \u001b[0msplit\u001b[0m \u001b[0;34m=\u001b[0m \u001b[0mself\u001b[0m\u001b[0;34m.\u001b[0m\u001b[0m_split_vectorized\u001b[0m\u001b[0;34m\u001b[0m\u001b[0;34m\u001b[0m\u001b[0m\n\u001b[1;32m    141\u001b[0m \u001b[0;34m\u001b[0m\u001b[0m\n\u001b[0;32m--> 142\u001b[0;31m         \u001b[0;32mfor\u001b[0m \u001b[0mtrain\u001b[0m\u001b[0;34m,\u001b[0m \u001b[0mtest\u001b[0m \u001b[0;32min\u001b[0m \u001b[0msplit\u001b[0m\u001b[0;34m(\u001b[0m\u001b[0my_index\u001b[0m\u001b[0;34m)\u001b[0m\u001b[0;34m:\u001b[0m\u001b[0;34m\u001b[0m\u001b[0;34m\u001b[0m\u001b[0m\n\u001b[0m\u001b[1;32m    143\u001b[0m             \u001b[0;32myield\u001b[0m \u001b[0mtrain\u001b[0m\u001b[0;34m[\u001b[0m\u001b[0mtrain\u001b[0m \u001b[0;34m>=\u001b[0m \u001b[0;36m0\u001b[0m\u001b[0;34m]\u001b[0m\u001b[0;34m,\u001b[0m \u001b[0mtest\u001b[0m\u001b[0;34m[\u001b[0m\u001b[0mtest\u001b[0m \u001b[0;34m>=\u001b[0m \u001b[0;36m0\u001b[0m\u001b[0;34m]\u001b[0m\u001b[0;34m\u001b[0m\u001b[0;34m\u001b[0m\u001b[0m\n\u001b[1;32m    144\u001b[0m \u001b[0;34m\u001b[0m\u001b[0m\n",
            "\u001b[0;32m/usr/local/lib/python3.10/dist-packages/sktime/split/base/_base_splitter.py\u001b[0m in \u001b[0;36m_split_vectorized\u001b[0;34m(self, y)\u001b[0m\n\u001b[1;32m    192\u001b[0m         \u001b[0mtest\u001b[0m \u001b[0;34m=\u001b[0m \u001b[0;34m[\u001b[0m\u001b[0;34m]\u001b[0m\u001b[0;34m\u001b[0m\u001b[0;34m\u001b[0m\u001b[0m\n\u001b[1;32m    193\u001b[0m         \u001b[0;32mfor\u001b[0m \u001b[0msplit_inst\u001b[0m\u001b[0;34m,\u001b[0m \u001b[0manchor\u001b[0m \u001b[0;32min\u001b[0m \u001b[0mzip\u001b[0m\u001b[0;34m(\u001b[0m\u001b[0msplits\u001b[0m\u001b[0;34m,\u001b[0m \u001b[0manchors\u001b[0m\u001b[0;34m)\u001b[0m\u001b[0;34m:\u001b[0m\u001b[0;34m\u001b[0m\u001b[0;34m\u001b[0m\u001b[0m\n\u001b[0;32m--> 194\u001b[0;31m             \u001b[0mtrain_inst\u001b[0m\u001b[0;34m,\u001b[0m \u001b[0mtest_inst\u001b[0m \u001b[0;34m=\u001b[0m \u001b[0mzip\u001b[0m\u001b[0;34m(\u001b[0m\u001b[0;34m*\u001b[0m\u001b[0msplit_inst\u001b[0m\u001b[0;34m)\u001b[0m\u001b[0;34m\u001b[0m\u001b[0;34m\u001b[0m\u001b[0m\n\u001b[0m\u001b[1;32m    195\u001b[0m             \u001b[0mtrain\u001b[0m\u001b[0;34m.\u001b[0m\u001b[0mappend\u001b[0m\u001b[0;34m(\u001b[0m\u001b[0mtuple\u001b[0m\u001b[0;34m(\u001b[0m\u001b[0mindices\u001b[0m \u001b[0;34m+\u001b[0m \u001b[0manchor\u001b[0m \u001b[0;32mfor\u001b[0m \u001b[0mindices\u001b[0m \u001b[0;32min\u001b[0m \u001b[0mtrain_inst\u001b[0m\u001b[0;34m)\u001b[0m\u001b[0;34m)\u001b[0m\u001b[0;34m\u001b[0m\u001b[0;34m\u001b[0m\u001b[0m\n\u001b[1;32m    196\u001b[0m             \u001b[0mtest\u001b[0m\u001b[0;34m.\u001b[0m\u001b[0mappend\u001b[0m\u001b[0;34m(\u001b[0m\u001b[0mtuple\u001b[0m\u001b[0;34m(\u001b[0m\u001b[0mindices\u001b[0m \u001b[0;34m+\u001b[0m \u001b[0manchor\u001b[0m \u001b[0;32mfor\u001b[0m \u001b[0mindices\u001b[0m \u001b[0;32min\u001b[0m \u001b[0mtest_inst\u001b[0m\u001b[0;34m)\u001b[0m\u001b[0;34m)\u001b[0m\u001b[0;34m\u001b[0m\u001b[0;34m\u001b[0m\u001b[0m\n",
            "\u001b[0;32m/usr/local/lib/python3.10/dist-packages/sktime/split/base/_base_windowsplitter.py\u001b[0m in \u001b[0;36m_split\u001b[0;34m(self, y)\u001b[0m\n\u001b[1;32m    137\u001b[0m         )\n\u001b[1;32m    138\u001b[0m         \u001b[0mfh\u001b[0m \u001b[0;34m=\u001b[0m \u001b[0m_check_fh\u001b[0m\u001b[0;34m(\u001b[0m\u001b[0mself\u001b[0m\u001b[0;34m.\u001b[0m\u001b[0mfh\u001b[0m\u001b[0;34m)\u001b[0m\u001b[0;34m\u001b[0m\u001b[0;34m\u001b[0m\u001b[0m\n\u001b[0;32m--> 139\u001b[0;31m         _check_window_lengths(\n\u001b[0m\u001b[1;32m    140\u001b[0m             \u001b[0my\u001b[0m\u001b[0;34m=\u001b[0m\u001b[0my\u001b[0m\u001b[0;34m,\u001b[0m \u001b[0mfh\u001b[0m\u001b[0;34m=\u001b[0m\u001b[0mfh\u001b[0m\u001b[0;34m,\u001b[0m \u001b[0mwindow_length\u001b[0m\u001b[0;34m=\u001b[0m\u001b[0mwindow_length\u001b[0m\u001b[0;34m,\u001b[0m \u001b[0minitial_window\u001b[0m\u001b[0;34m=\u001b[0m\u001b[0minitial_window\u001b[0m\u001b[0;34m\u001b[0m\u001b[0;34m\u001b[0m\u001b[0m\n\u001b[1;32m    141\u001b[0m         )\n",
            "\u001b[0;32m/usr/local/lib/python3.10/dist-packages/sktime/split/base/_base_windowsplitter.py\u001b[0m in \u001b[0;36m_check_window_lengths\u001b[0;34m(y, fh, window_length, initial_window)\u001b[0m\n\u001b[1;32m     73\u001b[0m     \u001b[0;32melse\u001b[0m\u001b[0;34m:\u001b[0m\u001b[0;34m\u001b[0m\u001b[0;34m\u001b[0m\u001b[0m\n\u001b[1;32m     74\u001b[0m         \u001b[0;32mif\u001b[0m \u001b[0mwindow_length\u001b[0m \u001b[0;34m+\u001b[0m \u001b[0mfh_max\u001b[0m \u001b[0;34m>\u001b[0m \u001b[0mn_timepoints\u001b[0m\u001b[0;34m:\u001b[0m\u001b[0;34m\u001b[0m\u001b[0;34m\u001b[0m\u001b[0m\n\u001b[0;32m---> 75\u001b[0;31m             \u001b[0;32mraise\u001b[0m \u001b[0mValueError\u001b[0m\u001b[0;34m(\u001b[0m\u001b[0merror_msg_for_incompatible_window_length\u001b[0m\u001b[0;34m)\u001b[0m\u001b[0;34m\u001b[0m\u001b[0;34m\u001b[0m\u001b[0m\n\u001b[0m\u001b[1;32m     76\u001b[0m \u001b[0;34m\u001b[0m\u001b[0m\n\u001b[1;32m     77\u001b[0m     error_msg_for_incompatible_initial_window = (\n",
            "\u001b[0;31mValueError\u001b[0m: The `window_length` and the forecasting horizon are incompatible with the length of `y`. Found `window_length`=531, `max(fh)`=7, but len(y)=5. It is required that the window length plus maximum forecast horizon is smaller than the length of the time series `y` itself."
          ]
        },
        {
          "output_type": "display_data",
          "data": {
            "text/plain": [
              "<Figure size 1600x480 with 1 Axes>"
            ],
            "image/png": "[encoded data removed]"
          },
          "metadata": {}
        }
      ]
    },
    {
      "cell_type": "code",
      "execution_count": 435,
      "metadata": {
        "colab": {
          "base_uri": "https://localhost:8080/",
          "height": 777
        },
        "id": "CMfTgVd5oi6x",
        "outputId": "68faa135-5866-43a4-f18c-70c244261b89"
      },
      "outputs": [
        {
          "output_type": "error",
          "ename": "ValueError",
          "evalue": "The `window_length` and the forecasting horizon are incompatible with the length of `y`. Found `window_length`=531, `max(fh)`=7, but len(y)=3. It is required that the window length plus maximum forecast horizon is smaller than the length of the time series `y` itself.",
          "traceback": [
            "\u001b[0;31m---------------------------------------------------------------------------\u001b[0m",
            "\u001b[0;31mValueError\u001b[0m                                Traceback (most recent call last)",
            "\u001b[0;32m<ipython-input-435-bc796104ca79>\u001b[0m in \u001b[0;36m<cell line: 1>\u001b[0;34m()\u001b[0m\n\u001b[1;32m      1\u001b[0m \u001b[0;32mfor\u001b[0m \u001b[0mi\u001b[0m \u001b[0;32min\u001b[0m \u001b[0mrange\u001b[0m\u001b[0;34m(\u001b[0m\u001b[0;36m3\u001b[0m\u001b[0;34m)\u001b[0m\u001b[0;34m:\u001b[0m\u001b[0;34m\u001b[0m\u001b[0;34m\u001b[0m\u001b[0m\n\u001b[0;32m----> 2\u001b[0;31m     plot_windows(list(cv_list[i][0].values())[0], list(cv_list[i][1].values())[0], \n\u001b[0m\u001b[1;32m      3\u001b[0m                  title = list(cv_list[i][0].keys())[0])\n",
            "\u001b[0;32m/usr/local/lib/python3.10/dist-packages/sktime/utils/plotting.py\u001b[0m in \u001b[0;36mplot_windows\u001b[0;34m(cv, y, title, ax)\u001b[0m\n\u001b[1;32m    468\u001b[0m         \u001b[0mfig\u001b[0m\u001b[0;34m,\u001b[0m \u001b[0max\u001b[0m \u001b[0;34m=\u001b[0m \u001b[0mplt\u001b[0m\u001b[0;34m.\u001b[0m\u001b[0msubplots\u001b[0m\u001b[0;34m(\u001b[0m\u001b[0mfigsize\u001b[0m\u001b[0;34m=\u001b[0m\u001b[0mplt\u001b[0m\u001b[0;34m.\u001b[0m\u001b[0mfigaspect\u001b[0m\u001b[0;34m(\u001b[0m\u001b[0;36m0.3\u001b[0m\u001b[0;34m)\u001b[0m\u001b[0;34m)\u001b[0m\u001b[0;34m\u001b[0m\u001b[0;34m\u001b[0m\u001b[0m\n\u001b[1;32m    469\u001b[0m \u001b[0;34m\u001b[0m\u001b[0m\n\u001b[0;32m--> 470\u001b[0;31m     \u001b[0mtrain_windows\u001b[0m\u001b[0;34m,\u001b[0m \u001b[0mtest_windows\u001b[0m \u001b[0;34m=\u001b[0m \u001b[0m_get_windows\u001b[0m\u001b[0;34m(\u001b[0m\u001b[0mcv\u001b[0m\u001b[0;34m,\u001b[0m \u001b[0my\u001b[0m\u001b[0;34m)\u001b[0m\u001b[0;34m\u001b[0m\u001b[0;34m\u001b[0m\u001b[0m\n\u001b[0m\u001b[1;32m    471\u001b[0m \u001b[0;34m\u001b[0m\u001b[0m\n\u001b[1;32m    472\u001b[0m     \u001b[0;32mdef\u001b[0m \u001b[0mget_y\u001b[0m\u001b[0;34m(\u001b[0m\u001b[0mlength\u001b[0m\u001b[0;34m,\u001b[0m \u001b[0msplit\u001b[0m\u001b[0;34m)\u001b[0m\u001b[0;34m:\u001b[0m\u001b[0;34m\u001b[0m\u001b[0;34m\u001b[0m\u001b[0m\n",
            "\u001b[0;32m/usr/local/lib/python3.10/dist-packages/sktime/utils/plotting.py\u001b[0m in \u001b[0;36m_get_windows\u001b[0;34m(cv, y)\u001b[0m\n\u001b[1;32m    416\u001b[0m     \u001b[0mtrain_windows\u001b[0m \u001b[0;34m=\u001b[0m \u001b[0;34m[\u001b[0m\u001b[0;34m]\u001b[0m\u001b[0;34m\u001b[0m\u001b[0;34m\u001b[0m\u001b[0m\n\u001b[1;32m    417\u001b[0m     \u001b[0mtest_windows\u001b[0m \u001b[0;34m=\u001b[0m \u001b[0;34m[\u001b[0m\u001b[0;34m]\u001b[0m\u001b[0;34m\u001b[0m\u001b[0;34m\u001b[0m\u001b[0m\n\u001b[0;32m--> 418\u001b[0;31m     \u001b[0;32mfor\u001b[0m \u001b[0mtrain\u001b[0m\u001b[0;34m,\u001b[0m \u001b[0mtest\u001b[0m \u001b[0;32min\u001b[0m \u001b[0mcv\u001b[0m\u001b[0;34m.\u001b[0m\u001b[0msplit\u001b[0m\u001b[0;34m(\u001b[0m\u001b[0my\u001b[0m\u001b[0;34m)\u001b[0m\u001b[0;34m:\u001b[0m\u001b[0;34m\u001b[0m\u001b[0;34m\u001b[0m\u001b[0m\n\u001b[0m\u001b[1;32m    419\u001b[0m         \u001b[0mtrain_windows\u001b[0m\u001b[0;34m.\u001b[0m\u001b[0mappend\u001b[0m\u001b[0;34m(\u001b[0m\u001b[0mtrain\u001b[0m\u001b[0;34m)\u001b[0m\u001b[0;34m\u001b[0m\u001b[0;34m\u001b[0m\u001b[0m\n\u001b[1;32m    420\u001b[0m         \u001b[0mtest_windows\u001b[0m\u001b[0;34m.\u001b[0m\u001b[0mappend\u001b[0m\u001b[0;34m(\u001b[0m\u001b[0mtest\u001b[0m\u001b[0;34m)\u001b[0m\u001b[0;34m\u001b[0m\u001b[0;34m\u001b[0m\u001b[0m\n",
            "\u001b[0;32m/usr/local/lib/python3.10/dist-packages/sktime/split/base/_base_splitter.py\u001b[0m in \u001b[0;36msplit\u001b[0;34m(self, y)\u001b[0m\n\u001b[1;32m    140\u001b[0m             \u001b[0msplit\u001b[0m \u001b[0;34m=\u001b[0m \u001b[0mself\u001b[0m\u001b[0;34m.\u001b[0m\u001b[0m_split_vectorized\u001b[0m\u001b[0;34m\u001b[0m\u001b[0;34m\u001b[0m\u001b[0m\n\u001b[1;32m    141\u001b[0m \u001b[0;34m\u001b[0m\u001b[0m\n\u001b[0;32m--> 142\u001b[0;31m         \u001b[0;32mfor\u001b[0m \u001b[0mtrain\u001b[0m\u001b[0;34m,\u001b[0m \u001b[0mtest\u001b[0m \u001b[0;32min\u001b[0m \u001b[0msplit\u001b[0m\u001b[0;34m(\u001b[0m\u001b[0my_index\u001b[0m\u001b[0;34m)\u001b[0m\u001b[0;34m:\u001b[0m\u001b[0;34m\u001b[0m\u001b[0;34m\u001b[0m\u001b[0m\n\u001b[0m\u001b[1;32m    143\u001b[0m             \u001b[0;32myield\u001b[0m \u001b[0mtrain\u001b[0m\u001b[0;34m[\u001b[0m\u001b[0mtrain\u001b[0m \u001b[0;34m>=\u001b[0m \u001b[0;36m0\u001b[0m\u001b[0;34m]\u001b[0m\u001b[0;34m,\u001b[0m \u001b[0mtest\u001b[0m\u001b[0;34m[\u001b[0m\u001b[0mtest\u001b[0m \u001b[0;34m>=\u001b[0m \u001b[0;36m0\u001b[0m\u001b[0;34m]\u001b[0m\u001b[0;34m\u001b[0m\u001b[0;34m\u001b[0m\u001b[0m\n\u001b[1;32m    144\u001b[0m \u001b[0;34m\u001b[0m\u001b[0m\n",
            "\u001b[0;32m/usr/local/lib/python3.10/dist-packages/sktime/split/base/_base_splitter.py\u001b[0m in \u001b[0;36m_split_vectorized\u001b[0;34m(self, y)\u001b[0m\n\u001b[1;32m    192\u001b[0m         \u001b[0mtest\u001b[0m \u001b[0;34m=\u001b[0m \u001b[0;34m[\u001b[0m\u001b[0;34m]\u001b[0m\u001b[0;34m\u001b[0m\u001b[0;34m\u001b[0m\u001b[0m\n\u001b[1;32m    193\u001b[0m         \u001b[0;32mfor\u001b[0m \u001b[0msplit_inst\u001b[0m\u001b[0;34m,\u001b[0m \u001b[0manchor\u001b[0m \u001b[0;32min\u001b[0m \u001b[0mzip\u001b[0m\u001b[0;34m(\u001b[0m\u001b[0msplits\u001b[0m\u001b[0;34m,\u001b[0m \u001b[0manchors\u001b[0m\u001b[0;34m)\u001b[0m\u001b[0;34m:\u001b[0m\u001b[0;34m\u001b[0m\u001b[0;34m\u001b[0m\u001b[0m\n\u001b[0;32m--> 194\u001b[0;31m             \u001b[0mtrain_inst\u001b[0m\u001b[0;34m,\u001b[0m \u001b[0mtest_inst\u001b[0m \u001b[0;34m=\u001b[0m \u001b[0mzip\u001b[0m\u001b[0;34m(\u001b[0m\u001b[0;34m*\u001b[0m\u001b[0msplit_inst\u001b[0m\u001b[0;34m)\u001b[0m\u001b[0;34m\u001b[0m\u001b[0;34m\u001b[0m\u001b[0m\n\u001b[0m\u001b[1;32m    195\u001b[0m             \u001b[0mtrain\u001b[0m\u001b[0;34m.\u001b[0m\u001b[0mappend\u001b[0m\u001b[0;34m(\u001b[0m\u001b[0mtuple\u001b[0m\u001b[0;34m(\u001b[0m\u001b[0mindices\u001b[0m \u001b[0;34m+\u001b[0m \u001b[0manchor\u001b[0m \u001b[0;32mfor\u001b[0m \u001b[0mindices\u001b[0m \u001b[0;32min\u001b[0m \u001b[0mtrain_inst\u001b[0m\u001b[0;34m)\u001b[0m\u001b[0;34m)\u001b[0m\u001b[0;34m\u001b[0m\u001b[0;34m\u001b[0m\u001b[0m\n\u001b[1;32m    196\u001b[0m             \u001b[0mtest\u001b[0m\u001b[0;34m.\u001b[0m\u001b[0mappend\u001b[0m\u001b[0;34m(\u001b[0m\u001b[0mtuple\u001b[0m\u001b[0;34m(\u001b[0m\u001b[0mindices\u001b[0m \u001b[0;34m+\u001b[0m \u001b[0manchor\u001b[0m \u001b[0;32mfor\u001b[0m \u001b[0mindices\u001b[0m \u001b[0;32min\u001b[0m \u001b[0mtest_inst\u001b[0m\u001b[0;34m)\u001b[0m\u001b[0;34m)\u001b[0m\u001b[0;34m\u001b[0m\u001b[0;34m\u001b[0m\u001b[0m\n",
            "\u001b[0;32m/usr/local/lib/python3.10/dist-packages/sktime/split/base/_base_windowsplitter.py\u001b[0m in \u001b[0;36m_split\u001b[0;34m(self, y)\u001b[0m\n\u001b[1;32m    137\u001b[0m         )\n\u001b[1;32m    138\u001b[0m         \u001b[0mfh\u001b[0m \u001b[0;34m=\u001b[0m \u001b[0m_check_fh\u001b[0m\u001b[0;34m(\u001b[0m\u001b[0mself\u001b[0m\u001b[0;34m.\u001b[0m\u001b[0mfh\u001b[0m\u001b[0;34m)\u001b[0m\u001b[0;34m\u001b[0m\u001b[0;34m\u001b[0m\u001b[0m\n\u001b[0;32m--> 139\u001b[0;31m         _check_window_lengths(\n\u001b[0m\u001b[1;32m    140\u001b[0m             \u001b[0my\u001b[0m\u001b[0;34m=\u001b[0m\u001b[0my\u001b[0m\u001b[0;34m,\u001b[0m \u001b[0mfh\u001b[0m\u001b[0;34m=\u001b[0m\u001b[0mfh\u001b[0m\u001b[0;34m,\u001b[0m \u001b[0mwindow_length\u001b[0m\u001b[0;34m=\u001b[0m\u001b[0mwindow_length\u001b[0m\u001b[0;34m,\u001b[0m \u001b[0minitial_window\u001b[0m\u001b[0;34m=\u001b[0m\u001b[0minitial_window\u001b[0m\u001b[0;34m\u001b[0m\u001b[0;34m\u001b[0m\u001b[0m\n\u001b[1;32m    141\u001b[0m         )\n",
            "\u001b[0;32m/usr/local/lib/python3.10/dist-packages/sktime/split/base/_base_windowsplitter.py\u001b[0m in \u001b[0;36m_check_window_lengths\u001b[0;34m(y, fh, window_length, initial_window)\u001b[0m\n\u001b[1;32m     73\u001b[0m     \u001b[0;32melse\u001b[0m\u001b[0;34m:\u001b[0m\u001b[0;34m\u001b[0m\u001b[0;34m\u001b[0m\u001b[0m\n\u001b[1;32m     74\u001b[0m         \u001b[0;32mif\u001b[0m \u001b[0mwindow_length\u001b[0m \u001b[0;34m+\u001b[0m \u001b[0mfh_max\u001b[0m \u001b[0;34m>\u001b[0m \u001b[0mn_timepoints\u001b[0m\u001b[0;34m:\u001b[0m\u001b[0;34m\u001b[0m\u001b[0;34m\u001b[0m\u001b[0m\n\u001b[0;32m---> 75\u001b[0;31m             \u001b[0;32mraise\u001b[0m \u001b[0mValueError\u001b[0m\u001b[0;34m(\u001b[0m\u001b[0merror_msg_for_incompatible_window_length\u001b[0m\u001b[0;34m)\u001b[0m\u001b[0;34m\u001b[0m\u001b[0;34m\u001b[0m\u001b[0m\n\u001b[0m\u001b[1;32m     76\u001b[0m \u001b[0;34m\u001b[0m\u001b[0m\n\u001b[1;32m     77\u001b[0m     error_msg_for_incompatible_initial_window = (\n",
            "\u001b[0;31mValueError\u001b[0m: The `window_length` and the forecasting horizon are incompatible with the length of `y`. Found `window_length`=531, `max(fh)`=7, but len(y)=3. It is required that the window length plus maximum forecast horizon is smaller than the length of the time series `y` itself."
          ]
        },
        {
          "output_type": "display_data",
          "data": {
            "text/plain": [
              "<Figure size 1600x480 with 1 Axes>"
            ],
            "image/png": "[encoded data removed]"
          },
          "metadata": {}
        }
      ],
      "source": [
        "for i in range(3):\n",
        "    plot_windows(list(cv_list[i][0].values())[0], list(cv_list[i][1].values())[0],\n",
        "                 title = list(cv_list[i][0].keys())[0])"
      ]
    },
    {
      "cell_type": "code",
      "source": [],
      "metadata": {
        "id": "TnVcdMSZyh8e"
      },
      "execution_count": null,
      "outputs": []
    },
    {
      "cell_type": "code",
      "execution_count": 128,
      "metadata": {
        "id": "smF7eKIboi6y"
      },
      "outputs": [],
      "source": [
        "model = cb.CatBoostRegressor()\n",
        "forecaster = make_reduction(estimator = model, strategy=\"recursive\", window_length = 7)"
      ]
    },
    {
      "cell_type": "code",
      "execution_count": 129,
      "metadata": {
        "id": "juTPR2WPoi6y"
      },
      "outputs": [],
      "source": [
        "params = {\n",
        "    'estimator__n_estimators': np.arange(500,5001,1),\n",
        "    \"estimator__learning_rate\": np.logspace(-4, -1),\n",
        "    \"estimator__l2_leaf_reg\": np.linspace(2, 30),\n",
        "    \"estimator__depth\":np.arange(3,17,1),\n",
        "    \"estimator__subsample\": np.linspace(0.05, 1.0),\n",
        "    \"estimator__colsample_bylevel\": np.linspace(0.05, 1.0),\n",
        "    \"estimator__min_data_in_leaf\": np.arange(10, 51, 1)}"
      ]
    },
    {
      "cell_type": "code",
      "execution_count": 130,
      "metadata": {
        "id": "r-pCFsGToi6z"
      },
      "outputs": [],
      "source": [
        "rscv_list = []\n",
        "\n",
        "for i in range(len(cv_list)):\n",
        "    rscv = ForecastingRandomizedSearchCV(forecaster = forecaster,\n",
        "                                         cv = list(cv_list[i][0].values())[0],\n",
        "                                         param_distributions=params,\n",
        "                                         strategy=\"refit\", n_iter=10, error_score=\"raise\")\n",
        "\n",
        "\n",
        "    rscv_list.append({f\"rscv_{list(cv_list[i][1].keys())[0]}\":rscv})"
      ]
    },
    {
      "cell_type": "code",
      "source": [],
      "metadata": {
        "id": "PWHFMfznyhEQ"
      },
      "execution_count": null,
      "outputs": []
    },
    {
      "cell_type": "code",
      "source": [
        "inferred_freq = pd.infer_freq(list(cv_list[0][1].values())[0].index.get_level_values(\"date\"))\n",
        "\n",
        "if inferred_freq is not None:\n",
        "    if inferred_freq != 'D':\n",
        "        list(cv_list[0][1].values())[0].index.get_level_values(\"date\").freq = \"D\"\n",
        "    else:\n",
        "        print(\"Frequency is already 'D'\")\n",
        "else:\n",
        "    print(\"Could not infer frequency. Check for irregularities or missing dates in the index.\")"
      ],
      "metadata": {
        "colab": {
          "base_uri": "https://localhost:8080/"
        },
        "id": "BEmeDDkyzdvt",
        "outputId": "b941e7f9-df59-4572-e073-d84742e6b592"
      },
      "execution_count": 131,
      "outputs": [
        {
          "output_type": "stream",
          "name": "stdout",
          "text": [
            "Could not infer frequency. Check for irregularities or missing dates in the index.\n"
          ]
        }
      ]
    },
    {
      "cell_type": "code",
      "source": [
        "list(cv_list[0][1].values())[0].index.get_level_values(\"date\")"
      ],
      "metadata": {
        "colab": {
          "base_uri": "https://localhost:8080/"
        },
        "id": "5Wzj8YZZ04-R",
        "outputId": "867b0c10-074a-4350-b3e5-1871da1942fb"
      },
      "execution_count": 132,
      "outputs": [
        {
          "output_type": "execute_result",
          "data": {
            "text/plain": [
              "DatetimeIndex(['2022-10-30', '2022-10-31', '2022-11-01', '2022-11-02',\n",
              "               '2022-11-03', '2022-11-04', '2022-11-05', '2022-11-06',\n",
              "               '2022-11-07', '2022-11-08',\n",
              "               ...\n",
              "               '2024-05-08', '2024-05-09', '2024-05-10', '2024-05-11',\n",
              "               '2024-05-12', '2024-05-13', '2024-05-14', '2024-05-15',\n",
              "               '2024-05-16', '2024-05-17'],\n",
              "              dtype='datetime64[ns]', name='date', length=563, freq=None)"
            ]
          },
          "metadata": {},
          "execution_count": 132
        }
      ]
    },
    {
      "cell_type": "code",
      "source": [
        "list(rscv_list[0].values())[0].fit(y = list(cv_list[0][1].values())[0].iloc[:,:8],\n",
        "                                   X = list(cv_list[0][1].values())[0].iloc[:,8:])"
      ],
      "metadata": {
        "colab": {
          "base_uri": "https://localhost:8080/",
          "height": 1000
        },
        "id": "bxBb1BH1taap",
        "outputId": "b923be10-42fc-4ffa-a053-4891ceff11dd"
      },
      "execution_count": 70,
      "outputs": [
        {
          "output_type": "error",
          "ename": "TypeError",
          "evalue": "unsupported operand type(s) for *=: 'int' and 'NoneType'",
          "traceback": [
            "\u001b[0;31m---------------------------------------------------------------------------\u001b[0m",
            "\u001b[0;31m_RemoteTraceback\u001b[0m                          Traceback (most recent call last)",
            "\u001b[0;31m_RemoteTraceback\u001b[0m: \n\"\"\"\nTraceback (most recent call last):\n  File \"/usr/local/lib/python3.10/dist-packages/joblib/externals/loky/process_executor.py\", line 463, in _process_worker\n    r = call_item()\n  File \"/usr/local/lib/python3.10/dist-packages/joblib/externals/loky/process_executor.py\", line 291, in __call__\n    return self.fn(*self.args, **self.kwargs)\n  File \"/usr/local/lib/python3.10/dist-packages/joblib/parallel.py\", line 598, in __call__\n    return [func(*args, **kwargs)\n  File \"/usr/local/lib/python3.10/dist-packages/joblib/parallel.py\", line 598, in <listcomp>\n    return [func(*args, **kwargs)\n  File \"/usr/local/lib/python3.10/dist-packages/sktime/forecasting/model_selection/_tune.py\", line 372, in _fit_and_score\n    out = evaluate(forecaster, **meta)\n  File \"/usr/local/lib/python3.10/dist-packages/sktime/forecasting/model_evaluation/_functions.py\", line 612, in evaluate\n    results = parallelize(\n  File \"/usr/local/lib/python3.10/dist-packages/sktime/utils/parallel.py\", line 72, in parallelize\n    ret = para_fun(\n  File \"/usr/local/lib/python3.10/dist-packages/sktime/utils/parallel.py\", line 92, in _parallelize_none\n    ret = [fun(x, meta=meta) for x in iter]\n  File \"/usr/local/lib/python3.10/dist-packages/sktime/utils/parallel.py\", line 92, in <listcomp>\n    ret = [fun(x, meta=meta) for x in iter]\n  File \"/usr/local/lib/python3.10/dist-packages/sktime/forecasting/model_evaluation/_functions.py\", line 270, in _evaluate_window\n    raise e\n  File \"/usr/local/lib/python3.10/dist-packages/sktime/forecasting/model_evaluation/_functions.py\", line 255, in _evaluate_window\n    y_pred = method(fh, X_test, **pred_args)\n  File \"/usr/local/lib/python3.10/dist-packages/sktime/forecasting/base/_base.py\", line 451, in predict\n    y_pred = self._vectorize(\"predict\", X=X_inner, fh=fh)\n  File \"/usr/local/lib/python3.10/dist-packages/sktime/forecasting/base/_base.py\", line 1957, in _vectorize\n    y_preds = self._yvec.vectorize_est(\n  File \"/usr/local/lib/python3.10/dist-packages/sktime/datatypes/_vectorize.py\", line 630, in vectorize_est\n    ret = parallelize(\n  File \"/usr/local/lib/python3.10/dist-packages/sktime/utils/parallel.py\", line 72, in parallelize\n    ret = para_fun(\n  File \"/usr/local/lib/python3.10/dist-packages/sktime/utils/parallel.py\", line 92, in _parallelize_none\n    ret = [fun(x, meta=meta) for x in iter]\n  File \"/usr/local/lib/python3.10/dist-packages/sktime/utils/parallel.py\", line 92, in <listcomp>\n    ret = [fun(x, meta=meta) for x in iter]\n  File \"/usr/local/lib/python3.10/dist-packages/sktime/datatypes/_vectorize.py\", line 679, in _vectorize_est_single\n    est_i_result = est_i_method(**args_i)\n  File \"/usr/local/lib/python3.10/dist-packages/sktime/forecasting/base/_base.py\", line 448, in predict\n    y_pred = self._predict(fh=fh, X=X_inner)\n  File \"/usr/local/lib/python3.10/dist-packages/sktime/forecasting/base/_sktime.py\", line 56, in _predict\n    y_pred = self._predict_boilerplate(fh, **kwargs)\n  File \"/usr/local/lib/python3.10/dist-packages/sktime/forecasting/base/_sktime.py\", line 34, in _predict_boilerplate\n    y_pred = self._predict_fixed_cutoff(fh.to_out_of_sample(cutoff), **kwargs)\n  File \"/usr/local/lib/python3.10/dist-packages/sktime/forecasting/base/_sktime.py\", line 81, in _predict_fixed_cutoff\n    y_pred = self._predict_last_window(fh, X=X, **kwargs)\n  File \"/usr/local/lib/python3.10/dist-packages/sktime/forecasting/compose/_reduce.py\", line 986, in _predict_last_window\n    y_last, X_last = self._get_last_window()\n  File \"/usr/local/lib/python3.10/dist-packages/sktime/forecasting/base/_sktime.py\", line 127, in _get_last_window\n    start = _shift(cutoff, by=-self.window_length_ + 1)\n  File \"/usr/local/lib/python3.10/dist-packages/sktime/utils/datetime.py\", line 226, in _shift\n    by *= idx.freq\nTypeError: unsupported operand type(s) for *=: 'int' and 'NoneType'\n\"\"\"",
            "\nThe above exception was the direct cause of the following exception:\n",
            "\u001b[0;31mTypeError\u001b[0m                                 Traceback (most recent call last)",
            "\u001b[0;32m<ipython-input-70-0849dc0dd23b>\u001b[0m in \u001b[0;36m<cell line: 1>\u001b[0;34m()\u001b[0m\n\u001b[0;32m----> 1\u001b[0;31m list(rscv_list[0].values())[0].fit(y = list(cv_list[0][1].values())[0].iloc[:,:8], \n\u001b[0m\u001b[1;32m      2\u001b[0m                                    X = list(cv_list[0][1].values())[0].iloc[:,8:])\n",
            "\u001b[0;32m/usr/local/lib/python3.10/dist-packages/sktime/forecasting/base/_base.py\u001b[0m in \u001b[0;36mfit\u001b[0;34m(self, y, X, fh)\u001b[0m\n\u001b[1;32m    389\u001b[0m         \u001b[0;31m# we call the ordinary _fit if no looping/vectorization needed\u001b[0m\u001b[0;34m\u001b[0m\u001b[0;34m\u001b[0m\u001b[0m\n\u001b[1;32m    390\u001b[0m         \u001b[0;32mif\u001b[0m \u001b[0;32mnot\u001b[0m \u001b[0mvectorization_needed\u001b[0m\u001b[0;34m:\u001b[0m\u001b[0;34m\u001b[0m\u001b[0;34m\u001b[0m\u001b[0m\n\u001b[0;32m--> 391\u001b[0;31m             \u001b[0mself\u001b[0m\u001b[0;34m.\u001b[0m\u001b[0m_fit\u001b[0m\u001b[0;34m(\u001b[0m\u001b[0my\u001b[0m\u001b[0;34m=\u001b[0m\u001b[0my_inner\u001b[0m\u001b[0;34m,\u001b[0m \u001b[0mX\u001b[0m\u001b[0;34m=\u001b[0m\u001b[0mX_inner\u001b[0m\u001b[0;34m,\u001b[0m \u001b[0mfh\u001b[0m\u001b[0;34m=\u001b[0m\u001b[0mfh\u001b[0m\u001b[0;34m)\u001b[0m\u001b[0;34m\u001b[0m\u001b[0;34m\u001b[0m\u001b[0m\n\u001b[0m\u001b[1;32m    392\u001b[0m         \u001b[0;32melse\u001b[0m\u001b[0;34m:\u001b[0m\u001b[0;34m\u001b[0m\u001b[0;34m\u001b[0m\u001b[0m\n\u001b[1;32m    393\u001b[0m             \u001b[0;31m# otherwise we call the vectorized version of fit\u001b[0m\u001b[0;34m\u001b[0m\u001b[0;34m\u001b[0m\u001b[0m\n",
            "\u001b[0;32m/usr/local/lib/python3.10/dist-packages/sktime/forecasting/model_selection/_tune.py\u001b[0m in \u001b[0;36m_fit\u001b[0;34m(self, y, X, fh)\u001b[0m\n\u001b[1;32m    231\u001b[0m \u001b[0;34m\u001b[0m\u001b[0m\n\u001b[1;32m    232\u001b[0m         \u001b[0;31m# Run grid-search cross-validation.\u001b[0m\u001b[0;34m\u001b[0m\u001b[0;34m\u001b[0m\u001b[0m\n\u001b[0;32m--> 233\u001b[0;31m         \u001b[0mresults\u001b[0m \u001b[0;34m=\u001b[0m \u001b[0mself\u001b[0m\u001b[0;34m.\u001b[0m\u001b[0m_run_search\u001b[0m\u001b[0;34m(\u001b[0m\u001b[0mevaluate_candidates\u001b[0m\u001b[0;34m)\u001b[0m\u001b[0;34m\u001b[0m\u001b[0;34m\u001b[0m\u001b[0m\n\u001b[0m\u001b[1;32m    234\u001b[0m \u001b[0;34m\u001b[0m\u001b[0m\n\u001b[1;32m    235\u001b[0m         \u001b[0mresults\u001b[0m \u001b[0;34m=\u001b[0m \u001b[0mpd\u001b[0m\u001b[0;34m.\u001b[0m\u001b[0mDataFrame\u001b[0m\u001b[0;34m(\u001b[0m\u001b[0mresults\u001b[0m\u001b[0;34m)\u001b[0m\u001b[0;34m\u001b[0m\u001b[0;34m\u001b[0m\u001b[0m\n",
            "\u001b[0;32m/usr/local/lib/python3.10/dist-packages/sktime/forecasting/model_selection/_tune.py\u001b[0m in \u001b[0;36m_run_search\u001b[0;34m(self, evaluate_candidates)\u001b[0m\n\u001b[1;32m    905\u001b[0m     \u001b[0;32mdef\u001b[0m \u001b[0m_run_search\u001b[0m\u001b[0;34m(\u001b[0m\u001b[0mself\u001b[0m\u001b[0;34m,\u001b[0m \u001b[0mevaluate_candidates\u001b[0m\u001b[0;34m)\u001b[0m\u001b[0;34m:\u001b[0m\u001b[0;34m\u001b[0m\u001b[0;34m\u001b[0m\u001b[0m\n\u001b[1;32m    906\u001b[0m         \u001b[0;34m\"\"\"Search n_iter candidates from param_distributions.\"\"\"\u001b[0m\u001b[0;34m\u001b[0m\u001b[0;34m\u001b[0m\u001b[0m\n\u001b[0;32m--> 907\u001b[0;31m         return evaluate_candidates(\n\u001b[0m\u001b[1;32m    908\u001b[0m             ParameterSampler(\n\u001b[1;32m    909\u001b[0m                 \u001b[0mself\u001b[0m\u001b[0;34m.\u001b[0m\u001b[0mparam_distributions\u001b[0m\u001b[0;34m,\u001b[0m \u001b[0mself\u001b[0m\u001b[0;34m.\u001b[0m\u001b[0mn_iter\u001b[0m\u001b[0;34m,\u001b[0m \u001b[0mrandom_state\u001b[0m\u001b[0;34m=\u001b[0m\u001b[0mself\u001b[0m\u001b[0;34m.\u001b[0m\u001b[0mrandom_state\u001b[0m\u001b[0;34m\u001b[0m\u001b[0;34m\u001b[0m\u001b[0m\n",
            "\u001b[0;32m/usr/local/lib/python3.10/dist-packages/sktime/forecasting/model_selection/_tune.py\u001b[0m in \u001b[0;36mevaluate_candidates\u001b[0;34m(candidate_params)\u001b[0m\n\u001b[1;32m    213\u001b[0m             \u001b[0mmeta\u001b[0m\u001b[0;34m[\u001b[0m\u001b[0;34m\"scoring_name\"\u001b[0m\u001b[0;34m]\u001b[0m \u001b[0;34m=\u001b[0m \u001b[0mscoring_name\u001b[0m\u001b[0;34m\u001b[0m\u001b[0;34m\u001b[0m\u001b[0m\n\u001b[1;32m    214\u001b[0m \u001b[0;34m\u001b[0m\u001b[0m\n\u001b[0;32m--> 215\u001b[0;31m             out = parallelize(\n\u001b[0m\u001b[1;32m    216\u001b[0m                 \u001b[0mfun\u001b[0m\u001b[0;34m=\u001b[0m\u001b[0m_fit_and_score\u001b[0m\u001b[0;34m,\u001b[0m\u001b[0;34m\u001b[0m\u001b[0;34m\u001b[0m\u001b[0m\n\u001b[1;32m    217\u001b[0m                 \u001b[0miter\u001b[0m\u001b[0;34m=\u001b[0m\u001b[0mcandidate_params\u001b[0m\u001b[0;34m,\u001b[0m\u001b[0;34m\u001b[0m\u001b[0;34m\u001b[0m\u001b[0m\n",
            "\u001b[0;32m/usr/local/lib/python3.10/dist-packages/sktime/utils/parallel.py\u001b[0m in \u001b[0;36mparallelize\u001b[0;34m(fun, iter, meta, backend, backend_params)\u001b[0m\n\u001b[1;32m     70\u001b[0m     \u001b[0mpara_fun\u001b[0m \u001b[0;34m=\u001b[0m \u001b[0mpara_dict\u001b[0m\u001b[0;34m[\u001b[0m\u001b[0mbackend_name\u001b[0m\u001b[0;34m]\u001b[0m\u001b[0;34m\u001b[0m\u001b[0;34m\u001b[0m\u001b[0m\n\u001b[1;32m     71\u001b[0m \u001b[0;34m\u001b[0m\u001b[0m\n\u001b[0;32m---> 72\u001b[0;31m     ret = para_fun(\n\u001b[0m\u001b[1;32m     73\u001b[0m         \u001b[0mfun\u001b[0m\u001b[0;34m=\u001b[0m\u001b[0mfun\u001b[0m\u001b[0;34m,\u001b[0m \u001b[0miter\u001b[0m\u001b[0;34m=\u001b[0m\u001b[0miter\u001b[0m\u001b[0;34m,\u001b[0m \u001b[0mmeta\u001b[0m\u001b[0;34m=\u001b[0m\u001b[0mmeta\u001b[0m\u001b[0;34m,\u001b[0m \u001b[0mbackend\u001b[0m\u001b[0;34m=\u001b[0m\u001b[0mbackend\u001b[0m\u001b[0;34m,\u001b[0m \u001b[0mbackend_params\u001b[0m\u001b[0;34m=\u001b[0m\u001b[0mbackend_params\u001b[0m\u001b[0;34m\u001b[0m\u001b[0;34m\u001b[0m\u001b[0m\n\u001b[1;32m     74\u001b[0m     )\n",
            "\u001b[0;32m/usr/local/lib/python3.10/dist-packages/sktime/utils/parallel.py\u001b[0m in \u001b[0;36m_parallelize_joblib\u001b[0;34m(fun, iter, meta, backend, backend_params)\u001b[0m\n\u001b[1;32m    129\u001b[0m         \u001b[0mpar_params\u001b[0m\u001b[0;34m[\u001b[0m\u001b[0;34m\"n_jobs\"\u001b[0m\u001b[0;34m]\u001b[0m \u001b[0;34m=\u001b[0m \u001b[0;34m-\u001b[0m\u001b[0;36m1\u001b[0m\u001b[0;34m\u001b[0m\u001b[0;34m\u001b[0m\u001b[0m\n\u001b[1;32m    130\u001b[0m \u001b[0;34m\u001b[0m\u001b[0m\n\u001b[0;32m--> 131\u001b[0;31m     \u001b[0mret\u001b[0m \u001b[0;34m=\u001b[0m \u001b[0mParallel\u001b[0m\u001b[0;34m(\u001b[0m\u001b[0;34m**\u001b[0m\u001b[0mpar_params\u001b[0m\u001b[0;34m)\u001b[0m\u001b[0;34m(\u001b[0m\u001b[0mdelayed\u001b[0m\u001b[0;34m(\u001b[0m\u001b[0mfun\u001b[0m\u001b[0;34m)\u001b[0m\u001b[0;34m(\u001b[0m\u001b[0mx\u001b[0m\u001b[0;34m,\u001b[0m \u001b[0mmeta\u001b[0m\u001b[0;34m=\u001b[0m\u001b[0mmeta\u001b[0m\u001b[0;34m)\u001b[0m \u001b[0;32mfor\u001b[0m \u001b[0mx\u001b[0m \u001b[0;32min\u001b[0m \u001b[0miter\u001b[0m\u001b[0;34m)\u001b[0m\u001b[0;34m\u001b[0m\u001b[0;34m\u001b[0m\u001b[0m\n\u001b[0m\u001b[1;32m    132\u001b[0m     \u001b[0;32mreturn\u001b[0m \u001b[0mret\u001b[0m\u001b[0;34m\u001b[0m\u001b[0;34m\u001b[0m\u001b[0m\n\u001b[1;32m    133\u001b[0m \u001b[0;34m\u001b[0m\u001b[0m\n",
            "\u001b[0;32m/usr/local/lib/python3.10/dist-packages/joblib/parallel.py\u001b[0m in \u001b[0;36m__call__\u001b[0;34m(self, iterable)\u001b[0m\n\u001b[1;32m   2005\u001b[0m         \u001b[0mnext\u001b[0m\u001b[0;34m(\u001b[0m\u001b[0moutput\u001b[0m\u001b[0;34m)\u001b[0m\u001b[0;34m\u001b[0m\u001b[0;34m\u001b[0m\u001b[0m\n\u001b[1;32m   2006\u001b[0m \u001b[0;34m\u001b[0m\u001b[0m\n\u001b[0;32m-> 2007\u001b[0;31m         \u001b[0;32mreturn\u001b[0m \u001b[0moutput\u001b[0m \u001b[0;32mif\u001b[0m \u001b[0mself\u001b[0m\u001b[0;34m.\u001b[0m\u001b[0mreturn_generator\u001b[0m \u001b[0;32melse\u001b[0m \u001b[0mlist\u001b[0m\u001b[0;34m(\u001b[0m\u001b[0moutput\u001b[0m\u001b[0;34m)\u001b[0m\u001b[0;34m\u001b[0m\u001b[0;34m\u001b[0m\u001b[0m\n\u001b[0m\u001b[1;32m   2008\u001b[0m \u001b[0;34m\u001b[0m\u001b[0m\n\u001b[1;32m   2009\u001b[0m     \u001b[0;32mdef\u001b[0m \u001b[0m__repr__\u001b[0m\u001b[0;34m(\u001b[0m\u001b[0mself\u001b[0m\u001b[0;34m)\u001b[0m\u001b[0;34m:\u001b[0m\u001b[0;34m\u001b[0m\u001b[0;34m\u001b[0m\u001b[0m\n",
            "\u001b[0;32m/usr/local/lib/python3.10/dist-packages/joblib/parallel.py\u001b[0m in \u001b[0;36m_get_outputs\u001b[0;34m(self, iterator, pre_dispatch)\u001b[0m\n\u001b[1;32m   1648\u001b[0m \u001b[0;34m\u001b[0m\u001b[0m\n\u001b[1;32m   1649\u001b[0m             \u001b[0;32mwith\u001b[0m \u001b[0mself\u001b[0m\u001b[0;34m.\u001b[0m\u001b[0m_backend\u001b[0m\u001b[0;34m.\u001b[0m\u001b[0mretrieval_context\u001b[0m\u001b[0;34m(\u001b[0m\u001b[0;34m)\u001b[0m\u001b[0;34m:\u001b[0m\u001b[0;34m\u001b[0m\u001b[0;34m\u001b[0m\u001b[0m\n\u001b[0;32m-> 1650\u001b[0;31m                 \u001b[0;32myield\u001b[0m \u001b[0;32mfrom\u001b[0m \u001b[0mself\u001b[0m\u001b[0;34m.\u001b[0m\u001b[0m_retrieve\u001b[0m\u001b[0;34m(\u001b[0m\u001b[0;34m)\u001b[0m\u001b[0;34m\u001b[0m\u001b[0;34m\u001b[0m\u001b[0m\n\u001b[0m\u001b[1;32m   1651\u001b[0m \u001b[0;34m\u001b[0m\u001b[0m\n\u001b[1;32m   1652\u001b[0m         \u001b[0;32mexcept\u001b[0m \u001b[0mGeneratorExit\u001b[0m\u001b[0;34m:\u001b[0m\u001b[0;34m\u001b[0m\u001b[0;34m\u001b[0m\u001b[0m\n",
            "\u001b[0;32m/usr/local/lib/python3.10/dist-packages/joblib/parallel.py\u001b[0m in \u001b[0;36m_retrieve\u001b[0;34m(self)\u001b[0m\n\u001b[1;32m   1752\u001b[0m             \u001b[0;31m# worker traceback.\u001b[0m\u001b[0;34m\u001b[0m\u001b[0;34m\u001b[0m\u001b[0m\n\u001b[1;32m   1753\u001b[0m             \u001b[0;32mif\u001b[0m \u001b[0mself\u001b[0m\u001b[0;34m.\u001b[0m\u001b[0m_aborting\u001b[0m\u001b[0;34m:\u001b[0m\u001b[0;34m\u001b[0m\u001b[0;34m\u001b[0m\u001b[0m\n\u001b[0;32m-> 1754\u001b[0;31m                 \u001b[0mself\u001b[0m\u001b[0;34m.\u001b[0m\u001b[0m_raise_error_fast\u001b[0m\u001b[0;34m(\u001b[0m\u001b[0;34m)\u001b[0m\u001b[0;34m\u001b[0m\u001b[0;34m\u001b[0m\u001b[0m\n\u001b[0m\u001b[1;32m   1755\u001b[0m                 \u001b[0;32mbreak\u001b[0m\u001b[0;34m\u001b[0m\u001b[0;34m\u001b[0m\u001b[0m\n\u001b[1;32m   1756\u001b[0m \u001b[0;34m\u001b[0m\u001b[0m\n",
            "\u001b[0;32m/usr/local/lib/python3.10/dist-packages/joblib/parallel.py\u001b[0m in \u001b[0;36m_raise_error_fast\u001b[0;34m(self)\u001b[0m\n\u001b[1;32m   1787\u001b[0m         \u001b[0;31m# called directly or if the generator is gc'ed.\u001b[0m\u001b[0;34m\u001b[0m\u001b[0;34m\u001b[0m\u001b[0m\n\u001b[1;32m   1788\u001b[0m         \u001b[0;32mif\u001b[0m \u001b[0merror_job\u001b[0m \u001b[0;32mis\u001b[0m \u001b[0;32mnot\u001b[0m \u001b[0;32mNone\u001b[0m\u001b[0;34m:\u001b[0m\u001b[0;34m\u001b[0m\u001b[0;34m\u001b[0m\u001b[0m\n\u001b[0;32m-> 1789\u001b[0;31m             \u001b[0merror_job\u001b[0m\u001b[0;34m.\u001b[0m\u001b[0mget_result\u001b[0m\u001b[0;34m(\u001b[0m\u001b[0mself\u001b[0m\u001b[0;34m.\u001b[0m\u001b[0mtimeout\u001b[0m\u001b[0;34m)\u001b[0m\u001b[0;34m\u001b[0m\u001b[0;34m\u001b[0m\u001b[0m\n\u001b[0m\u001b[1;32m   1790\u001b[0m \u001b[0;34m\u001b[0m\u001b[0m\n\u001b[1;32m   1791\u001b[0m     \u001b[0;32mdef\u001b[0m \u001b[0m_warn_exit_early\u001b[0m\u001b[0;34m(\u001b[0m\u001b[0mself\u001b[0m\u001b[0;34m)\u001b[0m\u001b[0;34m:\u001b[0m\u001b[0;34m\u001b[0m\u001b[0;34m\u001b[0m\u001b[0m\n",
            "\u001b[0;32m/usr/local/lib/python3.10/dist-packages/joblib/parallel.py\u001b[0m in \u001b[0;36mget_result\u001b[0;34m(self, timeout)\u001b[0m\n\u001b[1;32m    743\u001b[0m             \u001b[0;31m# callback thread, and is stored internally. It's just waiting to\u001b[0m\u001b[0;34m\u001b[0m\u001b[0;34m\u001b[0m\u001b[0m\n\u001b[1;32m    744\u001b[0m             \u001b[0;31m# be returned.\u001b[0m\u001b[0;34m\u001b[0m\u001b[0;34m\u001b[0m\u001b[0m\n\u001b[0;32m--> 745\u001b[0;31m             \u001b[0;32mreturn\u001b[0m \u001b[0mself\u001b[0m\u001b[0;34m.\u001b[0m\u001b[0m_return_or_raise\u001b[0m\u001b[0;34m(\u001b[0m\u001b[0;34m)\u001b[0m\u001b[0;34m\u001b[0m\u001b[0;34m\u001b[0m\u001b[0m\n\u001b[0m\u001b[1;32m    746\u001b[0m \u001b[0;34m\u001b[0m\u001b[0m\n\u001b[1;32m    747\u001b[0m         \u001b[0;31m# For other backends, the main thread needs to run the retrieval step.\u001b[0m\u001b[0;34m\u001b[0m\u001b[0;34m\u001b[0m\u001b[0m\n",
            "\u001b[0;32m/usr/local/lib/python3.10/dist-packages/joblib/parallel.py\u001b[0m in \u001b[0;36m_return_or_raise\u001b[0;34m(self)\u001b[0m\n\u001b[1;32m    761\u001b[0m         \u001b[0;32mtry\u001b[0m\u001b[0;34m:\u001b[0m\u001b[0;34m\u001b[0m\u001b[0;34m\u001b[0m\u001b[0m\n\u001b[1;32m    762\u001b[0m             \u001b[0;32mif\u001b[0m \u001b[0mself\u001b[0m\u001b[0;34m.\u001b[0m\u001b[0mstatus\u001b[0m \u001b[0;34m==\u001b[0m \u001b[0mTASK_ERROR\u001b[0m\u001b[0;34m:\u001b[0m\u001b[0;34m\u001b[0m\u001b[0;34m\u001b[0m\u001b[0m\n\u001b[0;32m--> 763\u001b[0;31m                 \u001b[0;32mraise\u001b[0m \u001b[0mself\u001b[0m\u001b[0;34m.\u001b[0m\u001b[0m_result\u001b[0m\u001b[0;34m\u001b[0m\u001b[0;34m\u001b[0m\u001b[0m\n\u001b[0m\u001b[1;32m    764\u001b[0m             \u001b[0;32mreturn\u001b[0m \u001b[0mself\u001b[0m\u001b[0;34m.\u001b[0m\u001b[0m_result\u001b[0m\u001b[0;34m\u001b[0m\u001b[0;34m\u001b[0m\u001b[0m\n\u001b[1;32m    765\u001b[0m         \u001b[0;32mfinally\u001b[0m\u001b[0;34m:\u001b[0m\u001b[0;34m\u001b[0m\u001b[0;34m\u001b[0m\u001b[0m\n",
            "\u001b[0;31mTypeError\u001b[0m: unsupported operand type(s) for *=: 'int' and 'NoneType'"
          ]
        }
      ]
    },
    {
      "cell_type": "code",
      "source": [
        "list(rscv_list[0].values())[0]"
      ],
      "metadata": {
        "colab": {
          "base_uri": "https://localhost:8080/",
          "height": 127
        },
        "id": "y1yJKzOZwAP2",
        "outputId": "e2cfd5ee-a38f-4837-d30c-031674c26d80"
      },
      "execution_count": 49,
      "outputs": [
        {
          "output_type": "execute_result",
          "data": {
            "text/plain": [
              "ForecastingRandomizedSearchCV(cv=ExpandingWindowSplitter(fh=[1, 2, 3, 4, 5, 6,\n",
              "                                                             7],\n",
              "                                                         initial_window=528,\n",
              "                                                         step_length=7),\n",
              "                              forecaster=RecursiveTabularRegressionForecaster(estimator=<catboost.core.CatBoostRegressor object at 0x78821316e0b0>,\n",
              "                                                                              window_length=7),\n",
              "                              param_distributions={'estimator__colsample_bylevel': array([0.05   , 0.0694 , 0.08875, 0.10815, 0.1276 , 0.147  , 0.1664 ,\n",
              "       0....\n",
              "                                                   'estimator__subsample': array([0.05   , 0.0694 , 0.08875, 0.10815, 0.1276 , 0.147  , 0.1664 ,\n",
              "       0.1857 , 0.2051 , 0.2245 , 0.2439 , 0.2632 , 0.2827 , 0.302  ,\n",
              "       0.3215 , 0.3408 , 0.36   , 0.3796 , 0.399  , 0.4185 , 0.4377 ,\n",
              "       0.457  , 0.4766 , 0.4958 , 0.515  , 0.5347 , 0.554  , 0.573  ,\n",
              "       0.593  , 0.6123 , 0.632  , 0.651  , 0.6704 , 0.69   , 0.709  ,\n",
              "       0.7285 , 0.748  , 0.7676 , 0.7866 , 0.806  , 0.8257 , 0.8447 ,\n",
              "       0.8643 , 0.884  , 0.903  , 0.9224 , 0.942  , 0.9614 , 0.9805 ,\n",
              "       1.     ], dtype=float16)})"
            ],
            "text/html": [
              "<style>#sk-6a76b2b4-8edb-4680-935c-a15048ea5ead {color: black;background-color: white;}#sk-6a76b2b4-8edb-4680-935c-a15048ea5ead pre{padding: 0;}#sk-6a76b2b4-8edb-4680-935c-a15048ea5ead div.sk-toggleable {background-color: white;}#sk-6a76b2b4-8edb-4680-935c-a15048ea5ead label.sk-toggleable__label {cursor: pointer;display: block;width: 100%;margin-bottom: 0;padding: 0.3em;box-sizing: border-box;text-align: center;}#sk-6a76b2b4-8edb-4680-935c-a15048ea5ead label.sk-toggleable__label-arrow:before {content: \"▸\";float: left;margin-right: 0.25em;color: #696969;}#sk-6a76b2b4-8edb-4680-935c-a15048ea5ead label.sk-toggleable__label-arrow:hover:before {color: black;}#sk-6a76b2b4-8edb-4680-935c-a15048ea5ead div.sk-estimator:hover label.sk-toggleable__label-arrow:before {color: black;}#sk-6a76b2b4-8edb-4680-935c-a15048ea5ead div.sk-toggleable__content {max-height: 0;max-width: 0;overflow: hidden;text-align: left;background-color: #f0f8ff;}#sk-6a76b2b4-8edb-4680-935c-a15048ea5ead div.sk-toggleable__content pre {margin: 0.2em;color: black;border-radius: 0.25em;background-color: #f0f8ff;}#sk-6a76b2b4-8edb-4680-935c-a15048ea5ead input.sk-toggleable__control:checked~div.sk-toggleable__content {max-height: 200px;max-width: 100%;overflow: auto;}#sk-6a76b2b4-8edb-4680-935c-a15048ea5ead input.sk-toggleable__control:checked~label.sk-toggleable__label-arrow:before {content: \"▾\";}#sk-6a76b2b4-8edb-4680-935c-a15048ea5ead div.sk-estimator input.sk-toggleable__control:checked~label.sk-toggleable__label {background-color: #d4ebff;}#sk-6a76b2b4-8edb-4680-935c-a15048ea5ead div.sk-label input.sk-toggleable__control:checked~label.sk-toggleable__label {background-color: #d4ebff;}#sk-6a76b2b4-8edb-4680-935c-a15048ea5ead input.sk-hidden--visually {border: 0;clip: rect(1px 1px 1px 1px);clip: rect(1px, 1px, 1px, 1px);height: 1px;margin: -1px;overflow: hidden;padding: 0;position: absolute;width: 1px;}#sk-6a76b2b4-8edb-4680-935c-a15048ea5ead div.sk-estimator {font-family: monospace;background-color: #f0f8ff;border: 1px dotted black;border-radius: 0.25em;box-sizing: border-box;margin-bottom: 0.5em;}#sk-6a76b2b4-8edb-4680-935c-a15048ea5ead div.sk-estimator:hover {background-color: #d4ebff;}#sk-6a76b2b4-8edb-4680-935c-a15048ea5ead div.sk-parallel-item::after {content: \"\";width: 100%;border-bottom: 1px solid gray;flex-grow: 1;}#sk-6a76b2b4-8edb-4680-935c-a15048ea5ead div.sk-label:hover label.sk-toggleable__label {background-color: #d4ebff;}#sk-6a76b2b4-8edb-4680-935c-a15048ea5ead div.sk-serial::before {content: \"\";position: absolute;border-left: 1px solid gray;box-sizing: border-box;top: 2em;bottom: 0;left: 50%;}#sk-6a76b2b4-8edb-4680-935c-a15048ea5ead div.sk-serial {display: flex;flex-direction: column;align-items: center;background-color: white;padding-right: 0.2em;padding-left: 0.2em;}#sk-6a76b2b4-8edb-4680-935c-a15048ea5ead div.sk-item {z-index: 1;}#sk-6a76b2b4-8edb-4680-935c-a15048ea5ead div.sk-parallel {display: flex;align-items: stretch;justify-content: center;background-color: white;}#sk-6a76b2b4-8edb-4680-935c-a15048ea5ead div.sk-parallel::before {content: \"\";position: absolute;border-left: 1px solid gray;box-sizing: border-box;top: 2em;bottom: 0;left: 50%;}#sk-6a76b2b4-8edb-4680-935c-a15048ea5ead div.sk-parallel-item {display: flex;flex-direction: column;position: relative;background-color: white;}#sk-6a76b2b4-8edb-4680-935c-a15048ea5ead div.sk-parallel-item:first-child::after {align-self: flex-end;width: 50%;}#sk-6a76b2b4-8edb-4680-935c-a15048ea5ead div.sk-parallel-item:last-child::after {align-self: flex-start;width: 50%;}#sk-6a76b2b4-8edb-4680-935c-a15048ea5ead div.sk-parallel-item:only-child::after {width: 0;}#sk-6a76b2b4-8edb-4680-935c-a15048ea5ead div.sk-dashed-wrapped {border: 1px dashed gray;margin: 0 0.4em 0.5em 0.4em;box-sizing: border-box;padding-bottom: 0.4em;background-color: white;position: relative;}#sk-6a76b2b4-8edb-4680-935c-a15048ea5ead div.sk-label label {font-family: monospace;font-weight: bold;background-color: white;display: inline-block;line-height: 1.2em;}#sk-6a76b2b4-8edb-4680-935c-a15048ea5ead div.sk-label-container {position: relative;z-index: 2;text-align: center;}#sk-6a76b2b4-8edb-4680-935c-a15048ea5ead div.sk-container {/* jupyter's `normalize.less` sets `[hidden] { display: none; }` but bootstrap.min.css set `[hidden] { display: none !important; }` so we also need the `!important` here to be able to override the default hidden behavior on the sphinx rendered scikit-learn.org. See: https://github.com/scikit-learn/scikit-learn/issues/21755 */display: inline-block !important;position: relative;}#sk-6a76b2b4-8edb-4680-935c-a15048ea5ead div.sk-text-repr-fallback {display: none;}</style><div id='sk-6a76b2b4-8edb-4680-935c-a15048ea5ead' class=\"sk-top-container\"><div class=\"sk-text-repr-fallback\"><pre>ForecastingRandomizedSearchCV(cv=ExpandingWindowSplitter(fh=[1, 2, 3, 4, 5, 6,\n",
              "                                                             7],\n",
              "                                                         initial_window=528,\n",
              "                                                         step_length=7),\n",
              "                              forecaster=RecursiveTabularRegressionForecaster(estimator=&lt;catboost.core.CatBoostRegressor object at 0x78821316e0b0&gt;,\n",
              "                                                                              window_length=7),\n",
              "                              param_distributions={&#x27;estimator__colsample_bylevel&#x27;: array([0.05   , 0.0694 , 0.08875, 0.10815, 0.1276 , 0.147  , 0.1664 ,\n",
              "       0....\n",
              "                                                   &#x27;estimator__subsample&#x27;: array([0.05   , 0.0694 , 0.08875, 0.10815, 0.1276 , 0.147  , 0.1664 ,\n",
              "       0.1857 , 0.2051 , 0.2245 , 0.2439 , 0.2632 , 0.2827 , 0.302  ,\n",
              "       0.3215 , 0.3408 , 0.36   , 0.3796 , 0.399  , 0.4185 , 0.4377 ,\n",
              "       0.457  , 0.4766 , 0.4958 , 0.515  , 0.5347 , 0.554  , 0.573  ,\n",
              "       0.593  , 0.6123 , 0.632  , 0.651  , 0.6704 , 0.69   , 0.709  ,\n",
              "       0.7285 , 0.748  , 0.7676 , 0.7866 , 0.806  , 0.8257 , 0.8447 ,\n",
              "       0.8643 , 0.884  , 0.903  , 0.9224 , 0.942  , 0.9614 , 0.9805 ,\n",
              "       1.     ], dtype=float16)})</pre><b>Please rerun this cell to show the HTML repr or trust the notebook.</b></div><div class=\"sk-container\" hidden><div class=\"sk-item sk-dashed-wrapped\"><div class='sk-label-container'><div class=\"sk-label sk-toggleable\"><input class=\"sk-toggleable__control sk-hidden--visually\" id=UUID('41df746b-297d-4ef9-9f86-a65a44f15a5d') type=\"checkbox\" ><label for=UUID('41df746b-297d-4ef9-9f86-a65a44f15a5d') class='sk-toggleable__label sk-toggleable__label-arrow'>ForecastingRandomizedSearchCV</label><div class=\"sk-toggleable__content\"><pre>ForecastingRandomizedSearchCV(cv=ExpandingWindowSplitter(fh=[1, 2, 3, 4, 5, 6,\n",
              "                                                             7],\n",
              "                                                         initial_window=528,\n",
              "                                                         step_length=7),\n",
              "                              forecaster=RecursiveTabularRegressionForecaster(estimator=&lt;catboost.core.CatBoostRegressor object at 0x78821316e0b0&gt;,\n",
              "                                                                              window_length=7),\n",
              "                              param_distributions={&#x27;estimator__colsample_bylevel&#x27;: array([0.05   , 0.0694 , 0.08875, 0.10815, 0.1276 , 0.147  , 0.1664 ,\n",
              "       0....\n",
              "                                                   &#x27;estimator__subsample&#x27;: array([0.05   , 0.0694 , 0.08875, 0.10815, 0.1276 , 0.147  , 0.1664 ,\n",
              "       0.1857 , 0.2051 , 0.2245 , 0.2439 , 0.2632 , 0.2827 , 0.302  ,\n",
              "       0.3215 , 0.3408 , 0.36   , 0.3796 , 0.399  , 0.4185 , 0.4377 ,\n",
              "       0.457  , 0.4766 , 0.4958 , 0.515  , 0.5347 , 0.554  , 0.573  ,\n",
              "       0.593  , 0.6123 , 0.632  , 0.651  , 0.6704 , 0.69   , 0.709  ,\n",
              "       0.7285 , 0.748  , 0.7676 , 0.7866 , 0.806  , 0.8257 , 0.8447 ,\n",
              "       0.8643 , 0.884  , 0.903  , 0.9224 , 0.942  , 0.9614 , 0.9805 ,\n",
              "       1.     ], dtype=float16)})</pre></div></div></div><div class=\"sk-parallel\"><div class=\"sk-parallel-item\"><div class=\"sk-item\"><div class=\"sk-serial\"><div class='sk-item'><div class=\"sk-estimator sk-toggleable\"><input class=\"sk-toggleable__control sk-hidden--visually\" id=UUID('9c8c3611-c07e-4423-926c-af5045a09659') type=\"checkbox\" ><label for=UUID('9c8c3611-c07e-4423-926c-af5045a09659') class='sk-toggleable__label sk-toggleable__label-arrow'>ExpandingWindowSplitter</label><div class=\"sk-toggleable__content\"><pre>ExpandingWindowSplitter(fh=[1, 2, 3, 4, 5, 6, 7], initial_window=528,\n",
              "                        step_length=7)</pre></div></div></div></div></div></div><div class=\"sk-parallel-item\"><div class=\"sk-item\"><div class=\"sk-serial\"><div class=\"sk-item sk-dashed-wrapped\"><div class=\"sk-parallel\"><div class=\"sk-parallel-item\"><div class=\"sk-item\"><div class=\"sk-serial\"><div class='sk-item'><div class=\"sk-estimator sk-toggleable\"><input class=\"sk-toggleable__control sk-hidden--visually\" id=UUID('732a7120-342f-40a2-be42-3cef78451b1b') type=\"checkbox\" ><label for=UUID('732a7120-342f-40a2-be42-3cef78451b1b') class='sk-toggleable__label sk-toggleable__label-arrow'>CatBoostRegressor</label><div class=\"sk-toggleable__content\"><pre>&lt;catboost.core.CatBoostRegressor object at 0x78821316e0b0&gt;</pre></div></div></div></div></div></div></div></div></div></div></div></div></div></div></div>"
            ]
          },
          "metadata": {},
          "execution_count": 49
        }
      ]
    },
    {
      "cell_type": "code",
      "execution_count": 50,
      "metadata": {
        "colab": {
          "base_uri": "https://localhost:8080/",
          "height": 463
        },
        "id": "uD4_1FJAoi60",
        "outputId": "339fbb43-2208-431a-8fbc-50ccb6bbe406"
      },
      "outputs": [
        {
          "output_type": "stream",
          "name": "stderr",
          "text": [
            "/usr/local/lib/python3.10/dist-packages/sktime/forecasting/model_selection/_tune.py:245: FutureWarning: The behavior of Series.argmax/argmin with skipna=False and NAs, or with all-NAs is deprecated. In a future version this will raise ValueError.\n",
            "  self.best_index_ = results.loc[:, f\"rank_{scoring_name}\"].argmin()\n"
          ]
        },
        {
          "output_type": "error",
          "ename": "NotFittedError",
          "evalue": "All fits of forecaster failed,\n                set error_score='raise' to see the exceptions.\n                Failed forecaster: RecursiveTabularRegressionForecaster(estimator=<catboost.core.CatBoostRegressor object at 0x78821316e0b0>,\n                                     window_length=7)",
          "traceback": [
            "\u001b[0;31m---------------------------------------------------------------------------\u001b[0m",
            "\u001b[0;31mNotFittedError\u001b[0m                            Traceback (most recent call last)",
            "\u001b[0;32m<ipython-input-50-ef26a303bc8b>\u001b[0m in \u001b[0;36m<cell line: 3>\u001b[0;34m()\u001b[0m\n\u001b[1;32m      3\u001b[0m \u001b[0;32mfor\u001b[0m \u001b[0mm\u001b[0m \u001b[0;32min\u001b[0m \u001b[0mrange\u001b[0m\u001b[0;34m(\u001b[0m\u001b[0mlen\u001b[0m\u001b[0;34m(\u001b[0m\u001b[0mrscv_list\u001b[0m\u001b[0;34m)\u001b[0m\u001b[0;34m)\u001b[0m\u001b[0;34m:\u001b[0m\u001b[0;34m\u001b[0m\u001b[0;34m\u001b[0m\u001b[0m\n\u001b[1;32m      4\u001b[0m \u001b[0;34m\u001b[0m\u001b[0m\n\u001b[0;32m----> 5\u001b[0;31m     \u001b[0mfitted_cv\u001b[0m \u001b[0;34m=\u001b[0m \u001b[0mlist\u001b[0m\u001b[0;34m(\u001b[0m\u001b[0mrscv_list\u001b[0m\u001b[0;34m[\u001b[0m\u001b[0mm\u001b[0m\u001b[0;34m]\u001b[0m\u001b[0;34m.\u001b[0m\u001b[0mvalues\u001b[0m\u001b[0;34m(\u001b[0m\u001b[0;34m)\u001b[0m\u001b[0;34m)\u001b[0m\u001b[0;34m[\u001b[0m\u001b[0;36m0\u001b[0m\u001b[0;34m]\u001b[0m\u001b[0;34m.\u001b[0m\u001b[0mfit\u001b[0m\u001b[0;34m(\u001b[0m\u001b[0my\u001b[0m \u001b[0;34m=\u001b[0m \u001b[0mlist\u001b[0m\u001b[0;34m(\u001b[0m\u001b[0mcv_list\u001b[0m\u001b[0;34m[\u001b[0m\u001b[0mm\u001b[0m\u001b[0;34m]\u001b[0m\u001b[0;34m[\u001b[0m\u001b[0;36m1\u001b[0m\u001b[0;34m]\u001b[0m\u001b[0;34m.\u001b[0m\u001b[0mvalues\u001b[0m\u001b[0;34m(\u001b[0m\u001b[0;34m)\u001b[0m\u001b[0;34m)\u001b[0m\u001b[0;34m[\u001b[0m\u001b[0;36m0\u001b[0m\u001b[0;34m]\u001b[0m\u001b[0;34m.\u001b[0m\u001b[0miloc\u001b[0m\u001b[0;34m[\u001b[0m\u001b[0;34m:\u001b[0m\u001b[0;34m,\u001b[0m\u001b[0;34m:\u001b[0m\u001b[0;36m8\u001b[0m\u001b[0;34m]\u001b[0m\u001b[0;34m,\u001b[0m \u001b[0mX\u001b[0m \u001b[0;34m=\u001b[0m \u001b[0mlist\u001b[0m\u001b[0;34m(\u001b[0m\u001b[0mcv_list\u001b[0m\u001b[0;34m[\u001b[0m\u001b[0mm\u001b[0m\u001b[0;34m]\u001b[0m\u001b[0;34m[\u001b[0m\u001b[0;36m1\u001b[0m\u001b[0;34m]\u001b[0m\u001b[0;34m.\u001b[0m\u001b[0mvalues\u001b[0m\u001b[0;34m(\u001b[0m\u001b[0;34m)\u001b[0m\u001b[0;34m)\u001b[0m\u001b[0;34m[\u001b[0m\u001b[0;36m0\u001b[0m\u001b[0;34m]\u001b[0m\u001b[0;34m.\u001b[0m\u001b[0miloc\u001b[0m\u001b[0;34m[\u001b[0m\u001b[0;34m:\u001b[0m\u001b[0;34m,\u001b[0m\u001b[0;36m8\u001b[0m\u001b[0;34m:\u001b[0m\u001b[0;34m]\u001b[0m\u001b[0;34m)\u001b[0m\u001b[0;34m\u001b[0m\u001b[0;34m\u001b[0m\u001b[0m\n\u001b[0m\u001b[1;32m      6\u001b[0m \u001b[0;34m\u001b[0m\u001b[0m\n\u001b[1;32m      7\u001b[0m     \u001b[0mfit_cv_list\u001b[0m\u001b[0;34m.\u001b[0m\u001b[0mappend\u001b[0m\u001b[0;34m(\u001b[0m\u001b[0;34m{\u001b[0m\u001b[0;34mf\"rscv_{list(rscv_list[m].keys())[0]}\"\u001b[0m\u001b[0;34m:\u001b[0m\u001b[0mfitted_cv\u001b[0m\u001b[0;34m}\u001b[0m\u001b[0;34m)\u001b[0m\u001b[0;34m\u001b[0m\u001b[0;34m\u001b[0m\u001b[0m\n",
            "\u001b[0;32m/usr/local/lib/python3.10/dist-packages/sktime/forecasting/base/_base.py\u001b[0m in \u001b[0;36mfit\u001b[0;34m(self, y, X, fh)\u001b[0m\n\u001b[1;32m    389\u001b[0m         \u001b[0;31m# we call the ordinary _fit if no looping/vectorization needed\u001b[0m\u001b[0;34m\u001b[0m\u001b[0;34m\u001b[0m\u001b[0m\n\u001b[1;32m    390\u001b[0m         \u001b[0;32mif\u001b[0m \u001b[0;32mnot\u001b[0m \u001b[0mvectorization_needed\u001b[0m\u001b[0;34m:\u001b[0m\u001b[0;34m\u001b[0m\u001b[0;34m\u001b[0m\u001b[0m\n\u001b[0;32m--> 391\u001b[0;31m             \u001b[0mself\u001b[0m\u001b[0;34m.\u001b[0m\u001b[0m_fit\u001b[0m\u001b[0;34m(\u001b[0m\u001b[0my\u001b[0m\u001b[0;34m=\u001b[0m\u001b[0my_inner\u001b[0m\u001b[0;34m,\u001b[0m \u001b[0mX\u001b[0m\u001b[0;34m=\u001b[0m\u001b[0mX_inner\u001b[0m\u001b[0;34m,\u001b[0m \u001b[0mfh\u001b[0m\u001b[0;34m=\u001b[0m\u001b[0mfh\u001b[0m\u001b[0;34m)\u001b[0m\u001b[0;34m\u001b[0m\u001b[0;34m\u001b[0m\u001b[0m\n\u001b[0m\u001b[1;32m    392\u001b[0m         \u001b[0;32melse\u001b[0m\u001b[0;34m:\u001b[0m\u001b[0;34m\u001b[0m\u001b[0;34m\u001b[0m\u001b[0m\n\u001b[1;32m    393\u001b[0m             \u001b[0;31m# otherwise we call the vectorized version of fit\u001b[0m\u001b[0;34m\u001b[0m\u001b[0;34m\u001b[0m\u001b[0m\n",
            "\u001b[0;32m/usr/local/lib/python3.10/dist-packages/sktime/forecasting/model_selection/_tune.py\u001b[0m in \u001b[0;36m_fit\u001b[0;34m(self, y, X, fh)\u001b[0m\n\u001b[1;32m    246\u001b[0m         \u001b[0;31m# Raise error if all fits in evaluate failed because all score values are NaN.\u001b[0m\u001b[0;34m\u001b[0m\u001b[0;34m\u001b[0m\u001b[0m\n\u001b[1;32m    247\u001b[0m         \u001b[0;32mif\u001b[0m \u001b[0mself\u001b[0m\u001b[0;34m.\u001b[0m\u001b[0mbest_index_\u001b[0m \u001b[0;34m==\u001b[0m \u001b[0;34m-\u001b[0m\u001b[0;36m1\u001b[0m\u001b[0;34m:\u001b[0m\u001b[0;34m\u001b[0m\u001b[0;34m\u001b[0m\u001b[0m\n\u001b[0;32m--> 248\u001b[0;31m             raise NotFittedError(\n\u001b[0m\u001b[1;32m    249\u001b[0m                 f\"\"\"All fits of forecaster failed,\n\u001b[1;32m    250\u001b[0m                 \u001b[0mset\u001b[0m \u001b[0merror_score\u001b[0m\u001b[0;34m=\u001b[0m\u001b[0;34m'raise'\u001b[0m \u001b[0mto\u001b[0m \u001b[0msee\u001b[0m \u001b[0mthe\u001b[0m \u001b[0mexceptions\u001b[0m\u001b[0;34m.\u001b[0m\u001b[0;34m\u001b[0m\u001b[0;34m\u001b[0m\u001b[0m\n",
            "\u001b[0;31mNotFittedError\u001b[0m: All fits of forecaster failed,\n                set error_score='raise' to see the exceptions.\n                Failed forecaster: RecursiveTabularRegressionForecaster(estimator=<catboost.core.CatBoostRegressor object at 0x78821316e0b0>,\n                                     window_length=7)"
          ]
        }
      ],
      "source": [
        "fit_cv_list = []\n",
        "\n",
        "for m in range(len(rscv_list)):\n",
        "\n",
        "    fitted_cv = list(rscv_list[m].values())[0].fit(y = list(cv_list[m][1].values())[0].iloc[:,:8], X = list(cv_list[m][1].values())[0].iloc[:,8:])\n",
        "\n",
        "    fit_cv_list.append({f\"rscv_{list(rscv_list[m].keys())[0]}\":fitted_cv})"
      ]
    },
    {
      "cell_type": "code",
      "execution_count": null,
      "metadata": {
        "id": "8jiFpZ3Yoi61"
      },
      "outputs": [],
      "source": []
    },
    {
      "cell_type": "code",
      "execution_count": null,
      "metadata": {
        "id": "irpL3NvVoi62"
      },
      "outputs": [],
      "source": []
    },
    {
      "cell_type": "code",
      "execution_count": null,
      "metadata": {
        "id": "ZFtg8JlDoi63"
      },
      "outputs": [],
      "source": [
        "model = cb.CatBoostRegressor(cat_features=catfeat)"
      ]
    },
    {
      "cell_type": "code",
      "execution_count": null,
      "metadata": {
        "id": "sKOLDiNCoi64"
      },
      "outputs": [],
      "source": [
        "randomized_search_result = model.randomized_search(params,\n",
        "                                                  # n_iter=30,\n",
        "                                                   X= x_train_daily,\n",
        "                                                   y= y_train_daily,\n",
        "                                                   cv = create_train_validation_folds(train_daily),\n",
        "                                                   plot=True,\n",
        "                                                   verbose = 500,\n",
        "                                                   calc_cv_statistics=True)"
      ]
    },
    {
      "cell_type": "code",
      "execution_count": null,
      "metadata": {
        "id": "BCYnbcIaoi64"
      },
      "outputs": [],
      "source": [
        "pd.DataFrame(randomized_search_result.get(\"cv_results\"))"
      ]
    },
    {
      "cell_type": "code",
      "execution_count": null,
      "metadata": {
        "id": "wX1euomYoi65"
      },
      "outputs": [],
      "source": [
        "randomized_search_result.get(\"params\")"
      ]
    },
    {
      "cell_type": "code",
      "execution_count": null,
      "metadata": {
        "id": "aLuupIDyoi66"
      },
      "outputs": [],
      "source": [
        "#def objective(trial):\n",
        "    params = {\n",
        "        'n_estimators': trial.suggest_int('n_estimators', 50, 3000),\n",
        "        \"learning_rate\": trial.suggest_float(\"learning_rate\", 1e-4, 0.1, log=True),\n",
        "        \"l2_leaf_reg\": trial.suggest_float(\"l2_leaf_reg\", 2, 30),\n",
        "        \"depth\": trial.suggest_int(\"depth\", 1, 20),\n",
        "        \"subsample\": trial.suggest_float(\"subsample\", 0.05, 1.0),\n",
        "        \"colsample_bylevel\": trial.suggest_float(\"colsample_bylevel\", 0.05, 1.0),\n",
        "        \"min_data_in_leaf\": trial.suggest_int(\"min_data_in_leaf\", 1, 100),\n",
        "        \"min_child_weight\": trial.suggest_int(1, 300)\n",
        "    }\n",
        "\n",
        "    model = CatBoostRegressor(**params, silent=True, allow_writing_files = False, cat_features = catfeat)\n",
        "\n",
        "    model_cv = optuna.integration.OptunaSearchCV(estimator = model, param_distributions = params, cv = create_train_validation_folds(train_daily), n_jobs = -1, n_trials = 30)\n",
        "\n",
        "    #model.fit(x_train_daily, y_train_daily, eval_set = (create_train_validation_folds_cat(x_train_daily_totalamount)), cat_features = catfeat, verbose = 1000, plot = False)\n",
        "\n",
        "    # y_val_pred_daily = model_cv.predict(x_val_daily)\n",
        "\n",
        "    #rmse = mean_squared_error(y_val_daily, y_val_pred_daily, squared=False)\n",
        "\n",
        "    #return rmse\n",
        "\n",
        "#study = optuna.create_study(direction='minimize')\n",
        "#study.optimize(objective, n_trials=30)"
      ]
    },
    {
      "cell_type": "code",
      "execution_count": null,
      "metadata": {
        "id": "vIE8SOQKoi66"
      },
      "outputs": [],
      "source": [
        "print('Best hyperparameters:', study.best_params)\n",
        "print('Best RMSE:', study.best_value)"
      ]
    },
    {
      "cell_type": "code",
      "execution_count": null,
      "metadata": {
        "id": "Esq24ZC-oi68"
      },
      "outputs": [],
      "source": []
    },
    {
      "cell_type": "code",
      "execution_count": null,
      "metadata": {
        "id": "36c_rmMAoi68"
      },
      "outputs": [],
      "source": [
        "# Best model\n",
        "\n",
        "model = CatBoostRegressor(n_estimators = 2620, learning_rate = 0.0487,\n",
        " depth = 5, subsample = 0.21, colsample_bylevel = 0.2, min_data_in_leaf = 21, early_stopping_rounds = 69, cat_features = catfeat, random_state = 123, allow_writing_files = True)\n",
        "\n",
        "model.fit(x_train_daily, y_train_daily, eval_set=(x_val_daily, y_val_daily), verbose = 500, plot = True)"
      ]
    },
    {
      "cell_type": "markdown",
      "metadata": {
        "id": "8LoTtLlOoi69"
      },
      "source": [
        "### Feature importances"
      ]
    },
    {
      "cell_type": "code",
      "execution_count": null,
      "metadata": {
        "id": "dOIGICEyoi69"
      },
      "outputs": [],
      "source": [
        "model.get_feature_importance(prettified=True).plot(x = \"Feature Id\", y = \"Importances\", kind = \"bar\")"
      ]
    },
    {
      "cell_type": "markdown",
      "metadata": {
        "id": "GgJmAhqKoi69"
      },
      "source": [
        "### Evaluation metrics train and validation set"
      ]
    },
    {
      "cell_type": "code",
      "execution_count": null,
      "metadata": {
        "id": "geVnLFssoi6-"
      },
      "outputs": [],
      "source": [
        "y_train_pred = model.predict(x_train_daily)\n",
        "print(f\"R-squared train: {round(r2_score(y_train_daily, y_train_pred),6)}\")\n",
        "print(f\"MAPE train: {round(100*mean_absolute_percentage_error(y_train_daily, y_train_pred),2)}\\n\")\n",
        "\n",
        "y_val_pred = model.predict(x_val_daily)\n",
        "print(f\"R-squared validation: {round(r2_score(y_val_daily, y_val_pred),6)}\")\n",
        "print(f\"MAPE validation: {round(100*mean_absolute_percentage_error(y_val_daily, y_val_pred),2)}\")"
      ]
    },
    {
      "cell_type": "markdown",
      "metadata": {
        "id": "WZTlpJtAoi6-"
      },
      "source": [
        "# Test dataset"
      ]
    },
    {
      "cell_type": "code",
      "execution_count": null,
      "metadata": {
        "id": "PPZ_KJhloi7A"
      },
      "outputs": [],
      "source": [
        "x_test_daily_totalamount, y_test_pred =  pred_test(train = x_train_daily_totalamount, test = x_test_daily_totalamount, model = model, numfeat = numfeat, catfeat = catfeat)"
      ]
    },
    {
      "cell_type": "markdown",
      "metadata": {
        "id": "Q8k7U11Poi7A"
      },
      "source": [
        "### Residuals by store"
      ]
    },
    {
      "cell_type": "code",
      "execution_count": null,
      "metadata": {
        "id": "JERZYZkxoi7A"
      },
      "outputs": [],
      "source": [
        "difference_df = diff_overview(data = x_test_daily_totalamount, pred = y_test_pred, stores = all)"
      ]
    },
    {
      "cell_type": "markdown",
      "metadata": {
        "id": "WQe_0aPnoi7B"
      },
      "source": [
        "### Residual Plot Analysis"
      ]
    },
    {
      "cell_type": "code",
      "execution_count": null,
      "metadata": {
        "id": "qddwngE_oi7B"
      },
      "outputs": [],
      "source": [
        "sns.scatterplot(data = difference_df, x = \"Predicted\", y = \"Stand_resid\")\n",
        "\n",
        "plt.axhline(y=0, color='r', linestyle='--')\n",
        "plt.xlabel(\"Predicted Sales (Daily total)\")\n",
        "plt.ylabel(\"Standardized Residuals\")\n",
        "\n",
        "plt.show()"
      ]
    },
    {
      "cell_type": "markdown",
      "metadata": {
        "id": "B6kBZhTgoi7B"
      },
      "source": [
        "### Evaluation metrics train and test set"
      ]
    },
    {
      "cell_type": "code",
      "execution_count": null,
      "metadata": {
        "id": "1bb4e769oi7C"
      },
      "outputs": [],
      "source": [
        "fit_overview(ytrain = y_train_daily, ytrainpred = y_train_pred, ytest = y_test_daily, ytestpred = y_test_pred)"
      ]
    },
    {
      "cell_type": "code",
      "execution_count": null,
      "metadata": {
        "id": "-yhkYtTloi7C"
      },
      "outputs": [],
      "source": [
        "mape_stores(x_test_daily_totalamount, y_test_pred)"
      ]
    },
    {
      "cell_type": "markdown",
      "metadata": {
        "id": "_VgXSXAUoi7C"
      },
      "source": [
        "### Visualisation of predictions"
      ]
    },
    {
      "cell_type": "code",
      "execution_count": null,
      "metadata": {
        "id": "cntd3c1Zoi7D"
      },
      "outputs": [],
      "source": [
        "df_predicted = pd.concat(\n",
        "    [\n",
        "    difference_df[[\"Date\",\"Store name\",\"Observed\",\"Predicted\"]].rename(columns = {\"Date\":\"date\",\"Store name\":\"store_name\",\"Observed\":\"total_amount\"}),\n",
        "    d[(d[\"date\"] >= pd.to_datetime(\"2024-05-01\")) & (d[\"item_category\"] == \"daily total\")][[\"date\",\"store_name\",\"total_amount\"]]\n",
        "    ]\n",
        "    )"
      ]
    },
    {
      "cell_type": "code",
      "execution_count": null,
      "metadata": {
        "id": "7q68bfB-oi7D"
      },
      "outputs": [],
      "source": [
        "ts_predicted(df_predicted)"
      ]
    }
  ],
  "metadata": {
    "kernelspec": {
      "display_name": "Python 3",
      "name": "python3"
    },
    "language_info": {
      "codemirror_mode": {
        "name": "ipython",
        "version": 3
      },
      "file_extension": ".py",
      "mimetype": "text/x-python",
      "name": "python",
      "nbconvert_exporter": "python",
      "pygments_lexer": "ipython3",
      "version": "3.11.3"
    },
    "colab": {
      "provenance": [],
      "machine_shape": "hm"
    }
  },
  "nbformat": 4,
  "nbformat_minor": 0
}