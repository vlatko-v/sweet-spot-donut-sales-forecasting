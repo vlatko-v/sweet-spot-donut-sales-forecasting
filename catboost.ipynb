{
  "cells": [
    {
      "cell_type": "markdown",
      "metadata": {
        "id": "dMOQ5LlUoi6J"
      },
      "source": [
        "# Catboost Modelling\n",
        "\n",
        "In this notebook, a final sales forecasting model based on the CatBoost algorithm is created. More information can be found here: https://catboost.ai/\n",
        "\n",
        "Just as the Random Forest model, the final model is also a tree-based model. These types of algorithms lend themselves well to predicting target features that are not normally distributed, as is the case with sales here. Moreover, CatBoost is specifically tailored to datasets with many categorical variables. With the expception of weather and lag variables, this dataset mainly contains categorical features, including dummy variables.\n",
        "\n",
        "Given the flexibility of CatBoost, no additional preprocessing is necessary. It can handle object (categorical) variables, missing values and responds well to non-normally distributed target variables."
      ]
    },
    {
      "cell_type": "code",
      "source": [
        "pip install catboost sktime"
      ],
      "metadata": {
        "collapsed": true,
        "colab": {
          "base_uri": "https://localhost:8080/"
        },
        "id": "NpIqYpvCouyT",
        "outputId": "c36acd81-9d83-436c-f666-d81c19ca1cab"
      },
      "execution_count": 1,
      "outputs": [
        {
          "output_type": "stream",
          "name": "stdout",
          "text": [
            "Collecting catboost\n",
            "  Downloading catboost-1.2.5-cp310-cp310-manylinux2014_x86_64.whl.metadata (1.2 kB)\n",
            "Collecting sktime\n",
            "  Downloading sktime-0.31.0-py3-none-any.whl.metadata (31 kB)\n",
            "Requirement already satisfied: graphviz in /usr/local/lib/python3.10/dist-packages (from catboost) (0.20.3)\n",
            "Requirement already satisfied: matplotlib in /usr/local/lib/python3.10/dist-packages (from catboost) (3.7.1)\n",
            "Requirement already satisfied: numpy>=1.16.0 in /usr/local/lib/python3.10/dist-packages (from catboost) (1.26.4)\n",
            "Requirement already satisfied: pandas>=0.24 in /usr/local/lib/python3.10/dist-packages (from catboost) (2.1.4)\n",
            "Requirement already satisfied: scipy in /usr/local/lib/python3.10/dist-packages (from catboost) (1.13.1)\n",
            "Requirement already satisfied: plotly in /usr/local/lib/python3.10/dist-packages (from catboost) (5.15.0)\n",
            "Requirement already satisfied: six in /usr/local/lib/python3.10/dist-packages (from catboost) (1.16.0)\n",
            "Requirement already satisfied: joblib<1.5,>=1.2.0 in /usr/local/lib/python3.10/dist-packages (from sktime) (1.4.2)\n",
            "Requirement already satisfied: packaging in /usr/local/lib/python3.10/dist-packages (from sktime) (24.1)\n",
            "Collecting scikit-base<0.9.0,>=0.6.1 (from sktime)\n",
            "  Downloading scikit_base-0.8.2-py3-none-any.whl.metadata (8.5 kB)\n",
            "Requirement already satisfied: scikit-learn<1.6.0,>=0.24 in /usr/local/lib/python3.10/dist-packages (from sktime) (1.3.2)\n",
            "Requirement already satisfied: python-dateutil>=2.8.2 in /usr/local/lib/python3.10/dist-packages (from pandas>=0.24->catboost) (2.8.2)\n",
            "Requirement already satisfied: pytz>=2020.1 in /usr/local/lib/python3.10/dist-packages (from pandas>=0.24->catboost) (2024.1)\n",
            "Requirement already satisfied: tzdata>=2022.1 in /usr/local/lib/python3.10/dist-packages (from pandas>=0.24->catboost) (2024.1)\n",
            "Requirement already satisfied: threadpoolctl>=2.0.0 in /usr/local/lib/python3.10/dist-packages (from scikit-learn<1.6.0,>=0.24->sktime) (3.5.0)\n",
            "Requirement already satisfied: contourpy>=1.0.1 in /usr/local/lib/python3.10/dist-packages (from matplotlib->catboost) (1.2.1)\n",
            "Requirement already satisfied: cycler>=0.10 in /usr/local/lib/python3.10/dist-packages (from matplotlib->catboost) (0.12.1)\n",
            "Requirement already satisfied: fonttools>=4.22.0 in /usr/local/lib/python3.10/dist-packages (from matplotlib->catboost) (4.53.1)\n",
            "Requirement already satisfied: kiwisolver>=1.0.1 in /usr/local/lib/python3.10/dist-packages (from matplotlib->catboost) (1.4.5)\n",
            "Requirement already satisfied: pillow>=6.2.0 in /usr/local/lib/python3.10/dist-packages (from matplotlib->catboost) (9.4.0)\n",
            "Requirement already satisfied: pyparsing>=2.3.1 in /usr/local/lib/python3.10/dist-packages (from matplotlib->catboost) (3.1.2)\n",
            "Requirement already satisfied: tenacity>=6.2.0 in /usr/local/lib/python3.10/dist-packages (from plotly->catboost) (9.0.0)\n",
            "Downloading catboost-1.2.5-cp310-cp310-manylinux2014_x86_64.whl (98.2 MB)\n",
            "\u001b[2K   \u001b[90m━━━━━━━━━━━━━━━━━━━━━━━━━━━━━━━━━━━━━━━━\u001b[0m \u001b[32m98.2/98.2 MB\u001b[0m \u001b[31m14.0 MB/s\u001b[0m eta \u001b[36m0:00:00\u001b[0m\n",
            "\u001b[?25hDownloading sktime-0.31.0-py3-none-any.whl (24.0 MB)\n",
            "\u001b[2K   \u001b[90m━━━━━━━━━━━━━━━━━━━━━━━━━━━━━━━━━━━━━━━━\u001b[0m \u001b[32m24.0/24.0 MB\u001b[0m \u001b[31m26.1 MB/s\u001b[0m eta \u001b[36m0:00:00\u001b[0m\n",
            "\u001b[?25hDownloading scikit_base-0.8.2-py3-none-any.whl (134 kB)\n",
            "\u001b[2K   \u001b[90m━━━━━━━━━━━━━━━━━━━━━━━━━━━━━━━━━━━━━━━━\u001b[0m \u001b[32m134.1/134.1 kB\u001b[0m \u001b[31m9.2 MB/s\u001b[0m eta \u001b[36m0:00:00\u001b[0m\n",
            "\u001b[?25hInstalling collected packages: scikit-base, sktime, catboost\n",
            "Successfully installed catboost-1.2.5 scikit-base-0.8.2 sktime-0.31.0\n"
          ]
        }
      ]
    },
    {
      "cell_type": "code",
      "execution_count": 2,
      "metadata": {
        "id": "jWL5gZXnoi6N"
      },
      "outputs": [],
      "source": [
        "import pandas as pd\n",
        "import numpy as np\n",
        "import matplotlib.pyplot as plt\n",
        "import matplotlib.dates as md\n",
        "from matplotlib.patches import Patch\n",
        "import seaborn as sns\n",
        "import datetime as dt\n",
        "\n",
        "from sklearn.impute import SimpleImputer, KNNImputer\n",
        "from sklearn.preprocessing import OneHotEncoder, RobustScaler, FunctionTransformer, PolynomialFeatures, StandardScaler\n",
        "from sklearn.compose import ColumnTransformer\n",
        "from sklearn.pipeline import Pipeline\n",
        "from sklearn.model_selection import cross_validate, RandomizedSearchCV\n",
        "from sklearn.linear_model import LinearRegression, Ridge, Lasso, ElasticNet\n",
        "from sklearn.metrics import mean_absolute_percentage_error, r2_score, mean_squared_error\n",
        "\n",
        "from sklearn.model_selection import TimeSeriesSplit, StratifiedKFold\n",
        "from statsmodels.tsa.stattools import adfuller\n",
        "\n",
        "from catboost import CatBoostRegressor\n",
        "import catboost as cb\n",
        "#import optuna"
      ]
    },
    {
      "cell_type": "code",
      "source": [
        "# for google colab\n",
        "!unrar x drive/MyDrive/sweet-spot-donut-sales-forecasting.rar"
      ],
      "metadata": {
        "colab": {
          "base_uri": "https://localhost:8080/"
        },
        "collapsed": true,
        "id": "LeoCBXAusCl5",
        "outputId": "753bb5a2-e21e-4f7c-e290-6b558648945d"
      },
      "execution_count": 4,
      "outputs": [
        {
          "output_type": "stream",
          "name": "stdout",
          "text": [
            "\n",
            "UNRAR 6.11 beta 1 freeware      Copyright (c) 1993-2022 Alexander Roshal\n",
            "\n",
            "\n",
            "Extracting from drive/MyDrive/sweet-spot-donut-sales-forecasting.rar\n",
            "\n",
            "Extracting  functions_model.py                                           \b\b\b\b  0%\b\b\b\b\b  OK \n",
            "Extracting  functions_vis.py                                             \b\b\b\b  0%\b\b\b\b\b  OK \n",
            "Extracting  train_df.csv                                                 \b\b\b\b 99%\b\b\b\b\b  OK \n",
            "Extracting  test_df.csv                                                  \b\b\b\b100%\b\b\b\b\b  OK \n",
            "All OK\n"
          ]
        }
      ]
    },
    {
      "cell_type": "code",
      "execution_count": 5,
      "metadata": {
        "id": "NJh4XCwgoi6Q"
      },
      "outputs": [],
      "source": [
        "%run functions_model.py\n",
        "%run functions_vis.py"
      ]
    },
    {
      "cell_type": "code",
      "execution_count": 6,
      "metadata": {
        "id": "K5Th4bCJoi6S"
      },
      "outputs": [],
      "source": [
        "pd.set_option(\"display.max_columns\", None)"
      ]
    },
    {
      "cell_type": "markdown",
      "metadata": {
        "id": "ZdAhO38aoi6V"
      },
      "source": [
        "### Loading the dataset"
      ]
    },
    {
      "cell_type": "code",
      "execution_count": 7,
      "metadata": {
        "id": "Goy3_YPzoi6X"
      },
      "outputs": [],
      "source": [
        "d = pd.read_csv(\"train_df.csv\")\n",
        "d_test = pd.read_csv(\"test_df.csv\")"
      ]
    },
    {
      "cell_type": "code",
      "execution_count": 8,
      "metadata": {
        "id": "HbaM85-yoi6a"
      },
      "outputs": [],
      "source": [
        "d['date'] = pd.to_datetime(d['date'])\n",
        "d_test['date'] = pd.to_datetime(d_test['date'])"
      ]
    },
    {
      "cell_type": "markdown",
      "metadata": {
        "id": "3KveDoDuoi6c"
      },
      "source": [
        "### Creating validation dataset"
      ]
    },
    {
      "cell_type": "markdown",
      "metadata": {
        "id": "Cl_fowyDoi6c"
      },
      "source": [
        "A validation set, containing the last 7 days of the entire training dataset, is created. The validation set is used for evaluation purposes and early stopping in the CatBoost model."
      ]
    },
    {
      "cell_type": "code",
      "execution_count": 9,
      "metadata": {
        "id": "h5k_v0wZoi6e"
      },
      "outputs": [],
      "source": [
        "train, val = create_val_set(d)"
      ]
    },
    {
      "cell_type": "code",
      "execution_count": null,
      "metadata": {
        "id": "Sx3k4q66oi6g"
      },
      "outputs": [],
      "source": []
    },
    {
      "cell_type": "markdown",
      "metadata": {
        "id": "9mpKeEweoi6g"
      },
      "source": [
        "## Modelling\n",
        "\n",
        "#### Selecting features"
      ]
    },
    {
      "cell_type": "markdown",
      "metadata": {
        "id": "j1ZJnbG2oi6g"
      },
      "source": [
        "In order for the CatBoost algorithm to recognize categorical features, all variables are saved either as categorical or numerical. The date variable will serve as the index, while the lag features will only be used in the training and validation, but not the test dataset."
      ]
    },
    {
      "cell_type": "code",
      "execution_count": 10,
      "metadata": {
        "id": "fbnDqc_8oi6h"
      },
      "outputs": [],
      "source": [
        "date = [\"date\"]\n",
        "\n",
        "catfeat = [\"store_name\",\"item_category\",\"hol_pub\",\"hol_school\",\"weekday\",\"day\",\"month\",\"year\",\"week_year\",\"nye\",\"valentines_day\",\"halloween\", \"street_market\",\"public_space\",\"box_deal\"]\n",
        "\n",
        "numfeat = [\"days_back\",\"temperature_2m_mean\",\"sunshine_duration\",\"precipitation_hours\"]\n",
        "\n",
        "lag = [\"lag1\",\"lag2\", \"lag7\"]"
      ]
    },
    {
      "cell_type": "code",
      "execution_count": null,
      "metadata": {
        "id": "8qYhUpRooi6i"
      },
      "outputs": [],
      "source": []
    },
    {
      "cell_type": "markdown",
      "metadata": {
        "id": "zbPrK3t5oi6i"
      },
      "source": [
        "Two types of sets were created:\n",
        "\n",
        "1. The first type of train, validation and test datasets contains all features at the day, store and product level.\n",
        "2. The second type contains all features only at the day and store level. The different product categories were removed and **only total daily sales** per store are kept."
      ]
    },
    {
      "cell_type": "code",
      "execution_count": 12,
      "metadata": {
        "id": "3uckxYISoi6i"
      },
      "outputs": [],
      "source": [
        "x_train = train[date + catfeat + numfeat + lag]\n",
        "x_train = x_train.set_index(\"date\")\n",
        "x_train_daily = x_train[(x_train[\"item_category\"] == \"daily total\")].drop(\"item_category\", axis = 1)\n",
        "y_train = train['total_amount']\n",
        "y_train_daily = train[(train[\"item_category\"] == \"daily total\")]['total_amount']\n",
        "\n",
        "x_val = val[date + catfeat + numfeat + lag]\n",
        "x_val = x_val.set_index(\"date\")\n",
        "x_val_daily = x_val[(x_val[\"item_category\"] == \"daily total\")].drop(\"item_category\", axis = 1)\n",
        "y_val = val['total_amount']\n",
        "y_val_daily = val[(val[\"item_category\"] == \"daily total\") ]['total_amount']\n",
        "\n",
        "x_test = d_test[date + catfeat + numfeat]\n",
        "x_test = x_test.set_index(\"date\")\n",
        "x_test_daily = x_test[(x_test[\"item_category\"] == \"daily total\")].drop(\"item_category\", axis = 1)\n",
        "y_test = d_test['total_amount']\n",
        "y_test_daily = d_test[(d_test[\"item_category\"] == \"daily total\")]['total_amount']"
      ]
    },
    {
      "cell_type": "code",
      "execution_count": null,
      "metadata": {
        "id": "7g1ngKHCoi6k"
      },
      "outputs": [],
      "source": [
        "#catfeat.remove(\"item_category\")"
      ]
    },
    {
      "cell_type": "markdown",
      "metadata": {
        "id": "uhi1ERA9oi6l"
      },
      "source": [
        "#### Converting holiday features to integer"
      ]
    },
    {
      "cell_type": "code",
      "execution_count": 13,
      "metadata": {
        "id": "3yIzzsZFoi6l"
      },
      "outputs": [],
      "source": [
        "x_train[\"hol_pub\"] = x_train[\"hol_pub\"].apply(np.int64)\n",
        "x_train[\"hol_school\"] = x_train[\"hol_school\"].apply(np.int64)\n",
        "x_train_daily[\"hol_pub\"] = x_train_daily[\"hol_pub\"].apply(np.int64)\n",
        "x_train_daily[\"hol_school\"] = x_train_daily[\"hol_school\"].apply(np.int64)\n",
        "\n",
        "x_val[\"hol_pub\"] = x_val[\"hol_pub\"].apply(np.int64)\n",
        "x_val[\"hol_school\"] = x_val[\"hol_school\"].apply(np.int64)\n",
        "x_val_daily[\"hol_pub\"] = x_val_daily[\"hol_pub\"].apply(np.int64)\n",
        "x_val_daily[\"hol_school\"] = x_val_daily[\"hol_school\"].apply(np.int64)\n",
        "\n",
        "x_test[\"hol_pub\"] = x_test[\"hol_pub\"].apply(np.int64)\n",
        "x_test[\"hol_school\"] = x_test[\"hol_school\"].apply(np.int64)\n",
        "x_test_daily[\"hol_pub\"] = x_test_daily[\"hol_pub\"].apply(np.int64)\n",
        "x_test_daily[\"hol_school\"] = x_test_daily[\"hol_school\"].apply(np.int64)"
      ]
    },
    {
      "cell_type": "markdown",
      "metadata": {
        "id": "-b8ak7JYoi6m"
      },
      "source": [
        "The train and target variables are concatenated to obtain a train and test set at the daily sales level, without the individual product categories."
      ]
    },
    {
      "cell_type": "code",
      "execution_count": 14,
      "metadata": {
        "id": "IF2h8-6zoi6m"
      },
      "outputs": [],
      "source": [
        "train_daily = pd.concat([x_train_daily.reset_index(), y_train_daily.reset_index(drop= True)], axis = 1)\n",
        "\n",
        "test_daily = pd.concat([x_test_daily.reset_index(), y_test_daily.reset_index(drop= True)], axis = 1)"
      ]
    },
    {
      "cell_type": "code",
      "execution_count": null,
      "metadata": {
        "id": "hFYa-1u0oi6m"
      },
      "outputs": [],
      "source": []
    },
    {
      "cell_type": "markdown",
      "metadata": {
        "id": "b0lPv3OXoi6m"
      },
      "source": [
        "### Custom CV split"
      ]
    },
    {
      "cell_type": "code",
      "execution_count": 15,
      "metadata": {
        "id": "2wsl7Q_8oi6n"
      },
      "outputs": [],
      "source": [
        "def create_train_validation_folds(df):\n",
        "    last_val_date = df.date.max()\n",
        "    cv = []\n",
        "    for n in range(5):\n",
        "        first_val_date = last_val_date - dt.timedelta(days=6)\n",
        "        train_index = df[df.date<first_val_date].index\n",
        "        val_index = df[(df.date>=first_val_date) & (df.date<=last_val_date)].index\n",
        "        cv.append((train_index,val_index))\n",
        "        last_val_date = first_val_date - dt.timedelta(days=1)\n",
        "    cv = cv[::-1]\n",
        "    return cv"
      ]
    },
    {
      "cell_type": "code",
      "execution_count": null,
      "metadata": {
        "id": "zTwsoKuToi6n"
      },
      "outputs": [],
      "source": [
        "create_train_validation_folds(train_daily)"
      ]
    },
    {
      "cell_type": "code",
      "execution_count": null,
      "metadata": {
        "id": "rCL7-w_1oi6n"
      },
      "outputs": [],
      "source": [
        "def create_train_validation_dataset(df):\n",
        "    last_val_date = df.date.max()\n",
        "    cv = []\n",
        "    for n in range(5):\n",
        "        first_val_date = last_val_date - dt.timedelta(days=6)\n",
        "        train_fold = df[df.date<first_val_date]\n",
        "        val_fold = df[(df.date>=first_val_date) & (df.date<=last_val_date)]\n",
        "        cv.append((train_fold,val_fold))\n",
        "        last_val_date = first_val_date - dt.timedelta(days=1)\n",
        "    cv = cv[::-1]\n",
        "    return cv"
      ]
    },
    {
      "cell_type": "code",
      "execution_count": null,
      "metadata": {
        "id": "A3wFSsMQoi6o"
      },
      "outputs": [],
      "source": [
        "for i in range(5):\n",
        "  globals()[f\"train_{i}\"], globals()[f\"val_{i}\"] = create_train_validation_dataset(train_daily)[i]"
      ]
    },
    {
      "cell_type": "code",
      "execution_count": null,
      "metadata": {
        "id": "Jn3_l-0Soi6p"
      },
      "outputs": [],
      "source": []
    },
    {
      "cell_type": "markdown",
      "metadata": {
        "id": "Q0f1X2-Uoi6p"
      },
      "source": [
        "### Hyperparameter Tuning\n"
      ]
    },
    {
      "cell_type": "markdown",
      "metadata": {
        "id": "YlMaMNKDoi6q"
      },
      "source": [
        "Training tree-based algorithm often leads to overfitting. In order to create a generalizable model, it is necessary to \"prune\" the trees by putting constraints on how well they can learn from the data. The following hyperparameters are tuned in the step below:\n",
        "\n",
        "* Number of trees\n",
        "* Learning rate\n",
        "* L2 leaf regularization\n",
        "* Tree depth (number of levels)\n",
        "* Proportion of the sample used for each tree\n",
        "* Proportion of the features used for each tree\n",
        "* A minimum amount of datapoints in a leaf before a split can occur\n",
        "* Minimum child weight\n"
      ]
    },
    {
      "cell_type": "code",
      "execution_count": 11,
      "metadata": {
        "colab": {
          "base_uri": "https://localhost:8080/"
        },
        "id": "0lqBiEJeoi6q",
        "outputId": "0e6348e6-01a2-44f1-bdc7-aa7f7fbf3106"
      },
      "outputs": [
        {
          "output_type": "stream",
          "name": "stderr",
          "text": [
            "/usr/local/lib/python3.10/dist-packages/dask/dataframe/__init__.py:42: FutureWarning: \n",
            "Dask dataframe query planning is disabled because dask-expr is not installed.\n",
            "\n",
            "You can install it with `pip install dask[dataframe]` or `conda install dask`.\n",
            "This will raise in a future version.\n",
            "\n",
            "  warnings.warn(msg, FutureWarning)\n"
          ]
        }
      ],
      "source": [
        "from sktime.forecasting.base import ForecastingHorizon\n",
        "from sktime.forecasting.compose import make_reduction\n",
        "from sktime.forecasting.model_evaluation import evaluate\n",
        "from sktime.forecasting.model_selection import ForecastingRandomizedSearchCV\n",
        "from sktime.split import ExpandingWindowSplitter\n",
        "from sktime.utils import plot_windows\n",
        "from sktime.utils._testing.hierarchical import _make_hierarchical\n",
        "from sktime.transformations.series.summarize import WindowSummarizer"
      ]
    },
    {
      "cell_type": "code",
      "execution_count": null,
      "metadata": {
        "id": "iimNl8AAoi6q"
      },
      "outputs": [],
      "source": []
    },
    {
      "cell_type": "code",
      "execution_count": 12,
      "metadata": {
        "id": "k8Wj-buOoi6r"
      },
      "outputs": [],
      "source": [
        "fh = np.arange(7) + 1"
      ]
    },
    {
      "cell_type": "code",
      "execution_count": 24,
      "metadata": {
        "id": "nnfCo15Aoi6s"
      },
      "outputs": [],
      "source": [
        "train_2 = train[date + catfeat + numfeat]\n",
        "train_2 = train_2[train_2[\"item_category\"] != \"daily total\"]\n",
        "train_2 = pd.concat([train_2, train[train[\"item_category\"] != \"daily total\"][\"total_amount\"]], axis = 1)\n",
        "\n"
      ]
    },
    {
      "cell_type": "code",
      "execution_count": 25,
      "metadata": {
        "id": "29aQRGg_oi6t"
      },
      "outputs": [],
      "source": [
        "agg_columns = train_2.columns.difference(['date', 'store_name', 'item_category'] + [\"total_amount\"])\n",
        "agg_dict = {col: \"first\" for col in agg_columns}\n",
        "agg_dict[\"total_amount\"] = \"sum\"\n",
        "\n",
        "train_2 = train_2.groupby(['date', 'store_name', 'item_category']).agg(agg_dict).reset_index().sort_values(by = \"date\", ascending = False).reset_index(drop = True)\n",
        "train_2 = train_2.set_index([\"store_name\",\"item_category\",\"date\"]).sort_index()\n",
        "\n",
        "\n",
        "#train_2_wind = transformer.fit_transform(train_2)\n",
        "#train_2_wind = pd.concat([train_2[\"total_amount\"], train_2], axis = 1)\n",
        "#train_2_wind = train_2_wind.dropna()\n",
        "\n",
        "#x_train_2_wind = train_2_wind.iloc[:,8:]\n",
        "#y_train_2_wind = train_2_wind.iloc[:,:8]"
      ]
    },
    {
      "cell_type": "markdown",
      "metadata": {
        "id": "oHGwJUtFoi6u"
      },
      "source": [
        "**Cross-validation**"
      ]
    },
    {
      "cell_type": "code",
      "source": [
        "catfeat = [\"hol_pub\",\"hol_school\",\"weekday\",\"day\",\"month\",\"year\",\"week_year\",\"nye\",\"valentines_day\",\"halloween\", \"street_market\",\"public_space\",\"box_deal\"]"
      ],
      "metadata": {
        "id": "UYw9rySLk8gK"
      },
      "execution_count": 44,
      "outputs": []
    },
    {
      "cell_type": "code",
      "source": [
        "def prepro_data (train):\n",
        "\n",
        "  groups = []\n",
        "  train_2_upd = []\n",
        "  train_2_wind_upd = []\n",
        "  all_dates_list = []\n",
        "\n",
        "  for (store, item_category), group in train.groupby(level=['store_name', 'item_category']):\n",
        "    groups.append(((store, item_category),group))\n",
        "\n",
        "  for i in range(len(groups)):\n",
        "    train_2_upd.append(groups[i][1].reset_index().set_index(\"date\"))\n",
        "\n",
        "  for i in range(len(train_2_upd)):\n",
        "    all_dates = pd.date_range(start=train_2_upd[i].index.min(),\n",
        "                            end=train_2_upd[i].index.max(), freq='D')\n",
        "    all_dates_list.append(all_dates)\n",
        "\n",
        "  for i in range(len(train_2_upd)):\n",
        "    train_2_upd.append(train_2_upd[i].reindex(all_dates_list[i]))\n",
        "\n",
        "\n",
        "  for i in range(len(train_2_upd)):\n",
        "    train_2_upd[i].index.name = \"date\"\n",
        "\n",
        "  train_2_upd = train_2_upd[37:]\n",
        "\n",
        "  for i in range(len(train_2_upd)):\n",
        "    train_2_upd[i][\"store_name\"] = train_2_upd[i][\"store_name\"].ffill()\n",
        "    train_2_upd[i][\"item_category\"] = train_2_upd[i][\"item_category\"].ffill()\n",
        "    train_2_upd[i] = train_2_upd[i].interpolate()\n",
        "\n",
        "  for i in range(len(train_2_upd)):\n",
        "    train_2_upd.append(train_2_upd[i].reset_index().set_index([\"store_name\",\"item_category\",\"date\"]))\n",
        "\n",
        "  train_2_upd = train_2_upd[37:]\n",
        "\n",
        "\n",
        "  train_2_wind_upd = train_2_upd.copy()\n",
        "\n",
        "  kwargs = {\"lag_feature\": {\n",
        "      \"lag\":[1,2,3],\n",
        "      \"mean\": [[1,7], [1, 15], [1,30]],\n",
        "      \"std\": [[1,4]]\n",
        "      },\n",
        "      \"target_cols\":[\"total_amount\"]}\n",
        "\n",
        "  transformer = WindowSummarizer(**kwargs)\n",
        "\n",
        "  for i in range(len(train_2_wind_upd)):\n",
        "    train_2_wind_upd[i] = transformer.fit_transform(train_2_wind_upd[i])\n",
        "    train_2_wind_upd[i] = pd.concat([train_2_upd[i][\"total_amount\"], train_2_wind_upd[i]], axis = 1)\n",
        "    train_2_wind_upd[i] = train_2_wind_upd[i].dropna()\n",
        "\n",
        "  for i in range(len(train_2_wind_upd)):\n",
        "    train_2_wind_upd[i][catfeat] = train_2_wind_upd[i][catfeat].astype(int)\n",
        "    train_2_wind_upd[i][catfeat] = train_2_wind_upd[i][catfeat].astype(\"category\")\n",
        "\n",
        "  for i in range(len(train_2_wind_upd)):\n",
        "    train_2_wind_upd[i] = (groups[i][0], train_2_wind_upd[i])\n",
        "\n",
        "  return train_2_wind_upd\n",
        "\n"
      ],
      "metadata": {
        "id": "pbNCfgGCjHcu"
      },
      "execution_count": 80,
      "outputs": []
    },
    {
      "cell_type": "code",
      "source": [
        "train_2_wind_upd = prepro_data(train_2)"
      ],
      "metadata": {
        "collapsed": true,
        "id": "hWBeaOKoLfYi",
        "outputId": "b440f7de-18a1-42b8-cd76-2951ec86068d",
        "colab": {
          "base_uri": "https://localhost:8080/"
        }
      },
      "execution_count": 81,
      "outputs": [
        {
          "output_type": "stream",
          "name": "stderr",
          "text": [
            "<ipython-input-80-0ec2fb9a114d>:31: FutureWarning: DataFrame.interpolate with object dtype is deprecated and will raise in a future version. Call obj.infer_objects(copy=False) before interpolating instead.\n",
            "  train_2_upd[i] = train_2_upd[i].interpolate()\n",
            "<ipython-input-80-0ec2fb9a114d>:31: FutureWarning: DataFrame.interpolate with object dtype is deprecated and will raise in a future version. Call obj.infer_objects(copy=False) before interpolating instead.\n",
            "  train_2_upd[i] = train_2_upd[i].interpolate()\n",
            "<ipython-input-80-0ec2fb9a114d>:31: FutureWarning: DataFrame.interpolate with object dtype is deprecated and will raise in a future version. Call obj.infer_objects(copy=False) before interpolating instead.\n",
            "  train_2_upd[i] = train_2_upd[i].interpolate()\n",
            "<ipython-input-80-0ec2fb9a114d>:31: FutureWarning: DataFrame.interpolate with object dtype is deprecated and will raise in a future version. Call obj.infer_objects(copy=False) before interpolating instead.\n",
            "  train_2_upd[i] = train_2_upd[i].interpolate()\n",
            "<ipython-input-80-0ec2fb9a114d>:31: FutureWarning: DataFrame.interpolate with object dtype is deprecated and will raise in a future version. Call obj.infer_objects(copy=False) before interpolating instead.\n",
            "  train_2_upd[i] = train_2_upd[i].interpolate()\n",
            "<ipython-input-80-0ec2fb9a114d>:31: FutureWarning: DataFrame.interpolate with object dtype is deprecated and will raise in a future version. Call obj.infer_objects(copy=False) before interpolating instead.\n",
            "  train_2_upd[i] = train_2_upd[i].interpolate()\n",
            "<ipython-input-80-0ec2fb9a114d>:31: FutureWarning: DataFrame.interpolate with object dtype is deprecated and will raise in a future version. Call obj.infer_objects(copy=False) before interpolating instead.\n",
            "  train_2_upd[i] = train_2_upd[i].interpolate()\n",
            "<ipython-input-80-0ec2fb9a114d>:31: FutureWarning: DataFrame.interpolate with object dtype is deprecated and will raise in a future version. Call obj.infer_objects(copy=False) before interpolating instead.\n",
            "  train_2_upd[i] = train_2_upd[i].interpolate()\n",
            "<ipython-input-80-0ec2fb9a114d>:31: FutureWarning: DataFrame.interpolate with object dtype is deprecated and will raise in a future version. Call obj.infer_objects(copy=False) before interpolating instead.\n",
            "  train_2_upd[i] = train_2_upd[i].interpolate()\n",
            "<ipython-input-80-0ec2fb9a114d>:31: FutureWarning: DataFrame.interpolate with object dtype is deprecated and will raise in a future version. Call obj.infer_objects(copy=False) before interpolating instead.\n",
            "  train_2_upd[i] = train_2_upd[i].interpolate()\n",
            "<ipython-input-80-0ec2fb9a114d>:31: FutureWarning: DataFrame.interpolate with object dtype is deprecated and will raise in a future version. Call obj.infer_objects(copy=False) before interpolating instead.\n",
            "  train_2_upd[i] = train_2_upd[i].interpolate()\n",
            "<ipython-input-80-0ec2fb9a114d>:31: FutureWarning: DataFrame.interpolate with object dtype is deprecated and will raise in a future version. Call obj.infer_objects(copy=False) before interpolating instead.\n",
            "  train_2_upd[i] = train_2_upd[i].interpolate()\n",
            "<ipython-input-80-0ec2fb9a114d>:31: FutureWarning: DataFrame.interpolate with object dtype is deprecated and will raise in a future version. Call obj.infer_objects(copy=False) before interpolating instead.\n",
            "  train_2_upd[i] = train_2_upd[i].interpolate()\n",
            "<ipython-input-80-0ec2fb9a114d>:31: FutureWarning: DataFrame.interpolate with object dtype is deprecated and will raise in a future version. Call obj.infer_objects(copy=False) before interpolating instead.\n",
            "  train_2_upd[i] = train_2_upd[i].interpolate()\n",
            "<ipython-input-80-0ec2fb9a114d>:31: FutureWarning: DataFrame.interpolate with object dtype is deprecated and will raise in a future version. Call obj.infer_objects(copy=False) before interpolating instead.\n",
            "  train_2_upd[i] = train_2_upd[i].interpolate()\n",
            "<ipython-input-80-0ec2fb9a114d>:31: FutureWarning: DataFrame.interpolate with object dtype is deprecated and will raise in a future version. Call obj.infer_objects(copy=False) before interpolating instead.\n",
            "  train_2_upd[i] = train_2_upd[i].interpolate()\n",
            "<ipython-input-80-0ec2fb9a114d>:31: FutureWarning: DataFrame.interpolate with object dtype is deprecated and will raise in a future version. Call obj.infer_objects(copy=False) before interpolating instead.\n",
            "  train_2_upd[i] = train_2_upd[i].interpolate()\n",
            "<ipython-input-80-0ec2fb9a114d>:31: FutureWarning: DataFrame.interpolate with object dtype is deprecated and will raise in a future version. Call obj.infer_objects(copy=False) before interpolating instead.\n",
            "  train_2_upd[i] = train_2_upd[i].interpolate()\n",
            "<ipython-input-80-0ec2fb9a114d>:31: FutureWarning: DataFrame.interpolate with object dtype is deprecated and will raise in a future version. Call obj.infer_objects(copy=False) before interpolating instead.\n",
            "  train_2_upd[i] = train_2_upd[i].interpolate()\n",
            "<ipython-input-80-0ec2fb9a114d>:31: FutureWarning: DataFrame.interpolate with object dtype is deprecated and will raise in a future version. Call obj.infer_objects(copy=False) before interpolating instead.\n",
            "  train_2_upd[i] = train_2_upd[i].interpolate()\n",
            "<ipython-input-80-0ec2fb9a114d>:31: FutureWarning: DataFrame.interpolate with object dtype is deprecated and will raise in a future version. Call obj.infer_objects(copy=False) before interpolating instead.\n",
            "  train_2_upd[i] = train_2_upd[i].interpolate()\n",
            "<ipython-input-80-0ec2fb9a114d>:31: FutureWarning: DataFrame.interpolate with object dtype is deprecated and will raise in a future version. Call obj.infer_objects(copy=False) before interpolating instead.\n",
            "  train_2_upd[i] = train_2_upd[i].interpolate()\n",
            "<ipython-input-80-0ec2fb9a114d>:31: FutureWarning: DataFrame.interpolate with object dtype is deprecated and will raise in a future version. Call obj.infer_objects(copy=False) before interpolating instead.\n",
            "  train_2_upd[i] = train_2_upd[i].interpolate()\n",
            "<ipython-input-80-0ec2fb9a114d>:31: FutureWarning: DataFrame.interpolate with object dtype is deprecated and will raise in a future version. Call obj.infer_objects(copy=False) before interpolating instead.\n",
            "  train_2_upd[i] = train_2_upd[i].interpolate()\n",
            "<ipython-input-80-0ec2fb9a114d>:31: FutureWarning: DataFrame.interpolate with object dtype is deprecated and will raise in a future version. Call obj.infer_objects(copy=False) before interpolating instead.\n",
            "  train_2_upd[i] = train_2_upd[i].interpolate()\n",
            "<ipython-input-80-0ec2fb9a114d>:31: FutureWarning: DataFrame.interpolate with object dtype is deprecated and will raise in a future version. Call obj.infer_objects(copy=False) before interpolating instead.\n",
            "  train_2_upd[i] = train_2_upd[i].interpolate()\n",
            "<ipython-input-80-0ec2fb9a114d>:31: FutureWarning: DataFrame.interpolate with object dtype is deprecated and will raise in a future version. Call obj.infer_objects(copy=False) before interpolating instead.\n",
            "  train_2_upd[i] = train_2_upd[i].interpolate()\n",
            "<ipython-input-80-0ec2fb9a114d>:31: FutureWarning: DataFrame.interpolate with object dtype is deprecated and will raise in a future version. Call obj.infer_objects(copy=False) before interpolating instead.\n",
            "  train_2_upd[i] = train_2_upd[i].interpolate()\n",
            "<ipython-input-80-0ec2fb9a114d>:31: FutureWarning: DataFrame.interpolate with object dtype is deprecated and will raise in a future version. Call obj.infer_objects(copy=False) before interpolating instead.\n",
            "  train_2_upd[i] = train_2_upd[i].interpolate()\n",
            "<ipython-input-80-0ec2fb9a114d>:31: FutureWarning: DataFrame.interpolate with object dtype is deprecated and will raise in a future version. Call obj.infer_objects(copy=False) before interpolating instead.\n",
            "  train_2_upd[i] = train_2_upd[i].interpolate()\n",
            "<ipython-input-80-0ec2fb9a114d>:31: FutureWarning: DataFrame.interpolate with object dtype is deprecated and will raise in a future version. Call obj.infer_objects(copy=False) before interpolating instead.\n",
            "  train_2_upd[i] = train_2_upd[i].interpolate()\n",
            "<ipython-input-80-0ec2fb9a114d>:31: FutureWarning: DataFrame.interpolate with object dtype is deprecated and will raise in a future version. Call obj.infer_objects(copy=False) before interpolating instead.\n",
            "  train_2_upd[i] = train_2_upd[i].interpolate()\n",
            "<ipython-input-80-0ec2fb9a114d>:31: FutureWarning: DataFrame.interpolate with object dtype is deprecated and will raise in a future version. Call obj.infer_objects(copy=False) before interpolating instead.\n",
            "  train_2_upd[i] = train_2_upd[i].interpolate()\n",
            "<ipython-input-80-0ec2fb9a114d>:31: FutureWarning: DataFrame.interpolate with object dtype is deprecated and will raise in a future version. Call obj.infer_objects(copy=False) before interpolating instead.\n",
            "  train_2_upd[i] = train_2_upd[i].interpolate()\n",
            "<ipython-input-80-0ec2fb9a114d>:31: FutureWarning: DataFrame.interpolate with object dtype is deprecated and will raise in a future version. Call obj.infer_objects(copy=False) before interpolating instead.\n",
            "  train_2_upd[i] = train_2_upd[i].interpolate()\n",
            "<ipython-input-80-0ec2fb9a114d>:31: FutureWarning: DataFrame.interpolate with object dtype is deprecated and will raise in a future version. Call obj.infer_objects(copy=False) before interpolating instead.\n",
            "  train_2_upd[i] = train_2_upd[i].interpolate()\n",
            "<ipython-input-80-0ec2fb9a114d>:31: FutureWarning: DataFrame.interpolate with object dtype is deprecated and will raise in a future version. Call obj.infer_objects(copy=False) before interpolating instead.\n",
            "  train_2_upd[i] = train_2_upd[i].interpolate()\n"
          ]
        }
      ]
    },
    {
      "cell_type": "code",
      "source": [
        "train_2_wind_upd[1][1].iloc[(train_2_wind_upd[1][1].index.get_level_values(\"date\") == \"2022-11-05\") |\n",
        "                          (train_2_wind_upd[1][1].index.get_level_values(\"date\") == \"2022-11-06\") |\n",
        "                         (train_2_wind_upd[1][1].index.get_level_values(\"date\") == \"2022-11-07\") |\n",
        "                         (train_2_wind_upd[1][1].index.get_level_values(\"date\") == \"2022-11-08\") ]"
      ],
      "metadata": {
        "colab": {
          "base_uri": "https://localhost:8080/",
          "height": 226
        },
        "id": "DNCgZ-73zk9R",
        "outputId": "39ff8c2d-99d5-41fb-983e-ef1b6b5782e5"
      },
      "execution_count": 82,
      "outputs": [
        {
          "output_type": "execute_result",
          "data": {
            "text/plain": [
              "                                     total_amount  total_amount_lag_1  \\\n",
              "store_name item_category date                                           \n",
              "Altona     mixed         2022-11-05         550.0               296.0   \n",
              "                         2022-11-06         379.0               550.0   \n",
              "                         2022-11-07         208.0               379.0   \n",
              "                         2022-11-08         146.0               208.0   \n",
              "\n",
              "                                     total_amount_lag_2  total_amount_lag_3  \\\n",
              "store_name item_category date                                                 \n",
              "Altona     mixed         2022-11-05               216.0               212.0   \n",
              "                         2022-11-06               296.0               216.0   \n",
              "                         2022-11-07               550.0               296.0   \n",
              "                         2022-11-08               379.0               550.0   \n",
              "\n",
              "                                     total_amount_mean_1_7  \\\n",
              "store_name item_category date                                \n",
              "Altona     mixed         2022-11-05             403.714286   \n",
              "                         2022-11-06             383.428571   \n",
              "                         2022-11-07             367.285714   \n",
              "                         2022-11-08             303.000000   \n",
              "\n",
              "                                     total_amount_mean_1_15  \\\n",
              "store_name item_category date                                 \n",
              "Altona     mixed         2022-11-05              378.933333   \n",
              "                         2022-11-06              385.600000   \n",
              "                         2022-11-07              362.466667   \n",
              "                         2022-11-08              341.800000   \n",
              "\n",
              "                                     total_amount_mean_1_30  \\\n",
              "store_name item_category date                                 \n",
              "Altona     mixed         2022-11-05              391.333333   \n",
              "                         2022-11-06              394.866667   \n",
              "                         2022-11-07              397.433333   \n",
              "                         2022-11-08              381.300000   \n",
              "\n",
              "                                     total_amount_std_1_4 box_deal day  \\\n",
              "store_name item_category date                                            \n",
              "Altona     mixed         2022-11-05             39.799497        1   5   \n",
              "                         2022-11-06            159.108977        1   6   \n",
              "                         2022-11-07            142.936758        1   7   \n",
              "                         2022-11-08            145.657990        1   8   \n",
              "\n",
              "                                     days_back halloween hol_pub hol_school  \\\n",
              "store_name item_category date                                                 \n",
              "Altona     mixed         2022-11-05      566.0         0       0          0   \n",
              "                         2022-11-06      565.0         0       0          0   \n",
              "                         2022-11-07      564.0         0       0          0   \n",
              "                         2022-11-08      563.0         0       0          0   \n",
              "\n",
              "                                    month nye  precipitation_hours  \\\n",
              "store_name item_category date                                        \n",
              "Altona     mixed         2022-11-05    11   0                  1.0   \n",
              "                         2022-11-06    11   0                  2.5   \n",
              "                         2022-11-07    11   0                  4.0   \n",
              "                         2022-11-08    11   0                  1.0   \n",
              "\n",
              "                                    public_space street_market  \\\n",
              "store_name item_category date                                    \n",
              "Altona     mixed         2022-11-05            1             0   \n",
              "                         2022-11-06            1             0   \n",
              "                         2022-11-07            1             0   \n",
              "                         2022-11-08            1             0   \n",
              "\n",
              "                                     sunshine_duration  temperature_2m_mean  \\\n",
              "store_name item_category date                                                 \n",
              "Altona     mixed         2022-11-05           7.907053                 8.00   \n",
              "                         2022-11-06           4.474656                 9.55   \n",
              "                         2022-11-07           1.042258                11.10   \n",
              "                         2022-11-08           6.053736                13.00   \n",
              "\n",
              "                                    valentines_day week_year weekday  year  \n",
              "store_name item_category date                                               \n",
              "Altona     mixed         2022-11-05              0        44       5  2022  \n",
              "                         2022-11-06              0        44       2  2022  \n",
              "                         2022-11-07              0        45       0  2022  \n",
              "                         2022-11-08              0        45       1  2022  "
            ],
            "text/html": [
              "\n",
              "  <div id=\"df-c920ea8c-d077-47c6-b8dc-9a093611393e\" class=\"colab-df-container\">\n",
              "    <div>\n",
              "<style scoped>\n",
              "    .dataframe tbody tr th:only-of-type {\n",
              "        vertical-align: middle;\n",
              "    }\n",
              "\n",
              "    .dataframe tbody tr th {\n",
              "        vertical-align: top;\n",
              "    }\n",
              "\n",
              "    .dataframe thead th {\n",
              "        text-align: right;\n",
              "    }\n",
              "</style>\n",
              "<table border=\"1\" class=\"dataframe\">\n",
              "  <thead>\n",
              "    <tr style=\"text-align: right;\">\n",
              "      <th></th>\n",
              "      <th></th>\n",
              "      <th></th>\n",
              "      <th>total_amount</th>\n",
              "      <th>total_amount_lag_1</th>\n",
              "      <th>total_amount_lag_2</th>\n",
              "      <th>total_amount_lag_3</th>\n",
              "      <th>total_amount_mean_1_7</th>\n",
              "      <th>total_amount_mean_1_15</th>\n",
              "      <th>total_amount_mean_1_30</th>\n",
              "      <th>total_amount_std_1_4</th>\n",
              "      <th>box_deal</th>\n",
              "      <th>day</th>\n",
              "      <th>days_back</th>\n",
              "      <th>halloween</th>\n",
              "      <th>hol_pub</th>\n",
              "      <th>hol_school</th>\n",
              "      <th>month</th>\n",
              "      <th>nye</th>\n",
              "      <th>precipitation_hours</th>\n",
              "      <th>public_space</th>\n",
              "      <th>street_market</th>\n",
              "      <th>sunshine_duration</th>\n",
              "      <th>temperature_2m_mean</th>\n",
              "      <th>valentines_day</th>\n",
              "      <th>week_year</th>\n",
              "      <th>weekday</th>\n",
              "      <th>year</th>\n",
              "    </tr>\n",
              "    <tr>\n",
              "      <th>store_name</th>\n",
              "      <th>item_category</th>\n",
              "      <th>date</th>\n",
              "      <th></th>\n",
              "      <th></th>\n",
              "      <th></th>\n",
              "      <th></th>\n",
              "      <th></th>\n",
              "      <th></th>\n",
              "      <th></th>\n",
              "      <th></th>\n",
              "      <th></th>\n",
              "      <th></th>\n",
              "      <th></th>\n",
              "      <th></th>\n",
              "      <th></th>\n",
              "      <th></th>\n",
              "      <th></th>\n",
              "      <th></th>\n",
              "      <th></th>\n",
              "      <th></th>\n",
              "      <th></th>\n",
              "      <th></th>\n",
              "      <th></th>\n",
              "      <th></th>\n",
              "      <th></th>\n",
              "      <th></th>\n",
              "      <th></th>\n",
              "    </tr>\n",
              "  </thead>\n",
              "  <tbody>\n",
              "    <tr>\n",
              "      <th rowspan=\"4\" valign=\"top\">Altona</th>\n",
              "      <th rowspan=\"4\" valign=\"top\">mixed</th>\n",
              "      <th>2022-11-05</th>\n",
              "      <td>550.0</td>\n",
              "      <td>296.0</td>\n",
              "      <td>216.0</td>\n",
              "      <td>212.0</td>\n",
              "      <td>403.714286</td>\n",
              "      <td>378.933333</td>\n",
              "      <td>391.333333</td>\n",
              "      <td>39.799497</td>\n",
              "      <td>1</td>\n",
              "      <td>5</td>\n",
              "      <td>566.0</td>\n",
              "      <td>0</td>\n",
              "      <td>0</td>\n",
              "      <td>0</td>\n",
              "      <td>11</td>\n",
              "      <td>0</td>\n",
              "      <td>1.0</td>\n",
              "      <td>1</td>\n",
              "      <td>0</td>\n",
              "      <td>7.907053</td>\n",
              "      <td>8.00</td>\n",
              "      <td>0</td>\n",
              "      <td>44</td>\n",
              "      <td>5</td>\n",
              "      <td>2022</td>\n",
              "    </tr>\n",
              "    <tr>\n",
              "      <th>2022-11-06</th>\n",
              "      <td>379.0</td>\n",
              "      <td>550.0</td>\n",
              "      <td>296.0</td>\n",
              "      <td>216.0</td>\n",
              "      <td>383.428571</td>\n",
              "      <td>385.600000</td>\n",
              "      <td>394.866667</td>\n",
              "      <td>159.108977</td>\n",
              "      <td>1</td>\n",
              "      <td>6</td>\n",
              "      <td>565.0</td>\n",
              "      <td>0</td>\n",
              "      <td>0</td>\n",
              "      <td>0</td>\n",
              "      <td>11</td>\n",
              "      <td>0</td>\n",
              "      <td>2.5</td>\n",
              "      <td>1</td>\n",
              "      <td>0</td>\n",
              "      <td>4.474656</td>\n",
              "      <td>9.55</td>\n",
              "      <td>0</td>\n",
              "      <td>44</td>\n",
              "      <td>2</td>\n",
              "      <td>2022</td>\n",
              "    </tr>\n",
              "    <tr>\n",
              "      <th>2022-11-07</th>\n",
              "      <td>208.0</td>\n",
              "      <td>379.0</td>\n",
              "      <td>550.0</td>\n",
              "      <td>296.0</td>\n",
              "      <td>367.285714</td>\n",
              "      <td>362.466667</td>\n",
              "      <td>397.433333</td>\n",
              "      <td>142.936758</td>\n",
              "      <td>1</td>\n",
              "      <td>7</td>\n",
              "      <td>564.0</td>\n",
              "      <td>0</td>\n",
              "      <td>0</td>\n",
              "      <td>0</td>\n",
              "      <td>11</td>\n",
              "      <td>0</td>\n",
              "      <td>4.0</td>\n",
              "      <td>1</td>\n",
              "      <td>0</td>\n",
              "      <td>1.042258</td>\n",
              "      <td>11.10</td>\n",
              "      <td>0</td>\n",
              "      <td>45</td>\n",
              "      <td>0</td>\n",
              "      <td>2022</td>\n",
              "    </tr>\n",
              "    <tr>\n",
              "      <th>2022-11-08</th>\n",
              "      <td>146.0</td>\n",
              "      <td>208.0</td>\n",
              "      <td>379.0</td>\n",
              "      <td>550.0</td>\n",
              "      <td>303.000000</td>\n",
              "      <td>341.800000</td>\n",
              "      <td>381.300000</td>\n",
              "      <td>145.657990</td>\n",
              "      <td>1</td>\n",
              "      <td>8</td>\n",
              "      <td>563.0</td>\n",
              "      <td>0</td>\n",
              "      <td>0</td>\n",
              "      <td>0</td>\n",
              "      <td>11</td>\n",
              "      <td>0</td>\n",
              "      <td>1.0</td>\n",
              "      <td>1</td>\n",
              "      <td>0</td>\n",
              "      <td>6.053736</td>\n",
              "      <td>13.00</td>\n",
              "      <td>0</td>\n",
              "      <td>45</td>\n",
              "      <td>1</td>\n",
              "      <td>2022</td>\n",
              "    </tr>\n",
              "  </tbody>\n",
              "</table>\n",
              "</div>\n",
              "    <div class=\"colab-df-buttons\">\n",
              "\n",
              "  <div class=\"colab-df-container\">\n",
              "    <button class=\"colab-df-convert\" onclick=\"convertToInteractive('df-c920ea8c-d077-47c6-b8dc-9a093611393e')\"\n",
              "            title=\"Convert this dataframe to an interactive table.\"\n",
              "            style=\"display:none;\">\n",
              "\n",
              "  <svg xmlns=\"http://www.w3.org/2000/svg\" height=\"24px\" viewBox=\"0 -960 960 960\">\n",
              "    <path d=\"M120-120v-720h720v720H120Zm60-500h600v-160H180v160Zm220 220h160v-160H400v160Zm0 220h160v-160H400v160ZM180-400h160v-160H180v160Zm440 0h160v-160H620v160ZM180-180h160v-160H180v160Zm440 0h160v-160H620v160Z\"/>\n",
              "  </svg>\n",
              "    </button>\n",
              "\n",
              "  <style>\n",
              "    .colab-df-container {\n",
              "      display:flex;\n",
              "      gap: 12px;\n",
              "    }\n",
              "\n",
              "    .colab-df-convert {\n",
              "      background-color: #E8F0FE;\n",
              "      border: none;\n",
              "      border-radius: 50%;\n",
              "      cursor: pointer;\n",
              "      display: none;\n",
              "      fill: #1967D2;\n",
              "      height: 32px;\n",
              "      padding: 0 0 0 0;\n",
              "      width: 32px;\n",
              "    }\n",
              "\n",
              "    .colab-df-convert:hover {\n",
              "      background-color: #E2EBFA;\n",
              "      box-shadow: 0px 1px 2px rgba(60, 64, 67, 0.3), 0px 1px 3px 1px rgba(60, 64, 67, 0.15);\n",
              "      fill: #174EA6;\n",
              "    }\n",
              "\n",
              "    .colab-df-buttons div {\n",
              "      margin-bottom: 4px;\n",
              "    }\n",
              "\n",
              "    [theme=dark] .colab-df-convert {\n",
              "      background-color: #3B4455;\n",
              "      fill: #D2E3FC;\n",
              "    }\n",
              "\n",
              "    [theme=dark] .colab-df-convert:hover {\n",
              "      background-color: #434B5C;\n",
              "      box-shadow: 0px 1px 3px 1px rgba(0, 0, 0, 0.15);\n",
              "      filter: drop-shadow(0px 1px 2px rgba(0, 0, 0, 0.3));\n",
              "      fill: #FFFFFF;\n",
              "    }\n",
              "  </style>\n",
              "\n",
              "    <script>\n",
              "      const buttonEl =\n",
              "        document.querySelector('#df-c920ea8c-d077-47c6-b8dc-9a093611393e button.colab-df-convert');\n",
              "      buttonEl.style.display =\n",
              "        google.colab.kernel.accessAllowed ? 'block' : 'none';\n",
              "\n",
              "      async function convertToInteractive(key) {\n",
              "        const element = document.querySelector('#df-c920ea8c-d077-47c6-b8dc-9a093611393e');\n",
              "        const dataTable =\n",
              "          await google.colab.kernel.invokeFunction('convertToInteractive',\n",
              "                                                    [key], {});\n",
              "        if (!dataTable) return;\n",
              "\n",
              "        const docLinkHtml = 'Like what you see? Visit the ' +\n",
              "          '<a target=\"_blank\" href=https://colab.research.google.com/notebooks/data_table.ipynb>data table notebook</a>'\n",
              "          + ' to learn more about interactive tables.';\n",
              "        element.innerHTML = '';\n",
              "        dataTable['output_type'] = 'display_data';\n",
              "        await google.colab.output.renderOutput(dataTable, element);\n",
              "        const docLink = document.createElement('div');\n",
              "        docLink.innerHTML = docLinkHtml;\n",
              "        element.appendChild(docLink);\n",
              "      }\n",
              "    </script>\n",
              "  </div>\n",
              "\n",
              "\n",
              "<div id=\"df-65ae8869-667a-4dc0-85fb-854707faa9eb\">\n",
              "  <button class=\"colab-df-quickchart\" onclick=\"quickchart('df-65ae8869-667a-4dc0-85fb-854707faa9eb')\"\n",
              "            title=\"Suggest charts\"\n",
              "            style=\"display:none;\">\n",
              "\n",
              "<svg xmlns=\"http://www.w3.org/2000/svg\" height=\"24px\"viewBox=\"0 0 24 24\"\n",
              "     width=\"24px\">\n",
              "    <g>\n",
              "        <path d=\"M19 3H5c-1.1 0-2 .9-2 2v14c0 1.1.9 2 2 2h14c1.1 0 2-.9 2-2V5c0-1.1-.9-2-2-2zM9 17H7v-7h2v7zm4 0h-2V7h2v10zm4 0h-2v-4h2v4z\"/>\n",
              "    </g>\n",
              "</svg>\n",
              "  </button>\n",
              "\n",
              "<style>\n",
              "  .colab-df-quickchart {\n",
              "      --bg-color: #E8F0FE;\n",
              "      --fill-color: #1967D2;\n",
              "      --hover-bg-color: #E2EBFA;\n",
              "      --hover-fill-color: #174EA6;\n",
              "      --disabled-fill-color: #AAA;\n",
              "      --disabled-bg-color: #DDD;\n",
              "  }\n",
              "\n",
              "  [theme=dark] .colab-df-quickchart {\n",
              "      --bg-color: #3B4455;\n",
              "      --fill-color: #D2E3FC;\n",
              "      --hover-bg-color: #434B5C;\n",
              "      --hover-fill-color: #FFFFFF;\n",
              "      --disabled-bg-color: #3B4455;\n",
              "      --disabled-fill-color: #666;\n",
              "  }\n",
              "\n",
              "  .colab-df-quickchart {\n",
              "    background-color: var(--bg-color);\n",
              "    border: none;\n",
              "    border-radius: 50%;\n",
              "    cursor: pointer;\n",
              "    display: none;\n",
              "    fill: var(--fill-color);\n",
              "    height: 32px;\n",
              "    padding: 0;\n",
              "    width: 32px;\n",
              "  }\n",
              "\n",
              "  .colab-df-quickchart:hover {\n",
              "    background-color: var(--hover-bg-color);\n",
              "    box-shadow: 0 1px 2px rgba(60, 64, 67, 0.3), 0 1px 3px 1px rgba(60, 64, 67, 0.15);\n",
              "    fill: var(--button-hover-fill-color);\n",
              "  }\n",
              "\n",
              "  .colab-df-quickchart-complete:disabled,\n",
              "  .colab-df-quickchart-complete:disabled:hover {\n",
              "    background-color: var(--disabled-bg-color);\n",
              "    fill: var(--disabled-fill-color);\n",
              "    box-shadow: none;\n",
              "  }\n",
              "\n",
              "  .colab-df-spinner {\n",
              "    border: 2px solid var(--fill-color);\n",
              "    border-color: transparent;\n",
              "    border-bottom-color: var(--fill-color);\n",
              "    animation:\n",
              "      spin 1s steps(1) infinite;\n",
              "  }\n",
              "\n",
              "  @keyframes spin {\n",
              "    0% {\n",
              "      border-color: transparent;\n",
              "      border-bottom-color: var(--fill-color);\n",
              "      border-left-color: var(--fill-color);\n",
              "    }\n",
              "    20% {\n",
              "      border-color: transparent;\n",
              "      border-left-color: var(--fill-color);\n",
              "      border-top-color: var(--fill-color);\n",
              "    }\n",
              "    30% {\n",
              "      border-color: transparent;\n",
              "      border-left-color: var(--fill-color);\n",
              "      border-top-color: var(--fill-color);\n",
              "      border-right-color: var(--fill-color);\n",
              "    }\n",
              "    40% {\n",
              "      border-color: transparent;\n",
              "      border-right-color: var(--fill-color);\n",
              "      border-top-color: var(--fill-color);\n",
              "    }\n",
              "    60% {\n",
              "      border-color: transparent;\n",
              "      border-right-color: var(--fill-color);\n",
              "    }\n",
              "    80% {\n",
              "      border-color: transparent;\n",
              "      border-right-color: var(--fill-color);\n",
              "      border-bottom-color: var(--fill-color);\n",
              "    }\n",
              "    90% {\n",
              "      border-color: transparent;\n",
              "      border-bottom-color: var(--fill-color);\n",
              "    }\n",
              "  }\n",
              "</style>\n",
              "\n",
              "  <script>\n",
              "    async function quickchart(key) {\n",
              "      const quickchartButtonEl =\n",
              "        document.querySelector('#' + key + ' button');\n",
              "      quickchartButtonEl.disabled = true;  // To prevent multiple clicks.\n",
              "      quickchartButtonEl.classList.add('colab-df-spinner');\n",
              "      try {\n",
              "        const charts = await google.colab.kernel.invokeFunction(\n",
              "            'suggestCharts', [key], {});\n",
              "      } catch (error) {\n",
              "        console.error('Error during call to suggestCharts:', error);\n",
              "      }\n",
              "      quickchartButtonEl.classList.remove('colab-df-spinner');\n",
              "      quickchartButtonEl.classList.add('colab-df-quickchart-complete');\n",
              "    }\n",
              "    (() => {\n",
              "      let quickchartButtonEl =\n",
              "        document.querySelector('#df-65ae8869-667a-4dc0-85fb-854707faa9eb button');\n",
              "      quickchartButtonEl.style.display =\n",
              "        google.colab.kernel.accessAllowed ? 'block' : 'none';\n",
              "    })();\n",
              "  </script>\n",
              "</div>\n",
              "\n",
              "    </div>\n",
              "  </div>\n"
            ],
            "application/vnd.google.colaboratory.intrinsic+json": {
              "type": "dataframe"
            }
          },
          "metadata": {},
          "execution_count": 82
        }
      ]
    },
    {
      "cell_type": "code",
      "execution_count": 84,
      "metadata": {
        "id": "pfNYh71Coi6u"
      },
      "outputs": [],
      "source": [
        "def get_initial_window_size(store_group, validation_length, num_folds):\n",
        "    total_periods = len(store_group.index.get_level_values('date').unique())\n",
        "    initial_window = total_periods - validation_length * num_folds\n",
        "    return initial_window\n",
        "\n",
        "cv_list = []\n",
        "\n",
        "for (store,item), group in train_2_wind_upd:\n",
        "\n",
        "    # Calculate the initial window size for the current store\n",
        "    initial_window = get_initial_window_size(group, validation_length = 7, num_folds = 5)\n",
        "\n",
        "    # Initialize the ExpandingWindowSplitter for the current group\n",
        "    splitter = ExpandingWindowSplitter(\n",
        "        initial_window=initial_window,\n",
        "        step_length=7,\n",
        "        fh=list(range(1, 7 + 1))\n",
        "    )\n",
        "\n",
        "    cv_list.append(({f\"{store}\"+\"_\"+f\"{item}\":splitter},\n",
        "                        {f\"{store}\"+\"_\"+f\"{item}\":group}))\n"
      ]
    },
    {
      "cell_type": "code",
      "execution_count": 63,
      "metadata": {
        "colab": {
          "base_uri": "https://localhost:8080/",
          "height": 492
        },
        "id": "CMfTgVd5oi6x",
        "outputId": "b345a4b0-77c6-4d67-b5f7-7ad072e03f5f"
      },
      "outputs": [
        {
          "output_type": "display_data",
          "data": {
            "text/plain": [
              "<Figure size 1600x480 with 1 Axes>"
            ],
            "image/png": "[encoded data removed]"
          },
          "metadata": {}
        }
      ],
      "source": [
        "for i in range(15,16):\n",
        "    plot_windows(list(cv_list[i][0].values())[0], list(cv_list[i][1].values())[0].reset_index().set_index(\"date\")[\"total_amount\"],\n",
        "                 title = list(cv_list[i][0].keys())[0])"
      ]
    },
    {
      "cell_type": "code",
      "execution_count": 97,
      "metadata": {
        "id": "smF7eKIboi6y"
      },
      "outputs": [],
      "source": [
        "model = cb.CatBoostRegressor()\n",
        "forecaster = make_reduction(estimator = model, strategy=\"recursive\", window_length = 7)"
      ]
    },
    {
      "cell_type": "code",
      "execution_count": 98,
      "metadata": {
        "id": "juTPR2WPoi6y"
      },
      "outputs": [],
      "source": [
        "params = {\n",
        "    'estimator__n_estimators': np.arange(250,1000,1),\n",
        "    \"estimator__learning_rate\": np.logspace(-4, -1),\n",
        "    \"estimator__l2_leaf_reg\": np.linspace(2, 30),\n",
        "    \"estimator__depth\":np.arange(3,17,1),\n",
        "    #\"estimator__subsample\": np.linspace(0.05, 1.0),\n",
        "    \"estimator__colsample_bylevel\": np.linspace(0.05, 1.0),\n",
        "    \"estimator__min_data_in_leaf\": np.arange(10, 51, 1)}"
      ]
    },
    {
      "cell_type": "code",
      "execution_count": 99,
      "metadata": {
        "id": "r-pCFsGToi6z"
      },
      "outputs": [],
      "source": [
        "rscv_list = []\n",
        "\n",
        "for i in range(len(cv_list)):\n",
        "    rscv = ForecastingRandomizedSearchCV(forecaster = forecaster,\n",
        "                                         cv = list(cv_list[i][0].values())[0],\n",
        "                                         param_distributions=params,\n",
        "                                         strategy=\"refit\", n_iter=10, error_score=\"raise\")\n",
        "\n",
        "\n",
        "    rscv_list.append({f\"rscv_{list(cv_list[i][1].keys())[0]}\":rscv})"
      ]
    },
    {
      "cell_type": "code",
      "execution_count": 101,
      "metadata": {
        "colab": {
          "base_uri": "https://localhost:8080/",
          "height": 1000
        },
        "id": "uD4_1FJAoi60",
        "outputId": "7ca0a720-977a-4639-bde8-d7e37aa98e12"
      },
      "outputs": [
        {
          "output_type": "stream",
          "name": "stdout",
          "text": [
            "0:\tlearn: 45.4850081\ttotal: 62.3ms\tremaining: 21.4s\n",
            "1:\tlearn: 44.5307231\ttotal: 76.3ms\tremaining: 13s\n",
            "2:\tlearn: 43.8752186\ttotal: 97.9ms\tremaining: 11.1s\n",
            "3:\tlearn: 42.9332787\ttotal: 112ms\tremaining: 9.51s\n",
            "4:\tlearn: 42.1115162\ttotal: 132ms\tremaining: 8.94s\n",
            "5:\tlearn: 41.4017177\ttotal: 145ms\tremaining: 8.19s\n",
            "6:\tlearn: 40.7905912\ttotal: 170ms\tremaining: 8.19s\n",
            "7:\tlearn: 40.1503014\ttotal: 188ms\tremaining: 7.9s\n",
            "8:\tlearn: 39.6146338\ttotal: 201ms\tremaining: 7.49s\n",
            "9:\tlearn: 38.8991021\ttotal: 221ms\tremaining: 7.4s\n",
            "10:\tlearn: 38.3089815\ttotal: 236ms\tremaining: 7.14s\n",
            "11:\tlearn: 37.7696426\ttotal: 256ms\tremaining: 7.08s\n",
            "12:\tlearn: 37.3366629\ttotal: 272ms\tremaining: 6.93s\n",
            "13:\tlearn: 36.9084707\ttotal: 296ms\tremaining: 6.97s\n",
            "14:\tlearn: 36.7821934\ttotal: 309ms\tremaining: 6.79s\n",
            "15:\tlearn: 36.3400140\ttotal: 333ms\tremaining: 6.83s\n",
            "16:\tlearn: 35.9125543\ttotal: 346ms\tremaining: 6.66s\n",
            "17:\tlearn: 35.5020229\ttotal: 369ms\tremaining: 6.69s\n",
            "18:\tlearn: 35.0843804\ttotal: 384ms\tremaining: 6.56s\n",
            "19:\tlearn: 34.9762454\ttotal: 407ms\tremaining: 6.59s\n",
            "20:\tlearn: 34.6167428\ttotal: 421ms\tremaining: 6.48s\n",
            "21:\tlearn: 34.3065646\ttotal: 442ms\tremaining: 6.47s\n",
            "22:\tlearn: 33.9710984\ttotal: 455ms\tremaining: 6.35s\n",
            "23:\tlearn: 33.8635808\ttotal: 484ms\tremaining: 6.45s\n",
            "24:\tlearn: 33.4062808\ttotal: 507ms\tremaining: 6.47s\n",
            "25:\tlearn: 33.0994738\ttotal: 523ms\tremaining: 6.39s\n",
            "26:\tlearn: 32.8324055\ttotal: 547ms\tremaining: 6.42s\n",
            "27:\tlearn: 32.7323950\ttotal: 567ms\tremaining: 6.39s\n",
            "28:\tlearn: 32.6380582\ttotal: 588ms\tremaining: 6.38s\n",
            "29:\tlearn: 32.5340903\ttotal: 604ms\tremaining: 6.32s\n",
            "30:\tlearn: 32.4487767\ttotal: 629ms\tremaining: 6.35s\n",
            "31:\tlearn: 32.3478308\ttotal: 646ms\tremaining: 6.29s\n",
            "32:\tlearn: 32.1052305\ttotal: 672ms\tremaining: 6.33s\n",
            "33:\tlearn: 31.9760049\ttotal: 687ms\tremaining: 6.26s\n",
            "34:\tlearn: 31.6831775\ttotal: 712ms\tremaining: 6.28s\n",
            "35:\tlearn: 31.4352398\ttotal: 724ms\tremaining: 6.2s\n",
            "36:\tlearn: 31.3454053\ttotal: 740ms\tremaining: 6.14s\n",
            "37:\tlearn: 31.1429642\ttotal: 753ms\tremaining: 6.07s\n",
            "38:\tlearn: 31.0343176\ttotal: 773ms\tremaining: 6.04s\n",
            "39:\tlearn: 30.9447509\ttotal: 788ms\tremaining: 5.99s\n",
            "40:\tlearn: 30.6175962\ttotal: 812ms\tremaining: 6s\n",
            "41:\tlearn: 30.2802139\ttotal: 827ms\tremaining: 5.95s\n",
            "42:\tlearn: 30.0257441\ttotal: 849ms\tremaining: 5.94s\n",
            "43:\tlearn: 29.8246121\ttotal: 862ms\tremaining: 5.88s\n",
            "44:\tlearn: 29.7084624\ttotal: 882ms\tremaining: 5.86s\n",
            "45:\tlearn: 29.4392003\ttotal: 896ms\tremaining: 5.8s\n",
            "46:\tlearn: 29.3552438\ttotal: 915ms\tremaining: 5.78s\n",
            "47:\tlearn: 29.1378097\ttotal: 930ms\tremaining: 5.73s\n",
            "48:\tlearn: 29.0499326\ttotal: 940ms\tremaining: 5.66s\n",
            "49:\tlearn: 28.8625843\ttotal: 960ms\tremaining: 5.64s\n",
            "50:\tlearn: 28.6822728\ttotal: 969ms\tremaining: 5.57s\n",
            "51:\tlearn: 28.4392861\ttotal: 987ms\tremaining: 5.54s\n",
            "52:\tlearn: 28.2516564\ttotal: 997ms\tremaining: 5.47s\n",
            "53:\tlearn: 28.1773080\ttotal: 1.01s\tremaining: 5.45s\n",
            "54:\tlearn: 28.0215553\ttotal: 1.02s\tremaining: 5.39s\n",
            "55:\tlearn: 27.8249356\ttotal: 1.04s\tremaining: 5.37s\n",
            "56:\tlearn: 27.6415529\ttotal: 1.05s\tremaining: 5.31s\n",
            "57:\tlearn: 27.5653925\ttotal: 1.07s\tremaining: 5.29s\n",
            "58:\tlearn: 27.4866306\ttotal: 1.08s\tremaining: 5.23s\n",
            "59:\tlearn: 27.3030580\ttotal: 1.1s\tremaining: 5.21s\n",
            "60:\tlearn: 27.1576851\ttotal: 1.11s\tremaining: 5.16s\n",
            "61:\tlearn: 27.0874460\ttotal: 1.13s\tremaining: 5.14s\n",
            "62:\tlearn: 26.9738390\ttotal: 1.14s\tremaining: 5.09s\n",
            "63:\tlearn: 26.7494891\ttotal: 1.16s\tremaining: 5.07s\n",
            "64:\tlearn: 26.6627305\ttotal: 1.17s\tremaining: 5.02s\n",
            "65:\tlearn: 26.5893262\ttotal: 1.19s\tremaining: 4.99s\n",
            "66:\tlearn: 26.3174091\ttotal: 1.2s\tremaining: 4.95s\n",
            "67:\tlearn: 26.1759347\ttotal: 1.22s\tremaining: 4.93s\n",
            "68:\tlearn: 26.1124178\ttotal: 1.23s\tremaining: 4.89s\n",
            "69:\tlearn: 25.9855568\ttotal: 1.25s\tremaining: 4.88s\n",
            "70:\tlearn: 25.9237786\ttotal: 1.26s\tremaining: 4.83s\n",
            "71:\tlearn: 25.6913124\ttotal: 1.27s\tremaining: 4.81s\n",
            "72:\tlearn: 25.6217388\ttotal: 1.28s\tremaining: 4.77s\n",
            "73:\tlearn: 25.5537898\ttotal: 1.3s\tremaining: 4.75s\n",
            "74:\tlearn: 25.3944927\ttotal: 1.32s\tremaining: 4.73s\n",
            "75:\tlearn: 25.3379893\ttotal: 1.33s\tremaining: 4.68s\n",
            "76:\tlearn: 25.2773294\ttotal: 1.34s\tremaining: 4.67s\n",
            "77:\tlearn: 25.1637611\ttotal: 1.36s\tremaining: 4.62s\n",
            "78:\tlearn: 25.0516423\ttotal: 1.37s\tremaining: 4.61s\n",
            "79:\tlearn: 24.9884399\ttotal: 1.39s\tremaining: 4.57s\n",
            "80:\tlearn: 24.9342189\ttotal: 1.4s\tremaining: 4.55s\n",
            "81:\tlearn: 24.8611978\ttotal: 1.41s\tremaining: 4.51s\n",
            "82:\tlearn: 24.8074080\ttotal: 1.43s\tremaining: 4.5s\n",
            "83:\tlearn: 24.6616320\ttotal: 1.45s\tremaining: 4.47s\n",
            "84:\tlearn: 24.4472318\ttotal: 1.46s\tremaining: 4.45s\n",
            "85:\tlearn: 24.3826235\ttotal: 1.47s\tremaining: 4.41s\n",
            "86:\tlearn: 24.2915571\ttotal: 1.49s\tremaining: 4.4s\n",
            "87:\tlearn: 24.2402173\ttotal: 1.5s\tremaining: 4.36s\n",
            "88:\tlearn: 24.1891306\ttotal: 1.52s\tremaining: 4.35s\n",
            "89:\tlearn: 24.1395060\ttotal: 1.53s\tremaining: 4.31s\n",
            "90:\tlearn: 24.0239837\ttotal: 1.54s\tremaining: 4.3s\n",
            "91:\tlearn: 23.8702350\ttotal: 1.55s\tremaining: 4.26s\n",
            "92:\tlearn: 23.8133289\ttotal: 1.57s\tremaining: 4.24s\n",
            "93:\tlearn: 23.7612945\ttotal: 1.59s\tremaining: 4.22s\n",
            "94:\tlearn: 23.7083042\ttotal: 1.6s\tremaining: 4.19s\n",
            "95:\tlearn: 23.6588099\ttotal: 1.62s\tremaining: 4.18s\n",
            "96:\tlearn: 23.6160752\ttotal: 1.63s\tremaining: 4.16s\n",
            "97:\tlearn: 23.5587060\ttotal: 1.65s\tremaining: 4.13s\n",
            "98:\tlearn: 23.5080147\ttotal: 1.66s\tremaining: 4.1s\n",
            "99:\tlearn: 23.4182798\ttotal: 1.67s\tremaining: 4.08s\n",
            "100:\tlearn: 23.2039548\ttotal: 1.68s\tremaining: 4.05s\n",
            "101:\tlearn: 23.1377255\ttotal: 1.7s\tremaining: 4.04s\n",
            "102:\tlearn: 23.1001140\ttotal: 1.71s\tremaining: 4.01s\n",
            "103:\tlearn: 23.0516694\ttotal: 1.73s\tremaining: 4s\n",
            "104:\tlearn: 22.9974871\ttotal: 1.74s\tremaining: 3.97s\n",
            "105:\tlearn: 22.9576877\ttotal: 1.76s\tremaining: 3.96s\n",
            "106:\tlearn: 22.9126866\ttotal: 1.77s\tremaining: 3.93s\n",
            "107:\tlearn: 22.8714834\ttotal: 1.79s\tremaining: 3.91s\n",
            "108:\tlearn: 22.8330299\ttotal: 1.8s\tremaining: 3.88s\n",
            "109:\tlearn: 22.7886816\ttotal: 1.82s\tremaining: 3.87s\n",
            "110:\tlearn: 22.7451324\ttotal: 1.83s\tremaining: 3.85s\n",
            "111:\tlearn: 22.7020250\ttotal: 1.84s\tremaining: 3.82s\n",
            "112:\tlearn: 22.6625948\ttotal: 1.86s\tremaining: 3.81s\n",
            "113:\tlearn: 22.6122369\ttotal: 1.87s\tremaining: 3.78s\n",
            "114:\tlearn: 22.5674281\ttotal: 1.89s\tremaining: 3.77s\n",
            "115:\tlearn: 22.3822982\ttotal: 1.91s\tremaining: 3.75s\n",
            "116:\tlearn: 22.3315838\ttotal: 1.92s\tremaining: 3.73s\n",
            "117:\tlearn: 22.2904744\ttotal: 1.93s\tremaining: 3.7s\n",
            "118:\tlearn: 22.2505149\ttotal: 1.95s\tremaining: 3.69s\n",
            "119:\tlearn: 22.0676377\ttotal: 1.96s\tremaining: 3.66s\n",
            "120:\tlearn: 21.8580452\ttotal: 1.98s\tremaining: 3.64s\n",
            "121:\tlearn: 21.8190455\ttotal: 1.99s\tremaining: 3.62s\n",
            "122:\tlearn: 21.7825301\ttotal: 2s\tremaining: 3.6s\n",
            "123:\tlearn: 21.7477643\ttotal: 2.02s\tremaining: 3.58s\n",
            "124:\tlearn: 21.7015293\ttotal: 2.03s\tremaining: 3.56s\n",
            "125:\tlearn: 21.5342300\ttotal: 2.05s\tremaining: 3.54s\n",
            "126:\tlearn: 21.4974788\ttotal: 2.06s\tremaining: 3.53s\n",
            "127:\tlearn: 21.2991749\ttotal: 2.08s\tremaining: 3.51s\n",
            "128:\tlearn: 21.2228277\ttotal: 2.1s\tremaining: 3.49s\n",
            "129:\tlearn: 21.1889797\ttotal: 2.11s\tremaining: 3.47s\n",
            "130:\tlearn: 21.1543124\ttotal: 2.13s\tremaining: 3.46s\n",
            "131:\tlearn: 20.9983920\ttotal: 2.13s\tremaining: 3.43s\n",
            "132:\tlearn: 20.9605756\ttotal: 2.15s\tremaining: 3.42s\n",
            "133:\tlearn: 20.9005962\ttotal: 2.17s\tremaining: 3.39s\n",
            "134:\tlearn: 20.8756528\ttotal: 2.18s\tremaining: 3.38s\n",
            "135:\tlearn: 20.8471217\ttotal: 2.19s\tremaining: 3.36s\n",
            "136:\tlearn: 20.8166044\ttotal: 2.21s\tremaining: 3.35s\n",
            "137:\tlearn: 20.6663821\ttotal: 2.23s\tremaining: 3.32s\n",
            "138:\tlearn: 20.4825286\ttotal: 2.24s\tremaining: 3.31s\n",
            "139:\tlearn: 20.3178815\ttotal: 2.25s\tremaining: 3.29s\n",
            "140:\tlearn: 20.2822221\ttotal: 2.27s\tremaining: 3.27s\n",
            "141:\tlearn: 20.1066325\ttotal: 2.28s\tremaining: 3.25s\n",
            "142:\tlearn: 19.9117043\ttotal: 2.3s\tremaining: 3.24s\n",
            "143:\tlearn: 19.8811558\ttotal: 2.32s\tremaining: 3.22s\n",
            "144:\tlearn: 19.8510538\ttotal: 2.33s\tremaining: 3.19s\n",
            "145:\tlearn: 19.6861262\ttotal: 2.35s\tremaining: 3.18s\n",
            "146:\tlearn: 19.6566606\ttotal: 2.36s\tremaining: 3.17s\n",
            "147:\tlearn: 19.6291595\ttotal: 2.37s\tremaining: 3.14s\n",
            "148:\tlearn: 19.5959898\ttotal: 2.39s\tremaining: 3.13s\n",
            "149:\tlearn: 19.5687721\ttotal: 2.4s\tremaining: 3.11s\n",
            "150:\tlearn: 19.4110616\ttotal: 2.42s\tremaining: 3.09s\n",
            "151:\tlearn: 19.3845966\ttotal: 2.43s\tremaining: 3.07s\n",
            "152:\tlearn: 19.3586754\ttotal: 2.45s\tremaining: 3.06s\n",
            "153:\tlearn: 19.3340905\ttotal: 2.46s\tremaining: 3.03s\n",
            "154:\tlearn: 19.3095779\ttotal: 2.47s\tremaining: 3.02s\n",
            "155:\tlearn: 19.2853099\ttotal: 2.49s\tremaining: 3s\n",
            "156:\tlearn: 19.2614987\ttotal: 2.5s\tremaining: 2.98s\n",
            "157:\tlearn: 19.2382217\ttotal: 2.52s\tremaining: 2.96s\n",
            "158:\tlearn: 19.0871914\ttotal: 2.53s\tremaining: 2.94s\n",
            "159:\tlearn: 18.9579938\ttotal: 2.54s\tremaining: 2.93s\n",
            "160:\tlearn: 18.9347530\ttotal: 2.56s\tremaining: 2.9s\n",
            "161:\tlearn: 18.8045158\ttotal: 2.57s\tremaining: 2.89s\n",
            "162:\tlearn: 18.6625338\ttotal: 2.58s\tremaining: 2.87s\n",
            "163:\tlearn: 18.5054021\ttotal: 2.6s\tremaining: 2.86s\n",
            "164:\tlearn: 18.3508857\ttotal: 2.62s\tremaining: 2.84s\n",
            "165:\tlearn: 18.3296958\ttotal: 2.63s\tremaining: 2.82s\n",
            "166:\tlearn: 18.1869706\ttotal: 2.64s\tremaining: 2.8s\n",
            "167:\tlearn: 18.1674060\ttotal: 2.66s\tremaining: 2.79s\n",
            "168:\tlearn: 18.1456971\ttotal: 2.68s\tremaining: 2.77s\n",
            "169:\tlearn: 18.1270576\ttotal: 2.69s\tremaining: 2.75s\n",
            "170:\tlearn: 17.9728954\ttotal: 2.71s\tremaining: 2.74s\n",
            "171:\tlearn: 17.8470029\ttotal: 2.72s\tremaining: 2.72s\n",
            "172:\tlearn: 17.7353503\ttotal: 2.74s\tremaining: 2.7s\n",
            "173:\tlearn: 17.5926267\ttotal: 2.75s\tremaining: 2.68s\n",
            "174:\tlearn: 17.5687537\ttotal: 2.77s\tremaining: 2.67s\n",
            "175:\tlearn: 17.5023740\ttotal: 2.78s\tremaining: 2.65s\n",
            "176:\tlearn: 17.3610466\ttotal: 2.79s\tremaining: 2.64s\n",
            "177:\tlearn: 17.2345589\ttotal: 2.81s\tremaining: 2.62s\n",
            "178:\tlearn: 17.1190496\ttotal: 2.82s\tremaining: 2.6s\n",
            "179:\tlearn: 17.1002111\ttotal: 2.84s\tremaining: 2.59s\n",
            "180:\tlearn: 17.0799499\ttotal: 2.85s\tremaining: 2.56s\n",
            "181:\tlearn: 17.0356422\ttotal: 2.87s\tremaining: 2.55s\n",
            "182:\tlearn: 16.9411969\ttotal: 2.88s\tremaining: 2.53s\n",
            "183:\tlearn: 16.9228262\ttotal: 2.9s\tremaining: 2.52s\n",
            "184:\tlearn: 16.9050121\ttotal: 2.91s\tremaining: 2.5s\n",
            "185:\tlearn: 16.7788955\ttotal: 2.92s\tremaining: 2.48s\n",
            "186:\tlearn: 16.7271622\ttotal: 2.94s\tremaining: 2.47s\n",
            "187:\tlearn: 16.7090852\ttotal: 2.96s\tremaining: 2.45s\n",
            "188:\tlearn: 16.6918340\ttotal: 2.97s\tremaining: 2.43s\n",
            "189:\tlearn: 16.5852464\ttotal: 2.99s\tremaining: 2.42s\n",
            "190:\tlearn: 16.5600860\ttotal: 3s\tremaining: 2.4s\n",
            "191:\tlearn: 16.5440415\ttotal: 3.02s\tremaining: 2.39s\n",
            "192:\tlearn: 16.5305673\ttotal: 3.03s\tremaining: 2.37s\n",
            "193:\tlearn: 16.3809789\ttotal: 3.05s\tremaining: 2.35s\n",
            "194:\tlearn: 16.3669960\ttotal: 3.06s\tremaining: 2.34s\n",
            "195:\tlearn: 16.3514240\ttotal: 3.07s\tremaining: 2.32s\n",
            "196:\tlearn: 16.2410377\ttotal: 3.09s\tremaining: 2.31s\n",
            "197:\tlearn: 16.1692676\ttotal: 3.1s\tremaining: 2.29s\n",
            "198:\tlearn: 16.1549720\ttotal: 3.12s\tremaining: 2.27s\n",
            "199:\tlearn: 16.0356408\ttotal: 3.13s\tremaining: 2.25s\n",
            "200:\tlearn: 16.0079076\ttotal: 3.15s\tremaining: 2.24s\n",
            "201:\tlearn: 15.9921459\ttotal: 3.16s\tremaining: 2.22s\n",
            "202:\tlearn: 15.9194109\ttotal: 3.18s\tremaining: 2.21s\n",
            "203:\tlearn: 15.9046322\ttotal: 3.19s\tremaining: 2.19s\n",
            "204:\tlearn: 15.8879430\ttotal: 3.21s\tremaining: 2.17s\n",
            "205:\tlearn: 15.8738450\ttotal: 3.22s\tremaining: 2.16s\n",
            "206:\tlearn: 15.8627462\ttotal: 3.24s\tremaining: 2.14s\n",
            "207:\tlearn: 15.8485192\ttotal: 3.25s\tremaining: 2.13s\n",
            "208:\tlearn: 15.8345901\ttotal: 3.27s\tremaining: 2.11s\n",
            "209:\tlearn: 15.8215187\ttotal: 3.28s\tremaining: 2.1s\n",
            "210:\tlearn: 15.7977409\ttotal: 3.29s\tremaining: 2.08s\n",
            "211:\tlearn: 15.7880194\ttotal: 3.31s\tremaining: 2.06s\n",
            "212:\tlearn: 15.7590044\ttotal: 3.32s\tremaining: 2.04s\n",
            "213:\tlearn: 15.7123234\ttotal: 3.34s\tremaining: 2.03s\n",
            "214:\tlearn: 15.6059070\ttotal: 3.36s\tremaining: 2.01s\n",
            "215:\tlearn: 15.5224283\ttotal: 3.37s\tremaining: 2s\n",
            "216:\tlearn: 15.5094393\ttotal: 3.38s\tremaining: 1.98s\n",
            "217:\tlearn: 15.4389662\ttotal: 3.4s\tremaining: 1.97s\n",
            "218:\tlearn: 15.4264197\ttotal: 3.41s\tremaining: 1.95s\n",
            "219:\tlearn: 15.3789172\ttotal: 3.43s\tremaining: 1.93s\n",
            "220:\tlearn: 15.3659969\ttotal: 3.44s\tremaining: 1.92s\n",
            "221:\tlearn: 15.3429295\ttotal: 3.46s\tremaining: 1.9s\n",
            "222:\tlearn: 15.2996521\ttotal: 3.48s\tremaining: 1.89s\n",
            "223:\tlearn: 15.2860215\ttotal: 3.49s\tremaining: 1.87s\n",
            "224:\tlearn: 15.2707536\ttotal: 3.5s\tremaining: 1.85s\n",
            "225:\tlearn: 15.2615331\ttotal: 3.52s\tremaining: 1.84s\n",
            "226:\tlearn: 15.2444684\ttotal: 3.53s\tremaining: 1.82s\n",
            "227:\tlearn: 15.1701352\ttotal: 3.55s\tremaining: 1.8s\n",
            "228:\tlearn: 15.1608074\ttotal: 3.56s\tremaining: 1.79s\n",
            "229:\tlearn: 15.0600457\ttotal: 3.58s\tremaining: 1.77s\n",
            "230:\tlearn: 15.0509286\ttotal: 3.59s\tremaining: 1.76s\n",
            "231:\tlearn: 15.0425985\ttotal: 3.6s\tremaining: 1.74s\n",
            "232:\tlearn: 15.0284237\ttotal: 3.62s\tremaining: 1.73s\n",
            "233:\tlearn: 14.9195647\ttotal: 3.63s\tremaining: 1.71s\n",
            "234:\tlearn: 14.8448685\ttotal: 3.65s\tremaining: 1.69s\n",
            "235:\tlearn: 14.8293015\ttotal: 3.66s\tremaining: 1.68s\n",
            "236:\tlearn: 14.8034940\ttotal: 3.68s\tremaining: 1.66s\n",
            "237:\tlearn: 14.7909843\ttotal: 3.69s\tremaining: 1.64s\n",
            "238:\tlearn: 14.7672782\ttotal: 3.71s\tremaining: 1.63s\n",
            "239:\tlearn: 14.7441473\ttotal: 3.72s\tremaining: 1.61s\n",
            "240:\tlearn: 14.7363372\ttotal: 3.74s\tremaining: 1.6s\n",
            "241:\tlearn: 14.6591497\ttotal: 3.75s\tremaining: 1.58s\n",
            "242:\tlearn: 14.6505207\ttotal: 3.77s\tremaining: 1.57s\n",
            "243:\tlearn: 14.6388518\ttotal: 3.78s\tremaining: 1.55s\n",
            "244:\tlearn: 14.5324722\ttotal: 3.8s\tremaining: 1.53s\n",
            "245:\tlearn: 14.4724852\ttotal: 3.81s\tremaining: 1.52s\n",
            "246:\tlearn: 14.4605034\ttotal: 3.83s\tremaining: 1.5s\n",
            "247:\tlearn: 14.4485053\ttotal: 3.84s\tremaining: 1.49s\n",
            "248:\tlearn: 14.3519916\ttotal: 3.85s\tremaining: 1.47s\n",
            "249:\tlearn: 14.3443300\ttotal: 3.86s\tremaining: 1.45s\n",
            "250:\tlearn: 14.3330898\ttotal: 3.88s\tremaining: 1.44s\n",
            "251:\tlearn: 14.3206049\ttotal: 3.89s\tremaining: 1.42s\n",
            "252:\tlearn: 14.3041309\ttotal: 3.91s\tremaining: 1.41s\n",
            "253:\tlearn: 14.2937916\ttotal: 3.92s\tremaining: 1.39s\n",
            "254:\tlearn: 14.2847811\ttotal: 3.94s\tremaining: 1.38s\n",
            "255:\tlearn: 14.2741326\ttotal: 3.95s\tremaining: 1.36s\n",
            "256:\tlearn: 14.2656460\ttotal: 3.97s\tremaining: 1.34s\n",
            "257:\tlearn: 14.2521992\ttotal: 3.98s\tremaining: 1.33s\n",
            "258:\tlearn: 14.2428131\ttotal: 4s\tremaining: 1.31s\n",
            "259:\tlearn: 14.2353269\ttotal: 4.01s\tremaining: 1.29s\n",
            "260:\tlearn: 14.2263940\ttotal: 4.03s\tremaining: 1.28s\n",
            "261:\tlearn: 14.2117803\ttotal: 4.04s\tremaining: 1.26s\n",
            "262:\tlearn: 14.2054287\ttotal: 4.06s\tremaining: 1.25s\n",
            "263:\tlearn: 14.1759469\ttotal: 4.07s\tremaining: 1.23s\n",
            "264:\tlearn: 14.1651366\ttotal: 4.08s\tremaining: 1.22s\n",
            "265:\tlearn: 14.1537072\ttotal: 4.09s\tremaining: 1.2s\n",
            "266:\tlearn: 14.1417924\ttotal: 4.11s\tremaining: 1.19s\n",
            "267:\tlearn: 14.1036509\ttotal: 4.13s\tremaining: 1.17s\n",
            "268:\tlearn: 14.0914974\ttotal: 4.14s\tremaining: 1.15s\n",
            "269:\tlearn: 13.9955185\ttotal: 4.16s\tremaining: 1.14s\n",
            "270:\tlearn: 13.9848642\ttotal: 4.17s\tremaining: 1.12s\n",
            "271:\tlearn: 13.9791089\ttotal: 4.19s\tremaining: 1.11s\n",
            "272:\tlearn: 13.9703473\ttotal: 4.2s\tremaining: 1.09s\n",
            "273:\tlearn: 13.9585463\ttotal: 4.22s\tremaining: 1.08s\n",
            "274:\tlearn: 13.9528408\ttotal: 4.23s\tremaining: 1.06s\n",
            "275:\tlearn: 13.9433111\ttotal: 4.25s\tremaining: 1.05s\n",
            "276:\tlearn: 13.9326180\ttotal: 4.26s\tremaining: 1.03s\n",
            "277:\tlearn: 13.9230627\ttotal: 4.28s\tremaining: 1.01s\n",
            "278:\tlearn: 13.9123193\ttotal: 4.29s\tremaining: 999ms\n",
            "279:\tlearn: 13.8237926\ttotal: 4.3s\tremaining: 984ms\n",
            "280:\tlearn: 13.7398346\ttotal: 4.32s\tremaining: 968ms\n",
            "281:\tlearn: 13.6914484\ttotal: 4.33s\tremaining: 953ms\n",
            "282:\tlearn: 13.6855344\ttotal: 4.35s\tremaining: 938ms\n",
            "283:\tlearn: 13.6758263\ttotal: 4.36s\tremaining: 921ms\n",
            "284:\tlearn: 13.6152507\ttotal: 4.38s\tremaining: 906ms\n",
            "285:\tlearn: 13.6067252\ttotal: 4.39s\tremaining: 891ms\n",
            "286:\tlearn: 13.5612892\ttotal: 4.4s\tremaining: 874ms\n",
            "287:\tlearn: 13.5492894\ttotal: 4.42s\tremaining: 860ms\n",
            "288:\tlearn: 13.4806658\ttotal: 4.44s\tremaining: 844ms\n",
            "289:\tlearn: 13.4726790\ttotal: 4.45s\tremaining: 828ms\n",
            "290:\tlearn: 13.4646232\ttotal: 4.47s\tremaining: 814ms\n",
            "291:\tlearn: 13.4566734\ttotal: 4.48s\tremaining: 797ms\n",
            "292:\tlearn: 13.4000614\ttotal: 4.5s\tremaining: 783ms\n",
            "293:\tlearn: 13.3338735\ttotal: 4.51s\tremaining: 767ms\n",
            "294:\tlearn: 13.2722407\ttotal: 4.53s\tremaining: 752ms\n",
            "295:\tlearn: 13.1721524\ttotal: 4.54s\tremaining: 736ms\n",
            "296:\tlearn: 13.1654464\ttotal: 4.55s\tremaining: 721ms\n",
            "297:\tlearn: 13.1180557\ttotal: 4.57s\tremaining: 705ms\n",
            "298:\tlearn: 13.0375823\ttotal: 4.58s\tremaining: 690ms\n",
            "299:\tlearn: 13.0306102\ttotal: 4.59s\tremaining: 674ms\n",
            "300:\tlearn: 13.0119633\ttotal: 4.61s\tremaining: 659ms\n",
            "301:\tlearn: 12.9286026\ttotal: 4.62s\tremaining: 643ms\n",
            "302:\tlearn: 12.8491513\ttotal: 4.64s\tremaining: 628ms\n",
            "303:\tlearn: 12.8001714\ttotal: 4.65s\tremaining: 612ms\n",
            "304:\tlearn: 12.7925717\ttotal: 4.67s\tremaining: 597ms\n",
            "305:\tlearn: 12.7877733\ttotal: 4.68s\tremaining: 581ms\n",
            "306:\tlearn: 12.7150354\ttotal: 4.7s\tremaining: 566ms\n",
            "307:\tlearn: 12.7105031\ttotal: 4.71s\tremaining: 551ms\n",
            "308:\tlearn: 12.7033845\ttotal: 4.73s\tremaining: 536ms\n",
            "309:\tlearn: 12.6974841\ttotal: 4.74s\tremaining: 520ms\n",
            "310:\tlearn: 12.6914351\ttotal: 4.76s\tremaining: 505ms\n",
            "311:\tlearn: 12.6847717\ttotal: 4.77s\tremaining: 490ms\n",
            "312:\tlearn: 12.6804331\ttotal: 4.79s\tremaining: 474ms\n",
            "313:\tlearn: 12.6717728\ttotal: 4.8s\tremaining: 459ms\n",
            "314:\tlearn: 12.6648803\ttotal: 4.81s\tremaining: 443ms\n",
            "315:\tlearn: 12.6477470\ttotal: 4.83s\tremaining: 428ms\n",
            "316:\tlearn: 12.6425399\ttotal: 4.84s\tremaining: 412ms\n",
            "317:\tlearn: 12.6338217\ttotal: 4.86s\tremaining: 397ms\n",
            "318:\tlearn: 12.6302861\ttotal: 4.87s\tremaining: 382ms\n",
            "319:\tlearn: 12.6242547\ttotal: 4.89s\tremaining: 367ms\n",
            "320:\tlearn: 12.6064586\ttotal: 4.9s\tremaining: 351ms\n",
            "321:\tlearn: 12.5871919\ttotal: 4.91s\tremaining: 336ms\n",
            "322:\tlearn: 12.5212645\ttotal: 4.93s\tremaining: 321ms\n",
            "323:\tlearn: 12.4476176\ttotal: 4.95s\tremaining: 305ms\n",
            "324:\tlearn: 12.3706024\ttotal: 4.96s\tremaining: 290ms\n",
            "325:\tlearn: 12.3553655\ttotal: 4.97s\tremaining: 275ms\n",
            "326:\tlearn: 12.2796576\ttotal: 4.99s\tremaining: 259ms\n",
            "327:\tlearn: 12.2613514\ttotal: 5s\tremaining: 244ms\n",
            "328:\tlearn: 12.2395337\ttotal: 5.02s\tremaining: 229ms\n",
            "329:\tlearn: 12.2310818\ttotal: 5.03s\tremaining: 213ms\n",
            "330:\tlearn: 12.2275683\ttotal: 5.05s\tremaining: 198ms\n",
            "331:\tlearn: 12.2224124\ttotal: 5.06s\tremaining: 183ms\n",
            "332:\tlearn: 12.2162325\ttotal: 5.07s\tremaining: 168ms\n",
            "333:\tlearn: 12.1616285\ttotal: 5.09s\tremaining: 152ms\n",
            "334:\tlearn: 12.1336705\ttotal: 5.1s\tremaining: 137ms\n",
            "335:\tlearn: 12.1145845\ttotal: 5.12s\tremaining: 122ms\n",
            "336:\tlearn: 12.0521187\ttotal: 5.13s\tremaining: 107ms\n",
            "337:\tlearn: 12.0206242\ttotal: 5.14s\tremaining: 91.3ms\n",
            "338:\tlearn: 11.9724131\ttotal: 5.16s\tremaining: 76.2ms\n",
            "339:\tlearn: 11.9427802\ttotal: 5.18s\tremaining: 60.9ms\n",
            "340:\tlearn: 11.9385152\ttotal: 5.2s\tremaining: 45.7ms\n",
            "341:\tlearn: 11.9336610\ttotal: 5.21s\tremaining: 30.5ms\n",
            "342:\tlearn: 11.8623884\ttotal: 5.22s\tremaining: 15.2ms\n",
            "343:\tlearn: 11.8577828\ttotal: 5.24s\tremaining: 0us\n",
            "0:\tlearn: 45.4850081\ttotal: 11.6ms\tremaining: 3.99s\n",
            "1:\tlearn: 44.5307231\ttotal: 22.6ms\tremaining: 3.87s\n",
            "2:\tlearn: 43.8752186\ttotal: 40.4ms\tremaining: 4.59s\n",
            "3:\tlearn: 42.9332787\ttotal: 51.3ms\tremaining: 4.36s\n",
            "4:\tlearn: 42.1115162\ttotal: 68.5ms\tremaining: 4.65s\n",
            "5:\tlearn: 41.4017177\ttotal: 79.5ms\tremaining: 4.48s\n",
            "6:\tlearn: 40.7905912\ttotal: 97.7ms\tremaining: 4.7s\n",
            "7:\tlearn: 40.1503014\ttotal: 113ms\tremaining: 4.74s\n",
            "8:\tlearn: 39.6146338\ttotal: 124ms\tremaining: 4.6s\n",
            "9:\tlearn: 38.8991021\ttotal: 141ms\tremaining: 4.7s\n",
            "10:\tlearn: 38.3089815\ttotal: 151ms\tremaining: 4.58s\n",
            "11:\tlearn: 37.7696426\ttotal: 168ms\tremaining: 4.65s\n",
            "12:\tlearn: 37.3366629\ttotal: 179ms\tremaining: 4.55s\n",
            "13:\tlearn: 36.9084707\ttotal: 198ms\tremaining: 4.66s\n",
            "14:\tlearn: 36.7821934\ttotal: 208ms\tremaining: 4.56s\n",
            "15:\tlearn: 36.3400140\ttotal: 227ms\tremaining: 4.65s\n",
            "16:\tlearn: 35.9125543\ttotal: 238ms\tremaining: 4.58s\n",
            "17:\tlearn: 35.5020229\ttotal: 256ms\tremaining: 4.64s\n",
            "18:\tlearn: 35.0843804\ttotal: 267ms\tremaining: 4.57s\n",
            "19:\tlearn: 34.9762454\ttotal: 285ms\tremaining: 4.61s\n",
            "20:\tlearn: 34.6167428\ttotal: 295ms\tremaining: 4.54s\n",
            "21:\tlearn: 34.3065646\ttotal: 313ms\tremaining: 4.58s\n",
            "22:\tlearn: 33.9710984\ttotal: 324ms\tremaining: 4.52s\n",
            "23:\tlearn: 33.8635808\ttotal: 343ms\tremaining: 4.57s\n",
            "24:\tlearn: 33.4062808\ttotal: 358ms\tremaining: 4.57s\n",
            "25:\tlearn: 33.0994738\ttotal: 368ms\tremaining: 4.5s\n",
            "26:\tlearn: 32.8324055\ttotal: 386ms\tremaining: 4.53s\n",
            "27:\tlearn: 32.7323950\ttotal: 400ms\tremaining: 4.51s\n",
            "28:\tlearn: 32.6380582\ttotal: 418ms\tremaining: 4.54s\n",
            "29:\tlearn: 32.5340903\ttotal: 431ms\tremaining: 4.51s\n",
            "30:\tlearn: 32.4487767\ttotal: 449ms\tremaining: 4.54s\n",
            "31:\tlearn: 32.3478308\ttotal: 460ms\tremaining: 4.49s\n",
            "32:\tlearn: 32.1052305\ttotal: 478ms\tremaining: 4.51s\n",
            "33:\tlearn: 31.9760049\ttotal: 489ms\tremaining: 4.46s\n",
            "34:\tlearn: 31.6831775\ttotal: 507ms\tremaining: 4.48s\n",
            "35:\tlearn: 31.4352398\ttotal: 518ms\tremaining: 4.43s\n",
            "36:\tlearn: 31.3454053\ttotal: 531ms\tremaining: 4.4s\n",
            "37:\tlearn: 31.1429642\ttotal: 542ms\tremaining: 4.36s\n",
            "38:\tlearn: 31.0343176\ttotal: 559ms\tremaining: 4.37s\n",
            "39:\tlearn: 30.9447509\ttotal: 570ms\tremaining: 4.33s\n",
            "40:\tlearn: 30.6175962\ttotal: 589ms\tremaining: 4.35s\n",
            "41:\tlearn: 30.2802139\ttotal: 600ms\tremaining: 4.31s\n",
            "42:\tlearn: 30.0257441\ttotal: 618ms\tremaining: 4.33s\n",
            "43:\tlearn: 29.8246121\ttotal: 629ms\tremaining: 4.29s\n",
            "44:\tlearn: 29.7084624\ttotal: 647ms\tremaining: 4.3s\n",
            "45:\tlearn: 29.4392003\ttotal: 658ms\tremaining: 4.26s\n",
            "46:\tlearn: 29.3552438\ttotal: 676ms\tremaining: 4.27s\n",
            "47:\tlearn: 29.1378097\ttotal: 691ms\tremaining: 4.26s\n",
            "48:\tlearn: 29.0499326\ttotal: 702ms\tremaining: 4.22s\n",
            "49:\tlearn: 28.8625843\ttotal: 722ms\tremaining: 4.24s\n",
            "50:\tlearn: 28.6822728\ttotal: 731ms\tremaining: 4.2s\n",
            "51:\tlearn: 28.4392861\ttotal: 749ms\tremaining: 4.21s\n",
            "52:\tlearn: 28.2516564\ttotal: 759ms\tremaining: 4.17s\n",
            "53:\tlearn: 28.1773080\ttotal: 777ms\tremaining: 4.17s\n",
            "54:\tlearn: 28.0215553\ttotal: 789ms\tremaining: 4.14s\n",
            "55:\tlearn: 27.8249356\ttotal: 807ms\tremaining: 4.15s\n",
            "56:\tlearn: 27.6415529\ttotal: 817ms\tremaining: 4.12s\n",
            "57:\tlearn: 27.5653925\ttotal: 835ms\tremaining: 4.12s\n",
            "58:\tlearn: 27.4866306\ttotal: 846ms\tremaining: 4.09s\n",
            "59:\tlearn: 27.3030580\ttotal: 864ms\tremaining: 4.09s\n",
            "60:\tlearn: 27.1576851\ttotal: 875ms\tremaining: 4.06s\n",
            "61:\tlearn: 27.0874460\ttotal: 893ms\tremaining: 4.06s\n",
            "62:\tlearn: 26.9738390\ttotal: 904ms\tremaining: 4.03s\n",
            "63:\tlearn: 26.7494891\ttotal: 922ms\tremaining: 4.03s\n",
            "64:\tlearn: 26.6627305\ttotal: 932ms\tremaining: 4s\n",
            "65:\tlearn: 26.5893262\ttotal: 950ms\tremaining: 4s\n",
            "66:\tlearn: 26.3174091\ttotal: 961ms\tremaining: 3.97s\n",
            "67:\tlearn: 26.1759347\ttotal: 979ms\tremaining: 3.97s\n",
            "68:\tlearn: 26.1124178\ttotal: 990ms\tremaining: 3.95s\n",
            "69:\tlearn: 25.9855568\ttotal: 1.01s\tremaining: 3.95s\n",
            "70:\tlearn: 25.9237786\ttotal: 1.02s\tremaining: 3.92s\n",
            "71:\tlearn: 25.6913124\ttotal: 1.04s\tremaining: 3.92s\n",
            "72:\tlearn: 25.6217388\ttotal: 1.05s\tremaining: 3.89s\n",
            "73:\tlearn: 25.5537898\ttotal: 1.07s\tremaining: 3.89s\n",
            "74:\tlearn: 25.3944927\ttotal: 1.08s\tremaining: 3.88s\n",
            "75:\tlearn: 25.3379893\ttotal: 1.09s\tremaining: 3.85s\n",
            "76:\tlearn: 25.2773294\ttotal: 1.11s\tremaining: 3.85s\n",
            "77:\tlearn: 25.1637611\ttotal: 1.12s\tremaining: 3.82s\n",
            "78:\tlearn: 25.0516423\ttotal: 1.14s\tremaining: 3.82s\n",
            "79:\tlearn: 24.9884399\ttotal: 1.15s\tremaining: 3.8s\n",
            "80:\tlearn: 24.9342189\ttotal: 1.17s\tremaining: 3.8s\n",
            "81:\tlearn: 24.8611978\ttotal: 1.18s\tremaining: 3.77s\n",
            "82:\tlearn: 24.8074080\ttotal: 1.2s\tremaining: 3.77s\n",
            "83:\tlearn: 24.6616320\ttotal: 1.21s\tremaining: 3.75s\n",
            "84:\tlearn: 24.4472318\ttotal: 1.23s\tremaining: 3.74s\n",
            "85:\tlearn: 24.3826235\ttotal: 1.24s\tremaining: 3.72s\n",
            "86:\tlearn: 24.2915571\ttotal: 1.26s\tremaining: 3.72s\n",
            "87:\tlearn: 24.2402173\ttotal: 1.27s\tremaining: 3.69s\n",
            "88:\tlearn: 24.1891306\ttotal: 1.29s\tremaining: 3.69s\n",
            "89:\tlearn: 24.1395060\ttotal: 1.3s\tremaining: 3.66s\n",
            "90:\tlearn: 24.0239837\ttotal: 1.31s\tremaining: 3.66s\n",
            "91:\tlearn: 23.8702350\ttotal: 1.32s\tremaining: 3.63s\n",
            "92:\tlearn: 23.8133289\ttotal: 1.34s\tremaining: 3.62s\n",
            "93:\tlearn: 23.7612945\ttotal: 1.36s\tremaining: 3.61s\n",
            "94:\tlearn: 23.7083042\ttotal: 1.37s\tremaining: 3.58s\n",
            "95:\tlearn: 23.6588099\ttotal: 1.38s\tremaining: 3.58s\n",
            "96:\tlearn: 23.6160752\ttotal: 1.4s\tremaining: 3.56s\n",
            "97:\tlearn: 23.5587060\ttotal: 1.41s\tremaining: 3.55s\n",
            "98:\tlearn: 23.5080147\ttotal: 1.43s\tremaining: 3.53s\n",
            "99:\tlearn: 23.4182798\ttotal: 1.45s\tremaining: 3.53s\n",
            "100:\tlearn: 23.2039548\ttotal: 1.46s\tremaining: 3.5s\n",
            "101:\tlearn: 23.1377255\ttotal: 1.48s\tremaining: 3.5s\n",
            "102:\tlearn: 23.1001140\ttotal: 1.49s\tremaining: 3.48s\n",
            "103:\tlearn: 23.0516694\ttotal: 1.5s\tremaining: 3.47s\n",
            "104:\tlearn: 22.9974871\ttotal: 1.51s\tremaining: 3.45s\n",
            "105:\tlearn: 22.9576877\ttotal: 1.53s\tremaining: 3.44s\n",
            "106:\tlearn: 22.9126866\ttotal: 1.54s\tremaining: 3.42s\n",
            "107:\tlearn: 22.8714834\ttotal: 1.56s\tremaining: 3.41s\n",
            "108:\tlearn: 22.8330299\ttotal: 1.57s\tremaining: 3.39s\n",
            "109:\tlearn: 22.7886816\ttotal: 1.59s\tremaining: 3.38s\n",
            "110:\tlearn: 22.7451324\ttotal: 1.61s\tremaining: 3.37s\n",
            "111:\tlearn: 22.7020250\ttotal: 1.62s\tremaining: 3.35s\n",
            "112:\tlearn: 22.6625948\ttotal: 1.64s\tremaining: 3.34s\n",
            "113:\tlearn: 22.6122369\ttotal: 1.65s\tremaining: 3.32s\n",
            "114:\tlearn: 22.5674281\ttotal: 1.67s\tremaining: 3.32s\n",
            "115:\tlearn: 22.3822982\ttotal: 1.68s\tremaining: 3.31s\n",
            "116:\tlearn: 22.3315838\ttotal: 1.7s\tremaining: 3.29s\n",
            "117:\tlearn: 22.2904744\ttotal: 1.71s\tremaining: 3.27s\n",
            "118:\tlearn: 22.2505149\ttotal: 1.73s\tremaining: 3.27s\n",
            "119:\tlearn: 22.0676377\ttotal: 1.74s\tremaining: 3.25s\n",
            "120:\tlearn: 21.8580452\ttotal: 1.76s\tremaining: 3.24s\n",
            "121:\tlearn: 21.8190455\ttotal: 1.77s\tremaining: 3.22s\n",
            "122:\tlearn: 21.7825301\ttotal: 1.79s\tremaining: 3.22s\n",
            "123:\tlearn: 21.7477643\ttotal: 1.8s\tremaining: 3.2s\n",
            "124:\tlearn: 21.7015293\ttotal: 1.82s\tremaining: 3.19s\n",
            "125:\tlearn: 21.5342300\ttotal: 1.83s\tremaining: 3.17s\n",
            "126:\tlearn: 21.4974788\ttotal: 1.85s\tremaining: 3.17s\n",
            "127:\tlearn: 21.2991749\ttotal: 1.86s\tremaining: 3.15s\n",
            "128:\tlearn: 21.2228277\ttotal: 1.88s\tremaining: 3.14s\n",
            "129:\tlearn: 21.1889797\ttotal: 1.89s\tremaining: 3.12s\n",
            "130:\tlearn: 21.1543124\ttotal: 1.91s\tremaining: 3.11s\n",
            "131:\tlearn: 20.9983920\ttotal: 1.92s\tremaining: 3.09s\n",
            "132:\tlearn: 20.9605756\ttotal: 1.94s\tremaining: 3.08s\n",
            "133:\tlearn: 20.9005962\ttotal: 1.95s\tremaining: 3.06s\n",
            "134:\tlearn: 20.8756528\ttotal: 1.97s\tremaining: 3.05s\n",
            "135:\tlearn: 20.8471217\ttotal: 1.98s\tremaining: 3.03s\n",
            "136:\tlearn: 20.8166044\ttotal: 2s\tremaining: 3.02s\n",
            "137:\tlearn: 20.6663821\ttotal: 2.01s\tremaining: 3s\n",
            "138:\tlearn: 20.4825286\ttotal: 2.03s\tremaining: 3s\n",
            "139:\tlearn: 20.3178815\ttotal: 2.04s\tremaining: 2.98s\n",
            "140:\tlearn: 20.2822221\ttotal: 2.06s\tremaining: 2.97s\n",
            "141:\tlearn: 20.1066325\ttotal: 2.07s\tremaining: 2.95s\n",
            "142:\tlearn: 19.9117043\ttotal: 2.09s\tremaining: 2.94s\n",
            "143:\tlearn: 19.8811558\ttotal: 2.11s\tremaining: 2.93s\n",
            "144:\tlearn: 19.8510538\ttotal: 2.12s\tremaining: 2.9s\n",
            "145:\tlearn: 19.6861262\ttotal: 2.13s\tremaining: 2.9s\n",
            "146:\tlearn: 19.6566606\ttotal: 2.15s\tremaining: 2.88s\n",
            "147:\tlearn: 19.6291595\ttotal: 2.16s\tremaining: 2.86s\n",
            "148:\tlearn: 19.5959898\ttotal: 2.18s\tremaining: 2.85s\n",
            "149:\tlearn: 19.5687721\ttotal: 2.19s\tremaining: 2.83s\n",
            "150:\tlearn: 19.4110616\ttotal: 2.21s\tremaining: 2.82s\n",
            "151:\tlearn: 19.3845966\ttotal: 2.22s\tremaining: 2.8s\n",
            "152:\tlearn: 19.3586754\ttotal: 2.24s\tremaining: 2.79s\n",
            "153:\tlearn: 19.3340905\ttotal: 2.25s\tremaining: 2.77s\n",
            "154:\tlearn: 19.3095779\ttotal: 2.26s\tremaining: 2.76s\n",
            "155:\tlearn: 19.2853099\ttotal: 2.28s\tremaining: 2.75s\n",
            "156:\tlearn: 19.2614987\ttotal: 2.29s\tremaining: 2.73s\n",
            "157:\tlearn: 19.2382217\ttotal: 2.31s\tremaining: 2.72s\n",
            "158:\tlearn: 19.0871914\ttotal: 2.32s\tremaining: 2.7s\n",
            "159:\tlearn: 18.9579938\ttotal: 2.34s\tremaining: 2.69s\n",
            "160:\tlearn: 18.9347530\ttotal: 2.35s\tremaining: 2.67s\n",
            "161:\tlearn: 18.8045158\ttotal: 2.37s\tremaining: 2.66s\n",
            "162:\tlearn: 18.6625338\ttotal: 2.38s\tremaining: 2.64s\n",
            "163:\tlearn: 18.5054021\ttotal: 2.39s\tremaining: 2.63s\n",
            "164:\tlearn: 18.3508857\ttotal: 2.4s\tremaining: 2.61s\n",
            "165:\tlearn: 18.3296958\ttotal: 2.42s\tremaining: 2.6s\n",
            "166:\tlearn: 18.1869706\ttotal: 2.44s\tremaining: 2.58s\n",
            "167:\tlearn: 18.1674060\ttotal: 2.45s\tremaining: 2.57s\n",
            "168:\tlearn: 18.1456971\ttotal: 2.47s\tremaining: 2.56s\n",
            "169:\tlearn: 18.1270576\ttotal: 2.48s\tremaining: 2.54s\n",
            "170:\tlearn: 17.9728954\ttotal: 2.5s\tremaining: 2.53s\n",
            "171:\tlearn: 17.8470029\ttotal: 2.51s\tremaining: 2.51s\n",
            "172:\tlearn: 17.7353503\ttotal: 2.53s\tremaining: 2.5s\n",
            "173:\tlearn: 17.5926267\ttotal: 2.54s\tremaining: 2.48s\n",
            "174:\tlearn: 17.5687537\ttotal: 2.56s\tremaining: 2.47s\n",
            "175:\tlearn: 17.5023740\ttotal: 2.57s\tremaining: 2.45s\n",
            "176:\tlearn: 17.3610466\ttotal: 2.59s\tremaining: 2.44s\n",
            "177:\tlearn: 17.2345589\ttotal: 2.6s\tremaining: 2.42s\n",
            "178:\tlearn: 17.1190496\ttotal: 2.61s\tremaining: 2.41s\n",
            "179:\tlearn: 17.1002111\ttotal: 2.63s\tremaining: 2.4s\n",
            "180:\tlearn: 17.0799499\ttotal: 2.64s\tremaining: 2.38s\n",
            "181:\tlearn: 17.0356422\ttotal: 2.66s\tremaining: 2.37s\n",
            "182:\tlearn: 16.9411969\ttotal: 2.67s\tremaining: 2.35s\n",
            "183:\tlearn: 16.9228262\ttotal: 2.69s\tremaining: 2.34s\n",
            "184:\tlearn: 16.9050121\ttotal: 2.71s\tremaining: 2.33s\n",
            "185:\tlearn: 16.7788955\ttotal: 2.72s\tremaining: 2.31s\n",
            "186:\tlearn: 16.7271622\ttotal: 2.74s\tremaining: 2.3s\n",
            "187:\tlearn: 16.7090852\ttotal: 2.75s\tremaining: 2.28s\n",
            "188:\tlearn: 16.6918340\ttotal: 2.76s\tremaining: 2.27s\n",
            "189:\tlearn: 16.5852464\ttotal: 2.78s\tremaining: 2.25s\n",
            "190:\tlearn: 16.5600860\ttotal: 2.79s\tremaining: 2.24s\n",
            "191:\tlearn: 16.5440415\ttotal: 2.81s\tremaining: 2.23s\n",
            "192:\tlearn: 16.5305673\ttotal: 2.82s\tremaining: 2.21s\n",
            "193:\tlearn: 16.3809789\ttotal: 2.84s\tremaining: 2.2s\n",
            "194:\tlearn: 16.3669960\ttotal: 2.86s\tremaining: 2.18s\n",
            "195:\tlearn: 16.3514240\ttotal: 2.87s\tremaining: 2.17s\n",
            "196:\tlearn: 16.2410377\ttotal: 2.89s\tremaining: 2.15s\n",
            "197:\tlearn: 16.1692676\ttotal: 2.9s\tremaining: 2.14s\n",
            "198:\tlearn: 16.1549720\ttotal: 2.92s\tremaining: 2.13s\n",
            "199:\tlearn: 16.0356408\ttotal: 2.93s\tremaining: 2.11s\n",
            "200:\tlearn: 16.0079076\ttotal: 2.95s\tremaining: 2.1s\n",
            "201:\tlearn: 15.9921459\ttotal: 2.96s\tremaining: 2.08s\n",
            "202:\tlearn: 15.9194109\ttotal: 2.98s\tremaining: 2.07s\n",
            "203:\tlearn: 15.9046322\ttotal: 2.99s\tremaining: 2.05s\n",
            "204:\tlearn: 15.8879430\ttotal: 3s\tremaining: 2.04s\n",
            "205:\tlearn: 15.8738450\ttotal: 3.02s\tremaining: 2.02s\n",
            "206:\tlearn: 15.8627462\ttotal: 3.03s\tremaining: 2.01s\n",
            "207:\tlearn: 15.8485192\ttotal: 3.04s\tremaining: 1.99s\n",
            "208:\tlearn: 15.8345901\ttotal: 3.06s\tremaining: 1.98s\n",
            "209:\tlearn: 15.8215187\ttotal: 3.08s\tremaining: 1.96s\n",
            "210:\tlearn: 15.7977409\ttotal: 3.09s\tremaining: 1.95s\n",
            "211:\tlearn: 15.7880194\ttotal: 3.11s\tremaining: 1.94s\n",
            "212:\tlearn: 15.7590044\ttotal: 3.12s\tremaining: 1.92s\n",
            "213:\tlearn: 15.7123234\ttotal: 3.14s\tremaining: 1.91s\n",
            "214:\tlearn: 15.6059070\ttotal: 3.15s\tremaining: 1.89s\n",
            "215:\tlearn: 15.5224283\ttotal: 3.17s\tremaining: 1.88s\n",
            "216:\tlearn: 15.5094393\ttotal: 3.18s\tremaining: 1.86s\n",
            "217:\tlearn: 15.4389662\ttotal: 3.2s\tremaining: 1.85s\n",
            "218:\tlearn: 15.4264197\ttotal: 3.21s\tremaining: 1.83s\n",
            "219:\tlearn: 15.3789172\ttotal: 3.23s\tremaining: 1.82s\n",
            "220:\tlearn: 15.3659969\ttotal: 3.24s\tremaining: 1.8s\n",
            "221:\tlearn: 15.3429295\ttotal: 3.26s\tremaining: 1.79s\n",
            "222:\tlearn: 15.2996521\ttotal: 3.27s\tremaining: 1.78s\n",
            "223:\tlearn: 15.2860215\ttotal: 3.29s\tremaining: 1.76s\n",
            "224:\tlearn: 15.2707536\ttotal: 3.3s\tremaining: 1.75s\n",
            "225:\tlearn: 15.2615331\ttotal: 3.32s\tremaining: 1.73s\n",
            "226:\tlearn: 15.2444684\ttotal: 3.33s\tremaining: 1.72s\n",
            "227:\tlearn: 15.1701352\ttotal: 3.35s\tremaining: 1.7s\n",
            "228:\tlearn: 15.1608074\ttotal: 3.36s\tremaining: 1.69s\n",
            "229:\tlearn: 15.0600457\ttotal: 3.38s\tremaining: 1.67s\n",
            "230:\tlearn: 15.0509286\ttotal: 3.39s\tremaining: 1.66s\n",
            "231:\tlearn: 15.0425985\ttotal: 3.4s\tremaining: 1.64s\n",
            "232:\tlearn: 15.0284237\ttotal: 3.42s\tremaining: 1.63s\n",
            "233:\tlearn: 14.9195647\ttotal: 3.43s\tremaining: 1.61s\n",
            "234:\tlearn: 14.8448685\ttotal: 3.45s\tremaining: 1.6s\n",
            "235:\tlearn: 14.8293015\ttotal: 3.46s\tremaining: 1.58s\n",
            "236:\tlearn: 14.8034940\ttotal: 3.48s\tremaining: 1.57s\n",
            "237:\tlearn: 14.7909843\ttotal: 3.49s\tremaining: 1.55s\n",
            "238:\tlearn: 14.7672782\ttotal: 3.51s\tremaining: 1.54s\n",
            "239:\tlearn: 14.7441473\ttotal: 3.52s\tremaining: 1.52s\n",
            "240:\tlearn: 14.7363372\ttotal: 3.54s\tremaining: 1.51s\n",
            "241:\tlearn: 14.6591497\ttotal: 3.55s\tremaining: 1.5s\n",
            "242:\tlearn: 14.6505207\ttotal: 3.57s\tremaining: 1.48s\n",
            "243:\tlearn: 14.6388518\ttotal: 3.58s\tremaining: 1.47s\n",
            "244:\tlearn: 14.5324722\ttotal: 3.6s\tremaining: 1.45s\n",
            "245:\tlearn: 14.4724852\ttotal: 3.61s\tremaining: 1.44s\n",
            "246:\tlearn: 14.4605034\ttotal: 3.63s\tremaining: 1.43s\n",
            "247:\tlearn: 14.4485053\ttotal: 3.64s\tremaining: 1.41s\n",
            "248:\tlearn: 14.3519916\ttotal: 3.66s\tremaining: 1.4s\n",
            "249:\tlearn: 14.3443300\ttotal: 3.67s\tremaining: 1.38s\n",
            "250:\tlearn: 14.3330898\ttotal: 3.69s\tremaining: 1.36s\n",
            "251:\tlearn: 14.3206049\ttotal: 3.7s\tremaining: 1.35s\n",
            "252:\tlearn: 14.3041309\ttotal: 3.72s\tremaining: 1.34s\n",
            "253:\tlearn: 14.2937916\ttotal: 3.73s\tremaining: 1.32s\n",
            "254:\tlearn: 14.2847811\ttotal: 3.75s\tremaining: 1.31s\n",
            "255:\tlearn: 14.2741326\ttotal: 3.76s\tremaining: 1.29s\n",
            "256:\tlearn: 14.2656460\ttotal: 3.78s\tremaining: 1.28s\n",
            "257:\tlearn: 14.2521992\ttotal: 3.79s\tremaining: 1.26s\n",
            "258:\tlearn: 14.2428131\ttotal: 3.81s\tremaining: 1.25s\n",
            "259:\tlearn: 14.2353269\ttotal: 3.82s\tremaining: 1.23s\n",
            "260:\tlearn: 14.2263940\ttotal: 3.83s\tremaining: 1.22s\n",
            "261:\tlearn: 14.2117803\ttotal: 3.85s\tremaining: 1.2s\n",
            "262:\tlearn: 14.2054287\ttotal: 3.86s\tremaining: 1.19s\n",
            "263:\tlearn: 14.1759469\ttotal: 3.88s\tremaining: 1.17s\n",
            "264:\tlearn: 14.1651366\ttotal: 3.9s\tremaining: 1.16s\n",
            "265:\tlearn: 14.1537072\ttotal: 3.91s\tremaining: 1.15s\n",
            "266:\tlearn: 14.1417924\ttotal: 3.92s\tremaining: 1.13s\n",
            "267:\tlearn: 14.1036509\ttotal: 3.94s\tremaining: 1.12s\n",
            "268:\tlearn: 14.0914974\ttotal: 3.95s\tremaining: 1.1s\n",
            "269:\tlearn: 13.9955185\ttotal: 3.97s\tremaining: 1.09s\n",
            "270:\tlearn: 13.9848642\ttotal: 3.98s\tremaining: 1.07s\n",
            "271:\tlearn: 13.9791089\ttotal: 4s\tremaining: 1.06s\n",
            "272:\tlearn: 13.9703473\ttotal: 4.01s\tremaining: 1.04s\n",
            "273:\tlearn: 13.9585463\ttotal: 4.02s\tremaining: 1.03s\n",
            "274:\tlearn: 13.9528408\ttotal: 4.03s\tremaining: 1.01s\n",
            "275:\tlearn: 13.9433111\ttotal: 4.05s\tremaining: 999ms\n",
            "276:\tlearn: 13.9326180\ttotal: 4.06s\tremaining: 983ms\n",
            "277:\tlearn: 13.9230627\ttotal: 4.08s\tremaining: 969ms\n",
            "278:\tlearn: 13.9123193\ttotal: 4.09s\tremaining: 953ms\n",
            "279:\tlearn: 13.8237926\ttotal: 4.11s\tremaining: 939ms\n",
            "280:\tlearn: 13.7398346\ttotal: 4.12s\tremaining: 924ms\n",
            "281:\tlearn: 13.6914484\ttotal: 4.14s\tremaining: 910ms\n",
            "282:\tlearn: 13.6855344\ttotal: 4.15s\tremaining: 895ms\n",
            "283:\tlearn: 13.6758263\ttotal: 4.16s\tremaining: 880ms\n",
            "284:\tlearn: 13.6152507\ttotal: 4.18s\tremaining: 866ms\n",
            "285:\tlearn: 13.6067252\ttotal: 4.2s\tremaining: 851ms\n",
            "286:\tlearn: 13.5612892\ttotal: 4.21s\tremaining: 836ms\n",
            "287:\tlearn: 13.5492894\ttotal: 4.22s\tremaining: 822ms\n",
            "288:\tlearn: 13.4806658\ttotal: 4.24s\tremaining: 807ms\n",
            "289:\tlearn: 13.4726790\ttotal: 4.25s\tremaining: 792ms\n",
            "290:\tlearn: 13.4646232\ttotal: 4.27s\tremaining: 778ms\n",
            "291:\tlearn: 13.4566734\ttotal: 4.28s\tremaining: 762ms\n",
            "292:\tlearn: 13.4000614\ttotal: 4.3s\tremaining: 748ms\n",
            "293:\tlearn: 13.3338735\ttotal: 4.31s\tremaining: 733ms\n",
            "294:\tlearn: 13.2722407\ttotal: 4.33s\tremaining: 719ms\n",
            "295:\tlearn: 13.1721524\ttotal: 4.34s\tremaining: 703ms\n",
            "296:\tlearn: 13.1654464\ttotal: 4.36s\tremaining: 689ms\n",
            "297:\tlearn: 13.1180557\ttotal: 4.37s\tremaining: 674ms\n",
            "298:\tlearn: 13.0375823\ttotal: 4.38s\tremaining: 660ms\n",
            "299:\tlearn: 13.0306102\ttotal: 4.39s\tremaining: 644ms\n",
            "300:\tlearn: 13.0119633\ttotal: 4.41s\tremaining: 630ms\n",
            "301:\tlearn: 12.9286026\ttotal: 4.42s\tremaining: 615ms\n",
            "302:\tlearn: 12.8491513\ttotal: 4.44s\tremaining: 601ms\n",
            "303:\tlearn: 12.8001714\ttotal: 4.45s\tremaining: 586ms\n",
            "304:\tlearn: 12.7925717\ttotal: 4.47s\tremaining: 572ms\n",
            "305:\tlearn: 12.7877733\ttotal: 4.49s\tremaining: 557ms\n",
            "306:\tlearn: 12.7150354\ttotal: 4.5s\tremaining: 543ms\n",
            "307:\tlearn: 12.7105031\ttotal: 4.51s\tremaining: 528ms\n",
            "308:\tlearn: 12.7033845\ttotal: 4.53s\tremaining: 513ms\n",
            "309:\tlearn: 12.6974841\ttotal: 4.54s\tremaining: 498ms\n",
            "310:\tlearn: 12.6914351\ttotal: 4.56s\tremaining: 484ms\n",
            "311:\tlearn: 12.6847717\ttotal: 4.58s\tremaining: 469ms\n",
            "312:\tlearn: 12.6804331\ttotal: 4.59s\tremaining: 454ms\n",
            "313:\tlearn: 12.6717728\ttotal: 4.61s\tremaining: 440ms\n",
            "314:\tlearn: 12.6648803\ttotal: 4.62s\tremaining: 425ms\n",
            "315:\tlearn: 12.6477470\ttotal: 4.63s\tremaining: 411ms\n",
            "316:\tlearn: 12.6425399\ttotal: 4.64s\tremaining: 396ms\n",
            "317:\tlearn: 12.6338217\ttotal: 4.66s\tremaining: 381ms\n",
            "318:\tlearn: 12.6302861\ttotal: 4.67s\tremaining: 366ms\n",
            "319:\tlearn: 12.6242547\ttotal: 4.69s\tremaining: 352ms\n",
            "320:\tlearn: 12.6064586\ttotal: 4.71s\tremaining: 337ms\n",
            "321:\tlearn: 12.5871919\ttotal: 4.72s\tremaining: 322ms\n",
            "322:\tlearn: 12.5212645\ttotal: 4.74s\tremaining: 308ms\n",
            "323:\tlearn: 12.4476176\ttotal: 4.75s\tremaining: 293ms\n",
            "324:\tlearn: 12.3706024\ttotal: 4.76s\tremaining: 278ms\n",
            "325:\tlearn: 12.3553655\ttotal: 4.78s\tremaining: 264ms\n",
            "326:\tlearn: 12.2796576\ttotal: 4.79s\tremaining: 249ms\n",
            "327:\tlearn: 12.2613514\ttotal: 4.81s\tremaining: 235ms\n",
            "328:\tlearn: 12.2395337\ttotal: 4.83s\tremaining: 220ms\n",
            "329:\tlearn: 12.2310818\ttotal: 4.84s\tremaining: 205ms\n",
            "330:\tlearn: 12.2275683\ttotal: 4.86s\tremaining: 191ms\n",
            "331:\tlearn: 12.2224124\ttotal: 4.87s\tremaining: 176ms\n",
            "332:\tlearn: 12.2162325\ttotal: 4.88s\tremaining: 161ms\n",
            "333:\tlearn: 12.1616285\ttotal: 4.9s\tremaining: 147ms\n",
            "334:\tlearn: 12.1336705\ttotal: 4.91s\tremaining: 132ms\n",
            "335:\tlearn: 12.1145845\ttotal: 4.93s\tremaining: 117ms\n",
            "336:\tlearn: 12.0521187\ttotal: 4.95s\tremaining: 103ms\n",
            "337:\tlearn: 12.0206242\ttotal: 4.96s\tremaining: 88ms\n",
            "338:\tlearn: 11.9724131\ttotal: 4.98s\tremaining: 73.4ms\n",
            "339:\tlearn: 11.9427802\ttotal: 4.99s\tremaining: 58.7ms\n",
            "340:\tlearn: 11.9385152\ttotal: 5.01s\tremaining: 44.1ms\n",
            "341:\tlearn: 11.9336610\ttotal: 5.03s\tremaining: 29.4ms\n",
            "342:\tlearn: 11.8623884\ttotal: 5.04s\tremaining: 14.7ms\n",
            "343:\tlearn: 11.8577828\ttotal: 5.05s\tremaining: 0us\n"
          ]
        },
        {
          "output_type": "error",
          "ename": "KeyError",
          "evalue": "\"None of [MultiIndex([('Altona', 'classics', '2022-10-30'),\\n            ('Altona', 'classics', '2022-10-31'),\\n            ('Altona', 'classics', '2022-11-01'),\\n            ('Altona', 'classics', '2022-11-02'),\\n            ('Altona', 'classics', '2022-11-03'),\\n            ('Altona', 'classics', '2022-11-04'),\\n            ('Altona', 'classics', '2022-11-05'),\\n            ('Altona', 'classics', '2022-11-06'),\\n            ('Altona', 'classics', '2022-11-07'),\\n            ('Altona', 'classics', '2022-11-08'),\\n            ...\\n            ('Altona', 'classics', '2024-04-03'),\\n            ('Altona', 'classics', '2024-04-04'),\\n            ('Altona', 'classics', '2024-04-05'),\\n            ('Altona', 'classics', '2024-04-06'),\\n            ('Altona', 'classics', '2024-04-07'),\\n            ('Altona', 'classics', '2024-04-08'),\\n            ('Altona', 'classics', '2024-04-09'),\\n            ('Altona', 'classics', '2024-04-10'),\\n            ('Altona', 'classics', '2024-04-11'),\\n            ('Altona', 'classics', '2024-04-12')],\\n           names=['store_name', 'item_category', 'date'], length=531)] are in the [index]\"",
          "traceback": [
            "\u001b[0;31m---------------------------------------------------------------------------\u001b[0m",
            "\u001b[0;31m_RemoteTraceback\u001b[0m                          Traceback (most recent call last)",
            "\u001b[0;31m_RemoteTraceback\u001b[0m: \n\"\"\"\nTraceback (most recent call last):\n  File \"/usr/local/lib/python3.10/dist-packages/joblib/externals/loky/process_executor.py\", line 463, in _process_worker\n    r = call_item()\n  File \"/usr/local/lib/python3.10/dist-packages/joblib/externals/loky/process_executor.py\", line 291, in __call__\n    return self.fn(*self.args, **self.kwargs)\n  File \"/usr/local/lib/python3.10/dist-packages/joblib/parallel.py\", line 598, in __call__\n    return [func(*args, **kwargs)\n  File \"/usr/local/lib/python3.10/dist-packages/joblib/parallel.py\", line 598, in <listcomp>\n    return [func(*args, **kwargs)\n  File \"/usr/local/lib/python3.10/dist-packages/sktime/forecasting/model_selection/_tune.py\", line 372, in _fit_and_score\n    out = evaluate(forecaster, **meta)\n  File \"/usr/local/lib/python3.10/dist-packages/sktime/forecasting/model_evaluation/_functions.py\", line 612, in evaluate\n    results = parallelize(\n  File \"/usr/local/lib/python3.10/dist-packages/sktime/utils/parallel.py\", line 72, in parallelize\n    ret = para_fun(\n  File \"/usr/local/lib/python3.10/dist-packages/sktime/utils/parallel.py\", line 92, in _parallelize_none\n    ret = [fun(x, meta=meta) for x in iter]\n  File \"/usr/local/lib/python3.10/dist-packages/sktime/utils/parallel.py\", line 92, in <listcomp>\n    ret = [fun(x, meta=meta) for x in iter]\n  File \"/usr/local/lib/python3.10/dist-packages/sktime/forecasting/model_evaluation/_functions.py\", line 586, in gen_y_X_train_test\n    for (y_train, y_test), (X_train, X_test) in zip(geny, genx):\n  File \"/usr/local/lib/python3.10/dist-packages/sktime/split/base/_base_splitter.py\", line 286, in split_series\n    y_train = _slicer[train]\n  File \"/usr/local/lib/python3.10/dist-packages/pandas/core/indexing.py\", line 1153, in __getitem__\n    return self._getitem_axis(maybe_callable, axis=axis)\n  File \"/usr/local/lib/python3.10/dist-packages/pandas/core/indexing.py\", line 1382, in _getitem_axis\n    return self._getitem_iterable(key, axis=axis)\n  File \"/usr/local/lib/python3.10/dist-packages/pandas/core/indexing.py\", line 1322, in _getitem_iterable\n    keyarr, indexer = self._get_listlike_indexer(key, axis)\n  File \"/usr/local/lib/python3.10/dist-packages/pandas/core/indexing.py\", line 1520, in _get_listlike_indexer\n    keyarr, indexer = ax._get_indexer_strict(key, axis_name)\n  File \"/usr/local/lib/python3.10/dist-packages/pandas/core/indexes/multi.py\", line 2651, in _get_indexer_strict\n    return super()._get_indexer_strict(key, axis_name)\n  File \"/usr/local/lib/python3.10/dist-packages/pandas/core/indexes/base.py\", line 6115, in _get_indexer_strict\n    self._raise_if_missing(keyarr, indexer, axis_name)\n  File \"/usr/local/lib/python3.10/dist-packages/pandas/core/indexes/multi.py\", line 2671, in _raise_if_missing\n    return super()._raise_if_missing(key, indexer, axis_name)\n  File \"/usr/local/lib/python3.10/dist-packages/pandas/core/indexes/base.py\", line 6176, in _raise_if_missing\n    raise KeyError(f\"None of [{key}] are in the [{axis_name}]\")\nKeyError: \"None of [MultiIndex([('Altona', 'classics', '2022-10-30'),\\n            ('Altona', 'classics', '2022-10-31'),\\n            ('Altona', 'classics', '2022-11-01'),\\n            ('Altona', 'classics', '2022-11-02'),\\n            ('Altona', 'classics', '2022-11-03'),\\n            ('Altona', 'classics', '2022-11-04'),\\n            ('Altona', 'classics', '2022-11-05'),\\n            ('Altona', 'classics', '2022-11-06'),\\n            ('Altona', 'classics', '2022-11-07'),\\n            ('Altona', 'classics', '2022-11-08'),\\n            ...\\n            ('Altona', 'classics', '2024-04-03'),\\n            ('Altona', 'classics', '2024-04-04'),\\n            ('Altona', 'classics', '2024-04-05'),\\n            ('Altona', 'classics', '2024-04-06'),\\n            ('Altona', 'classics', '2024-04-07'),\\n            ('Altona', 'classics', '2024-04-08'),\\n            ('Altona', 'classics', '2024-04-09'),\\n            ('Altona', 'classics', '2024-04-10'),\\n            ('Altona', 'classics', '2024-04-11'),\\n            ('Altona', 'classics', '2024-04-12')],\\n           names=['store_name', 'item_category', 'date'], length=531)] are in the [index]\"\n\"\"\"",
            "\nThe above exception was the direct cause of the following exception:\n",
            "\u001b[0;31mKeyError\u001b[0m                                  Traceback (most recent call last)",
            "\u001b[0;32m<ipython-input-101-19780b53c7e8>\u001b[0m in \u001b[0;36m<cell line: 3>\u001b[0;34m()\u001b[0m\n\u001b[1;32m      3\u001b[0m \u001b[0;32mfor\u001b[0m \u001b[0mm\u001b[0m \u001b[0;32min\u001b[0m \u001b[0mrange\u001b[0m\u001b[0;34m(\u001b[0m\u001b[0mlen\u001b[0m\u001b[0;34m(\u001b[0m\u001b[0mrscv_list\u001b[0m\u001b[0;34m)\u001b[0m\u001b[0;34m)\u001b[0m\u001b[0;34m:\u001b[0m\u001b[0;34m\u001b[0m\u001b[0;34m\u001b[0m\u001b[0m\n\u001b[1;32m      4\u001b[0m \u001b[0;34m\u001b[0m\u001b[0m\n\u001b[0;32m----> 5\u001b[0;31m     fitted_cv = list(rscv_list[m].values())[0].fit(y = list(cv_list[0][1].values())[0][[\"total_amount\"]], \n\u001b[0m\u001b[1;32m      6\u001b[0m                                                    X = list(cv_list[m][1].values())[0].iloc[:,1:])\n\u001b[1;32m      7\u001b[0m \u001b[0;34m\u001b[0m\u001b[0m\n",
            "\u001b[0;32m/usr/local/lib/python3.10/dist-packages/sktime/forecasting/base/_base.py\u001b[0m in \u001b[0;36mfit\u001b[0;34m(self, y, X, fh)\u001b[0m\n\u001b[1;32m    389\u001b[0m         \u001b[0;31m# we call the ordinary _fit if no looping/vectorization needed\u001b[0m\u001b[0;34m\u001b[0m\u001b[0;34m\u001b[0m\u001b[0m\n\u001b[1;32m    390\u001b[0m         \u001b[0;32mif\u001b[0m \u001b[0;32mnot\u001b[0m \u001b[0mvectorization_needed\u001b[0m\u001b[0;34m:\u001b[0m\u001b[0;34m\u001b[0m\u001b[0;34m\u001b[0m\u001b[0m\n\u001b[0;32m--> 391\u001b[0;31m             \u001b[0mself\u001b[0m\u001b[0;34m.\u001b[0m\u001b[0m_fit\u001b[0m\u001b[0;34m(\u001b[0m\u001b[0my\u001b[0m\u001b[0;34m=\u001b[0m\u001b[0my_inner\u001b[0m\u001b[0;34m,\u001b[0m \u001b[0mX\u001b[0m\u001b[0;34m=\u001b[0m\u001b[0mX_inner\u001b[0m\u001b[0;34m,\u001b[0m \u001b[0mfh\u001b[0m\u001b[0;34m=\u001b[0m\u001b[0mfh\u001b[0m\u001b[0;34m)\u001b[0m\u001b[0;34m\u001b[0m\u001b[0;34m\u001b[0m\u001b[0m\n\u001b[0m\u001b[1;32m    392\u001b[0m         \u001b[0;32melse\u001b[0m\u001b[0;34m:\u001b[0m\u001b[0;34m\u001b[0m\u001b[0;34m\u001b[0m\u001b[0m\n\u001b[1;32m    393\u001b[0m             \u001b[0;31m# otherwise we call the vectorized version of fit\u001b[0m\u001b[0;34m\u001b[0m\u001b[0;34m\u001b[0m\u001b[0m\n",
            "\u001b[0;32m/usr/local/lib/python3.10/dist-packages/sktime/forecasting/model_selection/_tune.py\u001b[0m in \u001b[0;36m_fit\u001b[0;34m(self, y, X, fh)\u001b[0m\n\u001b[1;32m    231\u001b[0m \u001b[0;34m\u001b[0m\u001b[0m\n\u001b[1;32m    232\u001b[0m         \u001b[0;31m# Run grid-search cross-validation.\u001b[0m\u001b[0;34m\u001b[0m\u001b[0;34m\u001b[0m\u001b[0m\n\u001b[0;32m--> 233\u001b[0;31m         \u001b[0mresults\u001b[0m \u001b[0;34m=\u001b[0m \u001b[0mself\u001b[0m\u001b[0;34m.\u001b[0m\u001b[0m_run_search\u001b[0m\u001b[0;34m(\u001b[0m\u001b[0mevaluate_candidates\u001b[0m\u001b[0;34m)\u001b[0m\u001b[0;34m\u001b[0m\u001b[0;34m\u001b[0m\u001b[0m\n\u001b[0m\u001b[1;32m    234\u001b[0m \u001b[0;34m\u001b[0m\u001b[0m\n\u001b[1;32m    235\u001b[0m         \u001b[0mresults\u001b[0m \u001b[0;34m=\u001b[0m \u001b[0mpd\u001b[0m\u001b[0;34m.\u001b[0m\u001b[0mDataFrame\u001b[0m\u001b[0;34m(\u001b[0m\u001b[0mresults\u001b[0m\u001b[0;34m)\u001b[0m\u001b[0;34m\u001b[0m\u001b[0;34m\u001b[0m\u001b[0m\n",
            "\u001b[0;32m/usr/local/lib/python3.10/dist-packages/sktime/forecasting/model_selection/_tune.py\u001b[0m in \u001b[0;36m_run_search\u001b[0;34m(self, evaluate_candidates)\u001b[0m\n\u001b[1;32m    905\u001b[0m     \u001b[0;32mdef\u001b[0m \u001b[0m_run_search\u001b[0m\u001b[0;34m(\u001b[0m\u001b[0mself\u001b[0m\u001b[0;34m,\u001b[0m \u001b[0mevaluate_candidates\u001b[0m\u001b[0;34m)\u001b[0m\u001b[0;34m:\u001b[0m\u001b[0;34m\u001b[0m\u001b[0;34m\u001b[0m\u001b[0m\n\u001b[1;32m    906\u001b[0m         \u001b[0;34m\"\"\"Search n_iter candidates from param_distributions.\"\"\"\u001b[0m\u001b[0;34m\u001b[0m\u001b[0;34m\u001b[0m\u001b[0m\n\u001b[0;32m--> 907\u001b[0;31m         return evaluate_candidates(\n\u001b[0m\u001b[1;32m    908\u001b[0m             ParameterSampler(\n\u001b[1;32m    909\u001b[0m                 \u001b[0mself\u001b[0m\u001b[0;34m.\u001b[0m\u001b[0mparam_distributions\u001b[0m\u001b[0;34m,\u001b[0m \u001b[0mself\u001b[0m\u001b[0;34m.\u001b[0m\u001b[0mn_iter\u001b[0m\u001b[0;34m,\u001b[0m \u001b[0mrandom_state\u001b[0m\u001b[0;34m=\u001b[0m\u001b[0mself\u001b[0m\u001b[0;34m.\u001b[0m\u001b[0mrandom_state\u001b[0m\u001b[0;34m\u001b[0m\u001b[0;34m\u001b[0m\u001b[0m\n",
            "\u001b[0;32m/usr/local/lib/python3.10/dist-packages/sktime/forecasting/model_selection/_tune.py\u001b[0m in \u001b[0;36mevaluate_candidates\u001b[0;34m(candidate_params)\u001b[0m\n\u001b[1;32m    213\u001b[0m             \u001b[0mmeta\u001b[0m\u001b[0;34m[\u001b[0m\u001b[0;34m\"scoring_name\"\u001b[0m\u001b[0;34m]\u001b[0m \u001b[0;34m=\u001b[0m \u001b[0mscoring_name\u001b[0m\u001b[0;34m\u001b[0m\u001b[0;34m\u001b[0m\u001b[0m\n\u001b[1;32m    214\u001b[0m \u001b[0;34m\u001b[0m\u001b[0m\n\u001b[0;32m--> 215\u001b[0;31m             out = parallelize(\n\u001b[0m\u001b[1;32m    216\u001b[0m                 \u001b[0mfun\u001b[0m\u001b[0;34m=\u001b[0m\u001b[0m_fit_and_score\u001b[0m\u001b[0;34m,\u001b[0m\u001b[0;34m\u001b[0m\u001b[0;34m\u001b[0m\u001b[0m\n\u001b[1;32m    217\u001b[0m                 \u001b[0miter\u001b[0m\u001b[0;34m=\u001b[0m\u001b[0mcandidate_params\u001b[0m\u001b[0;34m,\u001b[0m\u001b[0;34m\u001b[0m\u001b[0;34m\u001b[0m\u001b[0m\n",
            "\u001b[0;32m/usr/local/lib/python3.10/dist-packages/sktime/utils/parallel.py\u001b[0m in \u001b[0;36mparallelize\u001b[0;34m(fun, iter, meta, backend, backend_params)\u001b[0m\n\u001b[1;32m     70\u001b[0m     \u001b[0mpara_fun\u001b[0m \u001b[0;34m=\u001b[0m \u001b[0mpara_dict\u001b[0m\u001b[0;34m[\u001b[0m\u001b[0mbackend_name\u001b[0m\u001b[0;34m]\u001b[0m\u001b[0;34m\u001b[0m\u001b[0;34m\u001b[0m\u001b[0m\n\u001b[1;32m     71\u001b[0m \u001b[0;34m\u001b[0m\u001b[0m\n\u001b[0;32m---> 72\u001b[0;31m     ret = para_fun(\n\u001b[0m\u001b[1;32m     73\u001b[0m         \u001b[0mfun\u001b[0m\u001b[0;34m=\u001b[0m\u001b[0mfun\u001b[0m\u001b[0;34m,\u001b[0m \u001b[0miter\u001b[0m\u001b[0;34m=\u001b[0m\u001b[0miter\u001b[0m\u001b[0;34m,\u001b[0m \u001b[0mmeta\u001b[0m\u001b[0;34m=\u001b[0m\u001b[0mmeta\u001b[0m\u001b[0;34m,\u001b[0m \u001b[0mbackend\u001b[0m\u001b[0;34m=\u001b[0m\u001b[0mbackend\u001b[0m\u001b[0;34m,\u001b[0m \u001b[0mbackend_params\u001b[0m\u001b[0;34m=\u001b[0m\u001b[0mbackend_params\u001b[0m\u001b[0;34m\u001b[0m\u001b[0;34m\u001b[0m\u001b[0m\n\u001b[1;32m     74\u001b[0m     )\n",
            "\u001b[0;32m/usr/local/lib/python3.10/dist-packages/sktime/utils/parallel.py\u001b[0m in \u001b[0;36m_parallelize_joblib\u001b[0;34m(fun, iter, meta, backend, backend_params)\u001b[0m\n\u001b[1;32m    129\u001b[0m         \u001b[0mpar_params\u001b[0m\u001b[0;34m[\u001b[0m\u001b[0;34m\"n_jobs\"\u001b[0m\u001b[0;34m]\u001b[0m \u001b[0;34m=\u001b[0m \u001b[0;34m-\u001b[0m\u001b[0;36m1\u001b[0m\u001b[0;34m\u001b[0m\u001b[0;34m\u001b[0m\u001b[0m\n\u001b[1;32m    130\u001b[0m \u001b[0;34m\u001b[0m\u001b[0m\n\u001b[0;32m--> 131\u001b[0;31m     \u001b[0mret\u001b[0m \u001b[0;34m=\u001b[0m \u001b[0mParallel\u001b[0m\u001b[0;34m(\u001b[0m\u001b[0;34m**\u001b[0m\u001b[0mpar_params\u001b[0m\u001b[0;34m)\u001b[0m\u001b[0;34m(\u001b[0m\u001b[0mdelayed\u001b[0m\u001b[0;34m(\u001b[0m\u001b[0mfun\u001b[0m\u001b[0;34m)\u001b[0m\u001b[0;34m(\u001b[0m\u001b[0mx\u001b[0m\u001b[0;34m,\u001b[0m \u001b[0mmeta\u001b[0m\u001b[0;34m=\u001b[0m\u001b[0mmeta\u001b[0m\u001b[0;34m)\u001b[0m \u001b[0;32mfor\u001b[0m \u001b[0mx\u001b[0m \u001b[0;32min\u001b[0m \u001b[0miter\u001b[0m\u001b[0;34m)\u001b[0m\u001b[0;34m\u001b[0m\u001b[0;34m\u001b[0m\u001b[0m\n\u001b[0m\u001b[1;32m    132\u001b[0m     \u001b[0;32mreturn\u001b[0m \u001b[0mret\u001b[0m\u001b[0;34m\u001b[0m\u001b[0;34m\u001b[0m\u001b[0m\n\u001b[1;32m    133\u001b[0m \u001b[0;34m\u001b[0m\u001b[0m\n",
            "\u001b[0;32m/usr/local/lib/python3.10/dist-packages/joblib/parallel.py\u001b[0m in \u001b[0;36m__call__\u001b[0;34m(self, iterable)\u001b[0m\n\u001b[1;32m   2005\u001b[0m         \u001b[0mnext\u001b[0m\u001b[0;34m(\u001b[0m\u001b[0moutput\u001b[0m\u001b[0;34m)\u001b[0m\u001b[0;34m\u001b[0m\u001b[0;34m\u001b[0m\u001b[0m\n\u001b[1;32m   2006\u001b[0m \u001b[0;34m\u001b[0m\u001b[0m\n\u001b[0;32m-> 2007\u001b[0;31m         \u001b[0;32mreturn\u001b[0m \u001b[0moutput\u001b[0m \u001b[0;32mif\u001b[0m \u001b[0mself\u001b[0m\u001b[0;34m.\u001b[0m\u001b[0mreturn_generator\u001b[0m \u001b[0;32melse\u001b[0m \u001b[0mlist\u001b[0m\u001b[0;34m(\u001b[0m\u001b[0moutput\u001b[0m\u001b[0;34m)\u001b[0m\u001b[0;34m\u001b[0m\u001b[0;34m\u001b[0m\u001b[0m\n\u001b[0m\u001b[1;32m   2008\u001b[0m \u001b[0;34m\u001b[0m\u001b[0m\n\u001b[1;32m   2009\u001b[0m     \u001b[0;32mdef\u001b[0m \u001b[0m__repr__\u001b[0m\u001b[0;34m(\u001b[0m\u001b[0mself\u001b[0m\u001b[0;34m)\u001b[0m\u001b[0;34m:\u001b[0m\u001b[0;34m\u001b[0m\u001b[0;34m\u001b[0m\u001b[0m\n",
            "\u001b[0;32m/usr/local/lib/python3.10/dist-packages/joblib/parallel.py\u001b[0m in \u001b[0;36m_get_outputs\u001b[0;34m(self, iterator, pre_dispatch)\u001b[0m\n\u001b[1;32m   1648\u001b[0m \u001b[0;34m\u001b[0m\u001b[0m\n\u001b[1;32m   1649\u001b[0m             \u001b[0;32mwith\u001b[0m \u001b[0mself\u001b[0m\u001b[0;34m.\u001b[0m\u001b[0m_backend\u001b[0m\u001b[0;34m.\u001b[0m\u001b[0mretrieval_context\u001b[0m\u001b[0;34m(\u001b[0m\u001b[0;34m)\u001b[0m\u001b[0;34m:\u001b[0m\u001b[0;34m\u001b[0m\u001b[0;34m\u001b[0m\u001b[0m\n\u001b[0;32m-> 1650\u001b[0;31m                 \u001b[0;32myield\u001b[0m \u001b[0;32mfrom\u001b[0m \u001b[0mself\u001b[0m\u001b[0;34m.\u001b[0m\u001b[0m_retrieve\u001b[0m\u001b[0;34m(\u001b[0m\u001b[0;34m)\u001b[0m\u001b[0;34m\u001b[0m\u001b[0;34m\u001b[0m\u001b[0m\n\u001b[0m\u001b[1;32m   1651\u001b[0m \u001b[0;34m\u001b[0m\u001b[0m\n\u001b[1;32m   1652\u001b[0m         \u001b[0;32mexcept\u001b[0m \u001b[0mGeneratorExit\u001b[0m\u001b[0;34m:\u001b[0m\u001b[0;34m\u001b[0m\u001b[0;34m\u001b[0m\u001b[0m\n",
            "\u001b[0;32m/usr/local/lib/python3.10/dist-packages/joblib/parallel.py\u001b[0m in \u001b[0;36m_retrieve\u001b[0;34m(self)\u001b[0m\n\u001b[1;32m   1752\u001b[0m             \u001b[0;31m# worker traceback.\u001b[0m\u001b[0;34m\u001b[0m\u001b[0;34m\u001b[0m\u001b[0m\n\u001b[1;32m   1753\u001b[0m             \u001b[0;32mif\u001b[0m \u001b[0mself\u001b[0m\u001b[0;34m.\u001b[0m\u001b[0m_aborting\u001b[0m\u001b[0;34m:\u001b[0m\u001b[0;34m\u001b[0m\u001b[0;34m\u001b[0m\u001b[0m\n\u001b[0;32m-> 1754\u001b[0;31m                 \u001b[0mself\u001b[0m\u001b[0;34m.\u001b[0m\u001b[0m_raise_error_fast\u001b[0m\u001b[0;34m(\u001b[0m\u001b[0;34m)\u001b[0m\u001b[0;34m\u001b[0m\u001b[0;34m\u001b[0m\u001b[0m\n\u001b[0m\u001b[1;32m   1755\u001b[0m                 \u001b[0;32mbreak\u001b[0m\u001b[0;34m\u001b[0m\u001b[0;34m\u001b[0m\u001b[0m\n\u001b[1;32m   1756\u001b[0m \u001b[0;34m\u001b[0m\u001b[0m\n",
            "\u001b[0;32m/usr/local/lib/python3.10/dist-packages/joblib/parallel.py\u001b[0m in \u001b[0;36m_raise_error_fast\u001b[0;34m(self)\u001b[0m\n\u001b[1;32m   1787\u001b[0m         \u001b[0;31m# called directly or if the generator is gc'ed.\u001b[0m\u001b[0;34m\u001b[0m\u001b[0;34m\u001b[0m\u001b[0m\n\u001b[1;32m   1788\u001b[0m         \u001b[0;32mif\u001b[0m \u001b[0merror_job\u001b[0m \u001b[0;32mis\u001b[0m \u001b[0;32mnot\u001b[0m \u001b[0;32mNone\u001b[0m\u001b[0;34m:\u001b[0m\u001b[0;34m\u001b[0m\u001b[0;34m\u001b[0m\u001b[0m\n\u001b[0;32m-> 1789\u001b[0;31m             \u001b[0merror_job\u001b[0m\u001b[0;34m.\u001b[0m\u001b[0mget_result\u001b[0m\u001b[0;34m(\u001b[0m\u001b[0mself\u001b[0m\u001b[0;34m.\u001b[0m\u001b[0mtimeout\u001b[0m\u001b[0;34m)\u001b[0m\u001b[0;34m\u001b[0m\u001b[0;34m\u001b[0m\u001b[0m\n\u001b[0m\u001b[1;32m   1790\u001b[0m \u001b[0;34m\u001b[0m\u001b[0m\n\u001b[1;32m   1791\u001b[0m     \u001b[0;32mdef\u001b[0m \u001b[0m_warn_exit_early\u001b[0m\u001b[0;34m(\u001b[0m\u001b[0mself\u001b[0m\u001b[0;34m)\u001b[0m\u001b[0;34m:\u001b[0m\u001b[0;34m\u001b[0m\u001b[0;34m\u001b[0m\u001b[0m\n",
            "\u001b[0;32m/usr/local/lib/python3.10/dist-packages/joblib/parallel.py\u001b[0m in \u001b[0;36mget_result\u001b[0;34m(self, timeout)\u001b[0m\n\u001b[1;32m    743\u001b[0m             \u001b[0;31m# callback thread, and is stored internally. It's just waiting to\u001b[0m\u001b[0;34m\u001b[0m\u001b[0;34m\u001b[0m\u001b[0m\n\u001b[1;32m    744\u001b[0m             \u001b[0;31m# be returned.\u001b[0m\u001b[0;34m\u001b[0m\u001b[0;34m\u001b[0m\u001b[0m\n\u001b[0;32m--> 745\u001b[0;31m             \u001b[0;32mreturn\u001b[0m \u001b[0mself\u001b[0m\u001b[0;34m.\u001b[0m\u001b[0m_return_or_raise\u001b[0m\u001b[0;34m(\u001b[0m\u001b[0;34m)\u001b[0m\u001b[0;34m\u001b[0m\u001b[0;34m\u001b[0m\u001b[0m\n\u001b[0m\u001b[1;32m    746\u001b[0m \u001b[0;34m\u001b[0m\u001b[0m\n\u001b[1;32m    747\u001b[0m         \u001b[0;31m# For other backends, the main thread needs to run the retrieval step.\u001b[0m\u001b[0;34m\u001b[0m\u001b[0;34m\u001b[0m\u001b[0m\n",
            "\u001b[0;32m/usr/local/lib/python3.10/dist-packages/joblib/parallel.py\u001b[0m in \u001b[0;36m_return_or_raise\u001b[0;34m(self)\u001b[0m\n\u001b[1;32m    761\u001b[0m         \u001b[0;32mtry\u001b[0m\u001b[0;34m:\u001b[0m\u001b[0;34m\u001b[0m\u001b[0;34m\u001b[0m\u001b[0m\n\u001b[1;32m    762\u001b[0m             \u001b[0;32mif\u001b[0m \u001b[0mself\u001b[0m\u001b[0;34m.\u001b[0m\u001b[0mstatus\u001b[0m \u001b[0;34m==\u001b[0m \u001b[0mTASK_ERROR\u001b[0m\u001b[0;34m:\u001b[0m\u001b[0;34m\u001b[0m\u001b[0;34m\u001b[0m\u001b[0m\n\u001b[0;32m--> 763\u001b[0;31m                 \u001b[0;32mraise\u001b[0m \u001b[0mself\u001b[0m\u001b[0;34m.\u001b[0m\u001b[0m_result\u001b[0m\u001b[0;34m\u001b[0m\u001b[0;34m\u001b[0m\u001b[0m\n\u001b[0m\u001b[1;32m    764\u001b[0m             \u001b[0;32mreturn\u001b[0m \u001b[0mself\u001b[0m\u001b[0;34m.\u001b[0m\u001b[0m_result\u001b[0m\u001b[0;34m\u001b[0m\u001b[0;34m\u001b[0m\u001b[0m\n\u001b[1;32m    765\u001b[0m         \u001b[0;32mfinally\u001b[0m\u001b[0;34m:\u001b[0m\u001b[0;34m\u001b[0m\u001b[0;34m\u001b[0m\u001b[0m\n",
            "\u001b[0;31mKeyError\u001b[0m: \"None of [MultiIndex([('Altona', 'classics', '2022-10-30'),\\n            ('Altona', 'classics', '2022-10-31'),\\n            ('Altona', 'classics', '2022-11-01'),\\n            ('Altona', 'classics', '2022-11-02'),\\n            ('Altona', 'classics', '2022-11-03'),\\n            ('Altona', 'classics', '2022-11-04'),\\n            ('Altona', 'classics', '2022-11-05'),\\n            ('Altona', 'classics', '2022-11-06'),\\n            ('Altona', 'classics', '2022-11-07'),\\n            ('Altona', 'classics', '2022-11-08'),\\n            ...\\n            ('Altona', 'classics', '2024-04-03'),\\n            ('Altona', 'classics', '2024-04-04'),\\n            ('Altona', 'classics', '2024-04-05'),\\n            ('Altona', 'classics', '2024-04-06'),\\n            ('Altona', 'classics', '2024-04-07'),\\n            ('Altona', 'classics', '2024-04-08'),\\n            ('Altona', 'classics', '2024-04-09'),\\n            ('Altona', 'classics', '2024-04-10'),\\n            ('Altona', 'classics', '2024-04-11'),\\n            ('Altona', 'classics', '2024-04-12')],\\n           names=['store_name', 'item_category', 'date'], length=531)] are in the [index]\""
          ]
        }
      ],
      "source": [
        "fit_cv_list = []\n",
        "\n",
        "for m in range(len(rscv_list)):\n",
        "\n",
        "    fitted_cv = list(rscv_list[m].values())[0].fit(y = list(cv_list[0][1].values())[0][[\"total_amount\"]],\n",
        "                                                   X = list(cv_list[m][1].values())[0].iloc[:,1:])\n",
        "\n",
        "    fit_cv_list.append({f\"rscv_{list(rscv_list[m].keys())[0]}\":fitted_cv})"
      ]
    },
    {
      "cell_type": "code",
      "execution_count": null,
      "metadata": {
        "id": "8jiFpZ3Yoi61"
      },
      "outputs": [],
      "source": []
    },
    {
      "cell_type": "code",
      "execution_count": null,
      "metadata": {
        "id": "irpL3NvVoi62"
      },
      "outputs": [],
      "source": []
    },
    {
      "cell_type": "code",
      "execution_count": null,
      "metadata": {
        "id": "ZFtg8JlDoi63"
      },
      "outputs": [],
      "source": [
        "model = cb.CatBoostRegressor(cat_features=catfeat)"
      ]
    },
    {
      "cell_type": "code",
      "execution_count": null,
      "metadata": {
        "id": "sKOLDiNCoi64"
      },
      "outputs": [],
      "source": [
        "randomized_search_result = model.randomized_search(params,\n",
        "                                                  # n_iter=30,\n",
        "                                                   X= x_train_daily,\n",
        "                                                   y= y_train_daily,\n",
        "                                                   cv = create_train_validation_folds(train_daily),\n",
        "                                                   plot=True,\n",
        "                                                   verbose = 500,\n",
        "                                                   calc_cv_statistics=True)"
      ]
    },
    {
      "cell_type": "code",
      "execution_count": null,
      "metadata": {
        "id": "BCYnbcIaoi64"
      },
      "outputs": [],
      "source": [
        "pd.DataFrame(randomized_search_result.get(\"cv_results\"))"
      ]
    },
    {
      "cell_type": "code",
      "execution_count": null,
      "metadata": {
        "id": "wX1euomYoi65"
      },
      "outputs": [],
      "source": [
        "randomized_search_result.get(\"params\")"
      ]
    },
    {
      "cell_type": "code",
      "execution_count": null,
      "metadata": {
        "id": "aLuupIDyoi66"
      },
      "outputs": [],
      "source": [
        "#def objective(trial):\n",
        "    params = {\n",
        "        'n_estimators': trial.suggest_int('n_estimators', 50, 3000),\n",
        "        \"learning_rate\": trial.suggest_float(\"learning_rate\", 1e-4, 0.1, log=True),\n",
        "        \"l2_leaf_reg\": trial.suggest_float(\"l2_leaf_reg\", 2, 30),\n",
        "        \"depth\": trial.suggest_int(\"depth\", 1, 20),\n",
        "        \"subsample\": trial.suggest_float(\"subsample\", 0.05, 1.0),\n",
        "        \"colsample_bylevel\": trial.suggest_float(\"colsample_bylevel\", 0.05, 1.0),\n",
        "        \"min_data_in_leaf\": trial.suggest_int(\"min_data_in_leaf\", 1, 100),\n",
        "        \"min_child_weight\": trial.suggest_int(1, 300)\n",
        "    }\n",
        "\n",
        "    model = CatBoostRegressor(**params, silent=True, allow_writing_files = False, cat_features = catfeat)\n",
        "\n",
        "    model_cv = optuna.integration.OptunaSearchCV(estimator = model, param_distributions = params, cv = create_train_validation_folds(train_daily), n_jobs = -1, n_trials = 30)\n",
        "\n",
        "    #model.fit(x_train_daily, y_train_daily, eval_set = (create_train_validation_folds_cat(x_train_daily_totalamount)), cat_features = catfeat, verbose = 1000, plot = False)\n",
        "\n",
        "    # y_val_pred_daily = model_cv.predict(x_val_daily)\n",
        "\n",
        "    #rmse = mean_squared_error(y_val_daily, y_val_pred_daily, squared=False)\n",
        "\n",
        "    #return rmse\n",
        "\n",
        "#study = optuna.create_study(direction='minimize')\n",
        "#study.optimize(objective, n_trials=30)"
      ]
    },
    {
      "cell_type": "code",
      "execution_count": null,
      "metadata": {
        "id": "vIE8SOQKoi66"
      },
      "outputs": [],
      "source": [
        "print('Best hyperparameters:', study.best_params)\n",
        "print('Best RMSE:', study.best_value)"
      ]
    },
    {
      "cell_type": "code",
      "execution_count": null,
      "metadata": {
        "id": "Esq24ZC-oi68"
      },
      "outputs": [],
      "source": []
    },
    {
      "cell_type": "code",
      "execution_count": null,
      "metadata": {
        "id": "36c_rmMAoi68"
      },
      "outputs": [],
      "source": [
        "# Best model\n",
        "\n",
        "model = CatBoostRegressor(n_estimators = 2620, learning_rate = 0.0487,\n",
        " depth = 5, subsample = 0.21, colsample_bylevel = 0.2, min_data_in_leaf = 21, early_stopping_rounds = 69, cat_features = catfeat, random_state = 123, allow_writing_files = True)\n",
        "\n",
        "model.fit(x_train_daily, y_train_daily, eval_set=(x_val_daily, y_val_daily), verbose = 500, plot = True)"
      ]
    },
    {
      "cell_type": "markdown",
      "metadata": {
        "id": "8LoTtLlOoi69"
      },
      "source": [
        "### Feature importances"
      ]
    },
    {
      "cell_type": "code",
      "execution_count": null,
      "metadata": {
        "id": "dOIGICEyoi69"
      },
      "outputs": [],
      "source": [
        "model.get_feature_importance(prettified=True).plot(x = \"Feature Id\", y = \"Importances\", kind = \"bar\")"
      ]
    },
    {
      "cell_type": "markdown",
      "metadata": {
        "id": "GgJmAhqKoi69"
      },
      "source": [
        "### Evaluation metrics train and validation set"
      ]
    },
    {
      "cell_type": "code",
      "execution_count": null,
      "metadata": {
        "id": "geVnLFssoi6-"
      },
      "outputs": [],
      "source": [
        "y_train_pred = model.predict(x_train_daily)\n",
        "print(f\"R-squared train: {round(r2_score(y_train_daily, y_train_pred),6)}\")\n",
        "print(f\"MAPE train: {round(100*mean_absolute_percentage_error(y_train_daily, y_train_pred),2)}\\n\")\n",
        "\n",
        "y_val_pred = model.predict(x_val_daily)\n",
        "print(f\"R-squared validation: {round(r2_score(y_val_daily, y_val_pred),6)}\")\n",
        "print(f\"MAPE validation: {round(100*mean_absolute_percentage_error(y_val_daily, y_val_pred),2)}\")"
      ]
    },
    {
      "cell_type": "markdown",
      "metadata": {
        "id": "WZTlpJtAoi6-"
      },
      "source": [
        "# Test dataset"
      ]
    },
    {
      "cell_type": "code",
      "execution_count": null,
      "metadata": {
        "id": "PPZ_KJhloi7A"
      },
      "outputs": [],
      "source": [
        "x_test_daily_totalamount, y_test_pred =  pred_test(train = x_train_daily_totalamount, test = x_test_daily_totalamount, model = model, numfeat = numfeat, catfeat = catfeat)"
      ]
    },
    {
      "cell_type": "markdown",
      "metadata": {
        "id": "Q8k7U11Poi7A"
      },
      "source": [
        "### Residuals by store"
      ]
    },
    {
      "cell_type": "code",
      "execution_count": null,
      "metadata": {
        "id": "JERZYZkxoi7A"
      },
      "outputs": [],
      "source": [
        "difference_df = diff_overview(data = x_test_daily_totalamount, pred = y_test_pred, stores = all)"
      ]
    },
    {
      "cell_type": "markdown",
      "metadata": {
        "id": "WQe_0aPnoi7B"
      },
      "source": [
        "### Residual Plot Analysis"
      ]
    },
    {
      "cell_type": "code",
      "execution_count": null,
      "metadata": {
        "id": "qddwngE_oi7B"
      },
      "outputs": [],
      "source": [
        "sns.scatterplot(data = difference_df, x = \"Predicted\", y = \"Stand_resid\")\n",
        "\n",
        "plt.axhline(y=0, color='r', linestyle='--')\n",
        "plt.xlabel(\"Predicted Sales (Daily total)\")\n",
        "plt.ylabel(\"Standardized Residuals\")\n",
        "\n",
        "plt.show()"
      ]
    },
    {
      "cell_type": "markdown",
      "metadata": {
        "id": "B6kBZhTgoi7B"
      },
      "source": [
        "### Evaluation metrics train and test set"
      ]
    },
    {
      "cell_type": "code",
      "execution_count": null,
      "metadata": {
        "id": "1bb4e769oi7C"
      },
      "outputs": [],
      "source": [
        "fit_overview(ytrain = y_train_daily, ytrainpred = y_train_pred, ytest = y_test_daily, ytestpred = y_test_pred)"
      ]
    },
    {
      "cell_type": "code",
      "execution_count": null,
      "metadata": {
        "id": "-yhkYtTloi7C"
      },
      "outputs": [],
      "source": [
        "mape_stores(x_test_daily_totalamount, y_test_pred)"
      ]
    },
    {
      "cell_type": "markdown",
      "metadata": {
        "id": "_VgXSXAUoi7C"
      },
      "source": [
        "### Visualisation of predictions"
      ]
    },
    {
      "cell_type": "code",
      "execution_count": null,
      "metadata": {
        "id": "cntd3c1Zoi7D"
      },
      "outputs": [],
      "source": [
        "df_predicted = pd.concat(\n",
        "    [\n",
        "    difference_df[[\"Date\",\"Store name\",\"Observed\",\"Predicted\"]].rename(columns = {\"Date\":\"date\",\"Store name\":\"store_name\",\"Observed\":\"total_amount\"}),\n",
        "    d[(d[\"date\"] >= pd.to_datetime(\"2024-05-01\")) & (d[\"item_category\"] == \"daily total\")][[\"date\",\"store_name\",\"total_amount\"]]\n",
        "    ]\n",
        "    )"
      ]
    },
    {
      "cell_type": "code",
      "execution_count": null,
      "metadata": {
        "id": "7q68bfB-oi7D"
      },
      "outputs": [],
      "source": [
        "ts_predicted(df_predicted)"
      ]
    }
  ],
  "metadata": {
    "kernelspec": {
      "display_name": "Python 3",
      "name": "python3"
    },
    "language_info": {
      "codemirror_mode": {
        "name": "ipython",
        "version": 3
      },
      "file_extension": ".py",
      "mimetype": "text/x-python",
      "name": "python",
      "nbconvert_exporter": "python",
      "pygments_lexer": "ipython3",
      "version": "3.11.3"
    },
    "colab": {
      "provenance": [],
      "machine_shape": "hm"
    }
  },
  "nbformat": 4,
  "nbformat_minor": 0
}