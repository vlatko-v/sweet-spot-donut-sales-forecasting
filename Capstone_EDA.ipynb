{
  "cells": [
    {
      "cell_type": "markdown",
      "metadata": {},
      "source": [
        "# Feature engineering and dataset transformations"
      ]
    },
    {
      "cell_type": "markdown",
      "metadata": {},
      "source": [
        "### Loading libraries and data"
      ]
    },
    {
      "cell_type": "code",
      "execution_count": 1,
      "metadata": {},
      "outputs": [],
      "source": [
        "import pandas as pd\n",
        "import numpy as np\n",
        "import matplotlib.pyplot as plt\n",
        "import seaborn as sns\n",
        "import datetime as dt\n",
        "\n",
        "from sklearn.model_selection import TimeSeriesSplit"
      ]
    },
    {
      "cell_type": "code",
      "execution_count": 2,
      "metadata": {},
      "outputs": [],
      "source": [
        "%run functions_EDA.py"
      ]
    },
    {
      "cell_type": "code",
      "execution_count": 3,
      "metadata": {},
      "outputs": [],
      "source": [
        "pd.set_option(\"display.max_columns\", None)"
      ]
    },
    {
      "cell_type": "code",
      "execution_count": 4,
      "metadata": {},
      "outputs": [],
      "source": [
        "d = pd.read_csv(\"data/daily_sales_report.csv\")\n",
        "school_h_be = pd.read_csv(\"data/hol_school_b.csv\")\n",
        "school_h_hh = pd.read_csv(\"data/hol_school_h.csv\")"
      ]
    },
    {
      "cell_type": "markdown",
      "metadata": {},
      "source": [
        "## Feature engineering\n",
        "\n",
        "The features in the dataset need to be transformed in some ways to make the analysis more coherent and the sales forecasting more precise. \n",
        "\n",
        "For example, the dataset contains information on total sales of several hundred different products. These products were clustered into several different categories to make the analysis easier. Additional features, such as the occurence of public or school holidays, were added as well"
      ]
    },
    {
      "cell_type": "markdown",
      "metadata": {},
      "source": [
        "#### Converting *date* to datetime \n",
        "\n",
        "The *date* variable was converted to a pandas datetime format."
      ]
    },
    {
      "cell_type": "code",
      "execution_count": 5,
      "metadata": {},
      "outputs": [],
      "source": [
        "d['date'] = pd.to_datetime(d['date'])"
      ]
    },
    {
      "cell_type": "markdown",
      "metadata": {},
      "source": [
        "#### Categorizing\n",
        "\n",
        "There are over 300 different item names in the dataset. This function clusters these items into 8 separate categories."
      ]
    },
    {
      "cell_type": "code",
      "execution_count": 6,
      "metadata": {},
      "outputs": [],
      "source": [
        "d['item_category'] = d['item_name'].apply(categorize_item)"
      ]
    },
    {
      "cell_type": "markdown",
      "metadata": {},
      "source": [
        "#### Calculating total amount\n",
        "\n",
        "Some of the sold items were boxes with mulitple individual donuts inside. The function below converts those items into a total amount. For example, if a box contained 4 donuts, then the amount sold isn't 1 box anymore, but 4 donuts."
      ]
    },
    {
      "cell_type": "code",
      "execution_count": 7,
      "metadata": {},
      "outputs": [],
      "source": [
        "d['total_amount'] = d.apply(calculate_total_amount, axis=1)"
      ]
    },
    {
      "cell_type": "markdown",
      "metadata": {},
      "source": [
        "#### Dropping duplicates\n",
        "\n",
        "The dataset contains older and newer ways of accounting for sales. Before July 12 2021, donut sales were not split into individual items, but were instead recorded as the total number of donuts sold on a day. Between that date and until May 2022, the total amount was recorded additionally to the individual sales of different donut types. In order to avoid double-counting, the category *donuts sold (old)* was removed after July 12, 2021."
      ]
    },
    {
      "cell_type": "code",
      "execution_count": 8,
      "metadata": {},
      "outputs": [],
      "source": [
        "d = drop_duplicates(d)"
      ]
    },
    {
      "cell_type": "markdown",
      "metadata": {},
      "source": [
        "#### Remove stores in Eppendorf, Schöneberg, Hauptbahnhof from dataset \n",
        "\n",
        "Some stores had insufficient data or were too new to meaningfully include in the forecasting model. They were removed."
      ]
    },
    {
      "cell_type": "code",
      "execution_count": 9,
      "metadata": {},
      "outputs": [],
      "source": [
        "d = d[(d[\"date\"] <= pd.to_datetime(\"2024-05-31\")) &\n",
        "           (-d[\"store_name\"].isin([\"Eppendorf\",\"Schöneberg\",\"Hauptbahnhof\", 'Hamburg Hauptbahnhof',\"KaDeWe\"]))]"
      ]
    },
    {
      "cell_type": "code",
      "execution_count": 10,
      "metadata": {},
      "outputs": [
        {
          "data": {
            "text/plain": [
              "Index(['date', 'location_id', 'Location_name', 'store_id', 'store_name',\n",
              "       'type_id', 'type_name', 'item_id', 'item_name', 'amount',\n",
              "       'item_category', 'total_amount'],\n",
              "      dtype='object')"
            ]
          },
          "execution_count": 10,
          "metadata": {},
          "output_type": "execute_result"
        }
      ],
      "source": [
        "d.columns"
      ]
    },
    {
      "cell_type": "markdown",
      "metadata": {},
      "source": [
        "#### Daily total \n",
        "\n",
        "A new category was added to the *item name* and *item category* columns, namely \"daily total\". The daily total is the total amount of donuts sold per day and per store. This function entirely removes the \"donuts sold (old)\" category. \n",
        "\n",
        "The reason for calculating the daily total sales is for easier sales forecasting. The function still retains individual donut categories, so predicting sales of these is also possible."
      ]
    },
    {
      "cell_type": "code",
      "execution_count": 11,
      "metadata": {},
      "outputs": [],
      "source": [
        "d = daily_total(d)"
      ]
    },
    {
      "cell_type": "markdown",
      "metadata": {},
      "source": [
        "#### Weather variables\n",
        "\n",
        "The function adds three new weather variables to the dataset by sending an API request to the open-meteo.com server. \n",
        "\n",
        "* Daily Precipitation (hours)\n",
        "* Daily Temperature (°C)\n",
        "* Daily Sunshine Duration (seconds)\n",
        "\n",
        "The sunshine duration was divided by 3600 to obtain daily sunshine duration in hours."
      ]
    },
    {
      "cell_type": "code",
      "execution_count": 12,
      "metadata": {},
      "outputs": [],
      "source": [
        "d = weather_data(d)"
      ]
    },
    {
      "cell_type": "code",
      "execution_count": 13,
      "metadata": {},
      "outputs": [],
      "source": [
        "d[\"sunshine_duration\"] = d[\"sunshine_duration\"]/3600"
      ]
    },
    {
      "cell_type": "markdown",
      "metadata": {},
      "source": [
        "#### Balancing Item Categories\n",
        "\n",
        "The category \"other\" in the *item category* column consists of over 200 different items. Some of these items are, in fact, donuts of some type, while others are other items such as ice cream. \n",
        "\n",
        "Below is an overview of how many items are classified as \"other\"."
      ]
    },
    {
      "cell_type": "code",
      "execution_count": 14,
      "metadata": {},
      "outputs": [
        {
          "data": {
            "text/plain": [
              "<Axes: xlabel='Item Category', ylabel='Frequency (%)'>"
            ]
          },
          "execution_count": 14,
          "metadata": {},
          "output_type": "execute_result"
        },
        {
          "data": {
            "image/png": "[encoded data removed]",
            "text/plain": [
              "<Figure size 640x480 with 1 Axes>"
            ]
          },
          "metadata": {},
          "output_type": "display_data"
        }
      ],
      "source": [
        "d[\"item_category\"].value_counts(normalize = True).plot(kind = \"bar\", ylabel = \"Frequency (%)\", xlabel = \"Item Category\")"
      ]
    },
    {
      "cell_type": "markdown",
      "metadata": {},
      "source": [
        "The function below updates and reclassifies the \"other\" category as a donut type or, if it's not a donut, leaves it in the \"other\" category."
      ]
    },
    {
      "cell_type": "code",
      "execution_count": 15,
      "metadata": {},
      "outputs": [],
      "source": [
        "updated_d = update_item_category(d)"
      ]
    },
    {
      "cell_type": "code",
      "execution_count": null,
      "metadata": {},
      "outputs": [],
      "source": []
    },
    {
      "cell_type": "markdown",
      "metadata": {},
      "source": [
        "Now the \"other\" category is only a fraction of the total number of donuts."
      ]
    },
    {
      "cell_type": "code",
      "execution_count": 16,
      "metadata": {},
      "outputs": [
        {
          "data": {
            "text/plain": [
              "<Axes: xlabel='Item Category', ylabel='Frequency (%)'>"
            ]
          },
          "execution_count": 16,
          "metadata": {},
          "output_type": "execute_result"
        },
        {
          "data": {
            "image/png": "[encoded data removed]",
            "text/plain": [
              "<Figure size 640x480 with 1 Axes>"
            ]
          },
          "metadata": {},
          "output_type": "display_data"
        }
      ],
      "source": [
        "updated_d[\"item_category\"].value_counts(normalize = True).plot(kind = \"bar\", ylabel = \"Frequency (%)\", xlabel = \"Item Category\")"
      ]
    },
    {
      "cell_type": "code",
      "execution_count": 17,
      "metadata": {},
      "outputs": [
        {
          "data": {
            "text/plain": [
              "item_name\n",
              "Oatly Softeis             541\n",
              "Softeis                   441\n",
              "Softi - Dount             298\n",
              "Special Softi             278\n",
              "donuts in boxes (wolt)    276\n",
              "Softi - Cup               273\n",
              "Name: count, dtype: int64"
            ]
          },
          "execution_count": 17,
          "metadata": {},
          "output_type": "execute_result"
        }
      ],
      "source": [
        "updated_d[updated_d[\"item_category\"] == \"other\"][\"item_name\"].value_counts()"
      ]
    },
    {
      "cell_type": "markdown",
      "metadata": {},
      "source": [
        "Since it doesn't contain any useful information anymore, the \"other\" category is dropped from the dataset."
      ]
    },
    {
      "cell_type": "code",
      "execution_count": 18,
      "metadata": {},
      "outputs": [],
      "source": [
        "updated_d = updated_d[~updated_d[\"item_category\"].isin([\"other\",\"not_donut\"])].reset_index(drop = True)"
      ]
    },
    {
      "cell_type": "code",
      "execution_count": 19,
      "metadata": {},
      "outputs": [
        {
          "data": {
            "text/plain": [
              "item_category\n",
              "classics            47364\n",
              "monthly_specials    39605\n",
              "specials            28336\n",
              "mixed               19631\n",
              "daily total         11171\n",
              "charity_donut        6190\n",
              "Name: count, dtype: int64"
            ]
          },
          "execution_count": 19,
          "metadata": {},
          "output_type": "execute_result"
        }
      ],
      "source": [
        "updated_d[\"item_category\"].value_counts()"
      ]
    },
    {
      "cell_type": "markdown",
      "metadata": {},
      "source": [
        "#### Drop year and month features to avoid duplicates below\n",
        "\n",
        "The function above created the *year* and *month* features. They are dropped because features related to time are added below."
      ]
    },
    {
      "cell_type": "code",
      "execution_count": 20,
      "metadata": {},
      "outputs": [],
      "source": [
        "updated_d = updated_d.drop([\"year\",\"month\"], axis = 1)"
      ]
    },
    {
      "cell_type": "markdown",
      "metadata": {},
      "source": [
        "#### Adding holidays\n",
        "\n",
        "The two functions below add the public and school holiday features. The assumption is that holidays impact the number of sold donuts. "
      ]
    },
    {
      "cell_type": "code",
      "execution_count": 21,
      "metadata": {},
      "outputs": [],
      "source": [
        "updated_d = hol_pub(updated_d)"
      ]
    },
    {
      "cell_type": "code",
      "execution_count": 22,
      "metadata": {},
      "outputs": [],
      "source": [
        "updated_d = hol_school(updated_d, school_h_be, school_h_hh)"
      ]
    },
    {
      "cell_type": "markdown",
      "metadata": {},
      "source": [
        "#### Adding date info\n",
        "\n",
        "The function below add the following time variables:\n",
        "\n",
        "* Weekday (Monday to Sunday)\n",
        "* Day of the year (1 - 365)\n",
        "* Month (1 - 12)\n",
        "* Year\n",
        "* Week of the year (1 - 52)"
      ]
    },
    {
      "cell_type": "code",
      "execution_count": 23,
      "metadata": {},
      "outputs": [],
      "source": [
        "updated_d = date_info(updated_d)"
      ]
    },
    {
      "cell_type": "markdown",
      "metadata": {},
      "source": [
        "#### Creating Special Events dummy variables\n",
        "\n",
        "Some special events, such as New Year's Eve (NYE) or Valentine's Day, explain much higher sales during certain weeks of the year. This can be explored in the Visualisation notebook.\n",
        "\n",
        " Therefore, three new dummy variables were added where 1 marks the following special days:\n",
        "\n",
        "* NYE\n",
        "* Valentine's Day\n",
        "* Halloween"
      ]
    },
    {
      "cell_type": "code",
      "execution_count": 24,
      "metadata": {},
      "outputs": [],
      "source": [
        "updated_d['nye'] = updated_d['date'].apply(lambda x: 1 if (x.month ==12 and x.day ==31) else 0)\n",
        "updated_d['valentines_day'] = updated_d['date'].apply(lambda x: 1 if (x.month ==2 and x.day ==14) else 0)\n",
        "updated_d['halloween'] = updated_d['date'].apply(lambda x: 1 if (x.month == 10 and (x.day ==29 or x.day ==30 or x.day ==31)) else 0)"
      ]
    },
    {
      "cell_type": "markdown",
      "metadata": {},
      "source": [
        "#### Creating \"weekend\" dummy variable\n",
        "\n",
        "A new variable signifying weekend days (Saturday and Sunday) was added. Weekend sales are much higher than during the regular work week. For more, refer to the Visualisation notebook. "
      ]
    },
    {
      "cell_type": "code",
      "execution_count": 25,
      "metadata": {},
      "outputs": [],
      "source": [
        "updated_d[\"weekend\"] = updated_d[\"weekday\"].apply(lambda x: 1 if x in [5,6] else 0)"
      ]
    },
    {
      "cell_type": "markdown",
      "metadata": {},
      "source": [
        "#### Adding \"street_market\" dummy variable\n",
        "\n",
        "Some stores are located close to know street markets that take place on certain days of the week. It is expected that donut sales are higher on those days."
      ]
    },
    {
      "cell_type": "code",
      "execution_count": 26,
      "metadata": {},
      "outputs": [],
      "source": [
        "updated_d  = dummy_street_market(updated_d)"
      ]
    },
    {
      "cell_type": "markdown",
      "metadata": {},
      "source": [
        "#### Creating \"public_space\" dummy variable\n",
        "\n",
        "Some stores are located close to more touristic areas, while others operate in residential neighbourhoods. It is expected that store locations in touristic areas tend to sell more donuts because there is a more diverse customer base."
      ]
    },
    {
      "cell_type": "code",
      "execution_count": 27,
      "metadata": {},
      "outputs": [],
      "source": [
        "updated_d[\"public_space\"] = updated_d[\"store_name\"].apply(lambda x: 1 if x in [\"Potsdamer\",\"Altona\",\"KaDeWe\",\"Hamburg Hauptbahnhof\",\"Mitte\"] else 0)"
      ]
    },
    {
      "cell_type": "markdown",
      "metadata": {},
      "source": [
        "#### Creating \"box_deal\" dummy variable\n",
        "\n",
        "Donuts can be bought individually or in boxes. By buying boxes, each individual donut costs less than they would if they were purchased individually, so customers might decide to go for a 4 donut box instead of buying 3 donuts separately. The *box deal* may have an effect on the number of donuts sold."
      ]
    },
    {
      "cell_type": "code",
      "execution_count": 28,
      "metadata": {},
      "outputs": [],
      "source": [
        "updated_d[\"box_deal\"] = updated_d[\"type_name\"].apply(lambda x: 1 if x in \"box\" else 0)"
      ]
    },
    {
      "cell_type": "markdown",
      "metadata": {},
      "source": [
        "### Binning weather variables\n",
        "\n",
        "The assumption is that weather impacts donut sales, yet gradual increased or decreases, for instance between 15 and 16°C, do not make much of a difference.\n",
        "\n",
        "The weather variables were therefore binned into different categories to make the effect of weather clearer. How weather affects donut sales can be seen in the Visualisation notebook.\n",
        "\n",
        "#### Rainfall"
      ]
    },
    {
      "cell_type": "code",
      "execution_count": 29,
      "metadata": {},
      "outputs": [],
      "source": [
        "updated_d[\"rainfall_bins\"] = pd.cut(updated_d[\"precipitation_hours\"], bins=[updated_d[\"precipitation_hours\"].min() - 1, 4, 8, 12, 16, updated_d[\"precipitation_hours\"].max() + 1], labels = [\"0-4 hrs\", \"4-8 hrs\" ,\"8-12 hrs\", \"12-16 hrs\", \"> 16 hrs\"])"
      ]
    },
    {
      "cell_type": "markdown",
      "metadata": {},
      "source": [
        "#### Temperature"
      ]
    },
    {
      "cell_type": "code",
      "execution_count": 30,
      "metadata": {},
      "outputs": [],
      "source": [
        "updated_d[\"temp_bins\"] = pd.cut(updated_d[\"temperature_2m_mean\"], bins=[updated_d[\"temperature_2m_mean\"].min() - 1, 0, 10, 15, 20, 25, d[\"temperature_2m_mean\"].max() + 1], labels = [\"< 0°C\", \"0 - 10°C\", \"10 - 15°C\", \"15 - 20°C\", \"20 - 25°C\", \"> 25°C\"])"
      ]
    },
    {
      "cell_type": "markdown",
      "metadata": {},
      "source": [
        "#### Sunshine"
      ]
    },
    {
      "cell_type": "code",
      "execution_count": 31,
      "metadata": {},
      "outputs": [],
      "source": [
        "updated_d[\"sunshine_bins\"] = pd.cut(updated_d[\"sunshine_duration\"], bins=[updated_d[\"sunshine_duration\"].min() - 1, 4, 8, 12, d[\"sunshine_duration\"].max() + 1], labels = [\"0-4 hrs\", \"4-8 hrs\", \"8-12 hrs\", \"> 12 hrs\"])"
      ]
    },
    {
      "cell_type": "markdown",
      "metadata": {},
      "source": [
        "#### Dropping ID columns"
      ]
    },
    {
      "cell_type": "code",
      "execution_count": 32,
      "metadata": {},
      "outputs": [],
      "source": [
        "updated_d = updated_d.drop([\"location_id\",\"store_id\",\"type_id\",\"item_id\"], axis = 1)"
      ]
    },
    {
      "cell_type": "markdown",
      "metadata": {},
      "source": [
        "#### Creating lagged variables\n",
        "\n",
        "Lagged variables are essential in modelling sales forecasts. A lagged variable of 1 day means that the previous day's sales can predict today's sales. When other effects, such as holidays or weather, are taken into account as predictors of sales, what usually remains is a very strong correlation between the lagged variable and the sales variable. \n",
        "\n",
        "The function below creates lagged variables for the past day, the past two days as well as for the past week."
      ]
    },
    {
      "cell_type": "code",
      "execution_count": 33,
      "metadata": {},
      "outputs": [],
      "source": [
        "updated_d  = lag(updated_d)"
      ]
    },
    {
      "cell_type": "markdown",
      "metadata": {},
      "source": [
        "### Time Series split\n",
        "\n",
        "The time series split ensures that the data is split into a training and test set. Precisely forecasting sales for more than one week is difficult, which is why the test set is only the last week in the dataset."
      ]
    },
    {
      "cell_type": "code",
      "execution_count": 34,
      "metadata": {},
      "outputs": [],
      "source": [
        "updated_d = updated_d.set_index(\"date\")"
      ]
    },
    {
      "cell_type": "code",
      "execution_count": 36,
      "metadata": {},
      "outputs": [],
      "source": [
        "days = np.sort(updated_d.index.unique())"
      ]
    },
    {
      "cell_type": "code",
      "execution_count": 38,
      "metadata": {},
      "outputs": [],
      "source": [
        "tscv = TimeSeriesSplit(n_splits=2, test_size = 7)"
      ]
    },
    {
      "cell_type": "code",
      "execution_count": 39,
      "metadata": {},
      "outputs": [],
      "source": [
        "for train_index, test_index in tscv.split(days):\n",
        "    train_days, test_days = days[train_index], days[test_index]\n",
        "    train, test = updated_d.loc[train_days], updated_d.loc[test_days]"
      ]
    },
    {
      "cell_type": "code",
      "execution_count": 40,
      "metadata": {},
      "outputs": [],
      "source": [
        "updated_d = updated_d.reset_index()"
      ]
    },
    {
      "cell_type": "code",
      "execution_count": 41,
      "metadata": {},
      "outputs": [],
      "source": [
        "train = train.sort_values(\"date\", ascending = False)\n",
        "test = test.sort_values(\"date\", ascending = False)"
      ]
    },
    {
      "cell_type": "code",
      "execution_count": 42,
      "metadata": {},
      "outputs": [],
      "source": [
        "train = train.reset_index()\n",
        "test = test.reset_index()"
      ]
    },
    {
      "cell_type": "markdown",
      "metadata": {},
      "source": [
        "#### Timestep for both test and train set\n",
        "\n",
        "The timestep is a new variable that counts the number of days that passed since the first day of sales. If there is a linear trend, the timestep can partially explain the increase in sales over a multi-year period."
      ]
    },
    {
      "cell_type": "code",
      "execution_count": 43,
      "metadata": {},
      "outputs": [],
      "source": [
        "train['days_back'] =(datetime(2024, 5, 24) - train['date']).dt.days\n",
        "test['days_back'] =(datetime(2024, 5, 31) - test['date']).dt.days"
      ]
    },
    {
      "cell_type": "markdown",
      "metadata": {},
      "source": [
        "#### Removing lag1, lag2 and lag7 in test dataset\n",
        "\n",
        "The test dataset must not contain any information about the sales from the previous days except on its first day. Since another function will predict sales and adjust the lagged variables day by day, the lagged variables are drop from the test dataset for now."
      ]
    },
    {
      "cell_type": "code",
      "execution_count": 44,
      "metadata": {},
      "outputs": [],
      "source": [
        "test.drop([\"lag1\",\"lag2\",\"lag7\"], axis = 1, inplace = True)"
      ]
    },
    {
      "cell_type": "markdown",
      "metadata": {},
      "source": [
        "### Creating .csv files"
      ]
    },
    {
      "cell_type": "code",
      "execution_count": null,
      "metadata": {},
      "outputs": [],
      "source": [
        "updated_d.to_csv(\"data/cleaned_df.csv\", index = False)\n",
        "\n",
        "train.to_csv(\"data/train_df.csv\", index=False)\n",
        "test.to_csv(\"data/test_df.csv\", index=False)"
      ]
    }
  ],
  "metadata": {
    "kernelspec": {
      "display_name": "Python 3 (ipykernel)",
      "language": "python",
      "name": "python3",
      "path": "S:\\Repos\\sweet-spot-donut-sales-forecasting\\.venv\\share\\jupyter\\kernels\\python3"
    },
    "language_info": {
      "codemirror_mode": {
        "name": "ipython",
        "version": 3
      },
      "file_extension": ".py",
      "mimetype": "text/x-python",
      "name": "python",
      "nbconvert_exporter": "python",
      "pygments_lexer": "ipython3",
      "version": "3.11.3"
    }
  },
  "nbformat": 4,
  "nbformat_minor": 4
}
